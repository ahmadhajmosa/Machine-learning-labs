{
  "nbformat": 4,
  "nbformat_minor": 0,
  "metadata": {
    "colab": {
      "name": "Session 2.ipynb",
      "version": "0.3.2",
      "provenance": [],
      "collapsed_sections": [],
      "toc_visible": true,
      "include_colab_link": true
    },
    "kernelspec": {
      "name": "python3",
      "display_name": "Python 3"
    },
    "accelerator": "GPU"
  },
  "cells": [
    {
      "cell_type": "markdown",
      "metadata": {
        "id": "view-in-github",
        "colab_type": "text"
      },
      "source": [
        "<a href=\"https://colab.research.google.com/github/ahmadhajmosa/Machine-learning-labs/blob/julianblueml/Session_2.ipynb\" target=\"_parent\"><img src=\"https://colab.research.google.com/assets/colab-badge.svg\" alt=\"Open In Colab\"/></a>"
      ]
    },
    {
      "cell_type": "markdown",
      "metadata": {
        "id": "rmSUExzC-ZBV",
        "colab_type": "text"
      },
      "source": [
        ""
      ]
    },
    {
      "cell_type": "markdown",
      "metadata": {
        "id": "wgWZldyi-Zef",
        "colab_type": "text"
      },
      "source": [
        "# Lab on Machine Learning and Applications in Intelligent Vehicles\n",
        "## Session 1: Introduction\n"
      ]
    },
    {
      "cell_type": "markdown",
      "metadata": {
        "id": "a75NLOuwKXSs",
        "colab_type": "text"
      },
      "source": [
        "#Session 2: 05.06 - 13:00 - 14:30 :\n"
      ]
    },
    {
      "cell_type": "markdown",
      "metadata": {
        "id": "ciUtGM-W_ehP",
        "colab_type": "text"
      },
      "source": [
        "\n",
        "\n",
        "## Intro:\n",
        "\n",
        "Tensorflow is a powerful framework for implementing and deploying large-scale deep learning models. Recently, it has been widely used in both reasearch and production. TF objective is to combine scale and flexibility.\n",
        "\n",
        "In the past session, we will learning the following:\n",
        "\n",
        "1. TF programming stack\n",
        "2. TF programming concepts including computatoin graphs, operations and sessions. \n",
        "3. Implementation of linear regression\n",
        "4. Implementation of feed-forward neural networks\n",
        "\n",
        "## TF stack:\n",
        "\n",
        "TensorFlow is a framework composed of two core building blocks — a library for defining computational graphs and a runtime for executing such graphs on a variety of different hardware\n",
        "\n",
        "\n",
        "![alt text](https://www.tensorflow.org/images/layers.png)\n",
        "\n",
        "\n",
        "Before goining into details about the stack, let us talk about computational graphs.\n",
        "\n",
        "### Computational Graphs\n",
        "\n",
        "A directed graph is a data structure consisting of nodes (vertices) and edges. It’s a set of vertices connected pairwise by directed edges.\n",
        "\n",
        "Graphs come in many shapes and sizes and are used to solve many real-life problems, such as representing networks including telephone networks, circuit networks, road networks, and even social networks. \n",
        "![alt text](https://cdn-images-1.medium.com/max/800/1*V6aYjD3AxDbEKYahkGqVQw.png)\n",
        "\n",
        "TensorFlow uses directed graphs internally to represent computations, and they call this data flow graphs (or computational graphs).\n",
        "\n",
        "The nodes in TF data flow graph mostly represents operations, variables and placeholders.\n",
        "\n",
        "Take for example the following operation:\n",
        "![alt text](https://cdn-images-1.medium.com/max/800/1*6E3sfit6DCeJ9mOz17g4bA.png)\n",
        "\n",
        "To create a computational graph out of this program, we create nodes for each of the operations in our program, along with the input variables a and b. In fact, a and b could be constants if they don’t change. If one node is used as the input to another operation we draw a directed arrow that goes from one node to another.\n",
        "\n",
        "The computational graph for this program might look like this:\n",
        "![alt text](https://cdn-images-1.medium.com/max/800/1*vPb9E0Yd1QUAD0oFmAgaOw.png)\n",
        "\n",
        "Operations create or manipulate data according to specific rules. In TensorFlow those rules are called Ops, short for operations. Variables on the other hand represent shared, persistent state that can be manipulated by running Ops on those variables.\n",
        "\n",
        "The questions now what are the advantages of representing operations as directed graphs: The main advantage of using directed graphs is the ability to do **parallelism** and what is called **dependency driving scheduling**. \n",
        "For example, consider again the follwoing code:\n",
        "![alt text](https://cdn-images-1.medium.com/max/800/1*6E3sfit6DCeJ9mOz17g4bA.png)\n",
        "At the most fundamental level, most computer programs are mainly composed of two things — primitive operations and an order in which these operations are executed, often sequentially, line by line. This means we would first multiply a and b and only when this expression was evaluated we would take their sum. Computational graphs on the otherhand, exclusively specify the dependencies across the operations.\n",
        "If we look at our computational graph we see that we could execute the multiplication and addition in parallel. That’s because these two operations do not depend on each other.\n",
        " So we can use the topology of the graph to drive the scheduling of operations and execute them in the most efficient manner, e.g. using multiple GPUs on a single machine or even distribute the execution across multiple machines.\n",
        " Another key advantage is portability. The graph is a language-independent representation of our code. So we can build the graph in Python, save the model (TensorFlow uses protocol buffers), and restore the model in a different language, say C++, if you want to go really fast.\n",
        " \n",
        " \n",
        "\n",
        "--------------------------------\n",
        "# References:\n",
        "\n",
        "https://medium.com/@d3lm/understand-tensorflow-by-mimicking-its-api-from-scratch-faa55787170d\n",
        "\n",
        "https://www.tensorflow.org/guide/extend/architecture\n",
        "\n",
        "https://www.tensorflow.org/guide/low_level_intro\n",
        "\n",
        "  \n",
        " \n",
        "\n",
        "\n",
        "\n",
        "\n"
      ]
    },
    {
      "cell_type": "markdown",
      "metadata": {
        "id": "FjVmKEdNoxN5",
        "colab_type": "text"
      },
      "source": [
        "placeholder: tensor which are fed externally for example input or output tensors\n",
        "variables: tesnors reprent the paramers of he nework graph\n"
      ]
    },
    {
      "cell_type": "code",
      "metadata": {
        "id": "ROgmB9fnqx0M",
        "colab_type": "code",
        "colab": {}
      },
      "source": [
        "import tensorflow as tf\n",
        "import numpy as np"
      ],
      "execution_count": 0,
      "outputs": []
    },
    {
      "cell_type": "code",
      "metadata": {
        "id": "4FX7llkgouQO",
        "colab_type": "code",
        "colab": {
          "base_uri": "https://localhost:8080/",
          "height": 1717
        },
        "outputId": "961cb111-dc72-4faa-dd89-502e22046b48"
      },
      "source": [
        "#parameters\n",
        "learning_rate=0.001\n",
        "training_iters=200\n",
        "batch_size=128\n",
        "\n",
        "#network parameters\n",
        "num_inputs=3\n",
        "num_outputs=4\n",
        "num_samples=100\n",
        "\n",
        "X_gr=np.random.rand(num_samples,num_inputs)\n",
        "Y_gr=np.random.rand(num_samples,num_outputs)\n",
        "\n",
        "#tf Graph inputs\n",
        "x=tf.placeholder(tf.float32,[None,num_inputs])\n",
        "y=tf.placeholder(tf.float32,[None,num_outputs])\n",
        "\n",
        "#initialize weights\n",
        "w_1=tf.Variable(tf.random_normal([num_inputs,num_outputs]))\n",
        "\n",
        "#model\n",
        "y_p=tf.matmul(x,w_1)\n",
        "\n",
        "#cost\n",
        "cost=tf.reduce_mean(tf.pow(y-y_p,2))  #if costfunction is the mean square error\n",
        "\n",
        "#optimisation\n",
        "optimizer=tf.train.AdamOptimizer(learning_rate=learning_rate).minimize(cost)\n",
        "\n",
        "#initializing the graph and the weights\n",
        "init=tf.global_variables_initializer()\n",
        "\n",
        "#Launch the graph\n",
        "with tf.Session() as sess:\n",
        "  sess.run(init)\n",
        "  \n",
        "  for i in range(1000):\n",
        "  \n",
        "    sess.run(optimizer,feed_dict={x: X_gr, y: Y_gr})\n",
        "  \n",
        "    pr_cost=sess.run(cost,feed_dict={x: X_gr, y: Y_gr})\n",
        "    \n",
        "    #print('Cost at iteration ', i,' is: ',pr_cost)\n",
        "    \n",
        "  Y_p_p=sess.run(y_p,feed_dict={x: X_gr, y: Y_gr})\n",
        "  print('prediction error ',abs(Y_p_p-Y_gr))"
      ],
      "execution_count": 14,
      "outputs": [
        {
          "output_type": "stream",
          "text": [
            "prediction error  [[0.08706527 0.22227918 0.17307317 0.19587612]\n",
            " [0.12217768 0.18747675 0.60542193 0.24655775]\n",
            " [0.14058649 0.45091844 0.53207831 0.18104354]\n",
            " [0.60738767 0.08639518 0.67046181 0.39350741]\n",
            " [0.14778367 0.11503242 0.77534875 0.00635521]\n",
            " [0.4218795  0.28150145 0.51169949 0.2378768 ]\n",
            " [0.59550938 0.45371448 0.18600067 0.18324254]\n",
            " [0.42432377 0.46432578 0.48384857 0.1514943 ]\n",
            " [0.68346406 0.03095527 0.3730602  0.46588948]\n",
            " [0.40262748 0.54960878 0.18120493 0.03612313]\n",
            " [0.02592609 0.41085821 0.22666276 0.14193958]\n",
            " [0.17456174 0.60122972 0.31976542 0.15972869]\n",
            " [0.16499099 0.01522087 0.04675715 0.10796038]\n",
            " [0.29754681 0.06518524 0.52469327 0.17030137]\n",
            " [0.1614586  0.35499395 0.23685987 0.25727932]\n",
            " [0.29147277 0.0526848  0.43923788 0.08598555]\n",
            " [0.04141618 0.10903251 0.6205448  0.61960314]\n",
            " [0.45893584 0.26957936 0.31481146 0.47480421]\n",
            " [0.27730631 0.04060277 0.33445269 0.19679049]\n",
            " [1.19051922 0.36803791 0.07834721 0.35558221]\n",
            " [0.53427137 0.66679453 0.58384919 0.0560437 ]\n",
            " [0.03421952 0.04780207 0.60961205 0.18746384]\n",
            " [0.32871981 0.48727935 0.42473661 0.13321722]\n",
            " [0.45976224 0.27217251 1.01247623 0.21438727]\n",
            " [0.2040901  0.06531912 0.3670762  0.11786419]\n",
            " [0.61891988 0.00500598 0.25419966 0.16789781]\n",
            " [0.13212854 0.41248495 0.13141229 0.39976314]\n",
            " [0.00889061 0.36715507 0.10957281 0.45201025]\n",
            " [0.57451518 0.25745979 0.19555269 0.02084554]\n",
            " [0.47956932 0.18519943 0.36478635 0.27234487]\n",
            " [0.1822385  0.19435911 0.55537494 0.32454477]\n",
            " [0.04337152 0.53336552 0.57012285 0.50812431]\n",
            " [0.31568582 0.11541585 0.5381506  0.05904831]\n",
            " [0.0258722  0.51824717 0.00233675 0.29269371]\n",
            " [0.13075414 0.34242099 0.38180323 0.26719376]\n",
            " [0.04424551 0.14947006 0.07708394 0.01685151]\n",
            " [1.00280389 0.19531923 0.44831534 0.00728624]\n",
            " [0.19255598 0.46474696 0.18011391 0.31285302]\n",
            " [0.03176577 0.20048439 0.4332023  0.25255009]\n",
            " [0.99230393 0.0991512  0.5682022  0.38460209]\n",
            " [0.34353936 0.22673291 0.62348655 0.51371787]\n",
            " [0.60313965 0.33416488 0.03769707 0.04810103]\n",
            " [0.34118139 0.54277038 0.35785589 0.36354564]\n",
            " [0.37448361 0.23444526 0.70600658 0.50517625]\n",
            " [0.42690018 0.48808004 0.29551605 0.22647348]\n",
            " [0.26225611 0.34757923 0.1160943  0.6360118 ]\n",
            " [0.61700752 0.25659624 0.5211498  0.26950796]\n",
            " [0.75278036 0.41483926 0.02601012 0.27217184]\n",
            " [0.29236357 0.33585476 1.03038138 0.28943119]\n",
            " [0.10892023 0.32767716 0.72098284 0.55625726]\n",
            " [0.49528136 0.12025009 0.02476327 0.39097236]\n",
            " [0.20342901 0.23259837 0.07130134 0.09443891]\n",
            " [0.16988016 0.09689846 0.93073162 0.2045284 ]\n",
            " [1.39243187 0.20128559 0.18738641 0.01380589]\n",
            " [0.05953541 0.46458784 0.71561305 0.16452526]\n",
            " [0.66147948 0.08290646 0.15152712 0.09105957]\n",
            " [0.04486348 0.40914656 0.30061244 0.09972784]\n",
            " [0.58884667 0.10839129 0.43870422 0.51148317]\n",
            " [0.22261899 0.00449969 0.26151037 0.56809456]\n",
            " [0.23371801 0.32135986 0.5145092  0.05525138]\n",
            " [1.05720785 0.47011973 0.5359307  0.09625966]\n",
            " [0.35379418 0.09368288 0.20867585 0.39704029]\n",
            " [0.27162751 0.27017935 0.03722644 0.44018927]\n",
            " [0.33324178 0.60864061 0.56179348 0.06147537]\n",
            " [0.13700112 0.0786573  0.3962864  0.12074473]\n",
            " [0.24873032 0.39701808 0.20056817 0.23637365]\n",
            " [0.33124671 0.53073767 0.22942459 0.66404862]\n",
            " [0.03235194 0.39036451 0.04806678 0.27758228]\n",
            " [0.08350958 0.08821406 0.41089809 0.70555281]\n",
            " [0.13793034 0.12016043 0.08856862 0.19546189]\n",
            " [0.01476283 0.38228457 0.39818828 0.49216792]\n",
            " [0.21305836 0.53328819 0.44145295 0.08094155]\n",
            " [0.30252893 0.0638476  0.75873654 0.15653241]\n",
            " [0.44086364 0.25237148 0.16418163 0.26819086]\n",
            " [0.15973995 0.15207123 0.00707661 0.76190168]\n",
            " [0.52035604 0.46123877 0.65304806 0.49891027]\n",
            " [0.36549905 0.41070262 0.30616377 0.19477957]\n",
            " [0.51876952 0.36334446 0.1079483  0.00952474]\n",
            " [0.54472723 0.31474622 0.3735143  0.48691598]\n",
            " [0.52709559 0.09027046 0.39502406 0.19469207]\n",
            " [0.63761549 0.17855    0.01568891 0.17227013]\n",
            " [0.54000254 0.01687088 0.31641718 0.01471098]\n",
            " [0.23110498 0.71278149 0.01723837 0.29271912]\n",
            " [0.50393606 0.36478434 0.15393079 0.37056037]\n",
            " [0.60187874 0.28918329 0.01439141 0.43220752]\n",
            " [0.24240893 0.26852866 0.03542544 0.25180471]\n",
            " [0.74854779 0.27737355 0.3543914  0.30341711]\n",
            " [0.04151493 0.05833594 0.41283686 0.18501571]\n",
            " [0.38610133 0.49731011 0.47149208 0.41752028]\n",
            " [0.32177974 0.13690879 0.27359838 0.20367186]\n",
            " [0.27737844 0.02991286 0.11922159 0.05789129]\n",
            " [0.15880553 0.33116358 0.44225078 0.22308802]\n",
            " [0.36239433 0.43202969 0.60257676 0.21262383]\n",
            " [0.12598997 0.13709976 0.04997193 0.61391917]\n",
            " [0.19116795 0.14170663 0.42131191 0.19381518]\n",
            " [0.16919387 0.64247017 0.08392818 0.15159428]\n",
            " [0.56202181 0.03650807 0.38265508 0.52809828]\n",
            " [0.90939187 0.26604228 0.2718906  0.01766882]\n",
            " [0.63089642 0.2259621  0.22390344 0.04499805]\n",
            " [0.14751458 0.221692   0.3739161  0.25851028]]\n"
          ],
          "name": "stdout"
        }
      ]
    },
    {
      "cell_type": "code",
      "metadata": {
        "id": "HxxurdWfv4lT",
        "colab_type": "code",
        "colab": {
          "base_uri": "https://localhost:8080/",
          "height": 204
        },
        "outputId": "3787ba36-dff6-419c-fe57-41afbdde9e60"
      },
      "source": [
        "#parameters\n",
        "learning_rate=0.001\n",
        "training_iters=200\n",
        "batch_size=128\n",
        "\n",
        "#network parameters\n",
        "num_inputs=3\n",
        "num_h1_n=4\n",
        "num_h2_n=10\n",
        "num_outputs=4\n",
        "num_samples=10\n",
        "\n",
        "X_gr=np.random.rand(num_samples,num_inputs)\n",
        "Y_gr=np.random.rand(num_samples,num_outputs)\n",
        "\n",
        "#tf Graph inputs\n",
        "x=tf.placeholder(tf.float32,[None,num_inputs])\n",
        "y=tf.placeholder(tf.float32,[None,num_outputs])\n",
        "\n",
        "#initialize weights\n",
        "w_1=tf.Variable(tf.random_normal([num_inputs,num_h1_n]))\n",
        "w_2=tf.Variable(tf.random_normal([num_h1_n,num_h2_n]))\n",
        "w_3=tf.Variable(tf.random_normal([num_h2_n,num_outputs]))\n",
        "\n",
        "#bias\n",
        "b_1=tf.Variable(tf.random_normal([num_h1_n]))\n",
        "b_2=tf.Variable(tf.random_normal([num_h2_n]))\n",
        "b_3=tf.Variable(tf.random_normal([num_outputs]))\n",
        "\n",
        "\n",
        "#model\n",
        "h1=tf.nn.sigmoid(tf.add(tf.matmul(x,w_1),b_1))  #hidden layer 1\n",
        "h2=tf.nn.sigmoid(tf.add(tf.matmul(h1,w_2),b_2)) #hidden layer 2\n",
        "y_p=tf.add(tf.matmul(h2,w_3),b_3)               #output layer\n",
        "\n",
        "#cost\n",
        "cost=tf.reduce_mean(tf.pow(y-y_p,2))  #if costfunction is the mean square error\n",
        "\n",
        "#optimisation\n",
        "optimizer=tf.train.AdamOptimizer(learning_rate=learning_rate).minimize(cost)\n",
        "\n",
        "#initializing the graph and the weights\n",
        "init=tf.global_variables_initializer()\n",
        "\n",
        "#Launch the graph\n",
        "with tf.Session() as sess:\n",
        "  sess.run(init)\n",
        "  \n",
        "  for i in range(1000):\n",
        "  \n",
        "    sess.run(optimizer,feed_dict={x: X_gr, y: Y_gr})\n",
        "  \n",
        "    pr_cost=sess.run(cost,feed_dict={x: X_gr, y: Y_gr})\n",
        "    \n",
        "    #print('Cost at iteration ', i,' is: ',pr_cost)\n",
        "    \n",
        "  Y_p_p=sess.run(y_p,feed_dict={x: X_gr, y: Y_gr})\n",
        "  display('prediction error ',abs(Y_p_p-Y_gr))"
      ],
      "execution_count": 18,
      "outputs": [
        {
          "output_type": "display_data",
          "data": {
            "text/plain": [
              "'prediction error '"
            ]
          },
          "metadata": {
            "tags": []
          }
        },
        {
          "output_type": "display_data",
          "data": {
            "text/plain": [
              "array([[0.28878736, 0.46373458, 0.10647477, 0.34256426],\n",
              "       [0.1654178 , 0.38149652, 0.09211982, 0.15299316],\n",
              "       [0.31100102, 0.36832802, 0.22965313, 0.5303063 ],\n",
              "       [0.41287048, 0.47661053, 0.17304211, 0.29213752],\n",
              "       [0.04144417, 0.13319063, 0.29790729, 0.21917549],\n",
              "       [0.41661042, 0.22859673, 0.43643954, 0.14736618],\n",
              "       [0.16129263, 0.42448818, 0.14582871, 0.0713651 ],\n",
              "       [0.48681007, 0.48988344, 0.12773934, 0.08961366],\n",
              "       [0.2827795 , 0.03619691, 0.40172079, 0.25901881],\n",
              "       [0.20438436, 0.28999509, 0.17567854, 0.20871449]])"
            ]
          },
          "metadata": {
            "tags": []
          }
        }
      ]
    }
  ]
}