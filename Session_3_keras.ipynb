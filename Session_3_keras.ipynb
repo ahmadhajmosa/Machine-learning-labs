{
  "nbformat": 4,
  "nbformat_minor": 0,
  "metadata": {
    "colab": {
      "name": " Session 3 kras.ipynb",
      "version": "0.3.2",
      "provenance": [],
      "collapsed_sections": [],
      "include_colab_link": true
    },
    "kernelspec": {
      "name": "python3",
      "display_name": "Python 3"
    },
    "accelerator": "GPU"
  },
  "cells": [
    {
      "cell_type": "markdown",
      "metadata": {
        "id": "view-in-github",
        "colab_type": "text"
      },
      "source": [
        "<a href=\"https://colab.research.google.com/github/ahmadhajmosa/Machine-learning-labs/blob/reichmann/Session_3_keras.ipynb\" target=\"_parent\"><img src=\"https://colab.research.google.com/assets/colab-badge.svg\" alt=\"Open In Colab\"/></a>"
      ]
    },
    {
      "cell_type": "markdown",
      "metadata": {
        "id": "rmSUExzC-ZBV",
        "colab_type": "text"
      },
      "source": [
        ""
      ]
    },
    {
      "cell_type": "markdown",
      "metadata": {
        "id": "wgWZldyi-Zef",
        "colab_type": "text"
      },
      "source": [
        "# Lab on Machine Learning and Applications in Intelligent Vehicles\n",
        "## Session 3: Keras\n",
        "\n",
        "### * Intro into Keras\n",
        "\n",
        "### * CNN using Keras\n",
        "\n",
        "### * LSTM using Keras\n",
        "\n",
        "### * Variational Auto encoder using Keras\n",
        "\n",
        "### * Seq2Seq Model with keras\n"
      ]
    },
    {
      "cell_type": "code",
      "metadata": {
        "id": "BOxTZZd3MnrG",
        "colab_type": "code",
        "colab": {
          "base_uri": "https://localhost:8080/",
          "height": 1028
        },
        "outputId": "ac169353-a122-45df-d3ad-bd2a87c5ac46"
      },
      "source": [
        "import keras\n",
        "from keras.models import Sequential\n",
        "from keras.layers import Dense, Dropout\n",
        "\n",
        "model = Sequential()\n",
        "model.add(Dense(32, input_shape=(16,),name='input_layer'))\n",
        "#now the model will take as input arrays of shape (*,16)\n",
        "#and output arrays of shape (*,32)\n",
        "# after the first layer, you don't need to specify\n",
        "# the size of the input anymore:\n",
        "model.add(Dense(32,name='hidden_layer_1'))\n",
        "model.add(Dense(100,activation='relu',name='hidden_layer_2'))\n",
        "model.add(Dropout(0.1))\n",
        "model.add(Dense(200,activation='sigmoid',name='hidden_layer_3'))\n",
        "model.add(Dropout(0.1))\n",
        "model.add(Dense(30,name='hidden_layer_4'))\n",
        "model.add(Dense(100,name='hidden_layer_5'))\n",
        "\n",
        "model.add(Dense(32,name='output_layer'))\n",
        "\n",
        "from IPython.display import SVG\n",
        "from keras.utils.vis_utils import model_to_dot\n",
        "\n",
        "SVG(model_to_dot(model).create(prog='dot', format='svg'))"
      ],
      "execution_count": 20,
      "outputs": [
        {
          "output_type": "stream",
          "text": [
            "WARNING:tensorflow:From /usr/local/lib/python3.6/dist-packages/keras/backend/tensorflow_backend.py:3445: calling dropout (from tensorflow.python.ops.nn_ops) with keep_prob is deprecated and will be removed in a future version.\n",
            "Instructions for updating:\n",
            "Please use `rate` instead of `keep_prob`. Rate should be set to `rate = 1 - keep_prob`.\n"
          ],
          "name": "stdout"
        },
        {
          "output_type": "execute_result",
          "data": {
            "text/plain": [
              "<IPython.core.display.SVG object>"
            ],
            "image/svg+xml": "<svg height=\"702pt\" viewBox=\"0.00 0.00 157.00 702.00\" width=\"157pt\" xmlns=\"http://www.w3.org/2000/svg\" xmlns:xlink=\"http://www.w3.org/1999/xlink\">\n<g class=\"graph\" id=\"graph0\" transform=\"scale(1 1) rotate(0) translate(4 698)\">\n<title>G</title>\n<polygon fill=\"#ffffff\" points=\"-4,4 -4,-698 153,-698 153,4 -4,4\" stroke=\"transparent\"/>\n<!-- 140016573043096 -->\n<g class=\"node\" id=\"node1\">\n<title>140016573043096</title>\n<polygon fill=\"none\" points=\"12,-584.5 12,-620.5 137,-620.5 137,-584.5 12,-584.5\" stroke=\"#000000\"/>\n<text fill=\"#000000\" font-family=\"Times,serif\" font-size=\"14.00\" text-anchor=\"middle\" x=\"74.5\" y=\"-598.8\">input_layer: Dense</text>\n</g>\n<!-- 140016573042984 -->\n<g class=\"node\" id=\"node2\">\n<title>140016573042984</title>\n<polygon fill=\"none\" points=\"0,-511.5 0,-547.5 149,-547.5 149,-511.5 0,-511.5\" stroke=\"#000000\"/>\n<text fill=\"#000000\" font-family=\"Times,serif\" font-size=\"14.00\" text-anchor=\"middle\" x=\"74.5\" y=\"-525.8\">hidden_layer_1: Dense</text>\n</g>\n<!-- 140016573043096&#45;&gt;140016573042984 -->\n<g class=\"edge\" id=\"edge2\">\n<title>140016573043096-&gt;140016573042984</title>\n<path d=\"M74.5,-584.4551C74.5,-576.3828 74.5,-566.6764 74.5,-557.6817\" fill=\"none\" stroke=\"#000000\"/>\n<polygon fill=\"#000000\" points=\"78.0001,-557.5903 74.5,-547.5904 71.0001,-557.5904 78.0001,-557.5903\" stroke=\"#000000\"/>\n</g>\n<!-- 140016573043600 -->\n<g class=\"node\" id=\"node3\">\n<title>140016573043600</title>\n<polygon fill=\"none\" points=\"0,-438.5 0,-474.5 149,-474.5 149,-438.5 0,-438.5\" stroke=\"#000000\"/>\n<text fill=\"#000000\" font-family=\"Times,serif\" font-size=\"14.00\" text-anchor=\"middle\" x=\"74.5\" y=\"-452.8\">hidden_layer_2: Dense</text>\n</g>\n<!-- 140016573042984&#45;&gt;140016573043600 -->\n<g class=\"edge\" id=\"edge3\">\n<title>140016573042984-&gt;140016573043600</title>\n<path d=\"M74.5,-511.4551C74.5,-503.3828 74.5,-493.6764 74.5,-484.6817\" fill=\"none\" stroke=\"#000000\"/>\n<polygon fill=\"#000000\" points=\"78.0001,-484.5903 74.5,-474.5904 71.0001,-484.5904 78.0001,-484.5903\" stroke=\"#000000\"/>\n</g>\n<!-- 140016575889872 -->\n<g class=\"node\" id=\"node4\">\n<title>140016575889872</title>\n<polygon fill=\"none\" points=\"7.5,-365.5 7.5,-401.5 141.5,-401.5 141.5,-365.5 7.5,-365.5\" stroke=\"#000000\"/>\n<text fill=\"#000000\" font-family=\"Times,serif\" font-size=\"14.00\" text-anchor=\"middle\" x=\"74.5\" y=\"-379.8\">dropout_1: Dropout</text>\n</g>\n<!-- 140016573043600&#45;&gt;140016575889872 -->\n<g class=\"edge\" id=\"edge4\">\n<title>140016573043600-&gt;140016575889872</title>\n<path d=\"M74.5,-438.4551C74.5,-430.3828 74.5,-420.6764 74.5,-411.6817\" fill=\"none\" stroke=\"#000000\"/>\n<polygon fill=\"#000000\" points=\"78.0001,-411.5903 74.5,-401.5904 71.0001,-411.5904 78.0001,-411.5903\" stroke=\"#000000\"/>\n</g>\n<!-- 140016573043656 -->\n<g class=\"node\" id=\"node5\">\n<title>140016573043656</title>\n<polygon fill=\"none\" points=\"0,-292.5 0,-328.5 149,-328.5 149,-292.5 0,-292.5\" stroke=\"#000000\"/>\n<text fill=\"#000000\" font-family=\"Times,serif\" font-size=\"14.00\" text-anchor=\"middle\" x=\"74.5\" y=\"-306.8\">hidden_layer_3: Dense</text>\n</g>\n<!-- 140016575889872&#45;&gt;140016573043656 -->\n<g class=\"edge\" id=\"edge5\">\n<title>140016575889872-&gt;140016573043656</title>\n<path d=\"M74.5,-365.4551C74.5,-357.3828 74.5,-347.6764 74.5,-338.6817\" fill=\"none\" stroke=\"#000000\"/>\n<polygon fill=\"#000000\" points=\"78.0001,-338.5903 74.5,-328.5904 71.0001,-338.5904 78.0001,-338.5903\" stroke=\"#000000\"/>\n</g>\n<!-- 140016573167320 -->\n<g class=\"node\" id=\"node6\">\n<title>140016573167320</title>\n<polygon fill=\"none\" points=\"7.5,-219.5 7.5,-255.5 141.5,-255.5 141.5,-219.5 7.5,-219.5\" stroke=\"#000000\"/>\n<text fill=\"#000000\" font-family=\"Times,serif\" font-size=\"14.00\" text-anchor=\"middle\" x=\"74.5\" y=\"-233.8\">dropout_2: Dropout</text>\n</g>\n<!-- 140016573043656&#45;&gt;140016573167320 -->\n<g class=\"edge\" id=\"edge6\">\n<title>140016573043656-&gt;140016573167320</title>\n<path d=\"M74.5,-292.4551C74.5,-284.3828 74.5,-274.6764 74.5,-265.6817\" fill=\"none\" stroke=\"#000000\"/>\n<polygon fill=\"#000000\" points=\"78.0001,-265.5903 74.5,-255.5904 71.0001,-265.5904 78.0001,-265.5903\" stroke=\"#000000\"/>\n</g>\n<!-- 140017936855560 -->\n<g class=\"node\" id=\"node7\">\n<title>140017936855560</title>\n<polygon fill=\"none\" points=\"0,-146.5 0,-182.5 149,-182.5 149,-146.5 0,-146.5\" stroke=\"#000000\"/>\n<text fill=\"#000000\" font-family=\"Times,serif\" font-size=\"14.00\" text-anchor=\"middle\" x=\"74.5\" y=\"-160.8\">hidden_layer_4: Dense</text>\n</g>\n<!-- 140016573167320&#45;&gt;140017936855560 -->\n<g class=\"edge\" id=\"edge7\">\n<title>140016573167320-&gt;140017936855560</title>\n<path d=\"M74.5,-219.4551C74.5,-211.3828 74.5,-201.6764 74.5,-192.6817\" fill=\"none\" stroke=\"#000000\"/>\n<polygon fill=\"#000000\" points=\"78.0001,-192.5903 74.5,-182.5904 71.0001,-192.5904 78.0001,-192.5903\" stroke=\"#000000\"/>\n</g>\n<!-- 140016572754464 -->\n<g class=\"node\" id=\"node8\">\n<title>140016572754464</title>\n<polygon fill=\"none\" points=\"0,-73.5 0,-109.5 149,-109.5 149,-73.5 0,-73.5\" stroke=\"#000000\"/>\n<text fill=\"#000000\" font-family=\"Times,serif\" font-size=\"14.00\" text-anchor=\"middle\" x=\"74.5\" y=\"-87.8\">hidden_layer_5: Dense</text>\n</g>\n<!-- 140017936855560&#45;&gt;140016572754464 -->\n<g class=\"edge\" id=\"edge8\">\n<title>140017936855560-&gt;140016572754464</title>\n<path d=\"M74.5,-146.4551C74.5,-138.3828 74.5,-128.6764 74.5,-119.6817\" fill=\"none\" stroke=\"#000000\"/>\n<polygon fill=\"#000000\" points=\"78.0001,-119.5903 74.5,-109.5904 71.0001,-119.5904 78.0001,-119.5903\" stroke=\"#000000\"/>\n</g>\n<!-- 140016574868112 -->\n<g class=\"node\" id=\"node9\">\n<title>140016574868112</title>\n<polygon fill=\"none\" points=\"8.5,-.5 8.5,-36.5 140.5,-36.5 140.5,-.5 8.5,-.5\" stroke=\"#000000\"/>\n<text fill=\"#000000\" font-family=\"Times,serif\" font-size=\"14.00\" text-anchor=\"middle\" x=\"74.5\" y=\"-14.8\">output_layer: Dense</text>\n</g>\n<!-- 140016572754464&#45;&gt;140016574868112 -->\n<g class=\"edge\" id=\"edge9\">\n<title>140016572754464-&gt;140016574868112</title>\n<path d=\"M74.5,-73.4551C74.5,-65.3828 74.5,-55.6764 74.5,-46.6817\" fill=\"none\" stroke=\"#000000\"/>\n<polygon fill=\"#000000\" points=\"78.0001,-46.5903 74.5,-36.5904 71.0001,-46.5904 78.0001,-46.5903\" stroke=\"#000000\"/>\n</g>\n<!-- 140016573043376 -->\n<g class=\"node\" id=\"node10\">\n<title>140016573043376</title>\n<polygon fill=\"none\" points=\"10,-657.5 10,-693.5 139,-693.5 139,-657.5 10,-657.5\" stroke=\"#000000\"/>\n<text fill=\"#000000\" font-family=\"Times,serif\" font-size=\"14.00\" text-anchor=\"middle\" x=\"74.5\" y=\"-671.8\">140016573043376</text>\n</g>\n<!-- 140016573043376&#45;&gt;140016573043096 -->\n<g class=\"edge\" id=\"edge1\">\n<title>140016573043376-&gt;140016573043096</title>\n<path d=\"M74.5,-657.4551C74.5,-649.3828 74.5,-639.6764 74.5,-630.6817\" fill=\"none\" stroke=\"#000000\"/>\n<polygon fill=\"#000000\" points=\"78.0001,-630.5903 74.5,-620.5904 71.0001,-630.5904 78.0001,-630.5903\" stroke=\"#000000\"/>\n</g>\n</g>\n</svg>"
          },
          "metadata": {
            "tags": []
          },
          "execution_count": 20
        }
      ]
    },
    {
      "cell_type": "code",
      "metadata": {
        "id": "ILpQtZELP1Uz",
        "colab_type": "code",
        "colab": {
          "base_uri": "https://localhost:8080/",
          "height": 255
        },
        "outputId": "874cb13b-c25e-414e-d996-4a7567446588"
      },
      "source": [
        "import keras\n",
        "from keras.models import Sequential\n",
        "from keras.layers import Dense, Dropout, Conv2D, Flatten\n",
        "\n",
        "model = Sequential()\n",
        "model.add(Conv2D(64, (3, 3),\n",
        "                 input_shape=(3, 32, 32), padding='same',))\n",
        "model.add(Conv2D(20, (3, 3), padding='same',))\n",
        "# now: model.output_shape == (None, 64, 32, 32)\n",
        "# now: model.input_shape == (None, 3, 32, 32)\n",
        "\n",
        "model.add(Flatten())\n",
        "# now: model.output_shape == (None, 65536)\n",
        "\n",
        "\n",
        "\n",
        "from IPython.display import SVG\n",
        "from keras.utils.vis_utils import model_to_dot\n",
        "\n",
        "SVG(model_to_dot(model).create(prog='dot', format='svg'))\n",
        "\n",
        "display(model.summary())"
      ],
      "execution_count": 17,
      "outputs": [
        {
          "output_type": "stream",
          "text": [
            "_________________________________________________________________\n",
            "Layer (type)                 Output Shape              Param #   \n",
            "=================================================================\n",
            "conv2d_8 (Conv2D)            (None, 3, 32, 64)         18496     \n",
            "_________________________________________________________________\n",
            "conv2d_9 (Conv2D)            (None, 3, 32, 20)         11540     \n",
            "_________________________________________________________________\n",
            "flatten_5 (Flatten)          (None, 1920)              0         \n",
            "=================================================================\n",
            "Total params: 30,036\n",
            "Trainable params: 30,036\n",
            "Non-trainable params: 0\n",
            "_________________________________________________________________\n"
          ],
          "name": "stdout"
        },
        {
          "output_type": "display_data",
          "data": {
            "text/plain": [
              "None"
            ]
          },
          "metadata": {
            "tags": []
          }
        }
      ]
    },
    {
      "cell_type": "code",
      "metadata": {
        "id": "eNxtUsc-TJ1B",
        "colab_type": "code",
        "colab": {}
      },
      "source": [
        "from __future__ import print_function\n",
        "import keras\n",
        "from keras.datasets import cifar10\n",
        "from keras.preprocessing.image import ImageDataGenerator\n",
        "from keras.models import Sequential\n",
        "from keras.layers import Dense, Dropout, Activation, Flatten\n",
        "from keras.layers import Conv2D, MaxPooling2D\n",
        "import os\n",
        "\n",
        "batch_size = 32\n",
        "num_classes = 10\n",
        "epochs = 100\n",
        "data_augmentation = True\n",
        "num_predictions = 20\n",
        "save_dir = os.path.join(os.getcwd(), 'saved_models')\n",
        "model_name = 'keras_cifar10_trained_model.h5'\n",
        "\n",
        "# The data, split between train and test sets:\n",
        "(x_train, y_train), (x_test, y_test) = cifar10.load_data()\n",
        "print('x_train shape:', x_train.shape)\n",
        "print(x_train.shape[0], 'train samples')\n",
        "print(x_test.shape[0], 'test samples')\n",
        "\n",
        "# Convert class vectors to binary class matrices.\n",
        "y_train = keras.utils.to_categorical(y_train, num_classes)\n",
        "y_test = keras.utils.to_categorical(y_test, num_classes)\n",
        "\n",
        "model = Sequential()\n",
        "model.add(Conv2D(32, (3, 3), padding='same',\n",
        "                 input_shape=x_train.shape[1:]))\n",
        "model.add(Activation('relu'))\n",
        "model.add(Conv2D(32, (3, 3)))\n",
        "model.add(Activation('relu'))\n",
        "model.add(MaxPooling2D(pool_size=(2, 2)))\n",
        "model.add(Dropout(0.25))\n",
        "\n",
        "model.add(Conv2D(64, (3, 3), padding='same'))\n",
        "model.add(Activation('relu'))\n",
        "model.add(Conv2D(64, (3, 3)))\n",
        "model.add(Activation('relu'))\n",
        "model.add(MaxPooling2D(pool_size=(2, 2)))\n",
        "model.add(Dropout(0.25))\n",
        "\n",
        "model.add(Flatten())\n",
        "model.add(Dense(512))\n",
        "model.add(Activation('relu'))\n",
        "model.add(Dropout(0.5))\n",
        "model.add(Dense(num_classes))\n",
        "model.add(Activation('softmax'))\n",
        "\n",
        "# initiate RMSprop optimizer\n",
        "opt = keras.optimizers.rmsprop(lr=0.0001, decay=1e-6)\n",
        "\n",
        "# Let's train the model using RMSprop\n",
        "model.compile(loss='categorical_crossentropy',\n",
        "              optimizer=opt,\n",
        "              metrics=['accuracy'])\n",
        "\n",
        "#Scaling from 0-255 to 0-1\n",
        "x_train = x_train.astype('float32')\n",
        "x_test = x_test.astype('float32')\n",
        "x_train /= 255\n",
        "x_test /= 255\n",
        "\n",
        "model.fit(x_train, y_train,\n",
        "          batch_size=batch_size,\n",
        "          epochs=epochs,\n",
        "          validation_data=(x_test, y_test),\n",
        "          shuffle=True)    \n",
        "\n",
        "# Save model and weights\n",
        "if not os.path.isdir(save_dir):\n",
        "    os.makedirs(save_dir)\n",
        "model_path = os.path.join(save_dir, model_name)\n",
        "model.save(model_path)\n",
        "print('Saved trained model at %s ' % model_path)\n",
        "\n",
        "# Score trained model.\n",
        "scores = model.evaluate(x_test, y_test, verbose=1)\n",
        "print('Test loss:', scores[0])\n",
        "print('Test accuracy:', scores[1])\n",
        "\n",
        "#Show summary\n",
        "print(model.summary())"
      ],
      "execution_count": 0,
      "outputs": []
    },
    {
      "cell_type": "markdown",
      "metadata": {
        "id": "M0S6i5OaVqUM",
        "colab_type": "text"
      },
      "source": [
        "# Functional keras"
      ]
    },
    {
      "cell_type": "code",
      "metadata": {
        "id": "GJOdL00VVtGf",
        "colab_type": "code",
        "colab": {
          "base_uri": "https://localhost:8080/",
          "height": 51
        },
        "outputId": "2704bdb7-dc21-4fb4-f2e0-87d5fd230776"
      },
      "source": [
        "from keras.layers import Input, Dense, Concatenate\n",
        "from keras.models import Model\n",
        "\n",
        "# This returns a tensor\n",
        "inputs = Input(shape=(784,))\n",
        "\n",
        "# a layer instance is callable on a tensor, and returns a tensor\n",
        "x = Dense(64, activation='relu')(inputs)\n",
        "x = Dense(64, activation='relu')(x)\n",
        "\n",
        "# This returns a tensor\n",
        "inputs_1 = Input(shape=(10,))\n",
        "\n",
        "# a layer instance is callable on a tensor, and returns a tensor\n",
        "x_1 = Dense(64, activation='relu')(inputs_1)\n",
        "x_1 = Dense(64, activation='relu')(x_1)\n",
        "\n",
        "merged = Concatenate()([x,x_1])\n",
        "\n",
        "y = Dense(64, activation='relu')(merged)\n",
        "y = Dense(64, activation='relu')(y)\n",
        "\n",
        "y_plus_1 = Dense(10, activation='softmax',name='output1')(y)\n",
        "y_plus_2 = Dense(20, activation='softmax',name='output2')(y)\n",
        "\n",
        "losses = dict()\n",
        "losses['output1']='categorical_crossentropy'\n",
        "losses['output2']='mse'\n",
        "\n",
        "metrics = dict()\n",
        "metrics['output1']='acc'\n",
        "metrics['output2']='mse'\n",
        "\n",
        "model = Model([inputs,inputs_1],[y_plus_1,y_plus_2])\n",
        "\n",
        "model.compile(optimizer='adam',loss=losses,metrics=metrics)\n",
        "\n",
        "\n",
        "\n",
        "from IPython.display import SVG\n",
        "from keras.utils.vis_utils import model_to_dot\n",
        "\n",
        "SVG(model_to_dot(model).create(prog='dot', format='svg'))\n",
        "\n",
        "import numpy as np\n",
        "input_1=np.random.rand(1,784)\n",
        "input_2=np.random.rand(1,10)\n",
        "\n",
        "output_1,output_2=model.predict([input_1,input_2])\n",
        "display(output_1.shape)\n",
        "display(output_2.shape)\n"
      ],
      "execution_count": 36,
      "outputs": [
        {
          "output_type": "display_data",
          "data": {
            "text/plain": [
              "(1, 10)"
            ]
          },
          "metadata": {
            "tags": []
          }
        },
        {
          "output_type": "display_data",
          "data": {
            "text/plain": [
              "(1, 20)"
            ]
          },
          "metadata": {
            "tags": []
          }
        }
      ]
    },
    {
      "cell_type": "code",
      "metadata": {
        "id": "uScV62F1b5tb",
        "colab_type": "code",
        "colab": {}
      },
      "source": [
        ""
      ],
      "execution_count": 0,
      "outputs": []
    },
    {
      "cell_type": "markdown",
      "metadata": {
        "id": "ciUtGM-W_ehP",
        "colab_type": "text"
      },
      "source": [
        ""
      ]
    }
  ]
}