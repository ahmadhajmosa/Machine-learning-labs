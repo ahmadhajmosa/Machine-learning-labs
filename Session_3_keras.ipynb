{
  "nbformat": 4,
  "nbformat_minor": 0,
  "metadata": {
    "colab": {
      "name": " Session 3 kras.ipynb",
      "version": "0.3.2",
      "provenance": [],
      "collapsed_sections": [],
      "include_colab_link": true
    },
    "kernelspec": {
      "name": "python3",
      "display_name": "Python 3"
    },
    "accelerator": "GPU"
  },
  "cells": [
    {
      "cell_type": "markdown",
      "metadata": {
        "id": "view-in-github",
        "colab_type": "text"
      },
      "source": [
        "<a href=\"https://colab.research.google.com/github/ahmadhajmosa/Machine-learning-labs/blob/Michal/Session_3_keras.ipynb\" target=\"_parent\"><img src=\"https://colab.research.google.com/assets/colab-badge.svg\" alt=\"Open In Colab\"/></a>"
      ]
    },
    {
      "cell_type": "markdown",
      "metadata": {
        "id": "rmSUExzC-ZBV",
        "colab_type": "text"
      },
      "source": [
        ""
      ]
    },
    {
      "cell_type": "markdown",
      "metadata": {
        "id": "wgWZldyi-Zef",
        "colab_type": "text"
      },
      "source": [
        "# Lab on Machine Learning and Applications in Intelligent Vehicles\n",
        "## Session 3: Keras\n",
        "\n",
        "### * Intro into Keras\n",
        "\n",
        "### * CNN using Keras\n",
        "\n",
        "### * LSTM using Keras\n",
        "\n",
        "### * Variational Auto encoder using Keras\n",
        "\n",
        "### * Seq2Seq Model with keras\n"
      ]
    },
    {
      "cell_type": "markdown",
      "metadata": {
        "id": "ciUtGM-W_ehP",
        "colab_type": "text"
      },
      "source": [
        ""
      ]
    },
    {
      "cell_type": "code",
      "metadata": {
        "id": "W08aY7i0NYVg",
        "colab_type": "code",
        "colab": {
          "base_uri": "https://localhost:8080/",
          "height": 69
        },
        "outputId": "2568d767-19a5-48f4-a86e-90590b44f337"
      },
      "source": [
        "!pip install pyplot"
      ],
      "execution_count": 3,
      "outputs": [
        {
          "output_type": "stream",
          "text": [
            "Collecting pyplot\n",
            "\u001b[31m  ERROR: Could not find a version that satisfies the requirement pyplot (from versions: none)\u001b[0m\n",
            "\u001b[31mERROR: No matching distribution found for pyplot\u001b[0m\n"
          ],
          "name": "stdout"
        }
      ]
    },
    {
      "cell_type": "code",
      "metadata": {
        "id": "3k-ZGH_-Ndre",
        "colab_type": "code",
        "colab": {
          "base_uri": "https://localhost:8080/",
          "height": 434
        },
        "outputId": "01c1638f-0332-4c0b-9870-c831db28ae75"
      },
      "source": [
        "import keras\n",
        "from keras.models import Sequential\n",
        "from keras.layers import Dense\n",
        "from keras.layers import Dropout\n",
        "\n",
        "\n",
        "model = Sequential()\n",
        "\n",
        "model.add(Dense(32, input_shape=(16,), name=\"input_layer\"))  \n",
        "# after first layer not required to specify input,(16,) - (features, samles), dont care about nr of samples\n",
        "\n",
        "model.add(Dense(100, activation = \"relu\", name = \"hidden_layer_1\"))\n",
        "model.add(Dropout(0.1))\n",
        "\n",
        "model.add(Dense(200, activation = \"sigmoid\", name = \"hidden_layer_2\"))\n",
        "model.add(Dropout(0.1))\n",
        "model.add(Dense(30, name = \"hidden_layer_3\"))\n",
        "model.add(Dense(100, name = \"hidden_layer_4\"))\n",
        "\n",
        "model.add(Dense(32, name = \"output_layer\"))\n",
        "\n",
        "\n",
        "from IPython.display import SVG\n",
        "\n",
        "from keras.utils.vis_utils import model_to_dot\n",
        "\n",
        "SVG(model_to_dot(model).create(prog='dot', format='svg'))\n",
        "\n",
        "display(model.summary())"
      ],
      "execution_count": 8,
      "outputs": [
        {
          "output_type": "stream",
          "text": [
            "_________________________________________________________________\n",
            "Layer (type)                 Output Shape              Param #   \n",
            "=================================================================\n",
            "input_layer (Dense)          (None, 32)                544       \n",
            "_________________________________________________________________\n",
            "hidden_layer_1 (Dense)       (None, 100)               3300      \n",
            "_________________________________________________________________\n",
            "dropout_3 (Dropout)          (None, 100)               0         \n",
            "_________________________________________________________________\n",
            "hidden_layer_2 (Dense)       (None, 200)               20200     \n",
            "_________________________________________________________________\n",
            "dropout_4 (Dropout)          (None, 200)               0         \n",
            "_________________________________________________________________\n",
            "hidden_layer_3 (Dense)       (None, 30)                6030      \n",
            "_________________________________________________________________\n",
            "hidden_layer_4 (Dense)       (None, 100)               3100      \n",
            "_________________________________________________________________\n",
            "output_layer (Dense)         (None, 32)                3232      \n",
            "=================================================================\n",
            "Total params: 36,406\n",
            "Trainable params: 36,406\n",
            "Non-trainable params: 0\n",
            "_________________________________________________________________\n"
          ],
          "name": "stdout"
        },
        {
          "output_type": "display_data",
          "data": {
            "text/plain": [
              "None"
            ]
          },
          "metadata": {
            "tags": []
          }
        }
      ]
    },
    {
      "cell_type": "code",
      "metadata": {
        "id": "mLN3cJzqP-ru",
        "colab_type": "code",
        "colab": {
          "base_uri": "https://localhost:8080/",
          "height": 260
        },
        "outputId": "8c41ce0b-0b8d-44e3-a454-3688f89cd5ed"
      },
      "source": [
        "from keras.layers import Conv2D, Flatten\n",
        "\n",
        "model = Sequential()\n",
        "model.add(Conv2D(64, (3, 3),\n",
        "                 input_shape=(3, 32, 32), padding='same',))\n",
        "model.add(Conv2D(20, (3, 3),padding='same'))\n",
        "\n",
        "\n",
        "# now: model.output_shape == (None, 64, 32, 32)\n",
        "# now: model.input_shape == (None, 3, 32, 32)\n",
        "\n",
        "model.add(Flatten())\n",
        "\n",
        "\n",
        "from IPython.display import SVG\n",
        "from keras.utils.vis_utils import model_to_dot\n",
        "\n",
        "SVG(model_to_dot(model).create(prog='dot', format='svg'))\n",
        "\n",
        "display(model.summary())"
      ],
      "execution_count": 14,
      "outputs": [
        {
          "output_type": "stream",
          "text": [
            "_________________________________________________________________\n",
            "Layer (type)                 Output Shape              Param #   \n",
            "=================================================================\n",
            "conv2d_1 (Conv2D)            (None, 3, 32, 64)         18496     \n",
            "_________________________________________________________________\n",
            "conv2d_2 (Conv2D)            (None, 3, 32, 20)         11540     \n",
            "_________________________________________________________________\n",
            "flatten_1 (Flatten)          (None, 1920)              0         \n",
            "=================================================================\n",
            "Total params: 30,036\n",
            "Trainable params: 30,036\n",
            "Non-trainable params: 0\n",
            "_________________________________________________________________\n"
          ],
          "name": "stdout"
        },
        {
          "output_type": "display_data",
          "data": {
            "text/plain": [
              "None"
            ]
          },
          "metadata": {
            "tags": []
          }
        }
      ]
    }
  ]
}