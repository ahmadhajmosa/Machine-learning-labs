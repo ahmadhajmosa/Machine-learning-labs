{
  "nbformat": 4,
  "nbformat_minor": 0,
  "metadata": {
    "colab": {
      "name": "Machine Translation with Seq2Seq model.ipynb",
      "version": "0.3.2",
      "provenance": [],
      "collapsed_sections": [],
      "toc_visible": true,
      "include_colab_link": true
    },
    "kernelspec": {
      "name": "python3",
      "display_name": "Python 3"
    }
  },
  "cells": [
    {
      "cell_type": "markdown",
      "metadata": {
        "id": "view-in-github",
        "colab_type": "text"
      },
      "source": [
        "<a href=\"https://colab.research.google.com/github/ahmadhajmosa/Machine-learning-labs/blob/daniel.frumlacher/Machine_Translation_with_Seq2Seq_model.ipynb\" target=\"_parent\"><img src=\"https://colab.research.google.com/assets/colab-badge.svg\" alt=\"Open In Colab\"/></a>"
      ]
    },
    {
      "cell_type": "code",
      "metadata": {
        "id": "lOAwWeT0H1FL",
        "colab_type": "code",
        "colab": {}
      },
      "source": [
        ""
      ],
      "execution_count": 0,
      "outputs": []
    },
    {
      "cell_type": "markdown",
      "metadata": {
        "id": "bq-55gqyH29A",
        "colab_type": "text"
      },
      "source": [
        "# Machine Translation with Seq2Seq model\n",
        "\n"
      ]
    },
    {
      "cell_type": "markdown",
      "metadata": {
        "id": "le5aSnf0IC9y",
        "colab_type": "text"
      },
      "source": [
        "# sequence to sequence model\n",
        "\n",
        "\n",
        "![alt text](https://s3-ap-south-1.amazonaws.com/av-blog-media/wp-content/uploads/2019/01/enc_dec_2.png)"
      ]
    },
    {
      "cell_type": "code",
      "metadata": {
        "id": "LUuPZc7FICG1",
        "colab_type": "code",
        "outputId": "766b3bef-1c21-4b7e-9d48-58d8295bf49a",
        "colab": {
          "base_uri": "https://localhost:8080/",
          "height": 35
        }
      },
      "source": [
        "import string\n",
        "import re\n",
        "from numpy import array, argmax, random, take\n",
        "import pandas as pd\n",
        "from keras.models import Sequential\n",
        "from keras.layers import Dense, LSTM, Embedding, RepeatVector\n",
        "from keras.preprocessing.text import Tokenizer\n",
        "from keras.callbacks import ModelCheckpoint\n",
        "from keras.preprocessing.sequence import pad_sequences\n",
        "from keras.models import load_model\n",
        "from keras import optimizers\n",
        "import matplotlib.pyplot as plt\n",
        "%matplotlib inline\n",
        "pd.set_option('display.max_colwidth', 200)"
      ],
      "execution_count": 1,
      "outputs": [
        {
          "output_type": "stream",
          "text": [
            "Using TensorFlow backend.\n"
          ],
          "name": "stderr"
        }
      ]
    },
    {
      "cell_type": "markdown",
      "metadata": {
        "id": "1RSsaDqsIZg0",
        "colab_type": "text"
      },
      "source": [
        "# Read the Data into our IDE\n"
      ]
    },
    {
      "cell_type": "code",
      "metadata": {
        "id": "psJK4BOqIW8K",
        "colab_type": "code",
        "colab": {}
      },
      "source": [
        "# function to read raw text file\n",
        "def read_text(filename):\n",
        "        # open the file\n",
        "        file = open(filename, mode='rt', encoding='utf-8')\n",
        "        \n",
        "        # read all text\n",
        "        text = file.read()\n",
        "        file.close()\n",
        "        return text"
      ],
      "execution_count": 0,
      "outputs": []
    },
    {
      "cell_type": "code",
      "metadata": {
        "id": "JzrVXpb3IgtI",
        "colab_type": "code",
        "colab": {}
      },
      "source": [
        "# split a text into sentences\n",
        "def to_lines(text):\n",
        "      sents = text.strip().split('\\n')\n",
        "      sents = [i.split('\\t') for i in sents]\n",
        "      return sents"
      ],
      "execution_count": 0,
      "outputs": []
    },
    {
      "cell_type": "code",
      "metadata": {
        "id": "EovwSSgIIk9j",
        "colab_type": "code",
        "colab": {}
      },
      "source": [
        "data = read_text(\"deu.txt\")\n",
        "deu_eng = to_lines(data)\n",
        "deu_eng = array(deu_eng)\n",
        "#mport urllib.request as urllib2\n",
        "\n",
        "#data = urllib2.urlopen('https://raw.githubusercontent.com/Apress/applied-natural-language-processing-w-python/master/data_etc/deu.txt')\n",
        "\n"
      ],
      "execution_count": 0,
      "outputs": []
    },
    {
      "cell_type": "markdown",
      "metadata": {
        "id": "znjHR9p0JNz5",
        "colab_type": "text"
      },
      "source": [
        "deu_eng = deu_eng[:50000,:]\n"
      ]
    },
    {
      "cell_type": "code",
      "metadata": {
        "id": "-MMdTMhlJNAF",
        "colab_type": "code",
        "outputId": "d0ba8e6c-a149-44ab-a992-fdb844f5f38e",
        "colab": {
          "base_uri": "https://localhost:8080/",
          "height": 35
        }
      },
      "source": [
        "data[0]"
      ],
      "execution_count": 5,
      "outputs": [
        {
          "output_type": "execute_result",
          "data": {
            "text/plain": [
              "'H'"
            ]
          },
          "metadata": {
            "tags": []
          },
          "execution_count": 5
        }
      ]
    },
    {
      "cell_type": "code",
      "metadata": {
        "id": "JD33znyLJp3t",
        "colab_type": "code",
        "colab": {}
      },
      "source": [
        ""
      ],
      "execution_count": 0,
      "outputs": []
    },
    {
      "cell_type": "code",
      "metadata": {
        "id": "AOtrMyWOJmJl",
        "colab_type": "code",
        "colab": {}
      },
      "source": [
        "# Remove punctuation\n",
        "deu_eng[:,0] = [s.translate(str.maketrans('', '', string.punctuation)) for s in deu_eng[:,0]]\n",
        "deu_eng[:,1] = [s.translate(str.maketrans('', '', string.punctuation)) for s in deu_eng[:,1]]\n",
        "\n",
        "deu_eng=deu_eng[0:1000,:]"
      ],
      "execution_count": 0,
      "outputs": []
    },
    {
      "cell_type": "code",
      "metadata": {
        "id": "vks2ms25OArm",
        "colab_type": "code",
        "colab": {}
      },
      "source": [
        "# empty lists\n",
        "eng_l = []\n",
        "deu_l = []\n",
        "\n",
        "# populate the lists with sentence lengths\n",
        "for i in deu_eng[:,0]:\n",
        "      eng_l.append(len(i.split()))\n",
        "\n",
        "for i in deu_eng[:,1]:\n",
        "      deu_l.append(len(i.split()))\n",
        "\n",
        "length_df = pd.DataFrame({'eng':eng_l, 'deu':deu_l})\n",
        "\n",
        "\n"
      ],
      "execution_count": 0,
      "outputs": []
    },
    {
      "cell_type": "code",
      "metadata": {
        "id": "HU4MmkyzONVU",
        "colab_type": "code",
        "outputId": "d51ca6dc-0dca-4930-91ae-ad90ac8d5f8a",
        "colab": {
          "base_uri": "https://localhost:8080/",
          "height": 281
        }
      },
      "source": [
        "length_df.hist(bins = 30)\n",
        "plt.show()"
      ],
      "execution_count": 24,
      "outputs": [
        {
          "output_type": "display_data",
          "data": {
            "image/png": "[encoded data removed]",
            "text/plain": [
              "<Figure size 432x288 with 2 Axes>"
            ]
          },
          "metadata": {
            "tags": []
          }
        }
      ]
    },
    {
      "cell_type": "code",
      "metadata": {
        "id": "ARZ90ZFVOQG8",
        "colab_type": "code",
        "colab": {}
      },
      "source": [
        "# function to build a tokenizer\n",
        "def tokenization(lines):\n",
        "      tokenizer = Tokenizer()\n",
        "      tokenizer.fit_on_texts(lines)\n",
        "      return tokenizer"
      ],
      "execution_count": 0,
      "outputs": []
    },
    {
      "cell_type": "code",
      "metadata": {
        "id": "Yyz7RNDHOSze",
        "colab_type": "code",
        "outputId": "162c7bc5-0cac-4074-ebd8-93c265b31ff9",
        "colab": {
          "base_uri": "https://localhost:8080/",
          "height": 35
        }
      },
      "source": [
        "# prepare english tokenizer\n",
        "eng_tokenizer = tokenization(deu_eng[:, 0])\n",
        "eng_vocab_size = len(eng_tokenizer.word_index) + 1\n",
        "\n",
        "eng_length = 8\n",
        "print('English Vocabulary Size: %d' % eng_vocab_size)"
      ],
      "execution_count": 26,
      "outputs": [
        {
          "output_type": "stream",
          "text": [
            "English Vocabulary Size: 381\n"
          ],
          "name": "stdout"
        }
      ]
    },
    {
      "cell_type": "code",
      "metadata": {
        "id": "COPesm56Oge4",
        "colab_type": "code",
        "outputId": "09a65001-13ff-4c4b-e2b6-4501c62df74a",
        "colab": {
          "base_uri": "https://localhost:8080/",
          "height": 35
        }
      },
      "source": [
        "# prepare Deutch tokenizer\n",
        "deu_tokenizer = tokenization(deu_eng[:, 1])\n",
        "deu_vocab_size = len(deu_tokenizer.word_index) + 1\n",
        "\n",
        "deu_length = 8\n",
        "print('Deutch Vocabulary Size: %d' % deu_vocab_size)\n"
      ],
      "execution_count": 27,
      "outputs": [
        {
          "output_type": "stream",
          "text": [
            "Deutch Vocabulary Size: 689\n"
          ],
          "name": "stdout"
        }
      ]
    },
    {
      "cell_type": "code",
      "metadata": {
        "id": "atwmdWuVOqks",
        "colab_type": "code",
        "colab": {}
      },
      "source": [
        "# encode and pad sequences\n",
        "def encode_sequences(tokenizer, length, lines):\n",
        "         # integer encode sequences\n",
        "         seq = tokenizer.texts_to_sequences(lines)\n",
        "         # pad sequences with 0 values\n",
        "         seq = pad_sequences(seq, maxlen=length, padding='post')\n",
        "         return seq"
      ],
      "execution_count": 0,
      "outputs": []
    },
    {
      "cell_type": "code",
      "metadata": {
        "id": "4xW66yhpOrt4",
        "colab_type": "code",
        "colab": {}
      },
      "source": [
        "from sklearn.model_selection import train_test_split\n",
        "\n",
        "# split data into train and test set\n",
        "train, test = train_test_split(deu_eng, test_size=0.2, random_state = 12)"
      ],
      "execution_count": 0,
      "outputs": []
    },
    {
      "cell_type": "code",
      "metadata": {
        "id": "mtRnbTHXO2wp",
        "colab_type": "code",
        "colab": {}
      },
      "source": [
        "# prepare training data\n",
        "trainX = encode_sequences(deu_tokenizer, deu_length, train[:, 1])\n",
        "trainY = encode_sequences(eng_tokenizer, eng_length, train[:, 0])\n",
        "\n",
        "# prepare validation data\n",
        "testX = encode_sequences(deu_tokenizer, deu_length, test[:, 1])\n",
        "testY = encode_sequences(eng_tokenizer, eng_length, test[:, 0])"
      ],
      "execution_count": 0,
      "outputs": []
    },
    {
      "cell_type": "code",
      "metadata": {
        "id": "okENg3RqO9xY",
        "colab_type": "code",
        "colab": {}
      },
      "source": [
        "import keras\n",
        "from keras.models import Sequential\n",
        "from keras.layers import Embedding, LSTM, RepeatVector, Dense\n",
        "\n",
        "# build NMT model\n",
        "def define_model(in_vocab,out_vocab, in_timesteps,out_timesteps,units):\n",
        "      model = Sequential()\n",
        "      model.add(Embedding(in_vocab, units, input_length=in_timesteps, mask_zero=True))\n",
        "      model.add(LSTM(units))\n",
        "      model.add(RepeatVector(out_timesteps))\n",
        "      model.add(LSTM(units, return_sequences=True))\n",
        "      model.add(Dense(out_vocab, activation='softmax'))\n",
        "      return model"
      ],
      "execution_count": 0,
      "outputs": []
    },
    {
      "cell_type": "code",
      "metadata": {
        "id": "oMzBz4CaPw8P",
        "colab_type": "code",
        "colab": {}
      },
      "source": [
        "# model compilation\n",
        "model = define_model(deu_vocab_size, eng_vocab_size, deu_length, eng_length, 512)"
      ],
      "execution_count": 0,
      "outputs": []
    },
    {
      "cell_type": "code",
      "metadata": {
        "id": "HKcsY1jRP0Ve",
        "colab_type": "code",
        "colab": {}
      },
      "source": [
        "rms = optimizers.RMSprop(lr=0.001)\n",
        "model.compile(optimizer=rms, loss='sparse_categorical_crossentropy')"
      ],
      "execution_count": 0,
      "outputs": []
    },
    {
      "cell_type": "code",
      "metadata": {
        "id": "WboEG9PmP5L1",
        "colab_type": "code",
        "outputId": "a27d3246-356f-442a-d8b3-e19a440a7084",
        "colab": {
          "base_uri": "https://localhost:8080/",
          "height": 2215
        }
      },
      "source": [
        "filename = 'model.h1.24_jan_19'\n",
        "checkpoint = ModelCheckpoint(filename, monitor='val_loss', verbose=1, save_best_only=True, mode='min')\n",
        "\n",
        "# train model\n",
        "history = model.fit(trainX, trainY.reshape(trainY.shape[0], trainY.shape[1], 1),\n",
        "                    epochs=30, batch_size=512, validation_split = 0.2,callbacks=[checkpoint], \n",
        "                    verbose=1)"
      ],
      "execution_count": 34,
      "outputs": [
        {
          "output_type": "stream",
          "text": [
            "Train on 640 samples, validate on 160 samples\n",
            "Epoch 1/30\n",
            "640/640 [==============================] - 6s 9ms/step - loss: 5.9223 - val_loss: 4.5695\n",
            "\n",
            "Epoch 00001: val_loss improved from inf to 4.56953, saving model to model.h1.24_jan_19\n",
            "Epoch 2/30\n",
            "640/640 [==============================] - 3s 5ms/step - loss: 3.9623 - val_loss: 2.0218\n",
            "\n",
            "Epoch 00002: val_loss improved from 4.56953 to 2.02175, saving model to model.h1.24_jan_19\n",
            "Epoch 3/30\n",
            "640/640 [==============================] - 4s 6ms/step - loss: 1.8855 - val_loss: 1.8642\n",
            "\n",
            "Epoch 00003: val_loss improved from 2.02175 to 1.86421, saving model to model.h1.24_jan_19\n",
            "Epoch 4/30\n",
            "640/640 [==============================] - 4s 6ms/step - loss: 1.7459 - val_loss: 1.7897\n",
            "\n",
            "Epoch 00004: val_loss improved from 1.86421 to 1.78970, saving model to model.h1.24_jan_19\n",
            "Epoch 5/30\n",
            "640/640 [==============================] - 4s 6ms/step - loss: 1.6600 - val_loss: 1.7386\n",
            "\n",
            "Epoch 00005: val_loss improved from 1.78970 to 1.73857, saving model to model.h1.24_jan_19\n",
            "Epoch 6/30\n",
            "640/640 [==============================] - 4s 6ms/step - loss: 1.6047 - val_loss: 1.7154\n",
            "\n",
            "Epoch 00006: val_loss improved from 1.73857 to 1.71544, saving model to model.h1.24_jan_19\n",
            "Epoch 7/30\n",
            "640/640 [==============================] - 4s 6ms/step - loss: 1.5753 - val_loss: 1.6898\n",
            "\n",
            "Epoch 00007: val_loss improved from 1.71544 to 1.68978, saving model to model.h1.24_jan_19\n",
            "Epoch 8/30\n",
            "640/640 [==============================] - 4s 6ms/step - loss: 1.5441 - val_loss: 1.6793\n",
            "\n",
            "Epoch 00008: val_loss improved from 1.68978 to 1.67935, saving model to model.h1.24_jan_19\n",
            "Epoch 9/30\n",
            "640/640 [==============================] - 4s 6ms/step - loss: 1.5429 - val_loss: 1.6924\n",
            "\n",
            "Epoch 00009: val_loss did not improve from 1.67935\n",
            "Epoch 10/30\n",
            "640/640 [==============================] - 4s 5ms/step - loss: 1.5306 - val_loss: 1.6771\n",
            "\n",
            "Epoch 00010: val_loss improved from 1.67935 to 1.67707, saving model to model.h1.24_jan_19\n",
            "Epoch 11/30\n",
            "640/640 [==============================] - 4s 6ms/step - loss: 1.5137 - val_loss: 1.6640\n",
            "\n",
            "Epoch 00011: val_loss improved from 1.67707 to 1.66403, saving model to model.h1.24_jan_19\n",
            "Epoch 12/30\n",
            "640/640 [==============================] - 4s 6ms/step - loss: 1.4926 - val_loss: 1.6458\n",
            "\n",
            "Epoch 00012: val_loss improved from 1.66403 to 1.64582, saving model to model.h1.24_jan_19\n",
            "Epoch 13/30\n",
            "640/640 [==============================] - 4s 6ms/step - loss: 1.4710 - val_loss: 1.6366\n",
            "\n",
            "Epoch 00013: val_loss improved from 1.64582 to 1.63662, saving model to model.h1.24_jan_19\n",
            "Epoch 14/30\n",
            "640/640 [==============================] - 4s 6ms/step - loss: 1.4554 - val_loss: 1.6279\n",
            "\n",
            "Epoch 00014: val_loss improved from 1.63662 to 1.62790, saving model to model.h1.24_jan_19\n",
            "Epoch 15/30\n",
            "640/640 [==============================] - 4s 5ms/step - loss: 1.4490 - val_loss: 1.6487\n",
            "\n",
            "Epoch 00015: val_loss did not improve from 1.62790\n",
            "Epoch 16/30\n",
            "640/640 [==============================] - 4s 6ms/step - loss: 1.4517 - val_loss: 1.6414\n",
            "\n",
            "Epoch 00016: val_loss did not improve from 1.62790\n",
            "Epoch 17/30\n",
            "640/640 [==============================] - 4s 5ms/step - loss: 1.4448 - val_loss: 1.6125\n",
            "\n",
            "Epoch 00017: val_loss improved from 1.62790 to 1.61246, saving model to model.h1.24_jan_19\n",
            "Epoch 18/30\n",
            "640/640 [==============================] - 4s 6ms/step - loss: 1.4043 - val_loss: 1.5901\n",
            "\n",
            "Epoch 00018: val_loss improved from 1.61246 to 1.59014, saving model to model.h1.24_jan_19\n",
            "Epoch 19/30\n",
            "640/640 [==============================] - 4s 5ms/step - loss: 1.3843 - val_loss: 1.6047\n",
            "\n",
            "Epoch 00019: val_loss did not improve from 1.59014\n",
            "Epoch 20/30\n",
            "640/640 [==============================] - 4s 6ms/step - loss: 1.3968 - val_loss: 1.5656\n",
            "\n",
            "Epoch 00020: val_loss improved from 1.59014 to 1.56559, saving model to model.h1.24_jan_19\n",
            "Epoch 21/30\n",
            "640/640 [==============================] - 4s 6ms/step - loss: 1.3421 - val_loss: 1.5348\n",
            "\n",
            "Epoch 00021: val_loss improved from 1.56559 to 1.53476, saving model to model.h1.24_jan_19\n",
            "Epoch 22/30\n",
            "640/640 [==============================] - 4s 6ms/step - loss: 1.3133 - val_loss: 1.5380\n",
            "\n",
            "Epoch 00022: val_loss did not improve from 1.53476\n",
            "Epoch 23/30\n",
            "640/640 [==============================] - 3s 5ms/step - loss: 1.3080 - val_loss: 1.5227\n",
            "\n",
            "Epoch 00023: val_loss improved from 1.53476 to 1.52268, saving model to model.h1.24_jan_19\n",
            "Epoch 24/30\n",
            "640/640 [==============================] - 4s 6ms/step - loss: 1.2835 - val_loss: 1.5327\n",
            "\n",
            "Epoch 00024: val_loss did not improve from 1.52268\n",
            "Epoch 25/30\n",
            "640/640 [==============================] - 4s 6ms/step - loss: 1.2952 - val_loss: 1.5178\n",
            "\n",
            "Epoch 00025: val_loss improved from 1.52268 to 1.51782, saving model to model.h1.24_jan_19\n",
            "Epoch 26/30\n",
            "640/640 [==============================] - 4s 6ms/step - loss: 1.2606 - val_loss: 1.5019\n",
            "\n",
            "Epoch 00026: val_loss improved from 1.51782 to 1.50195, saving model to model.h1.24_jan_19\n",
            "Epoch 27/30\n",
            "640/640 [==============================] - 4s 6ms/step - loss: 1.2455 - val_loss: 1.5405\n",
            "\n",
            "Epoch 00027: val_loss did not improve from 1.50195\n",
            "Epoch 28/30\n",
            "640/640 [==============================] - 4s 5ms/step - loss: 1.2461 - val_loss: 1.4703\n",
            "\n",
            "Epoch 00028: val_loss improved from 1.50195 to 1.47031, saving model to model.h1.24_jan_19\n",
            "Epoch 29/30\n",
            "640/640 [==============================] - 4s 6ms/step - loss: 1.2033 - val_loss: 1.4648\n",
            "\n",
            "Epoch 00029: val_loss improved from 1.47031 to 1.46475, saving model to model.h1.24_jan_19\n",
            "Epoch 30/30\n",
            "640/640 [==============================] - 4s 6ms/step - loss: 1.1829 - val_loss: 1.4880\n",
            "\n",
            "Epoch 00030: val_loss did not improve from 1.46475\n"
          ],
          "name": "stdout"
        }
      ]
    },
    {
      "cell_type": "code",
      "metadata": {
        "id": "TMUasvLrP9Bp",
        "colab_type": "code",
        "colab": {
          "base_uri": "https://localhost:8080/",
          "height": 269
        },
        "outputId": "c6ffe248-1189-4ed1-965e-671528bbd443"
      },
      "source": [
        "plt.plot(history.history['loss'])\n",
        "plt.plot(history.history['val_loss'])\n",
        "plt.legend(['train','validation'])\n",
        "plt.show()\n"
      ],
      "execution_count": 35,
      "outputs": [
        {
          "output_type": "display_data",
          "data": {
            "image/png": "[encoded data removed]",
            "text/plain": [
              "<Figure size 432x288 with 1 Axes>"
            ]
          },
          "metadata": {
            "tags": []
          }
        }
      ]
    },
    {
      "cell_type": "code",
      "metadata": {
        "id": "fLGYX_UgQH0T",
        "colab_type": "code",
        "colab": {}
      },
      "source": [
        "model = load_model('model.h1.24_jan_19')\n",
        "preds = model.predict_classes(testX.reshape((testX.shape[0],testX.shape[1])))"
      ],
      "execution_count": 0,
      "outputs": []
    },
    {
      "cell_type": "code",
      "metadata": {
        "id": "UYWfGSqoQMLA",
        "colab_type": "code",
        "colab": {}
      },
      "source": [
        "def get_word(n, tokenizer):\n",
        "      for word, index in tokenizer.word_index.items():\n",
        "          if index == n:\n",
        "              return word\n",
        "      return None"
      ],
      "execution_count": 0,
      "outputs": []
    },
    {
      "cell_type": "code",
      "metadata": {
        "id": "YCMTd0NoQMji",
        "colab_type": "code",
        "colab": {}
      },
      "source": [
        "preds_text = []\n",
        "for i in preds:\n",
        "       temp = []\n",
        "       for j in range(len(i)):\n",
        "            t = get_word(i[j], eng_tokenizer)\n",
        "            if j > 0:\n",
        "                if (t == get_word(i[j-1], eng_tokenizer)) or (t == None):\n",
        "                     temp.append('')\n",
        "                else:\n",
        "                     temp.append(t)\n",
        "            else:\n",
        "                   if(t == None):\n",
        "                          temp.append('')\n",
        "                   else:\n",
        "                          temp.append(t) \n",
        "\n",
        "       preds_text.append(' '.join(temp))"
      ],
      "execution_count": 0,
      "outputs": []
    },
    {
      "cell_type": "code",
      "metadata": {
        "id": "gySU0ko6QP9F",
        "colab_type": "code",
        "colab": {
          "base_uri": "https://localhost:8080/",
          "height": 520
        },
        "outputId": "1b894da6-d9ec-4ad4-fc2a-01d6c02d7ca3"
      },
      "source": [
        "pred_df = pd.DataFrame({'actual' : test[:,0], 'predicted' : preds_text})\n",
        "# print 15 rows randomly\n",
        "pred_df.sample(15)"
      ],
      "execution_count": 39,
      "outputs": [
        {
          "output_type": "execute_result",
          "data": {
            "text/html": [
              "<div>\n",
              "<style scoped>\n",
              "    .dataframe tbody tr th:only-of-type {\n",
              "        vertical-align: middle;\n",
              "    }\n",
              "\n",
              "    .dataframe tbody tr th {\n",
              "        vertical-align: top;\n",
              "    }\n",
              "\n",
              "    .dataframe thead th {\n",
              "        text-align: right;\n",
              "    }\n",
              "</style>\n",
              "<table border=\"1\" class=\"dataframe\">\n",
              "  <thead>\n",
              "    <tr style=\"text-align: right;\">\n",
              "      <th></th>\n",
              "      <th>actual</th>\n",
              "      <th>predicted</th>\n",
              "    </tr>\n",
              "  </thead>\n",
              "  <tbody>\n",
              "    <tr>\n",
              "      <th>64</th>\n",
              "      <td>Come again</td>\n",
              "      <td>get</td>\n",
              "    </tr>\n",
              "    <tr>\n",
              "      <th>20</th>\n",
              "      <td>He is here</td>\n",
              "      <td>i it</td>\n",
              "    </tr>\n",
              "    <tr>\n",
              "      <th>158</th>\n",
              "      <td>Go to bed</td>\n",
              "      <td>i</td>\n",
              "    </tr>\n",
              "    <tr>\n",
              "      <th>48</th>\n",
              "      <td>Try it</td>\n",
              "      <td>go</td>\n",
              "    </tr>\n",
              "    <tr>\n",
              "      <th>121</th>\n",
              "      <td>Beat it</td>\n",
              "      <td>get away</td>\n",
              "    </tr>\n",
              "    <tr>\n",
              "      <th>134</th>\n",
              "      <td>You run</td>\n",
              "      <td>get</td>\n",
              "    </tr>\n",
              "    <tr>\n",
              "      <th>118</th>\n",
              "      <td>Get away</td>\n",
              "      <td>get</td>\n",
              "    </tr>\n",
              "    <tr>\n",
              "      <th>133</th>\n",
              "      <td>I found it</td>\n",
              "      <td>i</td>\n",
              "    </tr>\n",
              "    <tr>\n",
              "      <th>147</th>\n",
              "      <td>I am sure</td>\n",
              "      <td>i it</td>\n",
              "    </tr>\n",
              "    <tr>\n",
              "      <th>11</th>\n",
              "      <td>Tom lies</td>\n",
              "      <td>tom</td>\n",
              "    </tr>\n",
              "    <tr>\n",
              "      <th>171</th>\n",
              "      <td>I see</td>\n",
              "      <td>i</td>\n",
              "    </tr>\n",
              "    <tr>\n",
              "      <th>49</th>\n",
              "      <td>I am right</td>\n",
              "      <td>i am</td>\n",
              "    </tr>\n",
              "    <tr>\n",
              "      <th>33</th>\n",
              "      <td>Im tall</td>\n",
              "      <td>i am</td>\n",
              "    </tr>\n",
              "    <tr>\n",
              "      <th>12</th>\n",
              "      <td>I am busy</td>\n",
              "      <td>i it</td>\n",
              "    </tr>\n",
              "    <tr>\n",
              "      <th>4</th>\n",
              "      <td>Keep out</td>\n",
              "      <td>i am</td>\n",
              "    </tr>\n",
              "  </tbody>\n",
              "</table>\n",
              "</div>"
            ],
            "text/plain": [
              "         actual       predicted\n",
              "64   Come again      get       \n",
              "20   He is here      i it      \n",
              "158   Go to bed        i       \n",
              "48       Try it       go       \n",
              "121     Beat it  get away      \n",
              "134     You run      get       \n",
              "118    Get away      get       \n",
              "133  I found it        i       \n",
              "147   I am sure      i it      \n",
              "11     Tom lies      tom       \n",
              "171       I see        i       \n",
              "49   I am right      i am      \n",
              "33      Im tall      i am      \n",
              "12    I am busy      i it      \n",
              "4      Keep out      i am      "
            ]
          },
          "metadata": {
            "tags": []
          },
          "execution_count": 39
        }
      ]
    },
    {
      "cell_type": "markdown",
      "metadata": {
        "id": "qfX7W8a1QF8v",
        "colab_type": "text"
      },
      "source": [
        "model = load_model('model.h1.24_jan_19')\n",
        "preds = model.predict_classes(testX.reshape((testX.shape[0],testX.shape[1])))"
      ]
    },
    {
      "cell_type": "markdown",
      "metadata": {
        "id": "O6Zu0ECdIed4",
        "colab_type": "text"
      },
      "source": [
        ""
      ]
    },
    {
      "cell_type": "markdown",
      "metadata": {
        "id": "pU6NBCq-H2Ln",
        "colab_type": "text"
      },
      "source": [
        ""
      ]
    }
  ]
}