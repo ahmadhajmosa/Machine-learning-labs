{
 "cells": [
  {
   "cell_type": "code",
   "execution_count": 1,
   "metadata": {},
   "outputs": [
    {
     "name": "stderr",
     "output_type": "stream",
     "text": [
      "Using TensorFlow backend.\n"
     ]
    }
   ],
   "source": [
    "from keras.datasets import mnist\n",
    "from keras.layers import Input, Dense\n",
    "from keras.models import Model\n",
    "\n",
    "import numpy as np\n",
    "import pandas as pd\n",
    "import matplotlib.pyplot as plt\n",
    "\n",
    "%matplotlib inline"
   ]
  },
  {
   "cell_type": "code",
   "execution_count": 2,
   "metadata": {},
   "outputs": [
    {
     "name": "stdout",
     "output_type": "stream",
     "text": [
      "Downloading data from https://s3.amazonaws.com/img-datasets/mnist.npz\n",
      "11493376/11490434 [==============================] - 2s 0us/step\n",
      "(60000, 784)\n",
      "(10000, 784)\n"
     ]
    }
   ],
   "source": [
    "(X_train, _), (X_test, _) = mnist.load_data()\n",
    "\n",
    "\n",
    "X_train = X_train.astype('float32')/255\n",
    "X_test = X_test.astype('float32')/255\n",
    "\n",
    "X_train = X_train.reshape(len(X_train), np.prod(X_train.shape[1:]))\n",
    "X_test = X_test.reshape(len(X_test), np.prod(X_test.shape[1:]))\n",
    "\n",
    "print(X_train.shape)\n",
    "print(X_test.shape)"
   ]
  },
  {
   "cell_type": "code",
   "execution_count": 3,
   "metadata": {},
   "outputs": [],
   "source": [
    "input_img = Input(shape=(784,))"
   ]
  },
  {
   "cell_type": "code",
   "execution_count": 4,
   "metadata": {},
   "outputs": [
    {
     "name": "stdout",
     "output_type": "stream",
     "text": [
      "WARNING:tensorflow:From C:\\Users\\Stefano Probst\\.conda\\envs\\machine-learning-lab\\lib\\site-packages\\tensorflow\\python\\framework\\op_def_library.py:263: colocate_with (from tensorflow.python.framework.ops) is deprecated and will be removed in a future version.\n",
      "Instructions for updating:\n",
      "Colocations handled automatically by placer.\n"
     ]
    }
   ],
   "source": [
    "encoded = Dense(units=32, activation='relu')(input_img)"
   ]
  },
  {
   "cell_type": "code",
   "execution_count": 5,
   "metadata": {},
   "outputs": [],
   "source": [
    "decoded = Dense(units=784, activation='sigmoid')(encoded)"
   ]
  },
  {
   "cell_type": "code",
   "execution_count": 6,
   "metadata": {},
   "outputs": [],
   "source": [
    "autoencoder = Model(input_img, decoded)"
   ]
  },
  {
   "cell_type": "code",
   "execution_count": 7,
   "metadata": {},
   "outputs": [
    {
     "name": "stdout",
     "output_type": "stream",
     "text": [
      "_________________________________________________________________\n",
      "Layer (type)                 Output Shape              Param #   \n",
      "=================================================================\n",
      "input_1 (InputLayer)         (None, 784)               0         \n",
      "_________________________________________________________________\n",
      "dense_1 (Dense)              (None, 32)                25120     \n",
      "_________________________________________________________________\n",
      "dense_2 (Dense)              (None, 784)               25872     \n",
      "=================================================================\n",
      "Total params: 50,992\n",
      "Trainable params: 50,992\n",
      "Non-trainable params: 0\n",
      "_________________________________________________________________\n"
     ]
    }
   ],
   "source": [
    "autoencoder.summary()"
   ]
  },
  {
   "cell_type": "code",
   "execution_count": 8,
   "metadata": {},
   "outputs": [
    {
     "name": "stdout",
     "output_type": "stream",
     "text": [
      "_________________________________________________________________\n",
      "Layer (type)                 Output Shape              Param #   \n",
      "=================================================================\n",
      "input_1 (InputLayer)         (None, 784)               0         \n",
      "_________________________________________________________________\n",
      "dense_1 (Dense)              (None, 32)                25120     \n",
      "=================================================================\n",
      "Total params: 25,120\n",
      "Trainable params: 25,120\n",
      "Non-trainable params: 0\n",
      "_________________________________________________________________\n"
     ]
    }
   ],
   "source": [
    "encoder = Model(input_img, encoded)\n",
    "encoder.summary()"
   ]
  },
  {
   "cell_type": "code",
   "execution_count": 9,
   "metadata": {},
   "outputs": [],
   "source": [
    "autoencoder.compile(optimizer='adadelta', loss='binary_crossentropy', metrics=['accuracy'])"
   ]
  },
  {
   "cell_type": "code",
   "execution_count": 10,
   "metadata": {},
   "outputs": [
    {
     "name": "stdout",
     "output_type": "stream",
     "text": [
      "WARNING:tensorflow:From C:\\Users\\Stefano Probst\\.conda\\envs\\machine-learning-lab\\lib\\site-packages\\tensorflow\\python\\ops\\math_ops.py:3066: to_int32 (from tensorflow.python.ops.math_ops) is deprecated and will be removed in a future version.\n",
      "Instructions for updating:\n",
      "Use tf.cast instead.\n",
      "Train on 60000 samples, validate on 10000 samples\n",
      "Epoch 1/50\n",
      "60000/60000 [==============================] - 5s 81us/step - loss: 0.3541 - acc: 0.7564 - val_loss: 0.2703 - val_acc: 0.7954\n",
      "Epoch 2/50\n",
      "60000/60000 [==============================] - 1s 20us/step - loss: 0.2622 - acc: 0.7975 - val_loss: 0.2501 - val_acc: 0.7963\n",
      "Epoch 3/50\n",
      "60000/60000 [==============================] - 1s 19us/step - loss: 0.2398 - acc: 0.7972 - val_loss: 0.2273 - val_acc: 0.7961\n",
      "Epoch 4/50\n",
      "60000/60000 [==============================] - 1s 19us/step - loss: 0.2196 - acc: 0.7973 - val_loss: 0.2097 - val_acc: 0.7971\n",
      "Epoch 5/50\n",
      "60000/60000 [==============================] - 1s 21us/step - loss: 0.2046 - acc: 0.7984 - val_loss: 0.1970 - val_acc: 0.7989\n",
      "Epoch 6/50\n",
      "60000/60000 [==============================] - 1s 21us/step - loss: 0.1936 - acc: 0.7999 - val_loss: 0.1875 - val_acc: 0.8000\n",
      "Epoch 7/50\n",
      "60000/60000 [==============================] - 1s 20us/step - loss: 0.1851 - acc: 0.8011 - val_loss: 0.1802 - val_acc: 0.8017\n",
      "Epoch 8/50\n",
      "60000/60000 [==============================] - 1s 18us/step - loss: 0.1784 - acc: 0.8022 - val_loss: 0.1740 - val_acc: 0.8021\n",
      "Epoch 9/50\n",
      "60000/60000 [==============================] - 1s 19us/step - loss: 0.1728 - acc: 0.8032 - val_loss: 0.1688 - val_acc: 0.8033\n",
      "Epoch 10/50\n",
      "60000/60000 [==============================] - 1s 19us/step - loss: 0.1678 - acc: 0.8040 - val_loss: 0.1641 - val_acc: 0.8043\n",
      "Epoch 11/50\n",
      "60000/60000 [==============================] - 1s 20us/step - loss: 0.1632 - acc: 0.8049 - val_loss: 0.1596 - val_acc: 0.8047\n",
      "Epoch 12/50\n",
      "60000/60000 [==============================] - 1s 20us/step - loss: 0.1590 - acc: 0.8056 - val_loss: 0.1556 - val_acc: 0.8054\n",
      "Epoch 13/50\n",
      "60000/60000 [==============================] - 1s 20us/step - loss: 0.1551 - acc: 0.8063 - val_loss: 0.1518 - val_acc: 0.8061\n",
      "Epoch 14/50\n",
      "60000/60000 [==============================] - 1s 19us/step - loss: 0.1515 - acc: 0.8069 - val_loss: 0.1483 - val_acc: 0.8068\n",
      "Epoch 15/50\n",
      "60000/60000 [==============================] - 1s 19us/step - loss: 0.1481 - acc: 0.8075 - val_loss: 0.1449 - val_acc: 0.8071\n",
      "Epoch 16/50\n",
      "60000/60000 [==============================] - 1s 20us/step - loss: 0.1449 - acc: 0.8080 - val_loss: 0.1419 - val_acc: 0.8077\n",
      "Epoch 17/50\n",
      "60000/60000 [==============================] - 1s 19us/step - loss: 0.1420 - acc: 0.8085 - val_loss: 0.1390 - val_acc: 0.8081\n",
      "Epoch 18/50\n",
      "60000/60000 [==============================] - 1s 20us/step - loss: 0.1392 - acc: 0.8089 - val_loss: 0.1364 - val_acc: 0.8085\n",
      "Epoch 19/50\n",
      "60000/60000 [==============================] - 1s 20us/step - loss: 0.1367 - acc: 0.8093 - val_loss: 0.1339 - val_acc: 0.8087\n",
      "Epoch 20/50\n",
      "60000/60000 [==============================] - 1s 19us/step - loss: 0.1344 - acc: 0.8096 - val_loss: 0.1316 - val_acc: 0.8089\n",
      "Epoch 21/50\n",
      "60000/60000 [==============================] - 1s 19us/step - loss: 0.1322 - acc: 0.8099 - val_loss: 0.1296 - val_acc: 0.8094\n",
      "Epoch 22/50\n",
      "60000/60000 [==============================] - 1s 20us/step - loss: 0.1302 - acc: 0.8102 - val_loss: 0.1276 - val_acc: 0.8095\n",
      "Epoch 23/50\n",
      "60000/60000 [==============================] - 1s 20us/step - loss: 0.1282 - acc: 0.8105 - val_loss: 0.1257 - val_acc: 0.8098\n",
      "Epoch 24/50\n",
      "60000/60000 [==============================] - 1s 20us/step - loss: 0.1264 - acc: 0.8108 - val_loss: 0.1239 - val_acc: 0.8101\n",
      "Epoch 25/50\n",
      "60000/60000 [==============================] - 1s 21us/step - loss: 0.1246 - acc: 0.8110 - val_loss: 0.1222 - val_acc: 0.8102\n",
      "Epoch 26/50\n",
      "60000/60000 [==============================] - 1s 20us/step - loss: 0.1230 - acc: 0.8112 - val_loss: 0.1206 - val_acc: 0.8106\n",
      "Epoch 27/50\n",
      "60000/60000 [==============================] - 1s 20us/step - loss: 0.1214 - acc: 0.8115 - val_loss: 0.1190 - val_acc: 0.8107\n",
      "Epoch 28/50\n",
      "60000/60000 [==============================] - 1s 20us/step - loss: 0.1199 - acc: 0.8117 - val_loss: 0.1175 - val_acc: 0.8110\n",
      "Epoch 29/50\n",
      "60000/60000 [==============================] - 1s 19us/step - loss: 0.1184 - acc: 0.8118 - val_loss: 0.1162 - val_acc: 0.8112\n",
      "Epoch 30/50\n",
      "60000/60000 [==============================] - 1s 19us/step - loss: 0.1171 - acc: 0.8120 - val_loss: 0.1148 - val_acc: 0.8113\n",
      "Epoch 31/50\n",
      "60000/60000 [==============================] - 1s 20us/step - loss: 0.1158 - acc: 0.8122 - val_loss: 0.1136 - val_acc: 0.8113\n",
      "Epoch 32/50\n",
      "60000/60000 [==============================] - 1s 19us/step - loss: 0.1147 - acc: 0.8123 - val_loss: 0.1125 - val_acc: 0.8116\n",
      "Epoch 33/50\n",
      "60000/60000 [==============================] - 1s 19us/step - loss: 0.1136 - acc: 0.8124 - val_loss: 0.1114 - val_acc: 0.8117\n",
      "Epoch 34/50\n",
      "60000/60000 [==============================] - 1s 19us/step - loss: 0.1125 - acc: 0.8126 - val_loss: 0.1104 - val_acc: 0.8117\n",
      "Epoch 35/50\n",
      "60000/60000 [==============================] - 1s 19us/step - loss: 0.1116 - acc: 0.8127 - val_loss: 0.1095 - val_acc: 0.8118\n",
      "Epoch 36/50\n",
      "60000/60000 [==============================] - 1s 20us/step - loss: 0.1107 - acc: 0.8128 - val_loss: 0.1087 - val_acc: 0.8120\n",
      "Epoch 37/50\n",
      "60000/60000 [==============================] - 1s 21us/step - loss: 0.1099 - acc: 0.8128 - val_loss: 0.1079 - val_acc: 0.8121\n",
      "Epoch 38/50\n",
      "60000/60000 [==============================] - 1s 20us/step - loss: 0.1091 - acc: 0.8129 - val_loss: 0.1071 - val_acc: 0.8121\n",
      "Epoch 39/50\n",
      "60000/60000 [==============================] - 1s 20us/step - loss: 0.1084 - acc: 0.8130 - val_loss: 0.1064 - val_acc: 0.8121\n",
      "Epoch 40/50\n",
      "60000/60000 [==============================] - 1s 23us/step - loss: 0.1077 - acc: 0.8131 - val_loss: 0.1057 - val_acc: 0.8122\n",
      "Epoch 41/50\n",
      "60000/60000 [==============================] - 1s 19us/step - loss: 0.1071 - acc: 0.8131 - val_loss: 0.1051 - val_acc: 0.8123\n",
      "Epoch 42/50\n",
      "60000/60000 [==============================] - 1s 20us/step - loss: 0.1065 - acc: 0.8132 - val_loss: 0.1046 - val_acc: 0.8123\n",
      "Epoch 43/50\n",
      "60000/60000 [==============================] - 1s 18us/step - loss: 0.1059 - acc: 0.8133 - val_loss: 0.1040 - val_acc: 0.8124\n",
      "Epoch 44/50\n",
      "60000/60000 [==============================] - 1s 19us/step - loss: 0.1054 - acc: 0.8133 - val_loss: 0.1035 - val_acc: 0.8125\n",
      "Epoch 45/50\n",
      "60000/60000 [==============================] - 1s 19us/step - loss: 0.1049 - acc: 0.8133 - val_loss: 0.1031 - val_acc: 0.8125\n",
      "Epoch 46/50\n",
      "60000/60000 [==============================] - 1s 20us/step - loss: 0.1045 - acc: 0.8134 - val_loss: 0.1026 - val_acc: 0.8125\n",
      "Epoch 47/50\n",
      "60000/60000 [==============================] - 1s 20us/step - loss: 0.1041 - acc: 0.8134 - val_loss: 0.1023 - val_acc: 0.8125\n",
      "Epoch 48/50\n",
      "60000/60000 [==============================] - 1s 21us/step - loss: 0.1037 - acc: 0.8134 - val_loss: 0.1019 - val_acc: 0.8126\n",
      "Epoch 49/50\n",
      "60000/60000 [==============================] - 1s 20us/step - loss: 0.1034 - acc: 0.8135 - val_loss: 0.1016 - val_acc: 0.8126\n",
      "Epoch 50/50\n",
      "60000/60000 [==============================] - 1s 20us/step - loss: 0.1030 - acc: 0.8135 - val_loss: 0.1012 - val_acc: 0.8126\n"
     ]
    },
    {
     "data": {
      "text/plain": [
       "<keras.callbacks.History at 0x20c3c613320>"
      ]
     },
     "execution_count": 10,
     "metadata": {},
     "output_type": "execute_result"
    }
   ],
   "source": [
    "autoencoder.fit(X_train, X_train,\n",
    "                epochs=50,\n",
    "                batch_size=256,\n",
    "                shuffle=True,\n",
    "                validation_data=(X_test, X_test))"
   ]
  },
  {
   "cell_type": "code",
   "execution_count": 11,
   "metadata": {},
   "outputs": [],
   "source": [
    "encoded_imgs = encoder.predict(X_test)\n",
    "predicted = autoencoder.predict(X_test)"
   ]
  },
  {
   "cell_type": "code",
   "execution_count": 12,
   "metadata": {},
   "outputs": [
    {
     "data": {
      "image/png": "[encoded data removed]",
      "text/plain": [
       "<Figure size 2880x288 with 30 Axes>"
      ]
     },
     "metadata": {
      "needs_background": "light"
     },
     "output_type": "display_data"
    }
   ],
   "source": [
    "plt.figure(figsize=(40, 4))\n",
    "for i in range(10):\n",
    "    # display original\n",
    "    ax = plt.subplot(3, 20, i + 1)\n",
    "    plt.imshow(X_test[i].reshape(28, 28))\n",
    "    plt.gray()\n",
    "    ax.get_xaxis().set_visible(False)\n",
    "    ax.get_yaxis().set_visible(False)\n",
    "    \n",
    "    # display encoded image\n",
    "    ax = plt.subplot(3, 20, i + 1 + 20)\n",
    "    plt.imshow(encoded_imgs[i].reshape(8,4))\n",
    "    plt.gray()\n",
    "    ax.get_xaxis().set_visible(False)\n",
    "    ax.get_yaxis().set_visible(False)\n",
    "\n",
    "    # display reconstruction\n",
    "    ax = plt.subplot(3, 20, 2*20 +i+ 1)\n",
    "    plt.imshow(predicted[i].reshape(28, 28))\n",
    "    plt.gray()\n",
    "    ax.get_xaxis().set_visible(False)\n",
    "    ax.get_yaxis().set_visible(False)\n",
    "\n",
    "plt.show()"
   ]
  },
  {
   "cell_type": "code",
   "execution_count": null,
   "metadata": {},
   "outputs": [],
   "source": []
  }
 ],
 "metadata": {
  "kernelspec": {
   "display_name": "Python 3",
   "language": "python",
   "name": "python3"
  },
  "language_info": {
   "codemirror_mode": {
    "name": "ipython",
    "version": 3
   },
   "file_extension": ".py",
   "mimetype": "text/x-python",
   "name": "python",
   "nbconvert_exporter": "python",
   "pygments_lexer": "ipython3",
   "version": "3.7.3"
  }
 },
 "nbformat": 4,
 "nbformat_minor": 2
}
