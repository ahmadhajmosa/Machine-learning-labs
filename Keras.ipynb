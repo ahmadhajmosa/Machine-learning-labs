{
  "nbformat": 4,
  "nbformat_minor": 0,
  "metadata": {
    "colab": {
      "name": " Session 3 kras.ipynb",
      "version": "0.3.2",
      "provenance": [],
      "collapsed_sections": [],
      "toc_visible": true,
      "include_colab_link": true
    },
    "kernelspec": {
      "name": "python3",
      "display_name": "Python 3"
    },
    "accelerator": "GPU"
  },
  "cells": [
    {
      "cell_type": "markdown",
      "metadata": {
        "id": "view-in-github",
        "colab_type": "text"
      },
      "source": [
        "<a href=\"https://colab.research.google.com/github/ahmadhajmosa/Machine-learning-labs/blob/daurmax/Keras.ipynb\" target=\"_parent\"><img src=\"https://colab.research.google.com/assets/colab-badge.svg\" alt=\"Open In Colab\"/></a>"
      ]
    },
    {
      "cell_type": "markdown",
      "metadata": {
        "id": "rmSUExzC-ZBV",
        "colab_type": "text"
      },
      "source": [
        ""
      ]
    },
    {
      "cell_type": "markdown",
      "metadata": {
        "id": "wgWZldyi-Zef",
        "colab_type": "text"
      },
      "source": [
        "# Lab on Machine Learning and Applications in Intelligent Vehicles\n",
        "## Session 3: Keras\n",
        "\n",
        "### * Intro into Keras\n",
        "\n",
        "### * CNN using Keras\n",
        "\n",
        "### * LSTM using Keras\n",
        "\n",
        "### * Variational Auto encoder using Keras\n",
        "\n",
        "### * Seq2Seq Model with keras\n"
      ]
    },
    {
      "cell_type": "code",
      "metadata": {
        "id": "RATpvLPSMpeA",
        "colab_type": "code",
        "colab": {
          "base_uri": "https://localhost:8080/",
          "height": 930
        },
        "outputId": "e8f306bb-f686-4639-9de2-327dbf685bda"
      },
      "source": [
        "import keras\n",
        "from keras.models import Sequential\n",
        "from keras.layers import Dense, Dropout\n",
        "\n",
        "model = Sequential()\n",
        "model.add(Dense(32, input_shape=(16,),name=\"input_layer\"))\n",
        "model.add(Dense(100, activation=\"relu\",name=\"hidden_layer_1\"))\n",
        "model.add(Dropout(0.1))\n",
        "\n",
        "model.add(Dense(200, activation=\"sigmoid\",name=\"hidden_layer_2\"))\n",
        "model.add(Dropout(0.1))\n",
        "model.add(Dense(30,name=\"hidden_layer_3\"))\n",
        "model.add(Dense(100,name=\"hidden_layer_4\"))\n",
        "\n",
        "# now the model will take as input array\n",
        "#\n",
        "\n",
        "#\n",
        "#\n",
        "model.add(Dense(32,name=\"output_layer\"))\n",
        "\n",
        "#\n",
        "from IPython.display import SVG\n",
        "from keras.utils.vis_utils import model_to_dot\n",
        "\n",
        "SVG(model_to_dot(model).create(prog='dot',format='svg'))"
      ],
      "execution_count": 9,
      "outputs": [
        {
          "output_type": "stream",
          "text": [
            "WARNING:tensorflow:From /usr/local/lib/python3.6/dist-packages/keras/backend/tensorflow_backend.py:3445: calling dropout (from tensorflow.python.ops.nn_ops) with keep_prob is deprecated and will be removed in a future version.\n",
            "Instructions for updating:\n",
            "Please use `rate` instead of `keep_prob`. Rate should be set to `rate = 1 - keep_prob`.\n"
          ],
          "name": "stdout"
        },
        {
          "output_type": "execute_result",
          "data": {
            "text/plain": [
              "<IPython.core.display.SVG object>"
            ],
            "image/svg+xml": "<svg height=\"629pt\" viewBox=\"0.00 0.00 157.00 629.00\" width=\"157pt\" xmlns=\"http://www.w3.org/2000/svg\" xmlns:xlink=\"http://www.w3.org/1999/xlink\">\n<g class=\"graph\" id=\"graph0\" transform=\"scale(1 1) rotate(0) translate(4 625)\">\n<title>G</title>\n<polygon fill=\"#ffffff\" points=\"-4,4 -4,-625 153,-625 153,4 -4,4\" stroke=\"transparent\"/>\n<!-- 140276088597248 -->\n<g class=\"node\" id=\"node1\">\n<title>140276088597248</title>\n<polygon fill=\"none\" points=\"12,-511.5 12,-547.5 137,-547.5 137,-511.5 12,-511.5\" stroke=\"#000000\"/>\n<text fill=\"#000000\" font-family=\"Times,serif\" font-size=\"14.00\" text-anchor=\"middle\" x=\"74.5\" y=\"-525.8\">input_layer: Dense</text>\n</g>\n<!-- 140276088597864 -->\n<g class=\"node\" id=\"node2\">\n<title>140276088597864</title>\n<polygon fill=\"none\" points=\"0,-438.5 0,-474.5 149,-474.5 149,-438.5 0,-438.5\" stroke=\"#000000\"/>\n<text fill=\"#000000\" font-family=\"Times,serif\" font-size=\"14.00\" text-anchor=\"middle\" x=\"74.5\" y=\"-452.8\">hidden_layer_1: Dense</text>\n</g>\n<!-- 140276088597248&#45;&gt;140276088597864 -->\n<g class=\"edge\" id=\"edge2\">\n<title>140276088597248-&gt;140276088597864</title>\n<path d=\"M74.5,-511.4551C74.5,-503.3828 74.5,-493.6764 74.5,-484.6817\" fill=\"none\" stroke=\"#000000\"/>\n<polygon fill=\"#000000\" points=\"78.0001,-484.5903 74.5,-474.5904 71.0001,-484.5904 78.0001,-484.5903\" stroke=\"#000000\"/>\n</g>\n<!-- 140276088596688 -->\n<g class=\"node\" id=\"node3\">\n<title>140276088596688</title>\n<polygon fill=\"none\" points=\"7.5,-365.5 7.5,-401.5 141.5,-401.5 141.5,-365.5 7.5,-365.5\" stroke=\"#000000\"/>\n<text fill=\"#000000\" font-family=\"Times,serif\" font-size=\"14.00\" text-anchor=\"middle\" x=\"74.5\" y=\"-379.8\">dropout_1: Dropout</text>\n</g>\n<!-- 140276088597864&#45;&gt;140276088596688 -->\n<g class=\"edge\" id=\"edge3\">\n<title>140276088597864-&gt;140276088596688</title>\n<path d=\"M74.5,-438.4551C74.5,-430.3828 74.5,-420.6764 74.5,-411.6817\" fill=\"none\" stroke=\"#000000\"/>\n<polygon fill=\"#000000\" points=\"78.0001,-411.5903 74.5,-401.5904 71.0001,-411.5904 78.0001,-411.5903\" stroke=\"#000000\"/>\n</g>\n<!-- 140276088658072 -->\n<g class=\"node\" id=\"node4\">\n<title>140276088658072</title>\n<polygon fill=\"none\" points=\"0,-292.5 0,-328.5 149,-328.5 149,-292.5 0,-292.5\" stroke=\"#000000\"/>\n<text fill=\"#000000\" font-family=\"Times,serif\" font-size=\"14.00\" text-anchor=\"middle\" x=\"74.5\" y=\"-306.8\">hidden_layer_2: Dense</text>\n</g>\n<!-- 140276088596688&#45;&gt;140276088658072 -->\n<g class=\"edge\" id=\"edge4\">\n<title>140276088596688-&gt;140276088658072</title>\n<path d=\"M74.5,-365.4551C74.5,-357.3828 74.5,-347.6764 74.5,-338.6817\" fill=\"none\" stroke=\"#000000\"/>\n<polygon fill=\"#000000\" points=\"78.0001,-338.5903 74.5,-328.5904 71.0001,-338.5904 78.0001,-338.5903\" stroke=\"#000000\"/>\n</g>\n<!-- 140276088656000 -->\n<g class=\"node\" id=\"node5\">\n<title>140276088656000</title>\n<polygon fill=\"none\" points=\"7.5,-219.5 7.5,-255.5 141.5,-255.5 141.5,-219.5 7.5,-219.5\" stroke=\"#000000\"/>\n<text fill=\"#000000\" font-family=\"Times,serif\" font-size=\"14.00\" text-anchor=\"middle\" x=\"74.5\" y=\"-233.8\">dropout_2: Dropout</text>\n</g>\n<!-- 140276088658072&#45;&gt;140276088656000 -->\n<g class=\"edge\" id=\"edge5\">\n<title>140276088658072-&gt;140276088656000</title>\n<path d=\"M74.5,-292.4551C74.5,-284.3828 74.5,-274.6764 74.5,-265.6817\" fill=\"none\" stroke=\"#000000\"/>\n<polygon fill=\"#000000\" points=\"78.0001,-265.5903 74.5,-255.5904 71.0001,-265.5904 78.0001,-265.5903\" stroke=\"#000000\"/>\n</g>\n<!-- 140277668465576 -->\n<g class=\"node\" id=\"node6\">\n<title>140277668465576</title>\n<polygon fill=\"none\" points=\"0,-146.5 0,-182.5 149,-182.5 149,-146.5 0,-146.5\" stroke=\"#000000\"/>\n<text fill=\"#000000\" font-family=\"Times,serif\" font-size=\"14.00\" text-anchor=\"middle\" x=\"74.5\" y=\"-160.8\">hidden_layer_3: Dense</text>\n</g>\n<!-- 140276088656000&#45;&gt;140277668465576 -->\n<g class=\"edge\" id=\"edge6\">\n<title>140276088656000-&gt;140277668465576</title>\n<path d=\"M74.5,-219.4551C74.5,-211.3828 74.5,-201.6764 74.5,-192.6817\" fill=\"none\" stroke=\"#000000\"/>\n<polygon fill=\"#000000\" points=\"78.0001,-192.5903 74.5,-182.5904 71.0001,-192.5904 78.0001,-192.5903\" stroke=\"#000000\"/>\n</g>\n<!-- 140276088571496 -->\n<g class=\"node\" id=\"node7\">\n<title>140276088571496</title>\n<polygon fill=\"none\" points=\"0,-73.5 0,-109.5 149,-109.5 149,-73.5 0,-73.5\" stroke=\"#000000\"/>\n<text fill=\"#000000\" font-family=\"Times,serif\" font-size=\"14.00\" text-anchor=\"middle\" x=\"74.5\" y=\"-87.8\">hidden_layer_4: Dense</text>\n</g>\n<!-- 140277668465576&#45;&gt;140276088571496 -->\n<g class=\"edge\" id=\"edge7\">\n<title>140277668465576-&gt;140276088571496</title>\n<path d=\"M74.5,-146.4551C74.5,-138.3828 74.5,-128.6764 74.5,-119.6817\" fill=\"none\" stroke=\"#000000\"/>\n<polygon fill=\"#000000\" points=\"78.0001,-119.5903 74.5,-109.5904 71.0001,-119.5904 78.0001,-119.5903\" stroke=\"#000000\"/>\n</g>\n<!-- 140276088471504 -->\n<g class=\"node\" id=\"node8\">\n<title>140276088471504</title>\n<polygon fill=\"none\" points=\"8.5,-.5 8.5,-36.5 140.5,-36.5 140.5,-.5 8.5,-.5\" stroke=\"#000000\"/>\n<text fill=\"#000000\" font-family=\"Times,serif\" font-size=\"14.00\" text-anchor=\"middle\" x=\"74.5\" y=\"-14.8\">output_layer: Dense</text>\n</g>\n<!-- 140276088571496&#45;&gt;140276088471504 -->\n<g class=\"edge\" id=\"edge8\">\n<title>140276088571496-&gt;140276088471504</title>\n<path d=\"M74.5,-73.4551C74.5,-65.3828 74.5,-55.6764 74.5,-46.6817\" fill=\"none\" stroke=\"#000000\"/>\n<polygon fill=\"#000000\" points=\"78.0001,-46.5903 74.5,-36.5904 71.0001,-46.5904 78.0001,-46.5903\" stroke=\"#000000\"/>\n</g>\n<!-- 140276088597472 -->\n<g class=\"node\" id=\"node9\">\n<title>140276088597472</title>\n<polygon fill=\"none\" points=\"10,-584.5 10,-620.5 139,-620.5 139,-584.5 10,-584.5\" stroke=\"#000000\"/>\n<text fill=\"#000000\" font-family=\"Times,serif\" font-size=\"14.00\" text-anchor=\"middle\" x=\"74.5\" y=\"-598.8\">140276088597472</text>\n</g>\n<!-- 140276088597472&#45;&gt;140276088597248 -->\n<g class=\"edge\" id=\"edge1\">\n<title>140276088597472-&gt;140276088597248</title>\n<path d=\"M74.5,-584.4551C74.5,-576.3828 74.5,-566.6764 74.5,-557.6817\" fill=\"none\" stroke=\"#000000\"/>\n<polygon fill=\"#000000\" points=\"78.0001,-557.5903 74.5,-547.5904 71.0001,-557.5904 78.0001,-557.5903\" stroke=\"#000000\"/>\n</g>\n</g>\n</svg>"
          },
          "metadata": {
            "tags": []
          },
          "execution_count": 9
        }
      ]
    },
    {
      "cell_type": "markdown",
      "metadata": {
        "id": "ciUtGM-W_ehP",
        "colab_type": "text"
      },
      "source": [
        ""
      ]
    }
  ]
}