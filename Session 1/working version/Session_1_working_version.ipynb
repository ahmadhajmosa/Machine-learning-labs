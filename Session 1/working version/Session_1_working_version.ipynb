{
  "nbformat": 4,
  "nbformat_minor": 0,
  "metadata": {
    "colab": {
      "name": "Session 1 working version.ipynb",
      "version": "0.3.2",
      "provenance": [],
      "collapsed_sections": [],
      "toc_visible": true
    },
    "kernelspec": {
      "name": "python3",
      "display_name": "Python 3"
    },
    "accelerator": "GPU"
  },
  "cells": [
    {
      "cell_type": "markdown",
      "metadata": {
        "id": "rmSUExzC-ZBV",
        "colab_type": "text"
      },
      "source": [
        ""
      ]
    },
    {
      "cell_type": "code",
      "metadata": {
        "id": "oZffEEo0m9m6",
        "colab_type": "code",
        "colab": {}
      },
      "source": [
        ""
      ],
      "execution_count": 0,
      "outputs": []
    },
    {
      "cell_type": "markdown",
      "metadata": {
        "id": "wgWZldyi-Zef",
        "colab_type": "text"
      },
      "source": [
        "# Lab on Machine Learning and Applications in Intelligent Vehicles\n",
        "## Session 1: Introduction\n"
      ]
    },
    {
      "cell_type": "markdown",
      "metadata": {
        "id": "j1T4XAd1_fJk",
        "colab_type": "text"
      },
      "source": [
        "### Course Plan:\n",
        "\n",
        "This lab is a continuation to the Machine learning lecture, the objective of this course is to learn how to model and implement neural networks using deep learning python frameworks: \n",
        "1. Tensorflow\n",
        "2. Keras\n",
        "3. Pytorch\n",
        "\n",
        "Useing these frameworks, we will go through the following topics and use cases:\n",
        "\n",
        "#### Session 1: 05.06 - 09:00 - 11:00  :\n",
        "\n",
        ">#### Presentation:  05.06 - 09:00 - 10:30:\n",
        ">1. Introduction to deep learning frameworks\n",
        "2. Deep learning in Numpy\n",
        "\n",
        ">#### Break:  05.06 - 10:30 - 10:45\n",
        ">#### Assignment:  05.06 - 10:45 - 11:45 : \n",
        ">* Implementation of backprop using numpy\n",
        "\n",
        ">1. Tensorflow backround \n",
        "2. Implementation of feedforward neural networks using Tensorflow\n",
        "\n",
        ">#### Break:  05.06 - 10:00 - 10:15\n",
        ">#### Assignment:  05.06 - 10:15 - 10:45 : \n",
        "  \n",
        "  >* play around with tensorflow and build your first neural network\n",
        "\n",
        "\n",
        "\n",
        "#### Session 2:  05.06 - 11:00 - 12:00  :\n",
        "\n",
        ">#### Presentation:  05.06 - 11:00 - 12:00:\n",
        "\n",
        "\n",
        ">3. Implementation of CNN useing Tensorflow\n",
        "4. Tensorboard\n",
        "\n",
        ">#### Break:  05.06 - 12:00 - 13:00\n",
        ">#### Assignment:  05.06 - 13:00 - 13:30 :\n",
        "\n",
        "\n",
        " #### Session 3:  05.06 - 13:30 - 15:00  :\n",
        "\n",
        ">#### Presentation:  05.06 - 13:00 - 14:00:\n",
        "\n",
        ">5. Introduction to Keras\n",
        "6. CNN using Keras\n",
        ">#### Break:  05.06 - 14:00 - 14:15\n",
        ">#### Assignment:  05.06 - 14:15 - 14:45 :\n",
        "\n",
        " #### Session 4:  05.06 - 15:00 - 16:30  :\n",
        "\n",
        ">#### Presentation:  05.06 - 15:00 - 15:45:\n",
        "\n",
        ">7. LSTM using Keras\n",
        "\n",
        ">#### Break:  05.06 - 15:45 - 16:00\n",
        ">#### Assignment:  05.06 - 16:00 - 16:30 :\n",
        "\n",
        "\n",
        "8. VGG, Inceptaion, ResNet models using Keras\n",
        "\n",
        "9. Autoencoders using Keras\n",
        "\n",
        "10. Sequence to Sequence Models using Keras \n",
        "\n",
        "11. Attention Mechanism using Keras\n",
        "12. GANS \n",
        "13. Introduction to Pytorch\n",
        "14. Machine translation using Pytorch\n",
        "15. Introduction to Allennlp\n",
        "16. Deep Reinforcment Learning using Keras\n",
        "17. Use case: building self driving car using Unity and tensorflow\n",
        "\n",
        "\n",
        "\n",
        "\n",
        "\n",
        "\n",
        "\n",
        "\n"
      ]
    },
    {
      "cell_type": "markdown",
      "metadata": {
        "id": "a75NLOuwKXSs",
        "colab_type": "text"
      },
      "source": [
        "#Session 1: 05.06 - 09:00 - 11:00 :\n"
      ]
    },
    {
      "cell_type": "markdown",
      "metadata": {
        "id": "ciUtGM-W_ehP",
        "colab_type": "text"
      },
      "source": [
        "\n",
        "\n",
        "## Deep learning frameworks:\n",
        "\n",
        "In the past decade, many deep learning frameworks have been developed to ease and scale the research and development of AI. Many big technology providers including Google, IBM, Microsoft and Facebook have entered the race to provide the best and most popluar frameworks. To enter such a race, mainly four features are considered in the provided framework:\n",
        "\n",
        "1. Uses a popular language for data scientists (Python, Scale, C++ or R)\n",
        "2. Flexible in creating and adjusting deep learning architectures -> Functional programming\n",
        "3. Easy for computing gradients\n",
        "4. Interface with GPUs for parallel processing\n",
        "\n",
        "\n",
        "In the following we see the most popular provided deep learning frameworks with their providers\n",
        "https://towardsdatascience.com/deep-learning-framework-power-scores-2018-23607ddf297a\n",
        "\n",
        "![alt text](https://cdn-images-1.medium.com/max/1600/1*dYjDEI0mLpsCOySKUuX1VA.png)\n",
        "\n",
        "## Tensorflow\n",
        "TensorFlow is the undisputed heavyweight champion. It has the most GitHub activity, Google searches, Medium articles, books on Amazon and ArXiv articles. It also has the most developers using it and is listed in the most online job descriptions. TensorFlow is backed by Google.\n",
        "\n",
        "## Keras\n",
        "Keras has an “API designed for human beings, not machines.” It is the second most popular framework in nearly all evaluation areas. Keras sits on top of TensorFlow, Theano, or CNTK. Start with Keras if you are new to deep learning.\n",
        "\n",
        "## Pytorch\n",
        "\n",
        "PyTorch is the third most popular overall framework and the second most popular stand-alone framework. It is younger than TensorFlow and has grown rapidly in popularity. It allows customization that TensorFlow does not. It has the backing of Facebook.\n",
        "\n",
        "## Theano\n",
        "\n",
        "Theano was developed at the University of Montreal in 2007 and is the oldest significant Python deep learning framework. It has lost much of its popularity and its leader stated that major releases were no longer on the roadmap. However, updates continue to be made. Theano still the fifth highest scoring framework.\n",
        "\n",
        "# Comparision:\n",
        "\n",
        "## Criteria 1: Online Job Listings\n",
        "\n",
        "TensorFlow is the clear winner when it comes to frameworks mentioned in job listings. Learn it if you want a job doing deep learning.\n",
        "\n",
        ">> ![alt text](https://cdn-images-1.medium.com/max/800/1*kA8dIgRqLdWgKgs2sd7clA.png)\n",
        "\n",
        "## Criteria 2: Usage\n",
        "\n",
        "\n",
        "Keras showed a surprising amount of use — nearly as much as TensorFlow. It’s interesting that US employers are overwhelmingly looking for TensorFlow skills, when — at least internationally — Keras is used almost as frequently.\n",
        "\n",
        "  >> ![alt text](https://cdn-images-1.medium.com/max/800/1*6b2Tm0oFr99zKaxkr4g52w.png)\n",
        "  \n",
        "  \n",
        "## Criteria 4: Google Search Activity\n",
        "\n",
        ">> ![alt text](https://cdn-images-1.medium.com/max/800/1*wpA6C9x_Nri42EzbqnS1fQ.png)\n",
        "\n",
        "## Criteria 5: Medium Articles\n",
        "\n",
        ">> ![alt text](https://cdn-images-1.medium.com/max/800/1*Y1cJUgZTC3u_hU1lmdsroQ.png)\n",
        "\n",
        "\n",
        "## Criteria 6: Amazon Books\n",
        "\n",
        ">> ![alt text](https://cdn-images-1.medium.com/max/800/1*mtP47q29T6agdkEoJcCw-w.png)\n",
        "\n",
        "## Criteria 7 : ArXiv Articles\n",
        "\n",
        "  >> ![alt text](https://cdn-images-1.medium.com/max/800/1*7jdNoNkGlx_1EnfevQXRvw.png)\n",
        "  \n",
        "## Criteria 8: GitHub Activity\n",
        "\n",
        "  >> ![alt text](https://cdn-images-1.medium.com/max/800/1*eOOYV3C5klsuVBMX31ngxw.png)\n",
        "  \n",
        " --------------------------------\n",
        " \n",
        "\n",
        "\n",
        "  \n",
        " \n",
        "\n",
        "\n",
        "\n",
        "\n"
      ]
    },
    {
      "cell_type": "markdown",
      "metadata": {
        "id": "9v3V8ztAKDCg",
        "colab_type": "text"
      },
      "source": [
        "\n",
        "\n",
        "```\n",
        "# This is formatted as code\n",
        "```\n",
        "\n",
        "\n",
        "Before we jump into Tensorflow, we will implemented our first neural network model using Python Numpy package. NumPy is the fundamental package for scientific computing with Python, such as:\n",
        "\n",
        "1. Linear Algebra\n",
        "2. Statistics\n",
        "3. Calculus\n",
        "\n",
        "## A brief intro to Numpy operations:\n",
        "\n",
        "1. Creating a Vector:\n",
        "Here we use Numpy to create a 1-D Array which we then call a vector.\n",
        "\n",
        "\n",
        "\n"
      ]
    },
    {
      "cell_type": "code",
      "metadata": {
        "id": "GTf7M4r7Lgj9",
        "colab_type": "code",
        "colab": {}
      },
      "source": [
        "import numpy as np\n",
        "\n",
        "v1 = np.zeros((1,100))\n",
        "\n",
        "v2 = np.zeros((1,100))\n",
        "\n",
        "v2.T.shape\n",
        "\n",
        "v3 = np.ones((1,100))\n",
        "v4 = np.eye(4)\n",
        "\n",
        "v5 = np.random.randn(10000,1) #normal distribution\n",
        "v6 = np.random.rand(10000,1) #uniform distribution\n",
        "\n",
        "display('mean of randn: ',v5.mean())\n",
        "display('std of randn: ', v5.std())\n",
        "\n",
        "display('mean of rand: ',v6.mean())\n",
        "display('min of rand: ', v6.min())\n",
        "display('max of rand: ', v6.max())"
      ],
      "execution_count": 0,
      "outputs": []
    },
    {
      "cell_type": "markdown",
      "metadata": {
        "id": "JYFjSo0OLqA3",
        "colab_type": "text"
      },
      "source": [
        "2. Creating a Matrix\n",
        "We Create a 2-D Array in Numpy and call it a Matrix. It contains 2 rows and 3 columns."
      ]
    },
    {
      "cell_type": "code",
      "metadata": {
        "id": "fJlDBq5rLmA-",
        "colab_type": "code",
        "colab": {
          "base_uri": "https://localhost:8080/",
          "height": 85
        },
        "outputId": "a77a31ee-6464-43bd-b9cc-e35108c00e93"
      },
      "source": [
        "m1 = np.zeros((2,3))\n",
        "display(m1)\n",
        "\n",
        "\n",
        "matrix = np.array([[1,2,3], [4,5,6]])\n",
        "display(matrix)"
      ],
      "execution_count": 35,
      "outputs": [
        {
          "output_type": "display_data",
          "data": {
            "text/plain": [
              "array([[0., 0., 0.],\n",
              "       [0., 0., 0.]])"
            ]
          },
          "metadata": {
            "tags": []
          }
        },
        {
          "output_type": "display_data",
          "data": {
            "text/plain": [
              "array([[1, 2, 3],\n",
              "       [4, 5, 6]])"
            ]
          },
          "metadata": {
            "tags": []
          }
        }
      ]
    },
    {
      "cell_type": "markdown",
      "metadata": {
        "id": "wv99hZqULygH",
        "colab_type": "text"
      },
      "source": [
        "3. Selecting Elements\n"
      ]
    },
    {
      "cell_type": "code",
      "metadata": {
        "id": "ZLQlxFzkPrKM",
        "colab_type": "code",
        "colab": {
          "base_uri": "https://localhost:8080/",
          "height": 136
        },
        "outputId": "6d6c37f8-601c-437e-c2e0-eb7a63f50f06"
      },
      "source": [
        "display(matrix[0,0]) #first row first col\n",
        "display(matrix[0,-1]) #first row last col\n",
        "display(matrix[0,-2])\n",
        "display(matrix[0,1:]) #first row last two elements\n",
        "display(matrix[0,:-1]) #first row first two elements\n",
        "display(matrix[0,0:2]) #first row first two elements \n",
        "display(matrix[-1,0:2]) #last row first two elements\n"
      ],
      "execution_count": 46,
      "outputs": [
        {
          "output_type": "display_data",
          "data": {
            "text/plain": [
              "1"
            ]
          },
          "metadata": {
            "tags": []
          }
        },
        {
          "output_type": "display_data",
          "data": {
            "text/plain": [
              "3"
            ]
          },
          "metadata": {
            "tags": []
          }
        },
        {
          "output_type": "display_data",
          "data": {
            "text/plain": [
              "2"
            ]
          },
          "metadata": {
            "tags": []
          }
        },
        {
          "output_type": "display_data",
          "data": {
            "text/plain": [
              "array([2, 3])"
            ]
          },
          "metadata": {
            "tags": []
          }
        },
        {
          "output_type": "display_data",
          "data": {
            "text/plain": [
              "array([1, 2])"
            ]
          },
          "metadata": {
            "tags": []
          }
        },
        {
          "output_type": "display_data",
          "data": {
            "text/plain": [
              "array([1, 2])"
            ]
          },
          "metadata": {
            "tags": []
          }
        },
        {
          "output_type": "display_data",
          "data": {
            "text/plain": [
              "array([4, 5])"
            ]
          },
          "metadata": {
            "tags": []
          }
        }
      ]
    },
    {
      "cell_type": "markdown",
      "metadata": {
        "id": "QO3vTGEKQhm7",
        "colab_type": "text"
      },
      "source": [
        "4. Describing a Matrix"
      ]
    },
    {
      "cell_type": "code",
      "metadata": {
        "id": "q8bDjBhhQpg5",
        "colab_type": "code",
        "colab": {
          "base_uri": "https://localhost:8080/",
          "height": 68
        },
        "outputId": "833b3eaf-3b0c-443b-a298-1572b85d1edc"
      },
      "source": [
        "#View the number of rows and columns\n",
        "print(matrix.shape)\n",
        "#View the number of elements (rows * columns)\n",
        "print(matrix.size)\n",
        "#View the number of dimensions (2 in this case)\n",
        "print(matrix.ndim)"
      ],
      "execution_count": 48,
      "outputs": [
        {
          "output_type": "stream",
          "text": [
            "(2, 3)\n",
            "6\n",
            "2\n"
          ],
          "name": "stdout"
        }
      ]
    },
    {
      "cell_type": "markdown",
      "metadata": {
        "id": "eKISvY8kQtA0",
        "colab_type": "text"
      },
      "source": [
        "5. Finding the max and min values"
      ]
    },
    {
      "cell_type": "code",
      "metadata": {
        "id": "abPJd0JrQ4mM",
        "colab_type": "code",
        "colab": {
          "base_uri": "https://localhost:8080/",
          "height": 238
        },
        "outputId": "95c33369-c870-4f2d-d0b6-7846a75af681"
      },
      "source": [
        "display(matrix)\n",
        "matrix.min(axis=0)\n",
        "\n",
        "\n",
        "np.min(matrix, axis=1)\n",
        "np.max(matrix, axis=1)\n",
        "display('arg',np.argmax(matrix, axis=0))\n",
        "display('max',np.max(matrix, axis=0))\n",
        "display('max',np.argmax(matrix))\n",
        "\n",
        "np.argwhere(matrix==np.max(matrix))\n",
        "np.argwhere(matrix<np.max(matrix))\n"
      ],
      "execution_count": 65,
      "outputs": [
        {
          "output_type": "display_data",
          "data": {
            "text/plain": [
              "array([[1, 2, 3],\n",
              "       [4, 5, 6]])"
            ]
          },
          "metadata": {
            "tags": []
          }
        },
        {
          "output_type": "display_data",
          "data": {
            "text/plain": [
              "'arg'"
            ]
          },
          "metadata": {
            "tags": []
          }
        },
        {
          "output_type": "display_data",
          "data": {
            "text/plain": [
              "array([1, 1, 1])"
            ]
          },
          "metadata": {
            "tags": []
          }
        },
        {
          "output_type": "display_data",
          "data": {
            "text/plain": [
              "'max'"
            ]
          },
          "metadata": {
            "tags": []
          }
        },
        {
          "output_type": "display_data",
          "data": {
            "text/plain": [
              "array([4, 5, 6])"
            ]
          },
          "metadata": {
            "tags": []
          }
        },
        {
          "output_type": "display_data",
          "data": {
            "text/plain": [
              "'max'"
            ]
          },
          "metadata": {
            "tags": []
          }
        },
        {
          "output_type": "display_data",
          "data": {
            "text/plain": [
              "5"
            ]
          },
          "metadata": {
            "tags": []
          }
        },
        {
          "output_type": "execute_result",
          "data": {
            "text/plain": [
              "array([[0, 0],\n",
              "       [0, 1],\n",
              "       [0, 2],\n",
              "       [1, 0],\n",
              "       [1, 1]])"
            ]
          },
          "metadata": {
            "tags": []
          },
          "execution_count": 65
        }
      ]
    },
    {
      "cell_type": "markdown",
      "metadata": {
        "id": "3Qm64s_eR0zQ",
        "colab_type": "text"
      },
      "source": [
        "6. Reshaping Arrays\n"
      ]
    },
    {
      "cell_type": "code",
      "metadata": {
        "id": "Pwepq7h_SBBD",
        "colab_type": "code",
        "colab": {
          "base_uri": "https://localhost:8080/",
          "height": 34
        },
        "outputId": "758ac619-fc77-44a4-c0f5-35d6c2ca2269"
      },
      "source": [
        "matrix.shape\n",
        "\n",
        "matrix.reshape((3,2))\n",
        "matrix.reshape((6,1))\n",
        "matrix.reshape((1,6))\n",
        "matrix.reshape((1,2,3)) #dim 0 size=1, dim 1 = 2, dim 2 = 3\n",
        "matrix.reshape((1,-1,3)).shape"
      ],
      "execution_count": 72,
      "outputs": [
        {
          "output_type": "execute_result",
          "data": {
            "text/plain": [
              "(1, 2, 3)"
            ]
          },
          "metadata": {
            "tags": []
          },
          "execution_count": 72
        }
      ]
    },
    {
      "cell_type": "markdown",
      "metadata": {
        "id": "cJU3xABuVem_",
        "colab_type": "text"
      },
      "source": [
        "7. Calculating Dot Products"
      ]
    },
    {
      "cell_type": "code",
      "metadata": {
        "id": "cPKg382VVivy",
        "colab_type": "code",
        "colab": {
          "base_uri": "https://localhost:8080/",
          "height": 51
        },
        "outputId": "73298d7b-0eb8-46a6-c269-769e16bdc65d"
      },
      "source": [
        "#Create vector-1\n",
        "vector_1 = np.array([1,2,3])\n",
        "#Create vector-2\n",
        "vector_2 = np.array([4,5,6])\n",
        "\n",
        "#Calculate Dot Product\n",
        "print(np.dot(vector_1, vector_2))\n",
        "#Alternatively you can use @ to calculate dot products\n",
        "print(vector_1@vector_2)"
      ],
      "execution_count": 73,
      "outputs": [
        {
          "output_type": "stream",
          "text": [
            "32\n",
            "32\n"
          ],
          "name": "stdout"
        }
      ]
    },
    {
      "cell_type": "markdown",
      "metadata": {
        "id": "cB-jK7jEXY7F",
        "colab_type": "text"
      },
      "source": [
        "##Linear regression in Numpy:\n",
        "\n",
        "---\n",
        "\n",
        "\n",
        "\n",
        "Write the numpy code for the following model:\n",
        "\n",
        "$Y=WX+B$\n",
        "\n",
        "where $X$ is 3x10 matrix:  10 samples and 3 features\n",
        "\n",
        "$Y$ is 4x10 matrix: 10 samples and 4 outputs\n",
        "\n",
        "$W$ is the weights matrix with the shape 4x3: connecting 3 inputs to 4 outputs\n",
        "\n",
        "$b$ is a vector with a size 4 ( one bias per output)\n"
      ]
    },
    {
      "cell_type": "code",
      "metadata": {
        "id": "_EtM5LVtWCpm",
        "colab_type": "code",
        "colab": {
          "base_uri": "https://localhost:8080/",
          "height": 85
        },
        "outputId": "56e63edd-6ae1-416e-df75-e439c8eec284"
      },
      "source": [
        "#Input or feature matrix\n",
        "X = np.random.rand(3,10)\n",
        "display('Shape of X',X.shape)\n",
        "\n",
        "#weight matrix\n",
        "W = np.random.rand(4,3)\n",
        "\n",
        "#bias\n",
        "b = np.zeros((4,1))\n",
        "\n",
        "#regression model\n",
        "Y = np.dot(W, X)+b #4x3, 3x10 \n",
        "\n",
        "display('Shape of Y:', Y.shape)\n"
      ],
      "execution_count": 82,
      "outputs": [
        {
          "output_type": "display_data",
          "data": {
            "text/plain": [
              "'Shape of X'"
            ]
          },
          "metadata": {
            "tags": []
          }
        },
        {
          "output_type": "display_data",
          "data": {
            "text/plain": [
              "(3, 10)"
            ]
          },
          "metadata": {
            "tags": []
          }
        },
        {
          "output_type": "display_data",
          "data": {
            "text/plain": [
              "'Shape of Y:'"
            ]
          },
          "metadata": {
            "tags": []
          }
        },
        {
          "output_type": "display_data",
          "data": {
            "text/plain": [
              "(4, 10)"
            ]
          },
          "metadata": {
            "tags": []
          }
        }
      ]
    },
    {
      "cell_type": "markdown",
      "metadata": {
        "id": "hMIoucH9hFfr",
        "colab_type": "text"
      },
      "source": [
        "## One neuron model in numpy:\n",
        "\n",
        "A single neuron has multiple inputs and one output, in addition to the linear regression model, we need to add non linearity through an activation function:\n",
        "\n",
        "$Y= f(WX+B)$\n",
        "\n",
        "where $X$ is n x m matrix:  m samples and n features/inputs\n",
        "\n",
        "$f(g)= \\frac{1}{1+\\exp(-g)}$  is a sigmoid acitavation function\n",
        "\n",
        "$Y$ is nh1 x m matrix: m samples and ny outputs\n",
        "\n",
        "$W$ is the weights matrix with the shape nh1 x n: connecting 3 inputs to 4 outputs\n",
        "\n",
        "$b$ is a vector with a size nh1 ( one bias per output)\n",
        "\n",
        "\n",
        "\n"
      ]
    },
    {
      "cell_type": "code",
      "metadata": {
        "id": "Qry1JDGEiLmx",
        "colab_type": "code",
        "colab": {}
      },
      "source": [
        "#def f(x):\n",
        "#  return 1.0/(1.0+np.exp(-x))\n",
        "\n",
        "num_inputs = 3\n",
        "num_outputs = 4\n",
        "num_samples = 100\n",
        "\n",
        "f = lambda x: 1.0/(1.0+np.exp(-x))\n",
        "\n",
        "X=np.random.rand(num_inputs,num_samples)\n",
        "W = np.random.rand(num_outputs,num_inputs)\n",
        "\n",
        "b = np.random.rand(num_outputs,1)\n",
        "\n",
        "Y = f(np.dot(W, X)+b)\n",
        "display(Y)\n"
      ],
      "execution_count": 0,
      "outputs": []
    },
    {
      "cell_type": "markdown",
      "metadata": {
        "id": "aSnbti9ooIIs",
        "colab_type": "text"
      },
      "source": [
        "## One hidden layer model in numpy:\n",
        "\n",
        "The difference from the one neuron model is simple:  we need only to change the number of output \"ny\""
      ]
    },
    {
      "cell_type": "code",
      "metadata": {
        "id": "ZAY3o6zBnpA0",
        "colab_type": "code",
        "colab": {
          "base_uri": "https://localhost:8080/",
          "height": 1037
        },
        "outputId": "4f3dbd8b-dc3a-4094-9ac5-636dc0371dc5"
      },
      "source": [
        "num_inputs = 3\n",
        "num_outputs = 3\n",
        "num_samples = 100\n",
        "num_hidden_layer_1 = 4\n",
        "\n",
        "f = lambda x: 1.0/(1.0+np.exp(-x))\n",
        "\n",
        "X = np.random.rand(num_inputs,num_samples)\n",
        "W1 = np.random.rand(num_hidden_layer_1,num_inputs)\n",
        "W2 = np.random.rand(num_outputs, num_hidden_layer_1)\n",
        "\n",
        "b1 = np.random.rand(num_hidden_layer_1, 1)\n",
        "b2 = np.random.rand(num_outputs,1)\n",
        "\n",
        "\n",
        "hidden1 = f(np.dot(W1, X)+b1)\n",
        "\n",
        "Y = f(np.dot(W2, hidden1)+b2)\n",
        "display(Y)\n"
      ],
      "execution_count": 86,
      "outputs": [
        {
          "output_type": "display_data",
          "data": {
            "text/plain": [
              "array([[0.89806891, 0.87147989, 0.8956725 , 0.89271881, 0.89697018,\n",
              "        0.89622779, 0.90164432, 0.89705627, 0.89301138, 0.88934097,\n",
              "        0.87289035, 0.89940254, 0.90241514, 0.89485507, 0.88651545,\n",
              "        0.88868976, 0.89459682, 0.88895798, 0.89657316, 0.89331295,\n",
              "        0.88889266, 0.89039188, 0.89031676, 0.89680258, 0.89028019,\n",
              "        0.88449996, 0.89092268, 0.8859153 , 0.89790704, 0.88359024,\n",
              "        0.90002277, 0.89983591, 0.89471185, 0.90087434, 0.90275699,\n",
              "        0.87505486, 0.89216761, 0.90109452, 0.89818478, 0.89098762,\n",
              "        0.89430788, 0.88645668, 0.90228657, 0.89243567, 0.8944335 ,\n",
              "        0.88606005, 0.89573808, 0.88918279, 0.88964106, 0.88959536,\n",
              "        0.88643863, 0.89148067, 0.89751406, 0.89024076, 0.89284754,\n",
              "        0.87571477, 0.88485069, 0.89923404, 0.89577274, 0.89503881,\n",
              "        0.89241213, 0.89378092, 0.90134497, 0.89336623, 0.89052165,\n",
              "        0.88178197, 0.90219829, 0.89349339, 0.89254953, 0.8909212 ,\n",
              "        0.8963549 , 0.89172975, 0.89465266, 0.89283358, 0.87440984,\n",
              "        0.89022469, 0.892194  , 0.89447238, 0.88545453, 0.90433866,\n",
              "        0.88380693, 0.89931304, 0.89738169, 0.89695815, 0.90240076,\n",
              "        0.890562  , 0.88698813, 0.90012996, 0.88371526, 0.89017478,\n",
              "        0.887622  , 0.90110301, 0.89176078, 0.90111747, 0.87333622,\n",
              "        0.88876013, 0.8982464 , 0.89317953, 0.89874144, 0.87929868],\n",
              "       [0.9367327 , 0.91457925, 0.93479758, 0.93236328, 0.93610612,\n",
              "        0.93516504, 0.93925476, 0.93568458, 0.93263134, 0.92947101,\n",
              "        0.91582034, 0.93724343, 0.93981198, 0.93413694, 0.92717428,\n",
              "        0.92915466, 0.93395934, 0.92897408, 0.93491027, 0.9321411 ,\n",
              "        0.92863533, 0.93042698, 0.93052566, 0.9357345 , 0.92972947,\n",
              "        0.92539471, 0.93126207, 0.92651195, 0.93586034, 0.92485288,\n",
              "        0.93776247, 0.93809886, 0.93403188, 0.93864461, 0.94019742,\n",
              "        0.91774448, 0.93170718, 0.9386121 , 0.9362531 , 0.93027151,\n",
              "        0.93354034, 0.92699358, 0.9398473 , 0.93147801, 0.93397805,\n",
              "        0.92707629, 0.93402797, 0.92859978, 0.93012875, 0.92945467,\n",
              "        0.92694167, 0.93071657, 0.93545746, 0.92980381, 0.93265356,\n",
              "        0.91806564, 0.92612853, 0.93698472, 0.93454962, 0.93431578,\n",
              "        0.93207917, 0.93340581, 0.93887276, 0.93227572, 0.93054679,\n",
              "        0.92327577, 0.93963466, 0.93247602, 0.93156804, 0.93092167,\n",
              "        0.9348555 , 0.9308898 , 0.93418708, 0.9320244 , 0.91722764,\n",
              "        0.92963377, 0.93131846, 0.93330439, 0.92575219, 0.94134613,\n",
              "        0.92466846, 0.93767157, 0.93615302, 0.9352564 , 0.93973443,\n",
              "        0.93008032, 0.927472  , 0.93813663, 0.92532617, 0.93045183,\n",
              "        0.92792655, 0.93869997, 0.93175681, 0.93892966, 0.91615793,\n",
              "        0.92921541, 0.93655669, 0.93297328, 0.93696986, 0.92115366],\n",
              "       [0.88021253, 0.85387575, 0.87716815, 0.8753492 , 0.87968142,\n",
              "        0.87811676, 0.88288267, 0.87874716, 0.87525361, 0.87190915,\n",
              "        0.85543715, 0.8808779 , 0.88345853, 0.876889  , 0.86914948,\n",
              "        0.87054165, 0.87686027, 0.87088658, 0.87796343, 0.87440868,\n",
              "        0.87097723, 0.87197842, 0.87265625, 0.87852438, 0.87216178,\n",
              "        0.86687774, 0.87346209, 0.86794082, 0.87956668, 0.866066  ,\n",
              "        0.88096121, 0.88179533, 0.87644249, 0.88239141, 0.88431969,\n",
              "        0.85781222, 0.87420008, 0.88254536, 0.87970623, 0.87302298,\n",
              "        0.87623726, 0.86897336, 0.88408166, 0.87341863, 0.87644852,\n",
              "        0.86848127, 0.87697326, 0.87028035, 0.87246183, 0.8708078 ,\n",
              "        0.86912302, 0.87286114, 0.87895124, 0.87204187, 0.87557576,\n",
              "        0.85809434, 0.86725389, 0.88090543, 0.8778513 , 0.87731875,\n",
              "        0.87401407, 0.8763115 , 0.88302348, 0.87461193, 0.87253441,\n",
              "        0.86427183, 0.88357907, 0.87492938, 0.87443065, 0.87357644,\n",
              "        0.87817815, 0.87310695, 0.87721233, 0.87394547, 0.85702866,\n",
              "        0.8721488 , 0.87366729, 0.87603569, 0.86688688, 0.8854772 ,\n",
              "        0.86529572, 0.88134436, 0.87953301, 0.87821173, 0.88365877,\n",
              "        0.87178714, 0.86927245, 0.88173494, 0.86620021, 0.87270346,\n",
              "        0.86925489, 0.88279342, 0.87396121, 0.88229857, 0.85579556,\n",
              "        0.87151029, 0.8800472 , 0.8750509 , 0.88020163, 0.86166977]])"
            ]
          },
          "metadata": {
            "tags": []
          }
        }
      ]
    },
    {
      "cell_type": "markdown",
      "metadata": {
        "id": "11fqb_bQvIEi",
        "colab_type": "text"
      },
      "source": [
        "## Gradient descent in Numpy:\n",
        "Let us now start training a neural network\n",
        "We start by implementing a simple gradient descent for linear regression"
      ]
    },
    {
      "cell_type": "code",
      "metadata": {
        "id": "mzBJxwb7FFZ2",
        "colab_type": "code",
        "colab": {}
      },
      "source": [
        "converged = False\n",
        "iter = 0\n",
        "m = 10 #number of samples\n",
        "ni = 1 #number of input neurons\n",
        "h = 1 #number of hidden layers\n",
        "no = 1 #number of neurons in the ourput layer\n",
        "\n",
        "#Generate a random X (we dont have real data)\n",
        "X = np.random.rand(m)\n",
        "display(X)\n",
        "\n",
        "#learning rate\n",
        "alpha = 0.01\n",
        "\n",
        "#early stop criteria\n",
        "ep = 0.001\n",
        "\n",
        "#max number of training iterations\n",
        "max_iter=1000\n",
        "\n",
        "#Generate a random weights vector for the output layer\n",
        "W1 = np.random.rand()\n",
        "\n",
        "#Generate a random bias for the output layer \n",
        "b1 = np.random.rand()\n",
        "\n",
        "#Generate a random ground truth\n",
        "Y_gr = np.random.rand(m)\n",
        "\n",
        "J = sum([(b1 + W1*X[i] - Y_gr[i])**2 for i in range(m)]) #cost function\n",
        "\n",
        "while not converged:\n",
        "  print('Iterations:', iter)\n",
        "  #for each training sample, compute the gradient (d/D_theta j(theta))\n",
        "  grad0 = 1.0/m * sum([(b1 + W1*X[i] - Y_gr[i]) for i in range(m)])\n",
        "  grad1 = 1.0/m * sum([(b1 + W1*X[i] - Y_gr[i])*X[i] for i in range(m)])\n",
        "  \n",
        "  #update the theta_temp\n",
        "  temp0 = b1 - alpha * grad0\n",
        "  temp1 = W1 - alpha * grad1\n",
        "  #update theta\n",
        "  b1 = temp0\n",
        "  W1 = temp1\n",
        "  \n",
        "  #sum suqared error\n",
        "  e = sum([(b1 + W1*X[i] - Y_gr[i])**2 for i in range(m)])\n",
        "  \n",
        "  if abs(J-e)<= ep:\n",
        "    print('Converged, iterations: ', iter, '!!!')\n",
        "    converged=True\n",
        "    \n",
        "  J = e  #update error\n",
        "  iter += 1 #update iter\n",
        "  \n",
        "  if iter == max_iter:\n",
        "    print('Max iterations exceeded!')\n",
        "    converged = True\n",
        "    "
      ],
      "execution_count": 0,
      "outputs": []
    },
    {
      "cell_type": "code",
      "metadata": {
        "id": "QaQyLoxk2FyG",
        "colab_type": "code",
        "colab": {}
      },
      "source": [
        ""
      ],
      "execution_count": 0,
      "outputs": []
    },
    {
      "cell_type": "markdown",
      "metadata": {
        "id": "jRqCCVlmFIZl",
        "colab_type": "text"
      },
      "source": [
        "##Assignment 1\n",
        "### Backpropagation in Numpy:\n"
      ]
    },
    {
      "cell_type": "code",
      "metadata": {
        "id": "5WrwhgQOScHh",
        "colab_type": "code",
        "colab": {
          "base_uri": "https://localhost:8080/",
          "height": 136
        },
        "outputId": "de25d8bd-ea14-4ee4-bc8e-ddc101c62e74"
      },
      "source": [
        "# define the sigmoid function\n",
        "def sigmoid(x, derivative=False):\n",
        "\n",
        "    if (derivative == True):\n",
        "        return x * (1 - x)\n",
        "    else:\n",
        "        return 1 / (1 + np.exp(-x))\n",
        "\n",
        "# choose a random seed for reproducible results\n",
        "np.random.seed(1)\n",
        "\n",
        "# learning rate\n",
        "alpha = .1\n",
        "\n",
        "# number of nodes in the hidden layer\n",
        "num_hidden = 3\n",
        "\n",
        "# inputs\n",
        "X = np.array([  \n",
        "    [0, 0, 1],\n",
        "    [0, 1, 1],\n",
        "    [1, 0, 0],\n",
        "    [1, 1, 0],\n",
        "    [1, 0, 1],\n",
        "    [1, 1, 1],\n",
        "])\n",
        "\n",
        "# outputs\n",
        "# x.T is the transpose of x, making this a column vector\n",
        "y = np.array([[0, 1, 0, 1, 1, 0]]).T\n",
        "\n",
        "# initialize weights randomly with mean 0 and range [-1, 1]\n",
        "# the +1 in the 1st dimension of the weight matrices is for the bias weight\n",
        "hidden_weights = 2*np.random.random((X.shape[1] + 1, num_hidden)) - 1\n",
        "output_weights = 2*np.random.random((num_hidden + 1, y.shape[1])) - 1\n",
        "\n",
        "# number of iterations of gradient descent\n",
        "num_iterations = 10000\n",
        "\n",
        "# for each iteration of gradient descent\n",
        "for i in range(num_iterations):\n",
        "\n",
        "    # forward phase\n",
        "    # np.hstack((np.ones(...), X) adds a fixed input of 1 for the bias weight\n",
        "    input_layer_outputs = np.hstack((np.ones((X.shape[0], 1)), X))\n",
        "    hidden_layer_outputs = np.hstack((np.ones((X.shape[0], 1)), sigmoid(np.dot(input_layer_outputs, hidden_weights))))\n",
        "    output_layer_outputs = np.dot(hidden_layer_outputs, output_weights)\n",
        "\n",
        "    # backward phase\n",
        "    # output layer error term\n",
        "    output_error = output_layer_outputs - y\n",
        "    # hidden layer error term\n",
        "    # [:, 1:] removes the bias term from the backpropagation\n",
        "    hidden_error = hidden_layer_outputs[:, 1:] * (1 - hidden_layer_outputs[:, 1:]) * np.dot(output_error, output_weights.T[:, 1:])\n",
        "\n",
        "    # partial derivatives\n",
        "    hidden_pd = input_layer_outputs[:, :, np.newaxis] * hidden_error[: , np.newaxis, :]\n",
        "    output_pd = hidden_layer_outputs[:, :, np.newaxis] * output_error[:, np.newaxis, :]\n",
        "\n",
        "    # average for total gradients\n",
        "    total_hidden_gradient = np.average(hidden_pd, axis=0)\n",
        "    total_output_gradient = np.average(output_pd, axis=0)\n",
        "\n",
        "    # update weights\n",
        "    hidden_weights += - alpha * total_hidden_gradient\n",
        "    output_weights += - alpha * total_output_gradient\n",
        "\n",
        "# print the final outputs of the neural network on the inputs X\n",
        "print(\"Output After Training: \\n{}\".format(output_layer_outputs))"
      ],
      "execution_count": 105,
      "outputs": [
        {
          "output_type": "stream",
          "text": [
            "Output After Training: \n",
            "[[2.11135662e-04]\n",
            " [9.99525588e-01]\n",
            " [1.66889680e-04]\n",
            " [9.99576185e-01]\n",
            " [9.99362960e-01]\n",
            " [1.30185107e-03]]\n"
          ],
          "name": "stdout"
        }
      ]
    }
  ]
}