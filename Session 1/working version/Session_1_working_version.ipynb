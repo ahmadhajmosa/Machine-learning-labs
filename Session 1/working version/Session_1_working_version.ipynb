{
  "nbformat": 4,
  "nbformat_minor": 0,
  "metadata": {
    "colab": {
      "name": "Session 1 working version.ipynb",
      "version": "0.3.2",
      "provenance": [],
      "collapsed_sections": [],
      "toc_visible": true
    },
    "kernelspec": {
      "name": "python3",
      "display_name": "Python 3"
    },
    "accelerator": "GPU"
  },
  "cells": [
    {
      "cell_type": "markdown",
      "metadata": {
        "id": "rmSUExzC-ZBV",
        "colab_type": "text"
      },
      "source": [
        "test "
      ]
    },
    {
      "cell_type": "code",
      "metadata": {
        "id": "Yp-WayBkm8Sy",
        "colab_type": "code",
        "colab": {}
      },
      "source": [
        ""
      ],
      "execution_count": 0,
      "outputs": []
    },
    {
      "cell_type": "markdown",
      "metadata": {
        "id": "wgWZldyi-Zef",
        "colab_type": "text"
      },
      "source": [
        "# Lab on Machine Learning and Applications in Intelligent Vehicles\n",
        "## Session 1: Introduction\n"
      ]
    },
    {
      "cell_type": "markdown",
      "metadata": {
        "id": "j1T4XAd1_fJk",
        "colab_type": "text"
      },
      "source": [
        "# Course Plan:\n",
        "\n",
        "This lab is a continuation to the Machine learning lecture, the objective of this course is to learn how to model and implement neural networks using deep learning python frameworks: \n",
        "1. Tensorflow\n",
        "2. Keras\n",
        "3. Pytorch\n",
        "\n",
        "Useing these frameworks, we will go through the following topics and use cases:\n",
        "\n",
        "#### Session 1: 05.06 - 09:00 - 11:00  :\n",
        "\n",
        ">#### Presentation:  05.06 - 09:00 - 10:30:\n",
        ">1. Introduction to deep learning frameworks\n",
        "2. Deep learning in Numpy\n",
        "\n",
        ">#### Break:  05.06 - 10:30 - 10:45\n",
        ">#### Assignment:  05.06 - 10:45 - 11:45 : \n",
        ">* Implementation of backprop using numpy\n",
        "\n",
        ">1. Tensorflow backround \n",
        "2. Implementation of feedforward neural networks using Tensorflow\n",
        "\n",
        ">#### Break:  05.06 - 10:00 - 10:15\n",
        ">#### Assignment:  05.06 - 10:15 - 10:45 : \n",
        "  \n",
        "  >* play around with tensorflow and build your first neural network\n",
        "\n",
        "\n",
        "\n",
        "#### Session 2:  05.06 - 11:00 - 12:00  :\n",
        "\n",
        ">#### Presentation:  05.06 - 11:00 - 12:00:\n",
        "\n",
        "\n",
        ">3. Implementation of CNN useing Tensorflow\n",
        "4. Tensorboard\n",
        "\n",
        ">#### Break:  05.06 - 12:00 - 13:00\n",
        ">#### Assignment:  05.06 - 13:00 - 13:30 :\n",
        "\n",
        "\n",
        " #### Session 3:  05.06 - 13:30 - 15:00  :\n",
        "\n",
        ">#### Presentation:  05.06 - 13:00 - 14:00:\n",
        "\n",
        ">5. Introduction to Keras\n",
        "6. CNN using Keras\n",
        ">#### Break:  05.06 - 14:00 - 14:15\n",
        ">#### Assignment:  05.06 - 14:15 - 14:45 :\n",
        "\n",
        " #### Session 4:  05.06 - 15:00 - 16:30  :\n",
        "\n",
        ">#### Presentation:  05.06 - 15:00 - 15:45:\n",
        "\n",
        ">7. LSTM using Keras\n",
        "\n",
        ">#### Break:  05.06 - 15:45 - 16:00\n",
        ">#### Assignment:  05.06 - 16:00 - 16:30 :\n",
        "\n",
        "\n",
        "8. VGG, Inceptaion, ResNet models using Keras\n",
        "\n",
        "9. Autoencoders using Keras\n",
        "\n",
        "10. Sequence to Sequence Models using Keras \n",
        "\n",
        "11. Attention Mechanism using Keras\n",
        "12. GANS \n",
        "13. Introduction to Pytorch\n",
        "14. Machine translation using Pytorch\n",
        "15. Introduction to Allennlp\n",
        "16. Deep Reinforcment Learning using Keras\n",
        "17. Use case: building self driving car using Unity and tensorflow\n",
        "\n",
        "\n",
        "\n",
        "\n",
        "\n",
        "\n",
        "\n",
        "\n"
      ]
    },
    {
      "cell_type": "markdown",
      "metadata": {
        "id": "a75NLOuwKXSs",
        "colab_type": "text"
      },
      "source": [
        "#Session 1: 05.06 - 09:00 - 11:00 :\n"
      ]
    },
    {
      "cell_type": "markdown",
      "metadata": {
        "id": "ciUtGM-W_ehP",
        "colab_type": "text"
      },
      "source": [
        "\n",
        "\n",
        "## Deep learning frameworks:\n",
        "\n",
        "In the past decade, many deep learning frameworks have been developed to ease and scale the research and development of AI. Many big technology providers including Google, IBM, Microsoft and Facebook have entered the race to provide the best and most popluar frameworks. To enter such a race, mainly four features are considered in the provided framework:\n",
        "\n",
        "1. Uses a popular language for data scientists (Python, Scale, C++ or R)\n",
        "2. Flexible in creating and adjusting deep learning architectures -> Functional programming\n",
        "3. Easy for computing gradients\n",
        "4. Interface with GPUs for parallel processing\n",
        "\n",
        "\n",
        "In the following we see the most popular provided deep learning frameworks with their providers\n",
        "https://towardsdatascience.com/deep-learning-framework-power-scores-2018-23607ddf297a\n",
        "\n",
        "![alt text](https://cdn-images-1.medium.com/max/1600/1*dYjDEI0mLpsCOySKUuX1VA.png)\n",
        "\n",
        "## Tensorflow\n",
        "TensorFlow is the undisputed heavyweight champion. It has the most GitHub activity, Google searches, Medium articles, books on Amazon and ArXiv articles. It also has the most developers using it and is listed in the most online job descriptions. TensorFlow is backed by Google.\n",
        "\n",
        "## Keras\n",
        "Keras has an “API designed for human beings, not machines.” It is the second most popular framework in nearly all evaluation areas. Keras sits on top of TensorFlow, Theano, or CNTK. Start with Keras if you are new to deep learning.\n",
        "\n",
        "## Pytorch\n",
        "\n",
        "PyTorch is the third most popular overall framework and the second most popular stand-alone framework. It is younger than TensorFlow and has grown rapidly in popularity. It allows customization that TensorFlow does not. It has the backing of Facebook.\n",
        "\n",
        "## Theano\n",
        "\n",
        "Theano was developed at the University of Montreal in 2007 and is the oldest significant Python deep learning framework. It has lost much of its popularity and its leader stated that major releases were no longer on the roadmap. However, updates continue to be made. Theano still the fifth highest scoring framework.\n",
        "\n",
        "# Comparision:\n",
        "\n",
        "## Criteria 1: Online Job Listings\n",
        "\n",
        "TensorFlow is the clear winner when it comes to frameworks mentioned in job listings. Learn it if you want a job doing deep learning.\n",
        "\n",
        ">> ![alt text](https://cdn-images-1.medium.com/max/800/1*kA8dIgRqLdWgKgs2sd7clA.png)\n",
        "\n",
        "## Criteria 2: Usage\n",
        "\n",
        "\n",
        "Keras showed a surprising amount of use — nearly as much as TensorFlow. It’s interesting that US employers are overwhelmingly looking for TensorFlow skills, when — at least internationally — Keras is used almost as frequently.\n",
        "\n",
        "  >> ![alt text](https://cdn-images-1.medium.com/max/800/1*6b2Tm0oFr99zKaxkr4g52w.png)\n",
        "  \n",
        "  \n",
        "## Criteria 4: Google Search Activity\n",
        "\n",
        ">> ![alt text](https://cdn-images-1.medium.com/max/800/1*wpA6C9x_Nri42EzbqnS1fQ.png)\n",
        "\n",
        "## Criteria 5: Medium Articles\n",
        "\n",
        ">> ![alt text](https://cdn-images-1.medium.com/max/800/1*Y1cJUgZTC3u_hU1lmdsroQ.png)\n",
        "\n",
        "\n",
        "## Criteria 6: Amazon Books\n",
        "\n",
        ">> ![alt text](https://cdn-images-1.medium.com/max/800/1*mtP47q29T6agdkEoJcCw-w.png)\n",
        "\n",
        "## Criteria 7 : ArXiv Articles\n",
        "\n",
        "  >> ![alt text](https://cdn-images-1.medium.com/max/800/1*7jdNoNkGlx_1EnfevQXRvw.png)\n",
        "  \n",
        "## Criteria 8: GitHub Activity\n",
        "\n",
        "  >> ![alt text](https://cdn-images-1.medium.com/max/800/1*eOOYV3C5klsuVBMX31ngxw.png)\n",
        "  \n",
        " --------------------------------\n",
        " \n",
        "\n",
        "\n",
        "  \n",
        " \n",
        "\n",
        "\n",
        "\n",
        "\n"
      ]
    },
    {
      "cell_type": "markdown",
      "metadata": {
        "id": "9v3V8ztAKDCg",
        "colab_type": "text"
      },
      "source": [
        "\n",
        "\n",
        "```\n",
        "# This is formatted as code\n",
        "```\n",
        "\n",
        "\n",
        "Before we jump into Tensorflow, we will implemented our first neural network model using Python Numpy package. NumPy is the fundamental package for scientific computing with Python, such as:\n",
        "\n",
        "1. Linear Algebra\n",
        "2. Statistics\n",
        "3. Calculus\n",
        "\n",
        "## A brief intro to Numpy operations:\n",
        "\n",
        "1. Creating a Vector:\n",
        "Here we use Numpy to create a 1-D Array which we then call a vector.\n",
        "\n",
        "\n",
        "\n"
      ]
    },
    {
      "cell_type": "code",
      "metadata": {
        "id": "GTf7M4r7Lgj9",
        "colab_type": "code",
        "colab": {
          "base_uri": "https://localhost:8080/",
          "height": 235
        },
        "outputId": "776f56d6-14cb-4f27-8e3e-affd7f7a1161"
      },
      "source": [
        "import numpy as np \n",
        "\n",
        "v1 = np.zeros((1,100))\n",
        "#display(v1)\n",
        "\n",
        "v2 = np.zeros((1,100))\n",
        "#display(v2)\n",
        "\n",
        "v2.T.shape\n",
        "\n",
        "v3 = np.ones((1,100))\n",
        "v4 = np.eye(4)\n",
        "v5 = np.random.randn(100,1) # normal random generator with mean 0 and 1 std\n",
        "v6 = np.random.rand(100,1) # uniform random generator between 0 and 1\n",
        "\n",
        "display(v4)\n",
        "display('mean of randn:' ,v5.mean())\n",
        "display('std of randn:' ,v5.std())\n",
        "\n",
        "display('min of rand:', v6.min())\n",
        "display('max of rand:', v6.max())"
      ],
      "execution_count": 1,
      "outputs": [
        {
          "output_type": "display_data",
          "data": {
            "text/plain": [
              "array([[1., 0., 0., 0.],\n",
              "       [0., 1., 0., 0.],\n",
              "       [0., 0., 1., 0.],\n",
              "       [0., 0., 0., 1.]])"
            ]
          },
          "metadata": {
            "tags": []
          }
        },
        {
          "output_type": "display_data",
          "data": {
            "text/plain": [
              "'mean of randn:'"
            ]
          },
          "metadata": {
            "tags": []
          }
        },
        {
          "output_type": "display_data",
          "data": {
            "text/plain": [
              "0.005826828335989442"
            ]
          },
          "metadata": {
            "tags": []
          }
        },
        {
          "output_type": "display_data",
          "data": {
            "text/plain": [
              "'std of randn:'"
            ]
          },
          "metadata": {
            "tags": []
          }
        },
        {
          "output_type": "display_data",
          "data": {
            "text/plain": [
              "0.9839344100032192"
            ]
          },
          "metadata": {
            "tags": []
          }
        },
        {
          "output_type": "display_data",
          "data": {
            "text/plain": [
              "'min of rand:'"
            ]
          },
          "metadata": {
            "tags": []
          }
        },
        {
          "output_type": "display_data",
          "data": {
            "text/plain": [
              "0.009108614468609999"
            ]
          },
          "metadata": {
            "tags": []
          }
        },
        {
          "output_type": "display_data",
          "data": {
            "text/plain": [
              "'max of rand:'"
            ]
          },
          "metadata": {
            "tags": []
          }
        },
        {
          "output_type": "display_data",
          "data": {
            "text/plain": [
              "0.9855918201362028"
            ]
          },
          "metadata": {
            "tags": []
          }
        }
      ]
    },
    {
      "cell_type": "markdown",
      "metadata": {
        "id": "JYFjSo0OLqA3",
        "colab_type": "text"
      },
      "source": [
        "2. Creating a Matrix\n",
        "We Create a 2-D Array in Numpy and call it a Matrix. It contains 2 rows and 3 columns."
      ]
    },
    {
      "cell_type": "code",
      "metadata": {
        "id": "fJlDBq5rLmA-",
        "colab_type": "code",
        "outputId": "99de1cbe-e55f-4c4d-ad2b-a1386853a17f",
        "colab": {
          "base_uri": "https://localhost:8080/",
          "height": 108
        }
      },
      "source": [
        "m1 = np.zeros((2,3))\n",
        "display(m1)\n",
        "\n",
        "matrix = np.array([[6,2,3],[4,5,6]])\n",
        "display(matrix)\n",
        "matrix.argmax(axis=0)\n",
        "#display('matrix:',matrix)\n",
        "#display('matrix shape:', matrix.shape)"
      ],
      "execution_count": 2,
      "outputs": [
        {
          "output_type": "display_data",
          "data": {
            "text/plain": [
              "array([[0., 0., 0.],\n",
              "       [0., 0., 0.]])"
            ]
          },
          "metadata": {
            "tags": []
          }
        },
        {
          "output_type": "display_data",
          "data": {
            "text/plain": [
              "array([[6, 2, 3],\n",
              "       [4, 5, 6]])"
            ]
          },
          "metadata": {
            "tags": []
          }
        },
        {
          "output_type": "execute_result",
          "data": {
            "text/plain": [
              "array([0, 1, 1])"
            ]
          },
          "metadata": {
            "tags": []
          },
          "execution_count": 2
        }
      ]
    },
    {
      "cell_type": "markdown",
      "metadata": {
        "id": "wv99hZqULygH",
        "colab_type": "text"
      },
      "source": [
        "3. Selecting Elements\n"
      ]
    },
    {
      "cell_type": "code",
      "metadata": {
        "id": "ZLQlxFzkPrKM",
        "colab_type": "code",
        "outputId": "a0312ef9-4421-454a-97ff-75869d75b6cb",
        "colab": {
          "base_uri": "https://localhost:8080/",
          "height": 144
        }
      },
      "source": [
        "display(matrix[0,0]) # first row fist col\n",
        "display(matrix[0,-1]) # first row last col\n",
        "display(matrix[0,-2]) # first row second last col\n",
        "display(matrix[0,1:]) # first row second last col\n",
        "display(matrix[0,:-1]) # first row second from col 0 - col 1\n",
        "display(matrix[0,0:2]) # first row second from col 0 - col 1\n",
        "display(matrix[-1,0:2]) # last row second from col 0 - col 1\n"
      ],
      "execution_count": 3,
      "outputs": [
        {
          "output_type": "display_data",
          "data": {
            "text/plain": [
              "6"
            ]
          },
          "metadata": {
            "tags": []
          }
        },
        {
          "output_type": "display_data",
          "data": {
            "text/plain": [
              "3"
            ]
          },
          "metadata": {
            "tags": []
          }
        },
        {
          "output_type": "display_data",
          "data": {
            "text/plain": [
              "2"
            ]
          },
          "metadata": {
            "tags": []
          }
        },
        {
          "output_type": "display_data",
          "data": {
            "text/plain": [
              "array([2, 3])"
            ]
          },
          "metadata": {
            "tags": []
          }
        },
        {
          "output_type": "display_data",
          "data": {
            "text/plain": [
              "array([6, 2])"
            ]
          },
          "metadata": {
            "tags": []
          }
        },
        {
          "output_type": "display_data",
          "data": {
            "text/plain": [
              "array([6, 2])"
            ]
          },
          "metadata": {
            "tags": []
          }
        },
        {
          "output_type": "display_data",
          "data": {
            "text/plain": [
              "array([4, 5])"
            ]
          },
          "metadata": {
            "tags": []
          }
        }
      ]
    },
    {
      "cell_type": "markdown",
      "metadata": {
        "id": "QO3vTGEKQhm7",
        "colab_type": "text"
      },
      "source": [
        "4. Describing a Matrix"
      ]
    },
    {
      "cell_type": "code",
      "metadata": {
        "id": "q8bDjBhhQpg5",
        "colab_type": "code",
        "outputId": "b3408630-21c0-4054-ee28-a75f65ac183e",
        "colab": {
          "base_uri": "https://localhost:8080/",
          "height": 72
        }
      },
      "source": [
        "#View the Number of Rows and Columns\n",
        "print(matrix.shape)\n",
        "#View the number of elements (rows*columns)\n",
        "print(matrix.size)\n",
        "#View the number of Dimensions(2 in this case)\n",
        "print(matrix.ndim)"
      ],
      "execution_count": 4,
      "outputs": [
        {
          "output_type": "stream",
          "text": [
            "(2, 3)\n",
            "6\n",
            "2\n"
          ],
          "name": "stdout"
        }
      ]
    },
    {
      "cell_type": "markdown",
      "metadata": {
        "id": "eKISvY8kQtA0",
        "colab_type": "text"
      },
      "source": [
        "5. Finding the max and min values"
      ]
    },
    {
      "cell_type": "code",
      "metadata": {
        "id": "abPJd0JrQ4mM",
        "colab_type": "code",
        "outputId": "a81ad2e1-6ed2-4fd6-94f1-1e8c0758cf98",
        "colab": {
          "base_uri": "https://localhost:8080/",
          "height": 235
        }
      },
      "source": [
        "display(matrix)\n",
        "matrix.min(axis=0)\n",
        "\n",
        "np.min(matrix, axis=1)\n",
        "np.max(matrix, axis=1)\n",
        "display('arg',np.argmax(matrix, axis=0))\n",
        "display('max',np.max(matrix, axis=0))\n",
        "display('max',np.argmax(matrix))\n",
        "\n",
        "np.argwhere(matrix == np.max(matrix))\n",
        "np.argwhere(matrix < np.max(matrix))\n",
        "\n",
        "\n"
      ],
      "execution_count": 5,
      "outputs": [
        {
          "output_type": "display_data",
          "data": {
            "text/plain": [
              "array([[6, 2, 3],\n",
              "       [4, 5, 6]])"
            ]
          },
          "metadata": {
            "tags": []
          }
        },
        {
          "output_type": "display_data",
          "data": {
            "text/plain": [
              "'arg'"
            ]
          },
          "metadata": {
            "tags": []
          }
        },
        {
          "output_type": "display_data",
          "data": {
            "text/plain": [
              "array([0, 1, 1])"
            ]
          },
          "metadata": {
            "tags": []
          }
        },
        {
          "output_type": "display_data",
          "data": {
            "text/plain": [
              "'max'"
            ]
          },
          "metadata": {
            "tags": []
          }
        },
        {
          "output_type": "display_data",
          "data": {
            "text/plain": [
              "array([6, 5, 6])"
            ]
          },
          "metadata": {
            "tags": []
          }
        },
        {
          "output_type": "display_data",
          "data": {
            "text/plain": [
              "'max'"
            ]
          },
          "metadata": {
            "tags": []
          }
        },
        {
          "output_type": "display_data",
          "data": {
            "text/plain": [
              "0"
            ]
          },
          "metadata": {
            "tags": []
          }
        },
        {
          "output_type": "execute_result",
          "data": {
            "text/plain": [
              "array([[0, 1],\n",
              "       [0, 2],\n",
              "       [1, 0],\n",
              "       [1, 1]])"
            ]
          },
          "metadata": {
            "tags": []
          },
          "execution_count": 5
        }
      ]
    },
    {
      "cell_type": "markdown",
      "metadata": {
        "id": "3Qm64s_eR0zQ",
        "colab_type": "text"
      },
      "source": [
        "6. Reshaping Arrays\n"
      ]
    },
    {
      "cell_type": "code",
      "metadata": {
        "id": "Pwepq7h_SBBD",
        "colab_type": "code",
        "outputId": "f9497742-c844-4700-b630-d2eba26193dd",
        "colab": {
          "base_uri": "https://localhost:8080/",
          "height": 35
        }
      },
      "source": [
        "matrix.shape\n",
        "matrix.reshape((3,2))\n",
        "matrix.reshape((6,1))\n",
        "matrix.reshape((1,6))\n",
        "matrix.reshape((1,2,3))  # dim 0 size = 1, dim 1 = 2, dim 2 = 3\n",
        "matrix.reshape((1,-1,3)).shape  # dim 0 size = 1, dim 1 = 2, dim 2 = 3\n",
        "\n"
      ],
      "execution_count": 6,
      "outputs": [
        {
          "output_type": "execute_result",
          "data": {
            "text/plain": [
              "(1, 2, 3)"
            ]
          },
          "metadata": {
            "tags": []
          },
          "execution_count": 6
        }
      ]
    },
    {
      "cell_type": "markdown",
      "metadata": {
        "id": "cJU3xABuVem_",
        "colab_type": "text"
      },
      "source": [
        "7. Calculating Dot Products"
      ]
    },
    {
      "cell_type": "code",
      "metadata": {
        "id": "cPKg382VVivy",
        "colab_type": "code",
        "outputId": "95d11ae8-1448-43f9-c057-ac58ddde9358",
        "colab": {
          "base_uri": "https://localhost:8080/",
          "height": 72
        }
      },
      "source": [
        "\n",
        "#Create vector-1\n",
        "vector_1 = np.array([ 1,2,3 ])\n",
        "#Create vector-2\n",
        "vector_2 = np.array([ 4,5,6 ])\n",
        "\n",
        "display(vector_1.shape)\n",
        "#Calculate Dot Product\n",
        "print(np.dot(vector_1,vector_2))\n",
        "#Alternatively you can use @ to calculate dot products\n",
        "print(vector_1 @ vector_2)"
      ],
      "execution_count": 7,
      "outputs": [
        {
          "output_type": "display_data",
          "data": {
            "text/plain": [
              "(3,)"
            ]
          },
          "metadata": {
            "tags": []
          }
        },
        {
          "output_type": "stream",
          "text": [
            "32\n",
            "32\n"
          ],
          "name": "stdout"
        }
      ]
    },
    {
      "cell_type": "markdown",
      "metadata": {
        "id": "cB-jK7jEXY7F",
        "colab_type": "text"
      },
      "source": [
        "##Linear regression in Numpy:\n",
        "\n",
        "---\n",
        "\n",
        "\n",
        "\n",
        "Write the numpy code for the following model:\n",
        "\n",
        "$Y=WX+B$\n",
        "\n",
        "where $X$ is 3x10 matrix:  10 samples and 3 features\n",
        "\n",
        "$Y$ is 4x10 matrix: 10 samples and 4 outputs\n",
        "\n",
        "$W$ is the weights matrix with the shape 4x3: connecting 3 inputs to 4 outputs\n",
        "\n",
        "$b$ is a vector with a size 4 ( one bias per output)\n"
      ]
    },
    {
      "cell_type": "code",
      "metadata": {
        "id": "_EtM5LVtWCpm",
        "colab_type": "code",
        "outputId": "57d1de02-6dce-40a3-b45a-0a5b338a4b36",
        "colab": {
          "base_uri": "https://localhost:8080/",
          "height": 90
        }
      },
      "source": [
        "# inputs or features matrix\n",
        "X = np.random.rand(3,10)\n",
        "display('shape of X', X.shape)\n",
        "\n",
        "# weights matrix\n",
        "W = np.random.rand(4,3)\n",
        "\n",
        "#bias \n",
        "b = np.zeros((4,1))\n",
        "\n",
        "# regression model\n",
        "Y= np.dot(W,X) + b # 4x3 , 3x10\n",
        "\n",
        "display('Y:', Y.shape)\n",
        "\n",
        "\n",
        "\n"
      ],
      "execution_count": 8,
      "outputs": [
        {
          "output_type": "display_data",
          "data": {
            "text/plain": [
              "'shape of X'"
            ]
          },
          "metadata": {
            "tags": []
          }
        },
        {
          "output_type": "display_data",
          "data": {
            "text/plain": [
              "(3, 10)"
            ]
          },
          "metadata": {
            "tags": []
          }
        },
        {
          "output_type": "display_data",
          "data": {
            "text/plain": [
              "'Y:'"
            ]
          },
          "metadata": {
            "tags": []
          }
        },
        {
          "output_type": "display_data",
          "data": {
            "text/plain": [
              "(4, 10)"
            ]
          },
          "metadata": {
            "tags": []
          }
        }
      ]
    },
    {
      "cell_type": "markdown",
      "metadata": {
        "id": "hMIoucH9hFfr",
        "colab_type": "text"
      },
      "source": [
        "## One neuron model in numpy:\n",
        "\n",
        "A single neuron has multiple inputs and one output, in addition to the linear regression model, we need to add non linearity through an activation function:\n",
        "\n",
        "$Y= f(WX+B)$\n",
        "\n",
        "where $X$ is n x m matrix:  m samples and n features/inputs\n",
        "\n",
        "$f(g)= \\frac{1}{1+\\exp(-g)}$  is a sigmoid acitavation function\n",
        "\n",
        "$Y$ is nh1 x m matrix: m samples and ny outputs\n",
        "\n",
        "$W$ is the weights matrix with the shape nh1 x n: connecting 3 inputs to 4 outputs\n",
        "\n",
        "$b$ is a vector with a size nh1 ( one bias per output)\n",
        "\n",
        "\n",
        "\n"
      ]
    },
    {
      "cell_type": "code",
      "metadata": {
        "id": "Qry1JDGEiLmx",
        "colab_type": "code",
        "colab": {
          "base_uri": "https://localhost:8080/",
          "height": 1489
        },
        "outputId": "d29017b8-cf0c-48a8-aeca-88a30e59e3c9"
      },
      "source": [
        "#def f(x):\n",
        "    \n",
        "    \n",
        "#    return 1.0/(1.0 + np.exp(-x))\n",
        "    \n",
        "num_inputs = 3\n",
        "num_outputs = 4\n",
        "num_samples = 100\n",
        "\n",
        "f = lambda x: 1.0/(1.0 + np.exp(-x)) # activation function (use sigmoid)\n",
        "\n",
        "\n",
        "X = np.random.rand(num_inputs,num_samples)\n",
        "\n",
        "\n",
        "# Generate a random weights vector\n",
        "W = np.random.rand(num_outputs,num_inputs)\n",
        "\n",
        "\n",
        "# Generate a random bias \n",
        "b = np.random.rand(num_outputs,1)\n",
        "\n",
        "# Calculate Y\n",
        "Y= f(np.dot(W,X) + b)\n",
        "display(Y)\n",
        "display(Y.shape)\n"
      ],
      "execution_count": 9,
      "outputs": [
        {
          "output_type": "display_data",
          "data": {
            "text/plain": [
              "array([[0.57487148, 0.71237742, 0.74805121, 0.77944107, 0.72809592,\n",
              "        0.59181022, 0.6739676 , 0.69315006, 0.69865481, 0.74870756,\n",
              "        0.61105351, 0.64698831, 0.71064251, 0.59495024, 0.80615581,\n",
              "        0.82718431, 0.75732094, 0.77818066, 0.7111121 , 0.7700772 ,\n",
              "        0.53897577, 0.79783023, 0.77968356, 0.57625775, 0.6766903 ,\n",
              "        0.69142398, 0.71254469, 0.77430295, 0.84627085, 0.83053088,\n",
              "        0.69683085, 0.56572899, 0.74650898, 0.75844396, 0.63013613,\n",
              "        0.70605445, 0.80286169, 0.70677346, 0.56744643, 0.81774681,\n",
              "        0.7122759 , 0.70269311, 0.65281975, 0.63405673, 0.83641084,\n",
              "        0.82262517, 0.69366626, 0.74920852, 0.65212037, 0.70907592,\n",
              "        0.6323665 , 0.76787532, 0.77278452, 0.62591988, 0.80859473,\n",
              "        0.69274536, 0.72216037, 0.7011004 , 0.58600145, 0.73282599,\n",
              "        0.78696301, 0.70243175, 0.73084577, 0.65748334, 0.78633075,\n",
              "        0.74625736, 0.756157  , 0.71552228, 0.78733423, 0.78961789,\n",
              "        0.65041651, 0.71992073, 0.72627118, 0.6909298 , 0.83034408,\n",
              "        0.65263311, 0.60555828, 0.8075074 , 0.74704266, 0.77890862,\n",
              "        0.80493072, 0.69995087, 0.77733547, 0.6842801 , 0.70819009,\n",
              "        0.75459107, 0.7282311 , 0.7822093 , 0.66392679, 0.75181209,\n",
              "        0.66257418, 0.79556371, 0.681299  , 0.68749995, 0.57777106,\n",
              "        0.7220833 , 0.65226829, 0.65381807, 0.71047875, 0.70745479],\n",
              "       [0.66788896, 0.72887553, 0.76055667, 0.82113665, 0.77253014,\n",
              "        0.66998545, 0.77628514, 0.72016414, 0.72842029, 0.76662508,\n",
              "        0.72811758, 0.70226058, 0.73659282, 0.72195198, 0.82390293,\n",
              "        0.84001528, 0.77764058, 0.81600744, 0.81725972, 0.77693162,\n",
              "        0.68231704, 0.80472836, 0.81456437, 0.72804991, 0.76748132,\n",
              "        0.80019844, 0.77618359, 0.82291055, 0.84098583, 0.84641509,\n",
              "        0.76472313, 0.70805725, 0.73824754, 0.80256631, 0.6815424 ,\n",
              "        0.72591387, 0.83172023, 0.77917567, 0.69401383, 0.82531394,\n",
              "        0.80962402, 0.75787891, 0.71569844, 0.70064244, 0.84682166,\n",
              "        0.8176256 , 0.76578905, 0.76214568, 0.70526879, 0.77427091,\n",
              "        0.77833039, 0.77451531, 0.78903088, 0.75165332, 0.79505695,\n",
              "        0.71398015, 0.71792076, 0.8140711 , 0.69162271, 0.81137442,\n",
              "        0.84761598, 0.79840703, 0.73062391, 0.76433994, 0.80585055,\n",
              "        0.73080703, 0.81601892, 0.75730193, 0.84131371, 0.82787778,\n",
              "        0.7617281 , 0.74483075, 0.79522295, 0.77867876, 0.82805496,\n",
              "        0.7671124 , 0.7309041 , 0.82847681, 0.81618909, 0.83197381,\n",
              "        0.80410056, 0.79461048, 0.79129315, 0.78717831, 0.75057574,\n",
              "        0.77303153, 0.76895452, 0.78252128, 0.75820071, 0.82426191,\n",
              "        0.68326356, 0.8335822 , 0.70049162, 0.73873702, 0.74050166,\n",
              "        0.77898015, 0.80190726, 0.69710118, 0.75916795, 0.76811181],\n",
              "       [0.6076242 , 0.74683231, 0.78899255, 0.73105178, 0.75225386,\n",
              "        0.63755289, 0.71131014, 0.77561922, 0.72413262, 0.74277562,\n",
              "        0.66294913, 0.73478033, 0.77827672, 0.60828686, 0.79120104,\n",
              "        0.83207751, 0.77057195, 0.77093705, 0.70029525, 0.77253688,\n",
              "        0.60638726, 0.82181977, 0.80318588, 0.60832883, 0.6947934 ,\n",
              "        0.70842305, 0.67813364, 0.7434548 , 0.83321905, 0.82533665,\n",
              "        0.73047174, 0.62597061, 0.77686123, 0.77877094, 0.68285358,\n",
              "        0.76469196, 0.78794439, 0.73103486, 0.5900462 , 0.81403687,\n",
              "        0.66732585, 0.71450428, 0.71699992, 0.67829742, 0.83834078,\n",
              "        0.8073383 , 0.73101834, 0.783115  , 0.69098587, 0.7516275 ,\n",
              "        0.65042013, 0.76462554, 0.81271187, 0.64504186, 0.8083365 ,\n",
              "        0.77003121, 0.77273155, 0.65792746, 0.63584752, 0.70460153,\n",
              "        0.77502654, 0.64478776, 0.77286388, 0.70385033, 0.78261049,\n",
              "        0.76648635, 0.76114136, 0.71181861, 0.77802856, 0.77783138,\n",
              "        0.63103128, 0.75173656, 0.72808661, 0.65932478, 0.81254317,\n",
              "        0.64205784, 0.61300856, 0.82331364, 0.69018419, 0.77989176,\n",
              "        0.79742402, 0.72747309, 0.77699047, 0.69800861, 0.77057101,\n",
              "        0.77984067, 0.78106066, 0.80318181, 0.65649959, 0.7251303 ,\n",
              "        0.71423414, 0.80307223, 0.70715134, 0.71252005, 0.63333614,\n",
              "        0.70074736, 0.6644302 , 0.68199393, 0.70802266, 0.68146571],\n",
              "       [0.58629182, 0.71053626, 0.77559716, 0.76181712, 0.76710444,\n",
              "        0.60966266, 0.77957049, 0.75994089, 0.6944772 , 0.72047039,\n",
              "        0.7131855 , 0.72788998, 0.7677805 , 0.65371232, 0.80697741,\n",
              "        0.85640223, 0.76552121, 0.80226015, 0.79618012, 0.75139637,\n",
              "        0.64948637, 0.82662987, 0.83600437, 0.68456037, 0.744432  ,\n",
              "        0.79611792, 0.69775626, 0.78598816, 0.83725997, 0.85412905,\n",
              "        0.76165978, 0.68499633, 0.726707  , 0.81201718, 0.64457415,\n",
              "        0.73883359, 0.81941246, 0.77402741, 0.61530048, 0.82386544,\n",
              "        0.74643977, 0.7244874 , 0.71771253, 0.66408337, 0.86329889,\n",
              "        0.79684461, 0.76717737, 0.76851221, 0.66745262, 0.78859291,\n",
              "        0.75664844, 0.73919609, 0.81999579, 0.713841  , 0.7809455 ,\n",
              "        0.74404655, 0.71991789, 0.75647257, 0.64900277, 0.76856291,\n",
              "        0.84661913, 0.71078865, 0.72859945, 0.76927547, 0.79110969,\n",
              "        0.6995087 , 0.81429708, 0.70464806, 0.83975362, 0.81641626,\n",
              "        0.68739103, 0.73317852, 0.7753915 , 0.70511639, 0.8105009 ,\n",
              "        0.70757018, 0.66273893, 0.85062406, 0.74432837, 0.83591943,\n",
              "        0.78476937, 0.79982497, 0.7714815 , 0.77164458, 0.77941868,\n",
              "        0.77405092, 0.79781242, 0.78778002, 0.69684109, 0.79284259,\n",
              "        0.6527594 , 0.84680421, 0.64663118, 0.70856095, 0.73158576,\n",
              "        0.71965607, 0.78995491, 0.63973875, 0.70897822, 0.69378384]])"
            ]
          },
          "metadata": {
            "tags": []
          }
        },
        {
          "output_type": "display_data",
          "data": {
            "text/plain": [
              "(4, 100)"
            ]
          },
          "metadata": {
            "tags": []
          }
        }
      ]
    },
    {
      "cell_type": "markdown",
      "metadata": {
        "id": "aSnbti9ooIIs",
        "colab_type": "text"
      },
      "source": [
        "## two hidden layers model in numpy:\n",
        "\n",
        "The difference from the one neuron model is simple:  we need only to change the number of output \"ny\""
      ]
    },
    {
      "cell_type": "code",
      "metadata": {
        "id": "ZAY3o6zBnpA0",
        "colab_type": "code",
        "outputId": "51e1f245-301e-47b4-b458-fc417cc51008",
        "colab": {
          "base_uri": "https://localhost:8080/",
          "height": 53
        }
      },
      "source": [
        "num_inputs = 3\n",
        "hidden_layer_1_outputs = 4\n",
        "hidden_layer_2_outputs = 3\n",
        "\n",
        "num_samples = 100\n",
        "\n",
        "f = lambda x: 1.0/(1.0 + np.exp(-x)) # activation function (use sigmoid)\n",
        "\n",
        "\n",
        "X = np.random.rand(num_inputs,num_samples)\n",
        "\n",
        "\n",
        "# Generate a random weights vector for the first hidden layer\n",
        "W_h1 = np.random.rand(hidden_layer_1_outputs,num_inputs)\n",
        "\n",
        "# Generate a random weights vector for the second hidden layer\n",
        "W_h2 = np.random.rand(hidden_layer_2_outputs,hidden_layer_1_outputs)\n",
        "\n",
        "# Generate a random bias for hidden layer 1\n",
        "b_h1 = np.random.rand(hidden_layer_1_outputs,1)\n",
        "\n",
        "# Generate a random bias for hidden layer 1\n",
        "b_h2 = np.random.rand(hidden_layer_2_outputs,1)\n",
        "\n",
        "\n",
        "# Calculate output of hidden layer 1\n",
        "h1= f(np.dot(W_h1,X) + b_h1)\n",
        "display(h1.shape)\n",
        "\n",
        "# Calculate output of hidden layer 2\n",
        "h2= f(np.dot(W_h2,h1) + b_h2)\n",
        "display(h2.shape)\n"
      ],
      "execution_count": 10,
      "outputs": [
        {
          "output_type": "display_data",
          "data": {
            "text/plain": [
              "(4, 100)"
            ]
          },
          "metadata": {
            "tags": []
          }
        },
        {
          "output_type": "display_data",
          "data": {
            "text/plain": [
              "(3, 100)"
            ]
          },
          "metadata": {
            "tags": []
          }
        }
      ]
    },
    {
      "cell_type": "markdown",
      "metadata": {
        "id": "11fqb_bQvIEi",
        "colab_type": "text"
      },
      "source": [
        "## Gradient descent in Numpy:\n",
        "Let us now start training a neural network\n",
        "We start by implementing a simple gradient descent for linear regression"
      ]
    },
    {
      "cell_type": "code",
      "metadata": {
        "id": "mzBJxwb7FFZ2",
        "colab_type": "code",
        "outputId": "50f9771e-f81c-4234-ac45-c13057730345",
        "colab": {
          "base_uri": "https://localhost:8080/",
          "height": 3705
        }
      },
      "source": [
        "converged = False\n",
        "iter = 0\n",
        "m = 10 # Number of samples\n",
        "ni= 1 # Number of input neurons\n",
        "h = 1 # Number of hidden layers\n",
        "no =1 # Number of neurons in the output layer\n",
        "\n",
        "# Generate a random X (we do not have a real data)\n",
        "X = np.random.rand(m)\n",
        "display(X)\n",
        "\n",
        "# learning rate\n",
        "alpha =0.01\n",
        "\n",
        "# early stop criteria \n",
        "ep=0.001\n",
        "\n",
        "# maximum number of training iterations\n",
        "max_iter=100\n",
        "\n",
        "# Generate a random weights vector for the output layer\n",
        "W1 = np.random.rand()\n",
        "\n",
        "# Generate a random bias for the output layer \n",
        "b1 = np.random.rand()\n",
        "\n",
        "# Generate a random ground truth\n",
        "Y_gr = np.random.rand(m)\n",
        "\n",
        "\n",
        "J = sum([(b1 + W1*X[i] - Y_gr[i])**2 for i in range(m)]) #cost function sum of squared error\n",
        "\n",
        "while not converged:\n",
        "        print('Interations:' , iter)\n",
        "        \n",
        "        # for each training sample, compute the gradient (d/d_theta j(theta))\n",
        "        grad0 = 1.0/m * sum([(b1 + W1*X[i] - Y_gr[i]) for i in range(m)]) \n",
        "        grad1 = 1.0/m * sum([(b1 + W1*X[i] - Y_gr[i])*X[i] for i in range(m)])\n",
        "        \n",
        "        # update the theta_temp\n",
        "        temp0 = b1 - alpha * grad0\n",
        "        temp1 = W1 - alpha * grad1\n",
        "        # update theta\n",
        "        b1 = temp0\n",
        "        W1 = temp1\n",
        "        \n",
        "        # sum squared error\n",
        "        e = sum([(b1 + W1*X[i] - Y_gr[i])**2 for i in range(m)]) \n",
        "        print('Error:', e)\n",
        "\n",
        "        if abs(J-e) <= ep:\n",
        "            print('Converged, iterations: ', iter, '!!!')\n",
        "            converged = True\n",
        "    \n",
        "        J = e   # update error \n",
        "        iter += 1  # update iter\n",
        "    \n",
        "        if iter == max_iter:\n",
        "            print('Max interactions exceeded!')\n",
        "            converged = True"
      ],
      "execution_count": 11,
      "outputs": [
        {
          "output_type": "display_data",
          "data": {
            "text/plain": [
              "array([0.54854731, 0.14911114, 0.8263404 , 0.73572806, 0.9079319 ,\n",
              "       0.25574327, 0.55806996, 0.08219428, 0.18487915, 0.82173317])"
            ]
          },
          "metadata": {
            "tags": []
          }
        },
        {
          "output_type": "stream",
          "text": [
            "Interations: 0\n",
            "Error: 5.366182430784147\n",
            "Interations: 1\n",
            "Error: 5.258857384991554\n",
            "Interations: 2\n",
            "Error: 5.154240068346569\n",
            "Interations: 3\n",
            "Error: 5.052261817695072\n",
            "Interations: 4\n",
            "Error: 4.952855711548946\n",
            "Interations: 5\n",
            "Error: 4.8559565259073745\n",
            "Interations: 6\n",
            "Error: 4.761500691198788\n",
            "Interations: 7\n",
            "Error: 4.669426250315025\n",
            "Interations: 8\n",
            "Error: 4.579672817709959\n",
            "Interations: 9\n",
            "Error: 4.492181539535635\n",
            "Interations: 10\n",
            "Error: 4.406895054789598\n",
            "Interations: 11\n",
            "Error: 4.323757457447726\n",
            "Interations: 12\n",
            "Error: 4.242714259557607\n",
            "Interations: 13\n",
            "Error: 4.163712355268078\n",
            "Interations: 14\n",
            "Error: 4.086699985771188\n",
            "Interations: 15\n",
            "Error: 4.011626705133418\n",
            "Interations: 16\n",
            "Error: 3.93844334699365\n",
            "Interations: 17\n",
            "Error: 3.8671019921058356\n",
            "Interations: 18\n",
            "Error: 3.7975559367049887\n",
            "Interations: 19\n",
            "Error: 3.7297596616755997\n",
            "Interations: 20\n",
            "Error: 3.6636688025020994\n",
            "Interations: 21\n",
            "Error: 3.599240119981587\n",
            "Interations: 22\n",
            "Error: 3.536431471679412\n",
            "Interations: 23\n",
            "Error: 3.4752017841088345\n",
            "Interations: 24\n",
            "Error: 3.4155110256163654\n",
            "Interations: 25\n",
            "Error: 3.3573201799548866\n",
            "Interations: 26\n",
            "Error: 3.3005912205271093\n",
            "Interations: 27\n",
            "Error: 3.2452870852823734\n",
            "Interations: 28\n",
            "Error: 3.191371652250202\n",
            "Interations: 29\n",
            "Error: 3.1388097156944723\n",
            "Interations: 30\n",
            "Error: 3.0875669628724483\n",
            "Interations: 31\n",
            "Error: 3.0376099513833488\n",
            "Interations: 32\n",
            "Error: 2.9889060870914714\n",
            "Interations: 33\n",
            "Error: 2.941423602609333\n",
            "Interations: 34\n",
            "Error: 2.8951315363265837\n",
            "Interations: 35\n",
            "Error: 2.849999711970879\n",
            "Interations: 36\n",
            "Error: 2.805998718687206\n",
            "Interations: 37\n",
            "Error: 2.763099891622512\n",
            "Interations: 38\n",
            "Error: 2.7212752930028152\n",
            "Interations: 39\n",
            "Error: 2.6804976936903144\n",
            "Interations: 40\n",
            "Error: 2.6407405552083154\n",
            "Interations: 41\n",
            "Error: 2.6019780122221094\n",
            "Interations: 42\n",
            "Error: 2.5641848554642355\n",
            "Interations: 43\n",
            "Error: 2.5273365150928604\n",
            "Interations: 44\n",
            "Error: 2.491409044472284\n",
            "Interations: 45\n",
            "Error: 2.4563791043648644\n",
            "Interations: 46\n",
            "Error: 2.422223947523931\n",
            "Interations: 47\n",
            "Error: 2.388921403677502\n",
            "Interations: 48\n",
            "Error: 2.356449864892914\n",
            "Interations: 49\n",
            "Error: 2.324788271312678\n",
            "Interations: 50\n",
            "Error: 2.29391609725216\n",
            "Interations: 51\n",
            "Error: 2.2638133376499083\n",
            "Interations: 52\n",
            "Error: 2.2344604948616755\n",
            "Interations: 53\n",
            "Error: 2.20583856578942\n",
            "Interations: 54\n",
            "Error: 2.177929029336793\n",
            "Interations: 55\n",
            "Error: 2.150713834182823\n",
            "Interations: 56\n",
            "Error: 2.124175386865735\n",
            "Interations: 57\n",
            "Error: 2.0982965401690286\n",
            "Interations: 58\n",
            "Error: 2.0730605818021575\n",
            "Interations: 59\n",
            "Error: 2.048451223368323\n",
            "Interations: 60\n",
            "Error: 2.0244525896121206\n",
            "Interations: 61\n",
            "Error: 2.0010492079399187\n",
            "Interations: 62\n",
            "Error: 1.9782259982060653\n",
            "Interations: 63\n",
            "Error: 1.9559682627581731\n",
            "Interations: 64\n",
            "Error: 1.9342616767349154\n",
            "Interations: 65\n",
            "Error: 1.9130922786099287\n",
            "Interations: 66\n",
            "Error: 1.892446460975569\n",
            "Interations: 67\n",
            "Error: 1.8723109615604518\n",
            "Interations: 68\n",
            "Error: 1.852672854474839\n",
            "Interations: 69\n",
            "Error: 1.8335195416780887\n",
            "Interations: 70\n",
            "Error: 1.8148387446625438\n",
            "Interations: 71\n",
            "Error: 1.7966184963483647\n",
            "Interations: 72\n",
            "Error: 1.7788471331839553\n",
            "Interations: 73\n",
            "Error: 1.7615132874467658\n",
            "Interations: 74\n",
            "Error: 1.7446058797393957\n",
            "Interations: 75\n",
            "Error: 1.7281141116760361\n",
            "Interations: 76\n",
            "Error: 1.7120274587544269\n",
            "Interations: 77\n",
            "Error: 1.6963356634086229\n",
            "Interations: 78\n",
            "Error: 1.6810287282379792\n",
            "Interations: 79\n",
            "Error: 1.6660969094078943\n",
            "Interations: 80\n",
            "Error: 1.6515307102179415\n",
            "Interations: 81\n",
            "Error: 1.6373208748331547\n",
            "Interations: 82\n",
            "Error: 1.6234583821743223\n",
            "Interations: 83\n",
            "Error: 1.6099344399632616\n",
            "Interations: 84\n",
            "Error: 1.596740478919135\n",
            "Interations: 85\n",
            "Error: 1.583868147101985\n",
            "Interations: 86\n",
            "Error: 1.5713093043997488\n",
            "Interations: 87\n",
            "Error: 1.5590560171551096\n",
            "Interations: 88\n",
            "Error: 1.5471005529286528\n",
            "Interations: 89\n",
            "Error: 1.5354353753948462\n",
            "Interations: 90\n",
            "Error: 1.5240531393674959\n",
            "Interations: 91\n",
            "Error: 1.5129466859513825\n",
            "Interations: 92\n",
            "Error: 1.5021090378168787\n",
            "Interations: 93\n",
            "Error: 1.4915333945944351\n",
            "Interations: 94\n",
            "Error: 1.4812131283858803\n",
            "Interations: 95\n",
            "Error: 1.471141779389587\n",
            "Interations: 96\n",
            "Error: 1.4613130516366062\n",
            "Interations: 97\n",
            "Error: 1.4517208088349585\n",
            "Interations: 98\n",
            "Error: 1.4423590703193376\n",
            "Interations: 99\n",
            "Error: 1.4332220071035549\n",
            "Max interactions exceeded!\n"
          ],
          "name": "stdout"
        }
      ]
    },
    {
      "cell_type": "code",
      "metadata": {
        "id": "QaQyLoxk2FyG",
        "colab_type": "code",
        "colab": {}
      },
      "source": [
        ""
      ],
      "execution_count": 0,
      "outputs": []
    },
    {
      "cell_type": "markdown",
      "metadata": {
        "id": "wIhynegemm37",
        "colab_type": "text"
      },
      "source": [
        "# Test 1"
      ]
    },
    {
      "cell_type": "markdown",
      "metadata": {
        "id": "jRqCCVlmFIZl",
        "colab_type": "text"
      },
      "source": [
        "##Assignment 1\n",
        "### Backpropagation in Numpy:\n"
      ]
    },
    {
      "cell_type": "code",
      "metadata": {
        "id": "LPhS5hYRWzBA",
        "colab_type": "code",
        "colab": {
          "base_uri": "https://localhost:8080/",
          "height": 3705
        },
        "outputId": "d91e22ef-4654-4834-d6d8-62296cfbdc4b"
      },
      "source": [
        "\n",
        "num_inputs = 4\n",
        "hidden_layer_1_outputs = 4\n",
        "hidden_layer_2_outputs = 3\n",
        "\n",
        "num_samples = 10\n",
        "\n",
        "f = lambda x: 1.0/(1.0 + np.exp(-x)) # activation function (use sigmoid)\n",
        "\n",
        "\n",
        "X = np.random.rand(num_samples,num_inputs-1) # 10x4\n",
        "\n",
        "X = np.hstack((np.ones((X.shape[0], 1)), X))\n",
        "\n",
        "display(X.shape)\n",
        "\n",
        "# Generate a random weights vector for the first hidden layer\n",
        "W_h1 = np.random.rand(num_inputs,hidden_layer_1_outputs) # 4x4\n",
        "\n",
        "# Generate a random weights vector for the second hidden layer\n",
        "W_h2 = np.random.rand(hidden_layer_1_outputs+1,hidden_layer_2_outputs)\n",
        "\n",
        "\n",
        "\n",
        "\n",
        "# Calculate output of hidden layer 1\n",
        "h1= f(np.dot(X,W_h1))\n",
        "display(h1.shape)\n",
        "\n",
        "# Calculate output of hidden layer 2\n",
        "#h2= f(np.dot(h1,W_h2))\n",
        "#display(h2.shape)\n",
        "\n",
        "\n",
        "# learning rate\n",
        "alpha =0.01\n",
        "\n",
        "# early stop criteria \n",
        "ep=0.001\n",
        "\n",
        "\n",
        "# maximum number of training iterations\n",
        "max_iter=100\n",
        "\n",
        "# Generate a random ground truth\n",
        "Y_gr = np.random.rand(hidden_layer_2_outputs,num_samples)\n",
        "\n",
        "#J = sum([(h2 - Y_gr[:,i])**2 for i in range(num_samples)]) #cost function sum of squared error\n",
        "print(J)\n",
        "\n",
        "#while not converged:\n",
        "for i in range(100):\n",
        "        #print('Interations:' , iter)\n",
        "    \n",
        "        # forward prop   \n",
        "        # Calculate output of hidden layer 1\n",
        "        h1= f(np.dot(X,W_h1))\n",
        "        \n",
        "        # append a column with ones representing bias inputs\n",
        "        h1 = np.hstack((np.ones((h1.shape[0], 1)), h1))\n",
        "        # Calculate output of hidden layer 2\n",
        "        h2= f(np.dot(h1,W_h2))\n",
        "        \n",
        "        \n",
        "        #error/error \n",
        "               \n",
        "        J = np.sum(np.square(h2- Y_gr.T))\n",
        "        \n",
        "        # gradient of the output layer\n",
        "        grad_h2 = h2*J\n",
        "        \n",
        "       \n",
        "      \n",
        "        \n",
        "        # error\n",
        "        \n",
        "        #display('h1', (h1[:, 1:] * (1 - h1[:, 1:])).shape)\n",
        "        \n",
        "        \n",
        "        #display('dot ', np.dot(grad_h2, W_h2.T[:, 1:]).shape)\n",
        "\n",
        "\n",
        "        hidden_error = (h1[:, 1:] * (1 - h1[:, 1:])) * np.dot(grad_h2, W_h2.T[:, 1:]) \n",
        "\n",
        "        #print(h1.shape)\n",
        "        #print(hidden_error.shape)\n",
        "        grad_h1= h1[:, :, np.newaxis]*hidden_error[:, np.newaxis, :]\n",
        "\n",
        "      \n",
        "        # average gradient\n",
        "        total_hidden_gradient_h2 = np.average(grad_h2, axis=0)\n",
        "        total_output_gradient_h1 = np.average(grad_h1, axis=0)\n",
        "        #print(grad_h1.shape)\n",
        "        #print(W_h1.shape)\n",
        "\n",
        "        # update weights\n",
        "        W_h2 += - alpha * total_hidden_gradient_h2\n",
        "        W_h1 += - alpha * total_output_gradient_h1[1:,:]\n",
        "        \n",
        "        \n",
        "        print('iter',i)\n",
        "        \n",
        "        print('cost',J)\n",
        "\n"
      ],
      "execution_count": 12,
      "outputs": [
        {
          "output_type": "display_data",
          "data": {
            "text/plain": [
              "(10, 4)"
            ]
          },
          "metadata": {
            "tags": []
          }
        },
        {
          "output_type": "display_data",
          "data": {
            "text/plain": [
              "(10, 4)"
            ]
          },
          "metadata": {
            "tags": []
          }
        },
        {
          "output_type": "stream",
          "text": [
            "1.4332220071035549\n",
            "iter 0\n",
            "cost 5.330767568894166\n",
            "iter 1\n",
            "cost 4.96603040737229\n",
            "iter 2\n",
            "cost 4.627691569040833\n",
            "iter 3\n",
            "cost 4.321946893502819\n",
            "iter 4\n",
            "cost 4.051212308058877\n",
            "iter 5\n",
            "cost 3.815262770852262\n",
            "iter 6\n",
            "cost 3.612302585371455\n",
            "iter 7\n",
            "cost 3.439772043055151\n",
            "iter 8\n",
            "cost 3.2948753867647866\n",
            "iter 9\n",
            "cost 3.174889040469701\n",
            "iter 10\n",
            "cost 3.0773204407471946\n",
            "iter 11\n",
            "cost 2.9999746281336024\n",
            "iter 12\n",
            "cost 2.9409681278880058\n",
            "iter 13\n",
            "cost 2.8987150292602917\n",
            "iter 14\n",
            "cost 2.8718999613418434\n",
            "iter 15\n",
            "cost 2.859446145768312\n",
            "iter 16\n",
            "cost 2.8604827747529082\n",
            "iter 17\n",
            "cost 2.874313690224583\n",
            "iter 18\n",
            "cost 2.900388080324986\n",
            "iter 19\n",
            "cost 2.9382732512431846\n",
            "iter 20\n",
            "cost 2.9876292259047363\n",
            "iter 21\n",
            "cost 3.048184820503076\n",
            "iter 22\n",
            "cost 3.1197148719452303\n",
            "iter 23\n",
            "cost 3.202018386664938\n",
            "iter 24\n",
            "cost 3.2948975258925635\n",
            "iter 25\n",
            "cost 3.3981375151185738\n",
            "iter 26\n",
            "cost 3.511487749223356\n",
            "iter 27\n",
            "cost 3.63464454128461\n",
            "iter 28\n",
            "cost 3.7672361113520014\n",
            "iter 29\n",
            "cost 3.9088105083537217\n",
            "iter 30\n",
            "cost 4.0588271812079855\n",
            "iter 31\n",
            "cost 4.216652846405403\n",
            "iter 32\n",
            "cost 4.381562130821997\n",
            "iter 33\n",
            "cost 4.552743206466903\n",
            "iter 34\n",
            "cost 4.729308300790685\n",
            "iter 35\n",
            "cost 4.910308599819381\n",
            "iter 36\n",
            "cost 5.094752709607174\n",
            "iter 37\n",
            "cost 5.2816275540047535\n",
            "iter 38\n",
            "cost 5.469920405332953\n",
            "iter 39\n",
            "cost 5.658640694640896\n",
            "iter 40\n",
            "cost 5.846840333830391\n",
            "iter 41\n",
            "cost 6.033631485571281\n",
            "iter 42\n",
            "cost 6.218201004311081\n",
            "iter 43\n",
            "cost 6.399821099531633\n",
            "iter 44\n",
            "cost 6.577856097283426\n",
            "iter 45\n",
            "cost 6.751765461774226\n",
            "iter 46\n",
            "cost 6.921103461161791\n",
            "iter 47\n",
            "cost 7.085516009759726\n",
            "iter 48\n",
            "cost 7.244735293565681\n",
            "iter 49\n",
            "cost 7.398572797060991\n",
            "iter 50\n",
            "cost 7.546911311288859\n",
            "iter 51\n",
            "cost 7.689696432493035\n",
            "iter 52\n",
            "cost 7.826927972203513\n",
            "iter 53\n",
            "cost 7.958651606034437\n",
            "iter 54\n",
            "cost 8.084950998739146\n",
            "iter 55\n",
            "cost 8.205940563102592\n",
            "iter 56\n",
            "cost 8.321758943092787\n",
            "iter 57\n",
            "cost 8.43256325824339\n",
            "iter 58\n",
            "cost 8.538524105929172\n",
            "iter 59\n",
            "cost 8.639821289570538\n",
            "iter 60\n",
            "cost 8.736640221987951\n",
            "iter 61\n",
            "cost 8.829168942151997\n",
            "iter 62\n",
            "cost 8.917595678583565\n",
            "iter 63\n",
            "cost 9.002106892022955\n",
            "iter 64\n",
            "cost 9.082885732352107\n",
            "iter 65\n",
            "cost 9.160110849044013\n",
            "iter 66\n",
            "cost 9.233955499805209\n",
            "iter 67\n",
            "cost 9.30458690796704\n",
            "iter 68\n",
            "cost 9.372165825144627\n",
            "iter 69\n",
            "cost 9.436846261435663\n",
            "iter 70\n",
            "cost 9.498775350798205\n",
            "iter 71\n",
            "cost 9.558093324130205\n",
            "iter 72\n",
            "cost 9.614933566932715\n",
            "iter 73\n",
            "cost 9.669422742270086\n",
            "iter 74\n",
            "cost 9.721680963066191\n",
            "iter 75\n",
            "cost 9.771822000631541\n",
            "iter 76\n",
            "cost 9.819953518746845\n",
            "iter 77\n",
            "cost 9.866177324680628\n",
            "iter 78\n",
            "cost 9.910589630238793\n",
            "iter 79\n",
            "cost 9.953281317376799\n",
            "iter 80\n",
            "cost 9.994338204091164\n",
            "iter 81\n",
            "cost 10.03384130728298\n",
            "iter 82\n",
            "cost 10.071867100084631\n",
            "iter 83\n",
            "cost 10.108487761790478\n",
            "iter 84\n",
            "cost 10.143771419056973\n",
            "iter 85\n",
            "cost 10.177782377459392\n",
            "iter 86\n",
            "cost 10.210581342827801\n",
            "iter 87\n",
            "cost 10.242225632050571\n",
            "iter 88\n",
            "cost 10.272769373240912\n",
            "iter 89\n",
            "cost 10.302263695322292\n",
            "iter 90\n",
            "cost 10.330756907210535\n",
            "iter 91\n",
            "cost 10.3582946668612\n",
            "iter 92\n",
            "cost 10.38492014051675\n",
            "iter 93\n",
            "cost 10.410674152533929\n",
            "iter 94\n",
            "cost 10.435595326201845\n",
            "iter 95\n",
            "cost 10.459720215978598\n",
            "iter 96\n",
            "cost 10.483083431582203\n",
            "iter 97\n",
            "cost 10.50571775437152\n",
            "iter 98\n",
            "cost 10.527654246447241\n",
            "iter 99\n",
            "cost 10.548922352893237\n"
          ],
          "name": "stdout"
        }
      ]
    }
  ]
}