{
  "nbformat": 4,
  "nbformat_minor": 0,
  "metadata": {
    "colab": {
      "name": "Session 1 working version.ipynb",
      "version": "0.3.2",
      "provenance": [],
      "collapsed_sections": [],
      "toc_visible": true
    },
    "kernelspec": {
      "name": "python3",
      "display_name": "Python 3"
    },
    "accelerator": "GPU"
  },
  "cells": [
    {
      "cell_type": "markdown",
      "metadata": {
        "id": "rmSUExzC-ZBV",
        "colab_type": "text"
      },
      "source": [
        ""
      ]
    },
    {
      "cell_type": "markdown",
      "metadata": {
        "id": "wgWZldyi-Zef",
        "colab_type": "text"
      },
      "source": [
        "# Lab on Machine Learning and Applications in Intelligent Vehicles\n",
        "## Session 1: Introduction\n"
      ]
    },
    {
      "cell_type": "code",
      "metadata": {
        "id": "Swl1Pi8mnKl6",
        "colab_type": "code",
        "colab": {
          "base_uri": "https://localhost:8080/",
          "height": 35
        },
        "outputId": "7a321cf6-cb3a-460f-86ca-2a1ac7b2d593"
      },
      "source": [
        "print('Evi')"
      ],
      "execution_count": 1,
      "outputs": [
        {
          "output_type": "stream",
          "text": [
            "Evi\n"
          ],
          "name": "stdout"
        }
      ]
    },
    {
      "cell_type": "markdown",
      "metadata": {
        "id": "j1T4XAd1_fJk",
        "colab_type": "text"
      },
      "source": [
        "### Course Plan:\n",
        "\n",
        "This lab is a continuation to the Machine learning lecture, the objective of this course is to learn how to model and implement neural networks using deep learning python frameworks: \n",
        "1. Tensorflow\n",
        "2. Keras\n",
        "3. Pytorch\n",
        "\n",
        "Useing these frameworks, we will go through the following topics and use cases:\n",
        "\n",
        "#### Session 1: 05.06 - 09:00 - 11:00  :\n",
        "\n",
        ">#### Presentation:  05.06 - 09:00 - 10:30:\n",
        ">1. Introduction to deep learning frameworks\n",
        "2. Deep learning in Numpy\n",
        "\n",
        ">#### Break:  05.06 - 10:30 - 10:45\n",
        ">#### Assignment:  05.06 - 10:45 - 11:45 : \n",
        ">* Implementation of backprop using numpy\n",
        "\n",
        ">1. Tensorflow backround \n",
        "2. Implementation of feedforward neural networks using Tensorflow\n",
        "\n",
        ">#### Break:  05.06 - 10:00 - 10:15\n",
        ">#### Assignment:  05.06 - 10:15 - 10:45 : \n",
        "  \n",
        "  >* play around with tensorflow and build your first neural network\n",
        "\n",
        "\n",
        "\n",
        "#### Session 2:  05.06 - 11:00 - 12:00  :\n",
        "\n",
        ">#### Presentation:  05.06 - 11:00 - 12:00:\n",
        "\n",
        "\n",
        ">3. Implementation of CNN useing Tensorflow\n",
        "4. Tensorboard\n",
        "\n",
        ">#### Break:  05.06 - 12:00 - 13:00\n",
        ">#### Assignment:  05.06 - 13:00 - 13:30 :\n",
        "\n",
        "\n",
        " #### Session 3:  05.06 - 13:30 - 15:00  :\n",
        "\n",
        ">#### Presentation:  05.06 - 13:00 - 14:00:\n",
        "\n",
        ">5. Introduction to Keras\n",
        "6. CNN using Keras\n",
        ">#### Break:  05.06 - 14:00 - 14:15\n",
        ">#### Assignment:  05.06 - 14:15 - 14:45 :\n",
        "\n",
        " #### Session 4:  05.06 - 15:00 - 16:30  :\n",
        "\n",
        ">#### Presentation:  05.06 - 15:00 - 15:45:\n",
        "\n",
        ">7. LSTM using Keras\n",
        "\n",
        ">#### Break:  05.06 - 15:45 - 16:00\n",
        ">#### Assignment:  05.06 - 16:00 - 16:30 :\n",
        "\n",
        "\n",
        "8. VGG, Inceptaion, ResNet models using Keras\n",
        "\n",
        "9. Autoencoders using Keras\n",
        "\n",
        "10. Sequence to Sequence Models using Keras \n",
        "\n",
        "11. Attention Mechanism using Keras\n",
        "12. GANS \n",
        "13. Introduction to Pytorch\n",
        "14. Machine translation using Pytorch\n",
        "15. Introduction to Allennlp\n",
        "16. Deep Reinforcment Learning using Keras\n",
        "17. Use case: building self driving car using Unity and tensorflow\n",
        "\n",
        "\n",
        "\n",
        "\n",
        "\n",
        "\n",
        "\n",
        "\n"
      ]
    },
    {
      "cell_type": "markdown",
      "metadata": {
        "id": "a75NLOuwKXSs",
        "colab_type": "text"
      },
      "source": [
        "#Session 1: 05.06 - 09:00 - 11:00 :\n"
      ]
    },
    {
      "cell_type": "markdown",
      "metadata": {
        "id": "ciUtGM-W_ehP",
        "colab_type": "text"
      },
      "source": [
        "\n",
        "\n",
        "## Deep learning frameworks:\n",
        "\n",
        "In the past decade, many deep learning frameworks have been developed to ease and scale the research and development of AI. Many big technology providers including Google, IBM, Microsoft and Facebook have entered the race to provide the best and most popluar frameworks. To enter such a race, mainly four features are considered in the provided framework:\n",
        "\n",
        "1. Uses a popular language for data scientists (Python, Scale, C++ or R)\n",
        "2. Flexible in creating and adjusting deep learning architectures -> Functional programming\n",
        "3. Easy for computing gradients\n",
        "4. Interface with GPUs for parallel processing\n",
        "\n",
        "\n",
        "In the following we see the most popular provided deep learning frameworks with their providers\n",
        "https://towardsdatascience.com/deep-learning-framework-power-scores-2018-23607ddf297a\n",
        "\n",
        "![alt text](https://cdn-images-1.medium.com/max/1600/1*dYjDEI0mLpsCOySKUuX1VA.png)\n",
        "\n",
        "## Tensorflow\n",
        "TensorFlow is the undisputed heavyweight champion. It has the most GitHub activity, Google searches, Medium articles, books on Amazon and ArXiv articles. It also has the most developers using it and is listed in the most online job descriptions. TensorFlow is backed by Google.\n",
        "\n",
        "## Keras\n",
        "Keras has an “API designed for human beings, not machines.” It is the second most popular framework in nearly all evaluation areas. Keras sits on top of TensorFlow, Theano, or CNTK. Start with Keras if you are new to deep learning.\n",
        "\n",
        "## Pytorch\n",
        "\n",
        "PyTorch is the third most popular overall framework and the second most popular stand-alone framework. It is younger than TensorFlow and has grown rapidly in popularity. It allows customization that TensorFlow does not. It has the backing of Facebook.\n",
        "\n",
        "## Theano\n",
        "\n",
        "Theano was developed at the University of Montreal in 2007 and is the oldest significant Python deep learning framework. It has lost much of its popularity and its leader stated that major releases were no longer on the roadmap. However, updates continue to be made. Theano still the fifth highest scoring framework.\n",
        "\n",
        "# Comparision:\n",
        "\n",
        "## Criteria 1: Online Job Listings\n",
        "\n",
        "TensorFlow is the clear winner when it comes to frameworks mentioned in job listings. Learn it if you want a job doing deep learning.\n",
        "\n",
        ">> ![alt text](https://cdn-images-1.medium.com/max/800/1*kA8dIgRqLdWgKgs2sd7clA.png)\n",
        "\n",
        "## Criteria 2: Usage\n",
        "\n",
        "\n",
        "Keras showed a surprising amount of use — nearly as much as TensorFlow. It’s interesting that US employers are overwhelmingly looking for TensorFlow skills, when — at least internationally — Keras is used almost as frequently.\n",
        "\n",
        "  >> ![alt text](https://cdn-images-1.medium.com/max/800/1*6b2Tm0oFr99zKaxkr4g52w.png)\n",
        "  \n",
        "  \n",
        "## Criteria 4: Google Search Activity\n",
        "\n",
        ">> ![alt text](https://cdn-images-1.medium.com/max/800/1*wpA6C9x_Nri42EzbqnS1fQ.png)\n",
        "\n",
        "## Criteria 5: Medium Articles\n",
        "\n",
        ">> ![alt text](https://cdn-images-1.medium.com/max/800/1*Y1cJUgZTC3u_hU1lmdsroQ.png)\n",
        "\n",
        "\n",
        "## Criteria 6: Amazon Books\n",
        "\n",
        ">> ![alt text](https://cdn-images-1.medium.com/max/800/1*mtP47q29T6agdkEoJcCw-w.png)\n",
        "\n",
        "## Criteria 7 : ArXiv Articles\n",
        "\n",
        "  >> ![alt text](https://cdn-images-1.medium.com/max/800/1*7jdNoNkGlx_1EnfevQXRvw.png)\n",
        "  \n",
        "## Criteria 8: GitHub Activity\n",
        "\n",
        "  >> ![alt text](https://cdn-images-1.medium.com/max/800/1*eOOYV3C5klsuVBMX31ngxw.png)\n",
        "  \n",
        " --------------------------------\n",
        " \n",
        "\n",
        "\n",
        "  \n",
        " \n",
        "\n",
        "\n",
        "\n",
        "\n"
      ]
    },
    {
      "cell_type": "markdown",
      "metadata": {
        "id": "9v3V8ztAKDCg",
        "colab_type": "text"
      },
      "source": [
        "\n",
        "\n",
        "```\n",
        "# This is formatted as code\n",
        "```\n",
        "\n",
        "\n",
        "Before we jump into Tensorflow, we will implemented our first neural network model using Python Numpy package. NumPy is the fundamental package for scientific computing with Python, such as:\n",
        "\n",
        "1. Linear Algebra\n",
        "2. Statistics\n",
        "3. Calculus\n",
        "\n",
        "## A brief intro to Numpy operations:\n",
        "\n",
        "1. Creating a Vector:\n",
        "Here we use Numpy to create a 1-D Array which we then call a vector.\n",
        "\n",
        "\n",
        "\n"
      ]
    },
    {
      "cell_type": "code",
      "metadata": {
        "id": "GTf7M4r7Lgj9",
        "colab_type": "code",
        "colab": {}
      },
      "source": [
        "import numpy as np\n",
        "\n",
        "v1 = np.zeros((1,100))\n",
        "v1.shape\n",
        "\n",
        "v2 = np.zeros((1,100))\n",
        "v2.T.shape\n",
        "\n",
        "v3 = np.ones((1,100))\n",
        "v4 = np.eye(4)\n",
        "\n",
        "v5 = np.random.randn(100,1) #normal rand generator with mean 0 and std 1\n",
        "v6 = np.random.rand(100,1) #uniform rand generator between 0 & 1\n",
        "\n",
        "display('mean of randn',v5.mean())\n",
        "display('std of randn',v5.std())\n",
        "display('min of rand',v6.min())\n",
        "display('max of rand',v6.max())"
      ],
      "execution_count": 0,
      "outputs": []
    },
    {
      "cell_type": "markdown",
      "metadata": {
        "id": "JYFjSo0OLqA3",
        "colab_type": "text"
      },
      "source": [
        "2. Creating a Matrix\n",
        "We Create a 2-D Array in Numpy and call it a Matrix. It contains 2 rows and 3 columns."
      ]
    },
    {
      "cell_type": "code",
      "metadata": {
        "id": "fJlDBq5rLmA-",
        "colab_type": "code",
        "colab": {}
      },
      "source": [
        "m1 = np.zeros((2,3))\n",
        "display(m1)\n",
        "\n",
        "matrix = np.array([[1,2,3],[4,5,6]])\n",
        "display('matrix',matrix)\n",
        "display('matrix shape',matrix.shape)"
      ],
      "execution_count": 0,
      "outputs": []
    },
    {
      "cell_type": "markdown",
      "metadata": {
        "id": "wv99hZqULygH",
        "colab_type": "text"
      },
      "source": [
        "3. Selecting Elements\n"
      ]
    },
    {
      "cell_type": "code",
      "metadata": {
        "id": "ZLQlxFzkPrKM",
        "colab_type": "code",
        "colab": {}
      },
      "source": [
        "\n",
        "display(matrix[0,0]) #first row first col\n",
        "display(matrix[0,-1]) #first row last col\n",
        "display(matrix[0,-2]) #first row second last col\n",
        "display(matrix[0,1:]) #first row all cols\n",
        "display(matrix[0,:-1]) #first row from col 0 to col 2\n",
        "display(matrix[0,0:2])"
      ],
      "execution_count": 0,
      "outputs": []
    },
    {
      "cell_type": "markdown",
      "metadata": {
        "id": "QO3vTGEKQhm7",
        "colab_type": "text"
      },
      "source": [
        "4. Describing a Matrix"
      ]
    },
    {
      "cell_type": "code",
      "metadata": {
        "id": "q8bDjBhhQpg5",
        "colab_type": "code",
        "colab": {}
      },
      "source": [
        "print(matrix.shape) #number of row & col\n",
        "print(matrix.size)  #number of elements \n",
        "print(matrix.ndim)  #number of dimensions"
      ],
      "execution_count": 0,
      "outputs": []
    },
    {
      "cell_type": "markdown",
      "metadata": {
        "id": "eKISvY8kQtA0",
        "colab_type": "text"
      },
      "source": [
        "5. Finding the max and min values"
      ]
    },
    {
      "cell_type": "code",
      "metadata": {
        "id": "abPJd0JrQ4mM",
        "colab_type": "code",
        "colab": {}
      },
      "source": [
        "display(matrix)\n",
        "matrix.min(axis=0)\n",
        "\n",
        "np.min(matrix, axis=1)\n",
        "np.max(matrix, axis=1)\n",
        "display('arg',np.argmax(matrix, axis=0))\n",
        "display('max',np.max(matrix, axis=0))\n",
        "display('max',np.max(matrix))\n",
        "\n",
        "np.argwhere(matrix == np.max(matrix))\n",
        "np.argwhere(matrix < np.max(matrix))"
      ],
      "execution_count": 0,
      "outputs": []
    },
    {
      "cell_type": "markdown",
      "metadata": {
        "id": "3Qm64s_eR0zQ",
        "colab_type": "text"
      },
      "source": [
        "6. Reshaping Arrays\n"
      ]
    },
    {
      "cell_type": "code",
      "metadata": {
        "id": "Pwepq7h_SBBD",
        "colab_type": "code",
        "colab": {}
      },
      "source": [
        "matrix.shape\n",
        "matrix.reshape((3,2))\n",
        "matrix.reshape((6,1))\n",
        "matrix.reshape((1,6))\n",
        "matrix.reshape((1,2,3)) #dim 0 size=1, dim 1=2, dim 2=3\n",
        "matrix.reshape((1,-1,3)) #dim 0 size=1, dim 1=2, dim 2=3"
      ],
      "execution_count": 0,
      "outputs": []
    },
    {
      "cell_type": "markdown",
      "metadata": {
        "id": "cJU3xABuVem_",
        "colab_type": "text"
      },
      "source": [
        "7. Calculating Dot Products"
      ]
    },
    {
      "cell_type": "code",
      "metadata": {
        "id": "cPKg382VVivy",
        "colab_type": "code",
        "colab": {
          "base_uri": "https://localhost:8080/",
          "height": 53
        },
        "outputId": "d6c28fa1-6c48-4881-8e10-b7772a765fb5"
      },
      "source": [
        "vector1 = np.array([1,2,3])\n",
        "vector2 = np.array([4,5,6])\n",
        "\n",
        "#2 ways of calculating dot products\n",
        "print(np.dot(vector1,vector2))\n",
        "print(vector1 @ vector2)"
      ],
      "execution_count": 31,
      "outputs": [
        {
          "output_type": "stream",
          "text": [
            "32\n",
            "32\n"
          ],
          "name": "stdout"
        }
      ]
    },
    {
      "cell_type": "markdown",
      "metadata": {
        "id": "cB-jK7jEXY7F",
        "colab_type": "text"
      },
      "source": [
        "##Linear regression in Numpy:\n",
        "\n",
        "---\n",
        "\n",
        "\n",
        "\n",
        "Write the numpy code for the following model:\n",
        "\n",
        "$Y=WX+B$\n",
        "\n",
        "where $X$ is 3x10 matrix:  10 samples and 3 features\n",
        "\n",
        "$Y$ is 4x10 matrix: 10 samples and 4 outputs\n",
        "\n",
        "$W$ is the weights matrix with the shape 4x3: connecting 3 inputs to 4 outputs\n",
        "\n",
        "$b$ is a vector with a size 4 ( one bias per output)\n"
      ]
    },
    {
      "cell_type": "code",
      "metadata": {
        "id": "_EtM5LVtWCpm",
        "colab_type": "code",
        "colab": {
          "base_uri": "https://localhost:8080/",
          "height": 90
        },
        "outputId": "b8d3afef-edc2-4a82-aeea-94fd9a7a6361"
      },
      "source": [
        "X = np.random.rand(3,10) #inputs of features\n",
        "display('shape of X',X.shape)\n",
        "\n",
        "W = np.random.rand(4,3) #weights matrix\n",
        "b = np.zeros((4,1)) #bias\n",
        "\n",
        "Y = np.dot(W,X) + b #regression model (4x3, 3x10)\n",
        "display('Y',Y.shape)"
      ],
      "execution_count": 33,
      "outputs": [
        {
          "output_type": "display_data",
          "data": {
            "text/plain": [
              "'shape of X'"
            ]
          },
          "metadata": {
            "tags": []
          }
        },
        {
          "output_type": "display_data",
          "data": {
            "text/plain": [
              "(3, 10)"
            ]
          },
          "metadata": {
            "tags": []
          }
        },
        {
          "output_type": "display_data",
          "data": {
            "text/plain": [
              "'Y'"
            ]
          },
          "metadata": {
            "tags": []
          }
        },
        {
          "output_type": "display_data",
          "data": {
            "text/plain": [
              "(4, 10)"
            ]
          },
          "metadata": {
            "tags": []
          }
        }
      ]
    },
    {
      "cell_type": "markdown",
      "metadata": {
        "id": "hMIoucH9hFfr",
        "colab_type": "text"
      },
      "source": [
        "## One neuron model in numpy:\n",
        "\n",
        "A single neuron has multiple inputs and one output, in addition to the linear regression model, we need to add non linearity through an activation function:\n",
        "\n",
        "$Y= f(WX+B)$\n",
        "\n",
        "where $X$ is n x m matrix:  m samples and n features/inputs\n",
        "\n",
        "$f(g)= \\frac{1}{1+\\exp(-g)}$  is a sigmoid acitavation function\n",
        "\n",
        "$Y$ is nh1 x m matrix: m samples and ny outputs\n",
        "\n",
        "$W$ is the weights matrix with the shape nh1 x n: connecting 3 inputs to 4 outputs\n",
        "\n",
        "$b$ is a vector with a size nh1 ( one bias per output)\n",
        "\n",
        "\n",
        "\n"
      ]
    },
    {
      "cell_type": "code",
      "metadata": {
        "id": "Qry1JDGEiLmx",
        "colab_type": "code",
        "colab": {}
      },
      "source": [
        "import numpy as np\n",
        "#def f(x):\n",
        "#  return 1.0/(1.0+np.exp(-x))\n",
        "\n",
        "num_inputs = 3\n",
        "num_outputs = 4\n",
        "num_samples = 100\n",
        "\n",
        "f = lambda x :1.0/(1.0 + np.exp(-x)) #sigmoid activation function\n",
        "  \n",
        "X = np.random.rand(num_inputs,num_samples) #inputs of features\n",
        "\n",
        "W = np.random.rand(num_outputs,num_inputs) #weights matrix\n",
        "b = np.random.rand(num_outputs,1) #bias\n",
        "\n",
        "Y =f(np.dot(W,X) + b) #regression model\n",
        "display('Y',Y.shape)"
      ],
      "execution_count": 0,
      "outputs": []
    },
    {
      "cell_type": "markdown",
      "metadata": {
        "id": "aSnbti9ooIIs",
        "colab_type": "text"
      },
      "source": [
        "## One hidden layer model in numpy:\n",
        "\n",
        "The difference from the one neuron model is simple:  we need only to change the number of output \"ny\""
      ]
    },
    {
      "cell_type": "code",
      "metadata": {
        "id": "ZAY3o6zBnpA0",
        "colab_type": "code",
        "colab": {}
      },
      "source": [
        "num_inputs = 3\n",
        "hidden_layer_1_outputs = 4\n",
        "hidden_layer_2_outputs = 3\n",
        "num_samples = 100\n",
        "\n",
        "f = lambda x :1.0/(1.0 + np.exp(-x)) #sigmoid activation function\n",
        "  \n",
        "X = np.random.rand(num_inputs,num_samples) #inputs of features\n",
        "\n",
        "W_h1 = np.random.rand(hidden_layer_1_outputs,num_inputs) #weights matrix\n",
        "W_h2 = np.random.rand(hidden_layer_2_outputs,hidden_layer_1_outputs) #weights matrix\n",
        "\n",
        "b_h1 = np.random.rand(hidden_layer_1_outputs,1) #bias\n",
        "b_h2 = np.random.rand(hidden_layer_2_outputs,1)\n",
        "\n",
        "h1 = f(np.dot(W_h1,X) + b_h1)\n",
        "display(h1.shape)\n",
        "h2 = f(np.dot(W_h2,h1) + b_h2) #regression model\n",
        "display(h2.shape)"
      ],
      "execution_count": 0,
      "outputs": []
    },
    {
      "cell_type": "markdown",
      "metadata": {
        "id": "11fqb_bQvIEi",
        "colab_type": "text"
      },
      "source": [
        "converged## Gradient descent in Numpy:\n",
        "Let us now start training a neural network\n",
        "We start by implementing a simple gradient descent for linear regression"
      ]
    },
    {
      "cell_type": "code",
      "metadata": {
        "id": "mzBJxwb7FFZ2",
        "colab_type": "code",
        "colab": {
          "base_uri": "https://localhost:8080/",
          "height": 3705
        },
        "outputId": "d526206b-a8e7-49f5-a6de-b3b4b9e67edb"
      },
      "source": [
        "converged = False\n",
        "iter = 0\n",
        "m = 10\n",
        "ni = 1\n",
        "h = 1\n",
        "no = 1\n",
        "\n",
        "#random input data\n",
        "X  = np.random.rand(m)\n",
        "display(X)\n",
        "\n",
        "alpha = 0.01 #learning rate\n",
        "ep=0.001 #early stop criteria\n",
        "max_iter = 100 # max num of iterations\n",
        "W1 = np.random.rand()\n",
        "b1= np.random.rand()\n",
        "Y_gr = np.random.rand(m)\n",
        "\n",
        "J = sum([(b1 + W1*X[i] - Y_gr[i])**2 for i in range(m)])\n",
        "\n",
        "while not converged:\n",
        "  print('Iterations', iter)\n",
        "  grad0 = 1.0/m * sum([(b1 + W1*X[i] - Y_gr[i]) for i in range(m)]) \n",
        "  grad1 = 1.0/m * sum([(b1 + W1*X[i] - Y_gr[i])*X[i] for i in range(m)])\n",
        "  \n",
        "  temp0 = b1 - alpha * grad0\n",
        "  temp1 = W1 - alpha * grad1\n",
        "  \n",
        "  b1 = temp0\n",
        "  W1 = temp1\n",
        "  \n",
        "  e = sum([(b1 + W1*X[i] - Y_gr[i])**2 for i in range(m)]) \n",
        "  print('Error:', e)\n",
        "\n",
        "  if abs(J-e) <= ep:\n",
        "      print('Converged, iterations: ', iter, '!!!')\n",
        "      converged = True\n",
        "\n",
        "  J = e   # update error \n",
        "  iter += 1  # update iter\n",
        "\n",
        "  if iter == max_iter:\n",
        "      print('Max interactions exceeded!')\n",
        "      converged = True\n"
      ],
      "execution_count": 43,
      "outputs": [
        {
          "output_type": "display_data",
          "data": {
            "text/plain": [
              "array([0.69366523, 0.63713108, 0.04653104, 0.68075606, 0.67303086,\n",
              "       0.57245723, 0.12200875, 0.35021113, 0.04098793, 0.48725387])"
            ]
          },
          "metadata": {
            "tags": []
          }
        },
        {
          "output_type": "stream",
          "text": [
            "Iterations 0\n",
            "Error: 2.0765286203317808\n",
            "Iterations 1\n",
            "Error: 2.0599979907608192\n",
            "Iterations 2\n",
            "Error: 2.043842742399241\n",
            "Iterations 3\n",
            "Error: 2.0280539690755006\n",
            "Iterations 4\n",
            "Error: 2.01262297636256\n",
            "Iterations 5\n",
            "Error: 1.9975412765431764\n",
            "Iterations 6\n",
            "Error: 1.9828005836948932\n",
            "Iterations 7\n",
            "Error: 1.9683928088919065\n",
            "Iterations 8\n",
            "Error: 1.9543100555210102\n",
            "Iterations 9\n",
            "Error: 1.9405446147089254\n",
            "Iterations 10\n",
            "Error: 1.9270889608583466\n",
            "Iterations 11\n",
            "Error: 1.913935747290134\n",
            "Iterations 12\n",
            "Error: 1.9010778019891252\n",
            "Iterations 13\n",
            "Error: 1.888508123451095\n",
            "Iterations 14\n",
            "Error: 1.8762198766284701\n",
            "Iterations 15\n",
            "Error: 1.8642063889724367\n",
            "Iterations 16\n",
            "Error: 1.8524611465691656\n",
            "Iterations 17\n",
            "Error: 1.8409777903678997\n",
            "Iterations 18\n",
            "Error: 1.8297501124987334\n",
            "Iterations 19\n",
            "Error: 1.818772052677943\n",
            "Iterations 20\n",
            "Error: 1.8080376946987877\n",
            "Iterations 21\n",
            "Error: 1.797541263005757\n",
            "Iterations 22\n",
            "Error: 1.7872771193502652\n",
            "Iterations 23\n",
            "Error: 1.77723975952587\n",
            "Iterations 24\n",
            "Error: 1.767423810181117\n",
            "Iterations 25\n",
            "Error: 1.7578240257081696\n",
            "Iterations 26\n",
            "Error: 1.7484352852054141\n",
            "Iterations 27\n",
            "Error: 1.7392525895122914\n",
            "Iterations 28\n",
            "Error: 1.7302710583146304\n",
            "Iterations 29\n",
            "Error: 1.721485927318807\n",
            "Iterations 30\n",
            "Error: 1.7128925454931003\n",
            "Iterations 31\n",
            "Error: 1.7044863723746349\n",
            "Iterations 32\n",
            "Error: 1.6962629754403626\n",
            "Iterations 33\n",
            "Error: 1.6882180275405538\n",
            "Iterations 34\n",
            "Error: 1.6803473043933137\n",
            "Iterations 35\n",
            "Error: 1.6726466821386683\n",
            "Iterations 36\n",
            "Error: 1.6651121349508196\n",
            "Iterations 37\n",
            "Error: 1.6577397327071604\n",
            "Iterations 38\n",
            "Error: 1.6505256387127252\n",
            "Iterations 39\n",
            "Error: 1.643466107478741\n",
            "Iterations 40\n",
            "Error: 1.6365574825540037\n",
            "Iterations 41\n",
            "Error: 1.6297961944078145\n",
            "Iterations 42\n",
            "Error: 1.6231787583632566\n",
            "Iterations 43\n",
            "Error: 1.6167017725796122\n",
            "Iterations 44\n",
            "Error: 1.6103619160827556\n",
            "Iterations 45\n",
            "Error: 1.6041559468423723\n",
            "Iterations 46\n",
            "Error: 1.598080699894903\n",
            "Iterations 47\n",
            "Error: 1.5921330855111162\n",
            "Iterations 48\n",
            "Error: 1.5863100874072524\n",
            "Iterations 49\n",
            "Error: 1.5806087609986998\n",
            "Iterations 50\n",
            "Error: 1.575026231695197\n",
            "Iterations 51\n",
            "Error: 1.5695596932365692\n",
            "Iterations 52\n",
            "Error: 1.5642064060680365\n",
            "Iterations 53\n",
            "Error: 1.558963695754153\n",
            "Iterations 54\n",
            "Error: 1.5538289514304597\n",
            "Iterations 55\n",
            "Error: 1.5487996242919517\n",
            "Iterations 56\n",
            "Error: 1.5438732261174843\n",
            "Iterations 57\n",
            "Error: 1.5390473278292698\n",
            "Iterations 58\n",
            "Error: 1.5343195580866205\n",
            "Iterations 59\n",
            "Error: 1.5296876019131318\n",
            "Iterations 60\n",
            "Error: 1.5251491993565056\n",
            "Iterations 61\n",
            "Error: 1.5207021441802424\n",
            "Iterations 62\n",
            "Error: 1.5163442825864377\n",
            "Iterations 63\n",
            "Error: 1.5120735119689497\n",
            "Iterations 64\n",
            "Error: 1.5078877796962145\n",
            "Iterations 65\n",
            "Error: 1.503785081922998\n",
            "Iterations 66\n",
            "Error: 1.4997634624304068\n",
            "Iterations 67\n",
            "Error: 1.4958210114934767\n",
            "Iterations 68\n",
            "Error: 1.4919558647756892\n",
            "Iterations 69\n",
            "Error: 1.488166202249773\n",
            "Iterations 70\n",
            "Error: 1.4844502471441658\n",
            "Iterations 71\n",
            "Error: 1.480806264914525\n",
            "Iterations 72\n",
            "Error: 1.4772325622396973\n",
            "Iterations 73\n",
            "Error: 1.4737274860415575\n",
            "Iterations 74\n",
            "Error: 1.470289422528154\n",
            "Iterations 75\n",
            "Error: 1.466916796259608\n",
            "Iterations 76\n",
            "Error: 1.4636080692362199\n",
            "Iterations 77\n",
            "Error: 1.4603617400082611\n",
            "Iterations 78\n",
            "Error: 1.4571763428069306\n",
            "Iterations 79\n",
            "Error: 1.454050446695975\n",
            "Iterations 80\n",
            "Error: 1.4509826547434832\n",
            "Iterations 81\n",
            "Error: 1.4479716032133723\n",
            "Iterations 82\n",
            "Error: 1.4450159607760955\n",
            "Iterations 83\n",
            "Error: 1.442114427738122\n",
            "Iterations 84\n",
            "Error: 1.4392657352897344\n",
            "Iterations 85\n",
            "Error: 1.4364686447707125\n",
            "Iterations 86\n",
            "Error: 1.4337219469534754\n",
            "Iterations 87\n",
            "Error: 1.431024461343275\n",
            "Iterations 88\n",
            "Error: 1.42837503549502\n",
            "Iterations 89\n",
            "Error: 1.425772544346351\n",
            "Iterations 90\n",
            "Error: 1.4232158895665694\n",
            "Iterations 91\n",
            "Error: 1.4207039989210508\n",
            "Iterations 92\n",
            "Error: 1.418235825650766\n",
            "Iterations 93\n",
            "Error: 1.4158103478665602\n",
            "Iterations 94\n",
            "Error: 1.413426567957832\n",
            "Iterations 95\n",
            "Error: 1.4110835120152723\n",
            "Iterations 96\n",
            "Error: 1.408780229267332\n",
            "Iterations 97\n",
            "Error: 1.406515791530083\n",
            "Iterations 98\n",
            "Error: 1.4042892926701673\n",
            "Iterations 99\n",
            "Error: 1.4020998480805114\n",
            "Max interactions exceeded!\n"
          ],
          "name": "stdout"
        }
      ]
    },
    {
      "cell_type": "code",
      "metadata": {
        "id": "QaQyLoxk2FyG",
        "colab_type": "code",
        "colab": {}
      },
      "source": [
        ""
      ],
      "execution_count": 0,
      "outputs": []
    },
    {
      "cell_type": "markdown",
      "metadata": {
        "id": "jRqCCVlmFIZl",
        "colab_type": "text"
      },
      "source": [
        "##Assignment 1\n",
        "### Backpropagation in Numpy:\n"
      ]
    }
  ]
}