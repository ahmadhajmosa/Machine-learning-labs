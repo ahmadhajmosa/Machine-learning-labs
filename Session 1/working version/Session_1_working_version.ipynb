{
  "nbformat": 4,
  "nbformat_minor": 0,
  "metadata": {
    "colab": {
      "name": "Session 1 working version.ipynb",
      "version": "0.3.2",
      "provenance": [],
      "collapsed_sections": [],
      "toc_visible": true
    },
    "kernelspec": {
      "name": "python3",
      "display_name": "Python 3"
    },
    "accelerator": "GPU"
  },
  "cells": [
    {
      "cell_type": "code",
      "metadata": {
        "id": "YARlTRTMn33W",
        "colab_type": "code",
        "colab": {}
      },
      "source": [
        "import numpy as np\n",
        "\n",
        "print(numpy.array([[2,3,4,], [2,6,8], [5,6,7]], dtype=\"float64\"))\n",
        "\n",
        "print(numpy.zeros((1,100)))\n",
        "\n",
        "display(numpy.zeros((1,100)))\n",
        "\n",
        "v = numpy.eye(5)\n",
        "\n",
        "display(v)\n",
        "\n",
        "v1 = np.random.randn(100,1)\n",
        "display(v1)\n",
        "\n",
        "v2 = np.random.rand(2,2)\n",
        "display(v2)\n",
        "\n",
        "print(\"mean is = \", v2.mean())\n",
        "\n",
        "print(\"max is = \", v2.max())\n",
        "\n",
        "print(\"main is = \", v2.min())\n",
        "\n",
        "print(\"standard of randn = \", v2.std())"
      ],
      "execution_count": 0,
      "outputs": []
    },
    {
      "cell_type": "markdown",
      "metadata": {
        "id": "rmSUExzC-ZBV",
        "colab_type": "text"
      },
      "source": [
        "\n",
        "\n",
        "```\n",
        "# This is formatted as code\n",
        "```\n",
        "\n"
      ]
    },
    {
      "cell_type": "code",
      "metadata": {
        "id": "eaxq-rU1ucfw",
        "colab_type": "code",
        "colab": {
          "base_uri": "https://localhost:8080/",
          "height": 442
        },
        "outputId": "2f4d4ef0-0055-4d13-96d8-9abbcb1f31d1"
      },
      "source": [
        "print(np.zeros((2,2), dtype=\"int\"))\n",
        "\n",
        "print(np.ones((3,3), dtype=\"int\"))\n",
        "\n",
        "\n",
        "c = np.array(([1,2,3],[2,5,8], [9,8,7]))\n",
        "\n",
        "display(c)\n",
        "\n",
        "display(c[0,2])\n",
        "display(c[1,-1])\n",
        "display(c[2,-1])\n",
        "\n",
        "display(c[2,0:])\n",
        "display(\"it is : \",c[0,0:1])\n",
        "\n",
        "display(\"shape \", c.shape)\n",
        "\n",
        "display(\"size \", c.size)\n",
        "\n",
        "display(\"dim \", c.ndim)\n",
        "\n",
        "display(np.min(c, axis=0))\n",
        "\n",
        "print(\"transpose: \", c.T)\n",
        "\n",
        "ve1 = np.array([1,2,3])\n",
        "ve2 = np.array([3,4,7])\n",
        "\n",
        "print(\"dot is \", np.dot(ve1,ve2))\n",
        "#print(\"dot is with @ \", )"
      ],
      "execution_count": 73,
      "outputs": [
        {
          "output_type": "stream",
          "text": [
            "[[0 0]\n",
            " [0 0]]\n",
            "[[1 1 1]\n",
            " [1 1 1]\n",
            " [1 1 1]]\n"
          ],
          "name": "stdout"
        },
        {
          "output_type": "display_data",
          "data": {
            "text/plain": [
              "array([[1, 2, 3],\n",
              "       [2, 5, 8],\n",
              "       [9, 8, 7]])"
            ]
          },
          "metadata": {
            "tags": []
          }
        },
        {
          "output_type": "display_data",
          "data": {
            "text/plain": [
              "3"
            ]
          },
          "metadata": {
            "tags": []
          }
        },
        {
          "output_type": "display_data",
          "data": {
            "text/plain": [
              "8"
            ]
          },
          "metadata": {
            "tags": []
          }
        },
        {
          "output_type": "display_data",
          "data": {
            "text/plain": [
              "7"
            ]
          },
          "metadata": {
            "tags": []
          }
        },
        {
          "output_type": "display_data",
          "data": {
            "text/plain": [
              "array([9, 8, 7])"
            ]
          },
          "metadata": {
            "tags": []
          }
        },
        {
          "output_type": "display_data",
          "data": {
            "text/plain": [
              "'it is : '"
            ]
          },
          "metadata": {
            "tags": []
          }
        },
        {
          "output_type": "display_data",
          "data": {
            "text/plain": [
              "array([1])"
            ]
          },
          "metadata": {
            "tags": []
          }
        },
        {
          "output_type": "display_data",
          "data": {
            "text/plain": [
              "'shape '"
            ]
          },
          "metadata": {
            "tags": []
          }
        },
        {
          "output_type": "display_data",
          "data": {
            "text/plain": [
              "(3, 3)"
            ]
          },
          "metadata": {
            "tags": []
          }
        },
        {
          "output_type": "display_data",
          "data": {
            "text/plain": [
              "'size '"
            ]
          },
          "metadata": {
            "tags": []
          }
        },
        {
          "output_type": "display_data",
          "data": {
            "text/plain": [
              "9"
            ]
          },
          "metadata": {
            "tags": []
          }
        },
        {
          "output_type": "display_data",
          "data": {
            "text/plain": [
              "'dim '"
            ]
          },
          "metadata": {
            "tags": []
          }
        },
        {
          "output_type": "display_data",
          "data": {
            "text/plain": [
              "2"
            ]
          },
          "metadata": {
            "tags": []
          }
        },
        {
          "output_type": "display_data",
          "data": {
            "text/plain": [
              "array([1, 2, 3])"
            ]
          },
          "metadata": {
            "tags": []
          }
        },
        {
          "output_type": "stream",
          "text": [
            "transpose:  [[1 2 9]\n",
            " [2 5 8]\n",
            " [3 8 7]]\n",
            "dot is  32\n"
          ],
          "name": "stdout"
        }
      ]
    },
    {
      "cell_type": "code",
      "metadata": {
        "id": "xSjhl4gN4IvH",
        "colab_type": "code",
        "colab": {
          "base_uri": "https://localhost:8080/",
          "height": 187
        },
        "outputId": "17e04e02-3964-4b17-c72b-c4caa0012915"
      },
      "source": [
        "#inputs pór features matrix\n",
        "X = np.random.rand(3,10)\n",
        "print('Shape of X ', X.shape)\n",
        "\n",
        "#weights matrix\n",
        "W = np.random.rand(4,3)\n",
        "\n",
        "#bias\n",
        "b = np.zeros((4,1))\n",
        "\n",
        "Y = np.dot(W,X) + b\n",
        "\n",
        "display('Y: ', Y)"
      ],
      "execution_count": 76,
      "outputs": [
        {
          "output_type": "stream",
          "text": [
            "Shape of X  (3, 10)\n"
          ],
          "name": "stdout"
        },
        {
          "output_type": "display_data",
          "data": {
            "text/plain": [
              "'Y: '"
            ]
          },
          "metadata": {
            "tags": []
          }
        },
        {
          "output_type": "display_data",
          "data": {
            "text/plain": [
              "array([[0.05797554, 0.14532465, 0.3159056 , 0.27196468, 0.18147095,\n",
              "        0.14288964, 0.19429263, 0.04432491, 0.04432104, 0.2272583 ],\n",
              "       [0.46521004, 1.06504222, 0.89212399, 0.3852681 , 0.88156589,\n",
              "        1.01566527, 0.67291178, 1.1055816 , 0.70697538, 0.91062817],\n",
              "       [0.43204186, 0.80250506, 1.21530751, 0.27481495, 1.28855716,\n",
              "        1.243033  , 1.07760937, 1.27503324, 1.25481666, 1.27537378],\n",
              "       [0.32787352, 0.64243114, 0.98839779, 0.35146572, 0.95433449,\n",
              "        0.91108152, 0.81941122, 0.87817628, 0.84314765, 0.97466116]])"
            ]
          },
          "metadata": {
            "tags": []
          }
        }
      ]
    },
    {
      "cell_type": "code",
      "metadata": {
        "id": "TtVnHHm86NuH",
        "colab_type": "code",
        "colab": {
          "base_uri": "https://localhost:8080/",
          "height": 1377
        },
        "outputId": "25b5b336-a744-435b-db38-33eb865f0126"
      },
      "source": [
        "\n",
        "#def f(x):\n",
        "  #return 1.0/(1.0 + np.exp(-x))\n",
        "\n",
        "f = lambda x: 1.0/(1.0 + np.exp(-x)) #activation function\n",
        "\n",
        "X = np.random.rand(3,100)\n",
        "\n",
        "#genrate random wiehgt vector\n",
        "\n",
        "W = np.random.rand(4,3)\n",
        "\n",
        "#generate random bias\n",
        "b = np.random.rand(4,1)\n",
        "\n",
        "#Calculate Y\n",
        "\n",
        "Y = f(np.dot(W,X) + b)\n",
        "\n",
        "display(Y)\n",
        "\n"
      ],
      "execution_count": 79,
      "outputs": [
        {
          "output_type": "display_data",
          "data": {
            "text/plain": [
              "array([[0.6129933 , 0.68405802, 0.64013634, 0.6666351 , 0.62488118,\n",
              "        0.64705491, 0.70979932, 0.59909486, 0.60916608, 0.79117947,\n",
              "        0.70405789, 0.63396533, 0.64181756, 0.6303789 , 0.64640858,\n",
              "        0.66248818, 0.64933203, 0.69197654, 0.67840507, 0.70751532,\n",
              "        0.71239093, 0.65072392, 0.5698555 , 0.74851199, 0.74362488,\n",
              "        0.72721043, 0.76331176, 0.73299615, 0.69827116, 0.62000441,\n",
              "        0.66663449, 0.72761987, 0.69982358, 0.62207677, 0.76983935,\n",
              "        0.69658045, 0.66919853, 0.74490482, 0.68721039, 0.74010428,\n",
              "        0.67977862, 0.6704319 , 0.70139018, 0.71016879, 0.57568364,\n",
              "        0.66879028, 0.60240696, 0.67238544, 0.56976644, 0.64697048,\n",
              "        0.7012518 , 0.55284865, 0.71379017, 0.5715783 , 0.7114318 ,\n",
              "        0.68197044, 0.74269965, 0.62508781, 0.75258956, 0.68100664,\n",
              "        0.68617165, 0.77479258, 0.59275087, 0.64484634, 0.59435566,\n",
              "        0.67018093, 0.68053802, 0.75947994, 0.71926592, 0.71568523,\n",
              "        0.70845559, 0.6468016 , 0.65245144, 0.757389  , 0.70930648,\n",
              "        0.73920943, 0.66223303, 0.58005105, 0.65206345, 0.65418405,\n",
              "        0.59789795, 0.69790923, 0.60203962, 0.72887044, 0.73118499,\n",
              "        0.62734993, 0.66183907, 0.69340674, 0.69966458, 0.64145195,\n",
              "        0.7305127 , 0.68007771, 0.68191657, 0.71035454, 0.68872923,\n",
              "        0.71617763, 0.68165976, 0.706     , 0.60298305, 0.71785758],\n",
              "       [0.55531619, 0.74605638, 0.60954707, 0.6561491 , 0.60589658,\n",
              "        0.71822923, 0.61619774, 0.57487207, 0.56592159, 0.77952422,\n",
              "        0.74145253, 0.75008041, 0.57673705, 0.55194881, 0.65365529,\n",
              "        0.58636648, 0.70182362, 0.70523954, 0.70460254, 0.69535717,\n",
              "        0.60803838, 0.61386251, 0.56794567, 0.75435386, 0.75083367,\n",
              "        0.68231216, 0.73711535, 0.71368783, 0.68290454, 0.64292856,\n",
              "        0.56616433, 0.73389969, 0.74106087, 0.68167316, 0.70373896,\n",
              "        0.71019664, 0.61521077, 0.78423669, 0.63016174, 0.70051612,\n",
              "        0.65993947, 0.67912535, 0.78571867, 0.74356829, 0.5849081 ,\n",
              "        0.73220277, 0.64582181, 0.71782767, 0.54023863, 0.74013519,\n",
              "        0.6207251 , 0.52821066, 0.65737116, 0.61758241, 0.65303435,\n",
              "        0.58178409, 0.6685942 , 0.68787241, 0.70871225, 0.70488524,\n",
              "        0.73992521, 0.76990032, 0.6440278 , 0.69000754, 0.62561874,\n",
              "        0.67045804, 0.75014057, 0.76570639, 0.65767592, 0.74674728,\n",
              "        0.69948967, 0.72026758, 0.6331326 , 0.77221729, 0.78296967,\n",
              "        0.71613374, 0.7418851 , 0.6166936 , 0.75007934, 0.56145959,\n",
              "        0.59386619, 0.64699938, 0.55348178, 0.75119542, 0.72671505,\n",
              "        0.54321267, 0.62580889, 0.76366904, 0.62468409, 0.7488725 ,\n",
              "        0.70634403, 0.57638173, 0.74491942, 0.64021818, 0.63679768,\n",
              "        0.68553955, 0.68648497, 0.62799991, 0.59514316, 0.69566081],\n",
              "       [0.8024087 , 0.87222471, 0.82405018, 0.85222556, 0.80885868,\n",
              "        0.83757017, 0.88450495, 0.7871285 , 0.79663593, 0.93779001,\n",
              "        0.8822426 , 0.83142587, 0.82996236, 0.81641432, 0.83142737,\n",
              "        0.84757326, 0.84129876, 0.87270348, 0.86632394, 0.88235138,\n",
              "        0.88448412, 0.83311354, 0.75724749, 0.9124087 , 0.90994382,\n",
              "        0.89580767, 0.92043624, 0.9042291 , 0.87802471, 0.81271619,\n",
              "        0.84872308, 0.89844322, 0.87914658, 0.81749777, 0.92318679,\n",
              "        0.87518235, 0.85067981, 0.911765  , 0.86663528, 0.90539257,\n",
              "        0.86317076, 0.8532956 , 0.88267695, 0.8878143 , 0.76343135,\n",
              "        0.85615907, 0.79695869, 0.86088592, 0.75459298, 0.83955101,\n",
              "        0.87669445, 0.73684789, 0.88886256, 0.76273347, 0.88541366,\n",
              "        0.86184632, 0.90544068, 0.81906321, 0.91329606, 0.86737882,\n",
              "        0.87359079, 0.9292245 , 0.78520116, 0.83717565, 0.78620377,\n",
              "        0.8554919 , 0.86592039, 0.92086861, 0.89157553, 0.89318753,\n",
              "        0.88679384, 0.83658937, 0.84215465, 0.92017021, 0.88861225,\n",
              "        0.90551321, 0.85586443, 0.76894923, 0.84401483, 0.83842844,\n",
              "        0.78838729, 0.87632418, 0.78979313, 0.90076723, 0.90264201,\n",
              "        0.81523706, 0.84510579, 0.87633859, 0.87563702, 0.83698658,\n",
              "        0.90228909, 0.85811675, 0.86757526, 0.88301217, 0.86750842,\n",
              "        0.88832988, 0.86607964, 0.87830153, 0.79002581, 0.89046214],\n",
              "       [0.67908573, 0.7482238 , 0.75959426, 0.75898871, 0.74930469,\n",
              "        0.74155311, 0.80282838, 0.68121552, 0.69485316, 0.88414481,\n",
              "        0.81404963, 0.69106592, 0.71455963, 0.72018141, 0.76585721,\n",
              "        0.74399375, 0.72216086, 0.7965405 , 0.74307612, 0.82555374,\n",
              "        0.82090096, 0.77555544, 0.63599032, 0.8550601 , 0.84419851,\n",
              "        0.84402921, 0.87201898, 0.81288194, 0.79067912, 0.68683632,\n",
              "        0.76348919, 0.83601992, 0.80988381, 0.67837202, 0.88034062,\n",
              "        0.81132973, 0.78148631, 0.84452264, 0.79186984, 0.85058341,\n",
              "        0.7711809 , 0.78769971, 0.80424234, 0.80942574, 0.65032169,\n",
              "        0.76671763, 0.65632217, 0.74822476, 0.6457323 , 0.73148665,\n",
              "        0.80950582, 0.61110307, 0.80292684, 0.62792037, 0.81634866,\n",
              "        0.77912805, 0.86041783, 0.69521608, 0.86310866, 0.75572183,\n",
              "        0.75058848, 0.8665231 , 0.66150117, 0.71508322, 0.66179979,\n",
              "        0.76401613, 0.78127014, 0.84853579, 0.81931482, 0.80054011,\n",
              "        0.79237768, 0.74857707, 0.71871266, 0.84270265, 0.80800734,\n",
              "        0.84702697, 0.71494709, 0.66048604, 0.73995422, 0.74545753,\n",
              "        0.66625199, 0.793666  , 0.68000354, 0.82771025, 0.81920859,\n",
              "        0.6997892 , 0.77169164, 0.79320066, 0.80775803, 0.70853408,\n",
              "        0.81184024, 0.79478202, 0.77543566, 0.82656335, 0.79792288,\n",
              "        0.83314929, 0.76794786, 0.83220122, 0.70083222, 0.82885363]])"
            ]
          },
          "metadata": {
            "tags": []
          }
        }
      ]
    },
    {
      "cell_type": "code",
      "metadata": {
        "id": "0Aw6Pq299jDL",
        "colab_type": "code",
        "colab": {
          "base_uri": "https://localhost:8080/",
          "height": 1054
        },
        "outputId": "96aa78f3-105d-4f82-911f-9de1174d2f71"
      },
      "source": [
        "\n",
        "#def f(x):\n",
        "  #return 1.0/(1.0 + np.exp(-x))\n",
        "num_inputs = 3\n",
        "hidden_layer_1_Outputs = 4\n",
        "hidden_layer_2_Outputs = 3\n",
        "\n",
        "num_samples = 100\n",
        "\n",
        "f = lambda x: 1.0/(1.0 + np.exp(-x)) #activation function\n",
        "\n",
        "X = np.random.rand(3,num_samples)\n",
        "\n",
        "#genrate random wiehgt vector\n",
        "\n",
        "W_h1 = np.random.rand(hidden_layer_1_Outputs,num_inputs)\n",
        "W_h2 = np.random.rand(hidden_layer_2_Outputs,hidden_layer_1_Outputs)\n",
        "#generate random bias\n",
        "b_h1 = np.random.rand(hidden_layer_1_Outputs,1)\n",
        "b_h2 = np.random.rand(hidden_layer_2_Outputs,1)\n",
        "#Calculate Y\n",
        "\n",
        "Y1 = f(np.dot(W_h1,X) + b_h1)\n",
        "Y2 = f(np.dot(W_h2,Y1) + b_h2)\n",
        "\n",
        "display(Y1.shape)\n",
        "display(Y2)\n"
      ],
      "execution_count": 82,
      "outputs": [
        {
          "output_type": "display_data",
          "data": {
            "text/plain": [
              "(4, 100)"
            ]
          },
          "metadata": {
            "tags": []
          }
        },
        {
          "output_type": "display_data",
          "data": {
            "text/plain": [
              "array([[0.84379228, 0.82659114, 0.82768417, 0.81885329, 0.8355385 ,\n",
              "        0.83125481, 0.82212156, 0.83401343, 0.83188786, 0.83625658,\n",
              "        0.84580927, 0.8326153 , 0.8377897 , 0.83091636, 0.82386837,\n",
              "        0.83498644, 0.83333939, 0.81979227, 0.817843  , 0.83191435,\n",
              "        0.81831848, 0.8402684 , 0.82560029, 0.82652017, 0.8224542 ,\n",
              "        0.84275592, 0.84230166, 0.83193723, 0.83099582, 0.83298465,\n",
              "        0.84124074, 0.82244612, 0.81293256, 0.82099095, 0.82864051,\n",
              "        0.83541995, 0.83015341, 0.83122759, 0.83278235, 0.81717413,\n",
              "        0.82768933, 0.82836343, 0.81314285, 0.84199339, 0.82867184,\n",
              "        0.82063916, 0.82451468, 0.81830719, 0.83702145, 0.83106577,\n",
              "        0.84263728, 0.8408436 , 0.83465148, 0.82912007, 0.83862155,\n",
              "        0.82370731, 0.82794219, 0.82077599, 0.84464782, 0.83479252,\n",
              "        0.84462132, 0.83344126, 0.83235962, 0.83128819, 0.83748655,\n",
              "        0.83880196, 0.83967997, 0.83362971, 0.8344455 , 0.83284652,\n",
              "        0.83434095, 0.82481949, 0.82542915, 0.83153823, 0.83553458,\n",
              "        0.83985288, 0.83139846, 0.83434581, 0.82757511, 0.83073082,\n",
              "        0.82180543, 0.84193329, 0.82630757, 0.82307167, 0.82747578,\n",
              "        0.81242669, 0.84093893, 0.83717448, 0.84163287, 0.83666968,\n",
              "        0.83075908, 0.8205106 , 0.8394716 , 0.80980637, 0.84197082,\n",
              "        0.84121851, 0.83384238, 0.83935725, 0.83587048, 0.81782283],\n",
              "       [0.93522096, 0.91785391, 0.91824798, 0.91015941, 0.9255487 ,\n",
              "        0.92341419, 0.91300173, 0.92304971, 0.92064755, 0.92778198,\n",
              "        0.93591395, 0.92376958, 0.92865489, 0.92143219, 0.91222243,\n",
              "        0.92521157, 0.92239016, 0.91173434, 0.908842  , 0.92277923,\n",
              "        0.91057066, 0.93051264, 0.91732158, 0.9162312 , 0.91402322,\n",
              "        0.93317407, 0.93152325, 0.92116239, 0.92155512, 0.92285581,\n",
              "        0.93048833, 0.91306026, 0.90023213, 0.91272994, 0.91730298,\n",
              "        0.92417004, 0.92051514, 0.92268792, 0.92120739, 0.90348918,\n",
              "        0.91934254, 0.91920372, 0.90263729, 0.93103539, 0.91954321,\n",
              "        0.90870727, 0.91141799, 0.90630714, 0.92532649, 0.92140907,\n",
              "        0.93272279, 0.92950409, 0.92559554, 0.92026899, 0.92806587,\n",
              "        0.91069909, 0.916846  , 0.90754734, 0.93604187, 0.92479464,\n",
              "        0.93556003, 0.92395678, 0.92222209, 0.92244498, 0.9256554 ,\n",
              "        0.92805399, 0.92881239, 0.92624431, 0.92243509, 0.92258239,\n",
              "        0.92414044, 0.91363446, 0.91262339, 0.92144848, 0.92726992,\n",
              "        0.93057096, 0.92227706, 0.92455678, 0.91526301, 0.92215212,\n",
              "        0.91341704, 0.93332525, 0.9164595 , 0.9140619 , 0.91846455,\n",
              "        0.90386052, 0.93007237, 0.92901269, 0.93213802, 0.92674668,\n",
              "        0.92002325, 0.91265587, 0.93048872, 0.89727652, 0.93296773,\n",
              "        0.93144227, 0.92312951, 0.93005475, 0.92549248, 0.90387265],\n",
              "       [0.76886164, 0.74477833, 0.74498557, 0.73444581, 0.75614657,\n",
              "        0.75150475, 0.73823996, 0.75269683, 0.74963764, 0.7580469 ,\n",
              "        0.77083245, 0.75228524, 0.7596371 , 0.74968876, 0.73936817,\n",
              "        0.75527407, 0.75243924, 0.73607605, 0.73298459, 0.75131427,\n",
              "        0.73430356, 0.76277505, 0.74341522, 0.74282535, 0.73894289,\n",
              "        0.76660998, 0.76484181, 0.74978214, 0.74982563, 0.75178568,\n",
              "        0.76338871, 0.7386441 , 0.72439914, 0.73754784, 0.74520948,\n",
              "        0.75465218, 0.74866558, 0.75129667, 0.75111504, 0.72949953,\n",
              "        0.7462947 , 0.74645527, 0.72594438, 0.76442412, 0.74688493,\n",
              "        0.73461383, 0.73927466, 0.73129342, 0.75672561, 0.74966246,\n",
              "        0.76614028, 0.76229366, 0.75565277, 0.74804098, 0.7598185 ,\n",
              "        0.73808571, 0.74434314, 0.73436588, 0.77010572, 0.7550605 ,\n",
              "        0.76961852, 0.75319784, 0.75101494, 0.75041098, 0.75758818,\n",
              "        0.76011481, 0.76114206, 0.75481334, 0.75303131, 0.75188824,\n",
              "        0.75386605, 0.74012619, 0.7407619 , 0.75046111, 0.75679754,\n",
              "        0.76247121, 0.75095464, 0.75483994, 0.74388903, 0.75006618,\n",
              "        0.73844749, 0.7660209 , 0.74323986, 0.73969538, 0.74580719,\n",
              "        0.72628401, 0.76286983, 0.75938481, 0.76486386, 0.75721796,\n",
              "        0.74913638, 0.73704321, 0.76253561, 0.72065454, 0.76595751,\n",
              "        0.76433624, 0.75313241, 0.76200815, 0.75643449, 0.73005656]])"
            ]
          },
          "metadata": {
            "tags": []
          }
        }
      ]
    },
    {
      "cell_type": "markdown",
      "metadata": {
        "id": "wgWZldyi-Zef",
        "colab_type": "text"
      },
      "source": [
        "# Lab on Machine Learning and Applications in Intelligent Vehicles\n",
        "## Session 1: Introduction\n"
      ]
    },
    {
      "cell_type": "markdown",
      "metadata": {
        "id": "j1T4XAd1_fJk",
        "colab_type": "text"
      },
      "source": [
        "### Course Plan:\n",
        "\n",
        "This lab is a continuation to the Machine learning lecture, the objective of this course is to learn how to model and implement neural networks using deep learning python frameworks: \n",
        "1. Tensorflow\n",
        "2. Keras\n",
        "3. Pytorch\n",
        "\n",
        "Useing these frameworks, we will go through the following topics and use cases:\n",
        "\n",
        "#### Session 1: 05.06 - 09:00 - 11:00  :\n",
        "\n",
        ">#### Presentation:  05.06 - 09:00 - 10:30:\n",
        ">1. Introduction to deep learning frameworks\n",
        "2. Deep learning in Numpy\n",
        "\n",
        ">#### Break:  05.06 - 10:30 - 10:45\n",
        ">#### Assignment:  05.06 - 10:45 - 11:45 : \n",
        ">* Implementation of backprop using numpy\n",
        "\n",
        ">1. Tensorflow backround \n",
        "2. Implementation of feedforward neural networks using Tensorflow\n",
        "\n",
        ">#### Break:  05.06 - 10:00 - 10:15\n",
        ">#### Assignment:  05.06 - 10:15 - 10:45 : \n",
        "  \n",
        "  >* play around with tensorflow and build your first neural network\n",
        "\n",
        "\n",
        "\n",
        "#### Session 2:  05.06 - 11:00 - 12:00  :\n",
        "\n",
        ">#### Presentation:  05.06 - 11:00 - 12:00:\n",
        "\n",
        "\n",
        ">3. Implementation of CNN useing Tensorflow\n",
        "4. Tensorboard\n",
        "\n",
        ">#### Break:  05.06 - 12:00 - 13:00\n",
        ">#### Assignment:  05.06 - 13:00 - 13:30 :\n",
        "\n",
        "\n",
        " #### Session 3:  05.06 - 13:30 - 15:00  :\n",
        "\n",
        ">#### Presentation:  05.06 - 13:00 - 14:00:\n",
        "\n",
        ">5. Introduction to Keras\n",
        "6. CNN using Keras\n",
        ">#### Break:  05.06 - 14:00 - 14:15\n",
        ">#### Assignment:  05.06 - 14:15 - 14:45 :\n",
        "\n",
        " #### Session 4:  05.06 - 15:00 - 16:30  :\n",
        "\n",
        ">#### Presentation:  05.06 - 15:00 - 15:45:\n",
        "\n",
        ">7. LSTM using Keras\n",
        "\n",
        ">#### Break:  05.06 - 15:45 - 16:00\n",
        ">#### Assignment:  05.06 - 16:00 - 16:30 :\n",
        "\n",
        "\n",
        "8. VGG, Inceptaion, ResNet models using Keras\n",
        "\n",
        "9. Autoencoders using Keras\n",
        "\n",
        "10. Sequence to Sequence Models using Keras \n",
        "\n",
        "11. Attention Mechanism using Keras\n",
        "12. GANS \n",
        "13. Introduction to Pytorch\n",
        "14. Machine translation using Pytorch\n",
        "15. Introduction to Allennlp\n",
        "16. Deep Reinforcment Learning using Keras\n",
        "17. Use case: building self driving car using Unity and tensorflow\n",
        "\n",
        "\n",
        "\n",
        "\n",
        "\n",
        "\n",
        "\n",
        "\n"
      ]
    },
    {
      "cell_type": "markdown",
      "metadata": {
        "id": "a75NLOuwKXSs",
        "colab_type": "text"
      },
      "source": [
        "#Session 1: 05.06 - 09:00 - 11:00 :\n"
      ]
    },
    {
      "cell_type": "markdown",
      "metadata": {
        "id": "ciUtGM-W_ehP",
        "colab_type": "text"
      },
      "source": [
        "\n",
        "\n",
        "## Deep learning frameworks:\n",
        "\n",
        "In the past decade, many deep learning frameworks have been developed to ease and scale the research and development of AI. Many big technology providers including Google, IBM, Microsoft and Facebook have entered the race to provide the best and most popluar frameworks. To enter such a race, mainly four features are considered in the provided framework:\n",
        "\n",
        "1. Uses a popular language for data scientists (Python, Scale, C++ or R)\n",
        "2. Flexible in creating and adjusting deep learning architectures -> Functional programming\n",
        "3. Easy for computing gradients\n",
        "4. Interface with GPUs for parallel processing\n",
        "\n",
        "\n",
        "In the following we see the most popular provided deep learning frameworks with their providers\n",
        "https://towardsdatascience.com/deep-learning-framework-power-scores-2018-23607ddf297a\n",
        "\n",
        "![alt text](https://cdn-images-1.medium.com/max/1600/1*dYjDEI0mLpsCOySKUuX1VA.png)\n",
        "\n",
        "## Tensorflow\n",
        "TensorFlow is the undisputed heavyweight champion. It has the most GitHub activity, Google searches, Medium articles, books on Amazon and ArXiv articles. It also has the most developers using it and is listed in the most online job descriptions. TensorFlow is backed by Google.\n",
        "\n",
        "## Keras\n",
        "Keras has an “API designed for human beings, not machines.” It is the second most popular framework in nearly all evaluation areas. Keras sits on top of TensorFlow, Theano, or CNTK. Start with Keras if you are new to deep learning.\n",
        "\n",
        "## Pytorch\n",
        "\n",
        "PyTorch is the third most popular overall framework and the second most popular stand-alone framework. It is younger than TensorFlow and has grown rapidly in popularity. It allows customization that TensorFlow does not. It has the backing of Facebook.\n",
        "\n",
        "## Theano\n",
        "\n",
        "Theano was developed at the University of Montreal in 2007 and is the oldest significant Python deep learning framework. It has lost much of its popularity and its leader stated that major releases were no longer on the roadmap. However, updates continue to be made. Theano still the fifth highest scoring framework.\n",
        "\n",
        "# Comparision:\n",
        "\n",
        "## Criteria 1: Online Job Listings\n",
        "\n",
        "TensorFlow is the clear winner when it comes to frameworks mentioned in job listings. Learn it if you want a job doing deep learning.\n",
        "\n",
        ">> ![alt text](https://cdn-images-1.medium.com/max/800/1*kA8dIgRqLdWgKgs2sd7clA.png)\n",
        "\n",
        "## Criteria 2: Usage\n",
        "\n",
        "\n",
        "Keras showed a surprising amount of use — nearly as much as TensorFlow. It’s interesting that US employers are overwhelmingly looking for TensorFlow skills, when — at least internationally — Keras is used almost as frequently.\n",
        "\n",
        "  >> ![alt text](https://cdn-images-1.medium.com/max/800/1*6b2Tm0oFr99zKaxkr4g52w.png)\n",
        "  \n",
        "  \n",
        "## Criteria 4: Google Search Activity\n",
        "\n",
        ">> ![alt text](https://cdn-images-1.medium.com/max/800/1*wpA6C9x_Nri42EzbqnS1fQ.png)\n",
        "\n",
        "## Criteria 5: Medium Articles\n",
        "\n",
        ">> ![alt text](https://cdn-images-1.medium.com/max/800/1*Y1cJUgZTC3u_hU1lmdsroQ.png)\n",
        "\n",
        "\n",
        "## Criteria 6: Amazon Books\n",
        "\n",
        ">> ![alt text](https://cdn-images-1.medium.com/max/800/1*mtP47q29T6agdkEoJcCw-w.png)\n",
        "\n",
        "## Criteria 7 : ArXiv Articles\n",
        "\n",
        "  >> ![alt text](https://cdn-images-1.medium.com/max/800/1*7jdNoNkGlx_1EnfevQXRvw.png)\n",
        "  \n",
        "## Criteria 8: GitHub Activity\n",
        "\n",
        "  >> ![alt text](https://cdn-images-1.medium.com/max/800/1*eOOYV3C5klsuVBMX31ngxw.png)\n",
        "  \n",
        " --------------------------------\n",
        " \n",
        "\n",
        "\n",
        "  \n",
        " \n",
        "\n",
        "\n",
        "\n",
        "\n"
      ]
    },
    {
      "cell_type": "markdown",
      "metadata": {
        "id": "9v3V8ztAKDCg",
        "colab_type": "text"
      },
      "source": [
        "\n",
        "\n",
        "```\n",
        "# This is formatted as code\n",
        "```\n",
        "\n",
        "\n",
        "Before we jump into Tensorflow, we will implemented our first neural network model using Python Numpy package. NumPy is the fundamental package for scientific computing with Python, such as:\n",
        "\n",
        "1. Linear Algebra\n",
        "2. Statistics\n",
        "3. Calculus\n",
        "\n",
        "## A brief intro to Numpy operations:\n",
        "\n",
        "1. Creating a Vector:\n",
        "Here we use Numpy to create a 1-D Array which we then call a vector.\n",
        "\n",
        "\n",
        "\n"
      ]
    },
    {
      "cell_type": "code",
      "metadata": {
        "id": "GTf7M4r7Lgj9",
        "colab_type": "code",
        "colab": {}
      },
      "source": [
        ""
      ],
      "execution_count": 0,
      "outputs": []
    },
    {
      "cell_type": "markdown",
      "metadata": {
        "id": "JYFjSo0OLqA3",
        "colab_type": "text"
      },
      "source": [
        "2. Creating a Matrix\n",
        "We Create a 2-D Array in Numpy and call it a Matrix. It contains 2 rows and 3 columns."
      ]
    },
    {
      "cell_type": "code",
      "metadata": {
        "id": "fJlDBq5rLmA-",
        "colab_type": "code",
        "colab": {}
      },
      "source": [
        ""
      ],
      "execution_count": 0,
      "outputs": []
    },
    {
      "cell_type": "markdown",
      "metadata": {
        "id": "wv99hZqULygH",
        "colab_type": "text"
      },
      "source": [
        "3. Selecting Elements\n"
      ]
    },
    {
      "cell_type": "code",
      "metadata": {
        "id": "ZLQlxFzkPrKM",
        "colab_type": "code",
        "colab": {}
      },
      "source": [
        "\n"
      ],
      "execution_count": 0,
      "outputs": []
    },
    {
      "cell_type": "markdown",
      "metadata": {
        "id": "QO3vTGEKQhm7",
        "colab_type": "text"
      },
      "source": [
        "4. Describing a Matrix"
      ]
    },
    {
      "cell_type": "code",
      "metadata": {
        "id": "q8bDjBhhQpg5",
        "colab_type": "code",
        "colab": {}
      },
      "source": [
        ""
      ],
      "execution_count": 0,
      "outputs": []
    },
    {
      "cell_type": "markdown",
      "metadata": {
        "id": "eKISvY8kQtA0",
        "colab_type": "text"
      },
      "source": [
        "5. Finding the max and min values"
      ]
    },
    {
      "cell_type": "code",
      "metadata": {
        "id": "abPJd0JrQ4mM",
        "colab_type": "code",
        "colab": {}
      },
      "source": [
        ""
      ],
      "execution_count": 0,
      "outputs": []
    },
    {
      "cell_type": "markdown",
      "metadata": {
        "id": "3Qm64s_eR0zQ",
        "colab_type": "text"
      },
      "source": [
        "6. Reshaping Arrays\n"
      ]
    },
    {
      "cell_type": "code",
      "metadata": {
        "id": "Pwepq7h_SBBD",
        "colab_type": "code",
        "colab": {}
      },
      "source": [
        ""
      ],
      "execution_count": 0,
      "outputs": []
    },
    {
      "cell_type": "markdown",
      "metadata": {
        "id": "cJU3xABuVem_",
        "colab_type": "text"
      },
      "source": [
        "7. Calculating Dot Products"
      ]
    },
    {
      "cell_type": "code",
      "metadata": {
        "id": "cPKg382VVivy",
        "colab_type": "code",
        "colab": {}
      },
      "source": [
        ""
      ],
      "execution_count": 0,
      "outputs": []
    },
    {
      "cell_type": "markdown",
      "metadata": {
        "id": "cB-jK7jEXY7F",
        "colab_type": "text"
      },
      "source": [
        "##Linear regression in Numpy:\n",
        "\n",
        "---\n",
        "\n",
        "\n",
        "\n",
        "Write the numpy code for the following model:\n",
        "\n",
        "$Y=WX+B$\n",
        "\n",
        "where $X$ is 3x10 matrix:  10 samples and 3 features\n",
        "\n",
        "$Y$ is 4x10 matrix: 10 samples and 4 outputs\n",
        "\n",
        "$W$ is the weights matrix with the shape 4x3: connecting 3 inputs to 4 outputs\n",
        "\n",
        "$b$ is a vector with a size 4 ( one bias per output)\n"
      ]
    },
    {
      "cell_type": "code",
      "metadata": {
        "id": "_EtM5LVtWCpm",
        "colab_type": "code",
        "colab": {}
      },
      "source": [
        ""
      ],
      "execution_count": 0,
      "outputs": []
    },
    {
      "cell_type": "markdown",
      "metadata": {
        "id": "hMIoucH9hFfr",
        "colab_type": "text"
      },
      "source": [
        "## One neuron model in numpy:\n",
        "\n",
        "A single neuron has multiple inputs and one output, in addition to the linear regression model, we need to add non linearity through an activation function:\n",
        "\n",
        "$Y= f(WX+B)$\n",
        "\n",
        "where $X$ is n x m matrix:  m samples and n features/inputs\n",
        "\n",
        "$f(g)= \\frac{1}{1+\\exp(-g)}$  is a sigmoid acitavation function\n",
        "\n",
        "$Y$ is nh1 x m matrix: m samples and ny outputs\n",
        "\n",
        "$W$ is the weights matrix with the shape nh1 x n: connecting 3 inputs to 4 outputs\n",
        "\n",
        "$b$ is a vector with a size nh1 ( one bias per output)\n",
        "\n",
        "\n",
        "\n"
      ]
    },
    {
      "cell_type": "code",
      "metadata": {
        "id": "Qry1JDGEiLmx",
        "colab_type": "code",
        "colab": {}
      },
      "source": [
        "\n"
      ],
      "execution_count": 0,
      "outputs": []
    },
    {
      "cell_type": "markdown",
      "metadata": {
        "id": "aSnbti9ooIIs",
        "colab_type": "text"
      },
      "source": [
        "## One hidden layer model in numpy:\n",
        "\n",
        "The difference from the one neuron model is simple:  we need only to change the number of output \"ny\""
      ]
    },
    {
      "cell_type": "code",
      "metadata": {
        "id": "ZAY3o6zBnpA0",
        "colab_type": "code",
        "colab": {}
      },
      "source": [
        ""
      ],
      "execution_count": 0,
      "outputs": []
    },
    {
      "cell_type": "markdown",
      "metadata": {
        "id": "11fqb_bQvIEi",
        "colab_type": "text"
      },
      "source": [
        "## Gradient descent in Numpy:\n",
        "Let us now start training a neural network\n",
        "We start by implementing a simple gradient descent for linear regression"
      ]
    },
    {
      "cell_type": "code",
      "metadata": {
        "id": "mzBJxwb7FFZ2",
        "colab_type": "code",
        "colab": {}
      },
      "source": [
        ""
      ],
      "execution_count": 0,
      "outputs": []
    },
    {
      "cell_type": "code",
      "metadata": {
        "id": "QaQyLoxk2FyG",
        "colab_type": "code",
        "colab": {}
      },
      "source": [
        ""
      ],
      "execution_count": 0,
      "outputs": []
    },
    {
      "cell_type": "markdown",
      "metadata": {
        "id": "jRqCCVlmFIZl",
        "colab_type": "text"
      },
      "source": [
        "##Assignment 1\n",
        "### Backpropagation in Numpy:\n"
      ]
    }
  ]
}