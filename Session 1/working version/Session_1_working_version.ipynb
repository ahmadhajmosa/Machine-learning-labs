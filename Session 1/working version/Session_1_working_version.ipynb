{
  "nbformat": 4,
  "nbformat_minor": 0,
  "metadata": {
    "colab": {
      "name": "Session 1 working version.ipynb",
      "version": "0.3.2",
      "provenance": [],
      "collapsed_sections": [],
      "toc_visible": true
    },
    "kernelspec": {
      "name": "python3",
      "display_name": "Python 3"
    },
    "accelerator": "GPU"
  },
  "cells": [
    {
      "cell_type": "markdown",
      "metadata": {
        "id": "rmSUExzC-ZBV",
        "colab_type": "text"
      },
      "source": [
        ""
      ]
    },
    {
      "cell_type": "code",
      "metadata": {
        "id": "nDsoTCOum9oE",
        "colab_type": "code",
        "colab": {
          "base_uri": "https://localhost:8080/",
          "height": 34
        },
        "outputId": "4eba0af5-3473-4917-e8f5-92e30d9d438a"
      },
      "source": [
        "import tensorflow\n",
        "\n",
        "print(\"HelloWorld\")\n"
      ],
      "execution_count": 3,
      "outputs": [
        {
          "output_type": "stream",
          "text": [
            "HelloWorld\n"
          ],
          "name": "stdout"
        }
      ]
    },
    {
      "cell_type": "markdown",
      "metadata": {
        "id": "wgWZldyi-Zef",
        "colab_type": "text"
      },
      "source": [
        "# Lab on Machine Learning and Applications in Intelligent Vehicles\n",
        "## Session 1: Introduction\n"
      ]
    },
    {
      "cell_type": "markdown",
      "metadata": {
        "id": "j1T4XAd1_fJk",
        "colab_type": "text"
      },
      "source": [
        "### Course Plan:\n",
        "\n",
        "This lab is a continuation to the Machine learning lecture, the objective of this course is to learn how to model and implement neural networks using deep learning python frameworks: \n",
        "1. Tensorflow\n",
        "2. Keras\n",
        "3. Pytorch\n",
        "\n",
        "Useing these frameworks, we will go through the following topics and use cases:\n",
        "\n",
        "#### Session 1: 05.06 - 09:00 - 11:00  :\n",
        "\n",
        ">#### Presentation:  05.06 - 09:00 - 10:30:\n",
        ">1. Introduction to deep learning frameworks\n",
        "2. Deep learning in Numpy\n",
        "\n",
        ">#### Break:  05.06 - 10:30 - 10:45\n",
        ">#### Assignment:  05.06 - 10:45 - 11:45 : \n",
        ">* Implementation of backprop using numpy\n",
        "\n",
        ">1. Tensorflow backround \n",
        "2. Implementation of feedforward neural networks using Tensorflow\n",
        "\n",
        ">#### Break:  05.06 - 10:00 - 10:15\n",
        ">#### Assignment:  05.06 - 10:15 - 10:45 : \n",
        "  \n",
        "  >* play around with tensorflow and build your first neural network\n",
        "\n",
        "\n",
        "\n",
        "#### Session 2:  05.06 - 11:00 - 12:00  :\n",
        "\n",
        ">#### Presentation:  05.06 - 11:00 - 12:00:\n",
        "\n",
        "\n",
        ">3. Implementation of CNN useing Tensorflow\n",
        "4. Tensorboard\n",
        "\n",
        ">#### Break:  05.06 - 12:00 - 13:00\n",
        ">#### Assignment:  05.06 - 13:00 - 13:30 :\n",
        "\n",
        "\n",
        " #### Session 3:  05.06 - 13:30 - 15:00  :\n",
        "\n",
        ">#### Presentation:  05.06 - 13:00 - 14:00:\n",
        "\n",
        ">5. Introduction to Keras\n",
        "6. CNN using Keras\n",
        ">#### Break:  05.06 - 14:00 - 14:15\n",
        ">#### Assignment:  05.06 - 14:15 - 14:45 :\n",
        "\n",
        " #### Session 4:  05.06 - 15:00 - 16:30  :\n",
        "\n",
        ">#### Presentation:  05.06 - 15:00 - 15:45:\n",
        "\n",
        ">7. LSTM using Keras\n",
        "\n",
        ">#### Break:  05.06 - 15:45 - 16:00\n",
        ">#### Assignment:  05.06 - 16:00 - 16:30 :\n",
        "\n",
        "\n",
        "8. VGG, Inceptaion, ResNet models using Keras\n",
        "\n",
        "9. Autoencoders using Keras\n",
        "\n",
        "10. Sequence to Sequence Models using Keras \n",
        "\n",
        "11. Attention Mechanism using Keras\n",
        "12. GANS \n",
        "13. Introduction to Pytorch\n",
        "14. Machine translation using Pytorch\n",
        "15. Introduction to Allennlp\n",
        "16. Deep Reinforcment Learning using Keras\n",
        "17. Use case: building self driving car using Unity and tensorflow\n",
        "\n",
        "\n",
        "\n",
        "\n",
        "\n",
        "\n",
        "\n",
        "\n"
      ]
    },
    {
      "cell_type": "markdown",
      "metadata": {
        "id": "a75NLOuwKXSs",
        "colab_type": "text"
      },
      "source": [
        "#Session 1: 05.06 - 09:00 - 11:00 :\n"
      ]
    },
    {
      "cell_type": "markdown",
      "metadata": {
        "id": "ciUtGM-W_ehP",
        "colab_type": "text"
      },
      "source": [
        "\n",
        "\n",
        "## Deep learning frameworks:\n",
        "\n",
        "In the past decade, many deep learning frameworks have been developed to ease and scale the research and development of AI. Many big technology providers including Google, IBM, Microsoft and Facebook have entered the race to provide the best and most popluar frameworks. To enter such a race, mainly four features are considered in the provided framework:\n",
        "\n",
        "1. Uses a popular language for data scientists (Python, Scale, C++ or R)\n",
        "2. Flexible in creating and adjusting deep learning architectures -> Functional programming\n",
        "3. Easy for computing gradients\n",
        "4. Interface with GPUs for parallel processing\n",
        "\n",
        "\n",
        "In the following we see the most popular provided deep learning frameworks with their providers\n",
        "https://towardsdatascience.com/deep-learning-framework-power-scores-2018-23607ddf297a\n",
        "\n",
        "![alt text](https://cdn-images-1.medium.com/max/1600/1*dYjDEI0mLpsCOySKUuX1VA.png)\n",
        "\n",
        "## Tensorflow\n",
        "TensorFlow is the undisputed heavyweight champion. It has the most GitHub activity, Google searches, Medium articles, books on Amazon and ArXiv articles. It also has the most developers using it and is listed in the most online job descriptions. TensorFlow is backed by Google.\n",
        "\n",
        "## Keras\n",
        "Keras has an “API designed for human beings, not machines.” It is the second most popular framework in nearly all evaluation areas. Keras sits on top of TensorFlow, Theano, or CNTK. Start with Keras if you are new to deep learning.\n",
        "\n",
        "## Pytorch\n",
        "\n",
        "PyTorch is the third most popular overall framework and the second most popular stand-alone framework. It is younger than TensorFlow and has grown rapidly in popularity. It allows customization that TensorFlow does not. It has the backing of Facebook.\n",
        "\n",
        "## Theano\n",
        "\n",
        "Theano was developed at the University of Montreal in 2007 and is the oldest significant Python deep learning framework. It has lost much of its popularity and its leader stated that major releases were no longer on the roadmap. However, updates continue to be made. Theano still the fifth highest scoring framework.\n",
        "\n",
        "# Comparision:\n",
        "\n",
        "## Criteria 1: Online Job Listings\n",
        "\n",
        "TensorFlow is the clear winner when it comes to frameworks mentioned in job listings. Learn it if you want a job doing deep learning.\n",
        "\n",
        ">> ![alt text](https://cdn-images-1.medium.com/max/800/1*kA8dIgRqLdWgKgs2sd7clA.png)\n",
        "\n",
        "## Criteria 2: Usage\n",
        "\n",
        "\n",
        "Keras showed a surprising amount of use — nearly as much as TensorFlow. It’s interesting that US employers are overwhelmingly looking for TensorFlow skills, when — at least internationally — Keras is used almost as frequently.\n",
        "\n",
        "  >> ![alt text](https://cdn-images-1.medium.com/max/800/1*6b2Tm0oFr99zKaxkr4g52w.png)\n",
        "  \n",
        "  \n",
        "## Criteria 4: Google Search Activity\n",
        "\n",
        ">> ![alt text](https://cdn-images-1.medium.com/max/800/1*wpA6C9x_Nri42EzbqnS1fQ.png)\n",
        "\n",
        "## Criteria 5: Medium Articles\n",
        "\n",
        ">> ![alt text](https://cdn-images-1.medium.com/max/800/1*Y1cJUgZTC3u_hU1lmdsroQ.png)\n",
        "\n",
        "\n",
        "## Criteria 6: Amazon Books\n",
        "\n",
        ">> ![alt text](https://cdn-images-1.medium.com/max/800/1*mtP47q29T6agdkEoJcCw-w.png)\n",
        "\n",
        "## Criteria 7 : ArXiv Articles\n",
        "\n",
        "  >> ![alt text](https://cdn-images-1.medium.com/max/800/1*7jdNoNkGlx_1EnfevQXRvw.png)\n",
        "  \n",
        "## Criteria 8: GitHub Activity\n",
        "\n",
        "  >> ![alt text](https://cdn-images-1.medium.com/max/800/1*eOOYV3C5klsuVBMX31ngxw.png)\n",
        "  \n",
        " --------------------------------\n",
        " \n",
        "\n",
        "\n",
        "  \n",
        " \n",
        "\n",
        "\n",
        "\n",
        "\n"
      ]
    },
    {
      "cell_type": "markdown",
      "metadata": {
        "id": "9v3V8ztAKDCg",
        "colab_type": "text"
      },
      "source": [
        "\n",
        "\n",
        "```\n",
        "# This is formatted as code\n",
        "```\n",
        "\n",
        "\n",
        "Before we jump into Tensorflow, we will implemented our first neural network model using Python Numpy package. NumPy is the fundamental package for scientific computing with Python, such as:\n",
        "\n",
        "1. Linear Algebra\n",
        "2. Statistics\n",
        "3. Calculus\n",
        "\n",
        "## A brief intro to Numpy operations:\n",
        "\n",
        "1. Creating a Vector:\n",
        "Here we use Numpy to create a 1-D Array which we then call a vector.\n",
        "\n",
        "\n",
        "\n"
      ]
    },
    {
      "cell_type": "code",
      "metadata": {
        "id": "GTf7M4r7Lgj9",
        "colab_type": "code",
        "colab": {}
      },
      "source": [
        "import numpy as np\n",
        "\n",
        "v1=np.zeros((1,100))\n",
        "#display(v1)\n",
        "\n",
        "\n",
        "v2=np.zeros((1,100))\n",
        "#display(v2)\n",
        "\n",
        "v2.T.shape\n",
        "\n",
        "v3=np.ones((1,100))\n",
        "v4=np.eye(4)\n",
        "v5=np.random.randn(100,1) # normally distributed random generator with mean 0 and 1 std\n",
        "v6=np.random.rand(100,1) # uniformally distributed random generator between 0 and 1\n",
        "display(v4)\n",
        "display('mean of randn: ',v5.mean())\n",
        "display('std of randn: ',v5.std())\n",
        "display('mean of rand: ',v6.mean())\n",
        "display('min of rand: ',v6.min())\n",
        "display('max of rand: ',v6.max())"
      ],
      "execution_count": 0,
      "outputs": []
    },
    {
      "cell_type": "markdown",
      "metadata": {
        "id": "JYFjSo0OLqA3",
        "colab_type": "text"
      },
      "source": [
        "2. Creating a Matrix\n",
        "We Create a 2-D Array in Numpy and call it a Matrix. It contains 2 rows and 3 columns."
      ]
    },
    {
      "cell_type": "code",
      "metadata": {
        "id": "fJlDBq5rLmA-",
        "colab_type": "code",
        "colab": {
          "base_uri": "https://localhost:8080/",
          "height": 136
        },
        "outputId": "0b836cc3-04ac-4be1-829b-1859913c876c"
      },
      "source": [
        "m1=np.zeros((2,3))\n",
        "display(m1)\n",
        "\n",
        "matrix=np.array([[1,2,3],[4,5,6]])\n",
        "display('matrix: ',matrix)\n",
        "display('matrix shape: ',matrix.shape)"
      ],
      "execution_count": 29,
      "outputs": [
        {
          "output_type": "display_data",
          "data": {
            "text/plain": [
              "array([[0., 0., 0.],\n",
              "       [0., 0., 0.]])"
            ]
          },
          "metadata": {
            "tags": []
          }
        },
        {
          "output_type": "display_data",
          "data": {
            "text/plain": [
              "'matrix: '"
            ]
          },
          "metadata": {
            "tags": []
          }
        },
        {
          "output_type": "display_data",
          "data": {
            "text/plain": [
              "array([[1, 2, 3],\n",
              "       [4, 5, 6]])"
            ]
          },
          "metadata": {
            "tags": []
          }
        },
        {
          "output_type": "display_data",
          "data": {
            "text/plain": [
              "'matrix shape: '"
            ]
          },
          "metadata": {
            "tags": []
          }
        },
        {
          "output_type": "display_data",
          "data": {
            "text/plain": [
              "(2, 3)"
            ]
          },
          "metadata": {
            "tags": []
          }
        }
      ]
    },
    {
      "cell_type": "markdown",
      "metadata": {
        "id": "wv99hZqULygH",
        "colab_type": "text"
      },
      "source": [
        "3. Selecting Elements\n"
      ]
    },
    {
      "cell_type": "code",
      "metadata": {
        "id": "ZLQlxFzkPrKM",
        "colab_type": "code",
        "colab": {
          "base_uri": "https://localhost:8080/",
          "height": 119
        },
        "outputId": "02ef9225-130c-4347-dc64-55084c877950"
      },
      "source": [
        "display(matrix[0,0]) # first row first column\n",
        "display(matrix[0,-1]) # first row last column\n",
        "display(matrix[0,-2]) # first row second last column\n",
        "display(matrix[0,1:]) # first row and all columns after the first\n",
        "display(matrix[0,:-1]) # first row and all columns until the last\n",
        "\n",
        "# Always consider that the left side of : will be included, but the right side not\n",
        "display(matrix[0,0:2]) # e.g. this will only give the first and second column"
      ],
      "execution_count": 39,
      "outputs": [
        {
          "output_type": "display_data",
          "data": {
            "text/plain": [
              "1"
            ]
          },
          "metadata": {
            "tags": []
          }
        },
        {
          "output_type": "display_data",
          "data": {
            "text/plain": [
              "3"
            ]
          },
          "metadata": {
            "tags": []
          }
        },
        {
          "output_type": "display_data",
          "data": {
            "text/plain": [
              "2"
            ]
          },
          "metadata": {
            "tags": []
          }
        },
        {
          "output_type": "display_data",
          "data": {
            "text/plain": [
              "array([2, 3])"
            ]
          },
          "metadata": {
            "tags": []
          }
        },
        {
          "output_type": "display_data",
          "data": {
            "text/plain": [
              "array([1, 2])"
            ]
          },
          "metadata": {
            "tags": []
          }
        },
        {
          "output_type": "display_data",
          "data": {
            "text/plain": [
              "array([1, 2])"
            ]
          },
          "metadata": {
            "tags": []
          }
        }
      ]
    },
    {
      "cell_type": "markdown",
      "metadata": {
        "id": "QO3vTGEKQhm7",
        "colab_type": "text"
      },
      "source": [
        "4. Describing a Matrix"
      ]
    },
    {
      "cell_type": "code",
      "metadata": {
        "id": "q8bDjBhhQpg5",
        "colab_type": "code",
        "colab": {
          "base_uri": "https://localhost:8080/",
          "height": 68
        },
        "outputId": "02b8aca0-5a4f-40c6-9615-67d4d07cad55"
      },
      "source": [
        "#View the number of rows and columns\n",
        "print(matrix.shape)\n",
        "#View the number of elements (rows*columns)\n",
        "print(matrix.size)\n",
        "#View the number of dimensions (2 in this case)\n",
        "print(matrix.ndim)"
      ],
      "execution_count": 41,
      "outputs": [
        {
          "output_type": "stream",
          "text": [
            "(2, 3)\n",
            "6\n",
            "2\n"
          ],
          "name": "stdout"
        }
      ]
    },
    {
      "cell_type": "markdown",
      "metadata": {
        "id": "eKISvY8kQtA0",
        "colab_type": "text"
      },
      "source": [
        "5. Finding the max and min values"
      ]
    },
    {
      "cell_type": "code",
      "metadata": {
        "id": "abPJd0JrQ4mM",
        "colab_type": "code",
        "colab": {
          "base_uri": "https://localhost:8080/",
          "height": 272
        },
        "outputId": "6ec54291-025e-4e5c-ca3c-81a27b2f537a"
      },
      "source": [
        "print(matrix)\n",
        "print(matrix.max())\n",
        "print(matrix[0,:].max())\n",
        "print(matrix.min(axis=0)) #Minimum along the first dimension\n",
        "\n",
        "print(np.min(matrix,axis=0)) #Minimum along the first dimension\n",
        "print('arg:',np.argmax(matrix,axis=0)) #Argument (index) of the minimum along the first dimension\n",
        "print('arg:',np.argmax(matrix)) #Argument (index) of the minimum in the matrix\n",
        "\n",
        "print('MaxIndex:',np.argwhere(matrix == matrix.max()))\n",
        "print('Indices with values smaller than max:',np.argwhere(matrix < matrix.max()))\n",
        "\n",
        "\n",
        "testmatrix=np.array([[6,2,3],[4,5,6]])\n",
        "print(testmatrix.argmax(axis=0))"
      ],
      "execution_count": 62,
      "outputs": [
        {
          "output_type": "stream",
          "text": [
            "[[1 2 3]\n",
            " [4 5 6]]\n",
            "6\n",
            "3\n",
            "[1 2 3]\n",
            "[1 2 3]\n",
            "arg: [1 1 1]\n",
            "arg: 5\n",
            "MaxIndex: [[1 2]]\n",
            "Indices with values smaller than max: [[0 0]\n",
            " [0 1]\n",
            " [0 2]\n",
            " [1 0]\n",
            " [1 1]]\n",
            "[0 1 1]\n"
          ],
          "name": "stdout"
        }
      ]
    },
    {
      "cell_type": "markdown",
      "metadata": {
        "id": "3Qm64s_eR0zQ",
        "colab_type": "text"
      },
      "source": [
        "6. Reshaping Arrays\n"
      ]
    },
    {
      "cell_type": "code",
      "metadata": {
        "id": "Pwepq7h_SBBD",
        "colab_type": "code",
        "colab": {
          "base_uri": "https://localhost:8080/",
          "height": 34
        },
        "outputId": "0d9262cb-1657-4e72-a2c4-0925648c3001"
      },
      "source": [
        "matrix.shape\n",
        "matrix2=matrix.reshape((3,2))\n",
        "matrix.reshape((1,6))\n",
        "matrix.reshape((1,2,3)) #dim 0 size is 1, dim 1 is 2, dim 2 is 3\n",
        "matrix.reshape((1,-1,3)).shape #Calculate the size of one dimension automatically"
      ],
      "execution_count": 68,
      "outputs": [
        {
          "output_type": "execute_result",
          "data": {
            "text/plain": [
              "(1, 2, 3)"
            ]
          },
          "metadata": {
            "tags": []
          },
          "execution_count": 68
        }
      ]
    },
    {
      "cell_type": "markdown",
      "metadata": {
        "id": "cJU3xABuVem_",
        "colab_type": "text"
      },
      "source": [
        "7. Calculating Dot Products"
      ]
    },
    {
      "cell_type": "code",
      "metadata": {
        "id": "cPKg382VVivy",
        "colab_type": "code",
        "colab": {
          "base_uri": "https://localhost:8080/",
          "height": 102
        },
        "outputId": "b5f8319e-4746-4fc5-cd3a-59583ef98731"
      },
      "source": [
        "vector_1=np.array([1,2,3])\n",
        "vector_2=np.array([4,5,6])\n",
        "\n",
        "#Calculate the dot product\n",
        "print(np.dot(vector_1,vector_2))\n",
        "#Alternatively you can use @ to calculate dot products\n",
        "print(vector_1@vector_2)\n",
        "\n",
        "\n",
        "matrix2.dot(matrix)"
      ],
      "execution_count": 70,
      "outputs": [
        {
          "output_type": "stream",
          "text": [
            "32\n",
            "32\n"
          ],
          "name": "stdout"
        },
        {
          "output_type": "execute_result",
          "data": {
            "text/plain": [
              "array([[ 9, 12, 15],\n",
              "       [19, 26, 33],\n",
              "       [29, 40, 51]])"
            ]
          },
          "metadata": {
            "tags": []
          },
          "execution_count": 70
        }
      ]
    },
    {
      "cell_type": "markdown",
      "metadata": {
        "id": "cB-jK7jEXY7F",
        "colab_type": "text"
      },
      "source": [
        "##Linear regression in Numpy:\n",
        "\n",
        "---\n",
        "\n",
        "\n",
        "\n",
        "Write the numpy code for the following model:\n",
        "\n",
        "$Y=WX+B$\n",
        "\n",
        "where $X$ is 3x10 matrix:  10 samples and 3 features\n",
        "\n",
        "$Y$ is 4x10 matrix: 10 samples and 4 outputs\n",
        "\n",
        "$W$ is the weights matrix with the shape 4x3: connecting 3 inputs to 4 outputs\n",
        "\n",
        "$b$ is a vector with a size 4 ( one bias per output)\n"
      ]
    },
    {
      "cell_type": "code",
      "metadata": {
        "id": "_EtM5LVtWCpm",
        "colab_type": "code",
        "colab": {
          "base_uri": "https://localhost:8080/",
          "height": 85
        },
        "outputId": "24475cf9-1151-4e98-b1ef-1bdab4028eac"
      },
      "source": [
        "#Inputs or features matrix\n",
        "X=np.random.rand(3,10)\n",
        "display('shape of X:',X.shape)\n",
        "\n",
        "#Weights matrix\n",
        "W=np.random.rand(4,3)\n",
        "\n",
        "#bias\n",
        "b=np.zeros((4,)) # This is a vector\n",
        "b=np.zeros((4,1)) # This is a matrix\n",
        "\n",
        "#regression model\n",
        "Y=np.dot(W,X)+b  # 4x3 , 3x10\n",
        "\n",
        "display('Y: ',Y.shape)\n"
      ],
      "execution_count": 76,
      "outputs": [
        {
          "output_type": "display_data",
          "data": {
            "text/plain": [
              "'shape of X:'"
            ]
          },
          "metadata": {
            "tags": []
          }
        },
        {
          "output_type": "display_data",
          "data": {
            "text/plain": [
              "(3, 10)"
            ]
          },
          "metadata": {
            "tags": []
          }
        },
        {
          "output_type": "display_data",
          "data": {
            "text/plain": [
              "'Y: '"
            ]
          },
          "metadata": {
            "tags": []
          }
        },
        {
          "output_type": "display_data",
          "data": {
            "text/plain": [
              "(4, 10)"
            ]
          },
          "metadata": {
            "tags": []
          }
        }
      ]
    },
    {
      "cell_type": "markdown",
      "metadata": {
        "id": "hMIoucH9hFfr",
        "colab_type": "text"
      },
      "source": [
        "## One neuron model in numpy:\n",
        "\n",
        "A single neuron has multiple inputs and one output, in addition to the linear regression model, we need to add non linearity through an activation function:\n",
        "\n",
        "$Y= f(WX+B)$\n",
        "\n",
        "where $X$ is n x m matrix:  m samples and n features/inputs\n",
        "\n",
        "$f(g)= \\frac{1}{1+\\exp(-g)}$  is a sigmoid acitavation function\n",
        "\n",
        "$Y$ is nh1 x m matrix: m samples and ny outputs\n",
        "\n",
        "$W$ is the weights matrix with the shape nh1 x n: connecting 3 inputs to 4 outputs\n",
        "\n",
        "$b$ is a vector with a size nh1 ( one bias per output)\n",
        "\n",
        "\n",
        "\n"
      ]
    },
    {
      "cell_type": "code",
      "metadata": {
        "id": "Qry1JDGEiLmx",
        "colab_type": "code",
        "colab": {}
      },
      "source": [
        "#Function definition with def\n",
        "def f(x):\n",
        "  return 1.0/(1.0 + np.exp(-x))\n",
        "\n",
        "\n",
        "num_inputs=3\n",
        "num_outputs=1\n",
        "num_samples=100\n",
        "\n",
        "#Function definition with lambda\n",
        "f=lambda x: 1.0/(1.0 + np.exp(-x)) # activation function (use sigmoid function)\n",
        "\n",
        "#Inputs or features matrix\n",
        "X=np.random.rand(num_inputs,num_samples)\n",
        "\n",
        "#Weights matrix\n",
        "W=np.random.rand(num_outputs,num_inputs)\n",
        "\n",
        "#bias\n",
        "b=np.random.rand(num_outputs,1)\n",
        "\n",
        "#regression model\n",
        "Y=f(np.dot(W,X)+b)\n",
        "display(Y)\n",
        "display(Y.shape)"
      ],
      "execution_count": 0,
      "outputs": []
    },
    {
      "cell_type": "markdown",
      "metadata": {
        "id": "aSnbti9ooIIs",
        "colab_type": "text"
      },
      "source": [
        "## One hidden layer model in numpy:\n",
        "\n",
        "The difference from the one neuron model is simple:  we need only to change the number of output \"ny\""
      ]
    },
    {
      "cell_type": "code",
      "metadata": {
        "id": "ZAY3o6zBnpA0",
        "colab_type": "code",
        "colab": {
          "base_uri": "https://localhost:8080/",
          "height": 1071
        },
        "outputId": "ca47ad38-effb-48f3-c77f-8b39342a4019"
      },
      "source": [
        "\n",
        "\n",
        "num_inputs=3\n",
        "num_outputs=3\n",
        "hidden_layer_1_outputs=4\n",
        "hidden_layer_2_outputs=3\n",
        "num_samples=100\n",
        "\n",
        "#Function definition with lambda\n",
        "f=lambda x: 1.0/(1.0 + np.exp(-x)) # activation function (use sigmoid function)\n",
        "\n",
        "#Inputs or features matrix\n",
        "X=np.random.rand(num_inputs,num_samples)\n",
        "\n",
        "#Weights matrix of the first hidden layer\n",
        "W_h1=np.random.rand(hidden_layer_1_outputs,num_inputs)\n",
        "#Weights matrix of second hidden layer\n",
        "W_h2=np.random.rand(hidden_layer_2_outputs,hidden_layer_1_outputs)\n",
        "\n",
        "#bias\n",
        "b_h1=np.random.rand(hidden_layer_1_outputs,1)\n",
        "b_h2=np.random.rand(hidden_layer_2_outputs,1)\n",
        "\n",
        "# Calculate output of hidden layer 1\n",
        "h1=f(np.dot(W_h1,X)+b_h1)\n",
        "display(h1.shape)\n",
        "# Calculate output of hidden layer 2\n",
        "h2=f(np.dot(W_h2,h1)+b_h2)\n",
        "\n",
        "display(h2)\n",
        "display(h2.shape)"
      ],
      "execution_count": 87,
      "outputs": [
        {
          "output_type": "display_data",
          "data": {
            "text/plain": [
              "(4, 100)"
            ]
          },
          "metadata": {
            "tags": []
          }
        },
        {
          "output_type": "display_data",
          "data": {
            "text/plain": [
              "array([[0.88026115, 0.88548133, 0.85749299, 0.87521716, 0.8856078 ,\n",
              "        0.85687625, 0.85523738, 0.87936421, 0.85271286, 0.87647476,\n",
              "        0.85022721, 0.87622287, 0.88325717, 0.87091168, 0.88326437,\n",
              "        0.88268474, 0.84454478, 0.88148087, 0.88157402, 0.87489153,\n",
              "        0.87382521, 0.87905573, 0.85776867, 0.86913832, 0.88662339,\n",
              "        0.8854361 , 0.88859656, 0.85982988, 0.86295813, 0.86506719,\n",
              "        0.87718931, 0.87066716, 0.86479666, 0.8730098 , 0.85939554,\n",
              "        0.87640508, 0.86081737, 0.89270766, 0.86638225, 0.86450709,\n",
              "        0.85541204, 0.86315426, 0.87508522, 0.87643541, 0.89085746,\n",
              "        0.8823115 , 0.88338279, 0.87222344, 0.88574952, 0.86624576,\n",
              "        0.87325252, 0.87998843, 0.88232773, 0.87846912, 0.86762619,\n",
              "        0.88623347, 0.87805117, 0.8871683 , 0.85550569, 0.86027217,\n",
              "        0.85435645, 0.89189576, 0.88941386, 0.86845774, 0.8339384 ,\n",
              "        0.87668765, 0.89343134, 0.86377169, 0.8651168 , 0.87789629,\n",
              "        0.88451292, 0.8799735 , 0.86862863, 0.8544764 , 0.88005485,\n",
              "        0.8920659 , 0.87587712, 0.85154883, 0.86466245, 0.86370638,\n",
              "        0.85700811, 0.86949582, 0.87223764, 0.88165275, 0.87091303,\n",
              "        0.89357235, 0.88051955, 0.86860086, 0.88483482, 0.86755725,\n",
              "        0.88009396, 0.85135199, 0.86357919, 0.86592251, 0.87184981,\n",
              "        0.88893088, 0.86268335, 0.86930228, 0.87117363, 0.88691751],\n",
              "       [0.79995734, 0.80595577, 0.77881767, 0.79741789, 0.80646909,\n",
              "        0.78003472, 0.77579539, 0.80104361, 0.77417287, 0.79918147,\n",
              "        0.77184703, 0.79814698, 0.80466627, 0.79342065, 0.80290113,\n",
              "        0.80280657, 0.76545247, 0.80225177, 0.80316898, 0.79618351,\n",
              "        0.79639867, 0.80114574, 0.77891881, 0.79112464, 0.80648416,\n",
              "        0.80625155, 0.80900287, 0.78076309, 0.78574629, 0.78606836,\n",
              "        0.79848169, 0.79361809, 0.78611821, 0.79371836, 0.7809781 ,\n",
              "        0.79805621, 0.78233943, 0.81239798, 0.7872145 , 0.78517833,\n",
              "        0.77716925, 0.78440643, 0.79484382, 0.79888918, 0.81057368,\n",
              "        0.80410756, 0.80383184, 0.794794  , 0.80625482, 0.78921219,\n",
              "        0.79429627, 0.80169552, 0.80305019, 0.80105289, 0.78950243,\n",
              "        0.80711786, 0.79823828, 0.80770648, 0.77871224, 0.78203587,\n",
              "        0.77533215, 0.81144844, 0.81015175, 0.7896752 , 0.75522923,\n",
              "        0.79804856, 0.81310353, 0.78542924, 0.78737547, 0.80026101,\n",
              "        0.80617581, 0.79942627, 0.79076725, 0.7760601 , 0.80202945,\n",
              "        0.81156372, 0.79608906, 0.77300499, 0.78511517, 0.78688022,\n",
              "        0.77857812, 0.78959294, 0.79412301, 0.80273429, 0.79232698,\n",
              "        0.81298072, 0.80112063, 0.79033008, 0.80498845, 0.78831255,\n",
              "        0.80157683, 0.77324794, 0.78453298, 0.78741878, 0.79251127,\n",
              "        0.80873557, 0.78474157, 0.79066072, 0.7938854 , 0.8064871 ],\n",
              "       [0.92777061, 0.93196656, 0.91704965, 0.92760999, 0.93339257,\n",
              "        0.91935344, 0.91394509, 0.93087612, 0.91526948, 0.92937472,\n",
              "        0.91440623, 0.92827704, 0.93244235, 0.9261846 , 0.92948873,\n",
              "        0.93000691, 0.91027694, 0.93020166, 0.93103726, 0.92735914,\n",
              "        0.9278886 , 0.92952678, 0.91840723, 0.92529657, 0.93246311,\n",
              "        0.93321956, 0.93402351, 0.91733703, 0.9215772 , 0.91987459,\n",
              "        0.92827927, 0.92590408, 0.92294616, 0.92485309, 0.92036999,\n",
              "        0.92918572, 0.92112776, 0.93645982, 0.92053282, 0.92130662,\n",
              "        0.9159969 , 0.92048543, 0.92456298, 0.92834693, 0.93505689,\n",
              "        0.93034098, 0.93009037, 0.9261706 , 0.93247149, 0.92420582,\n",
              "        0.92409939, 0.93012931, 0.93099036, 0.93082303, 0.92208302,\n",
              "        0.93381761, 0.92728185, 0.93251189, 0.91858252, 0.9187896 ,\n",
              "        0.91552772, 0.93583857, 0.93556385, 0.92260532, 0.9060876 ,\n",
              "        0.9271864 , 0.93674982, 0.9201694 , 0.92141801, 0.92854703,\n",
              "        0.93315555, 0.92740106, 0.92435086, 0.91568281, 0.9306664 ,\n",
              "        0.9357327 , 0.92655368, 0.9156287 , 0.91870218, 0.92330827,\n",
              "        0.9184038 , 0.92219492, 0.92495354, 0.93024121, 0.92390086,\n",
              "        0.93674129, 0.92873242, 0.92474066, 0.93090208, 0.92154679,\n",
              "        0.93087432, 0.91611017, 0.9211657 , 0.92190336, 0.92397108,\n",
              "        0.93343232, 0.92087573, 0.92485694, 0.92708418, 0.93214968]])"
            ]
          },
          "metadata": {
            "tags": []
          }
        },
        {
          "output_type": "display_data",
          "data": {
            "text/plain": [
              "(3, 100)"
            ]
          },
          "metadata": {
            "tags": []
          }
        }
      ]
    },
    {
      "cell_type": "markdown",
      "metadata": {
        "id": "11fqb_bQvIEi",
        "colab_type": "text"
      },
      "source": [
        "## Gradient descent in Numpy:\n",
        "Let us now start training a neural network\n",
        "We start by implementing a simple gradient descent for linear regression"
      ]
    },
    {
      "cell_type": "code",
      "metadata": {
        "id": "mzBJxwb7FFZ2",
        "colab_type": "code",
        "colab": {}
      },
      "source": [
        ""
      ],
      "execution_count": 0,
      "outputs": []
    },
    {
      "cell_type": "code",
      "metadata": {
        "id": "QaQyLoxk2FyG",
        "colab_type": "code",
        "colab": {}
      },
      "source": [
        ""
      ],
      "execution_count": 0,
      "outputs": []
    },
    {
      "cell_type": "markdown",
      "metadata": {
        "id": "4gDq6jhImsBU",
        "colab_type": "text"
      },
      "source": [
        "# Test 1"
      ]
    },
    {
      "cell_type": "markdown",
      "metadata": {
        "id": "jRqCCVlmFIZl",
        "colab_type": "text"
      },
      "source": [
        "##Assignment 1\n",
        "### Backpropagation in Numpy:\n"
      ]
    }
  ]
}