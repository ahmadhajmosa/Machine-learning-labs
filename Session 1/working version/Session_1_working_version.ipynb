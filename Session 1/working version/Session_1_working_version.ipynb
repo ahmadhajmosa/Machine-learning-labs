{
  "nbformat": 4,
  "nbformat_minor": 0,
  "metadata": {
    "colab": {
      "name": "Session 1 working version.ipynb",
      "version": "0.3.2",
      "provenance": [],
      "collapsed_sections": [],
      "toc_visible": true
    },
    "kernelspec": {
      "name": "python3",
      "display_name": "Python 3"
    },
    "accelerator": "GPU"
  },
  "cells": [
    {
      "cell_type": "markdown",
      "metadata": {
        "id": "rmSUExzC-ZBV",
        "colab_type": "text"
      },
      "source": [
        "test "
      ]
    },
    {
      "cell_type": "code",
      "metadata": {
        "id": "Yp-WayBkm8Sy",
        "colab_type": "code",
        "colab": {}
      },
      "source": [
        ""
      ],
      "execution_count": 0,
      "outputs": []
    },
    {
      "cell_type": "markdown",
      "metadata": {
        "id": "wgWZldyi-Zef",
        "colab_type": "text"
      },
      "source": [
        "# Lab on Machine Learning and Applications in Intelligent Vehicles\n",
        "## Session 1: Introduction\n"
      ]
    },
    {
      "cell_type": "markdown",
      "metadata": {
        "id": "j1T4XAd1_fJk",
        "colab_type": "text"
      },
      "source": [
        "# Course Plan:\n",
        "\n",
        "This lab is a continuation to the Machine learning lecture, the objective of this course is to learn how to model and implement neural networks using deep learning python frameworks: \n",
        "1. Tensorflow\n",
        "2. Keras\n",
        "3. Pytorch\n",
        "\n",
        "Useing these frameworks, we will go through the following topics and use cases:\n",
        "\n",
        "#### Session 1: 05.06 - 09:00 - 11:00  :\n",
        "\n",
        ">#### Presentation:  05.06 - 09:00 - 10:30:\n",
        ">1. Introduction to deep learning frameworks\n",
        "2. Deep learning in Numpy\n",
        "\n",
        ">#### Break:  05.06 - 10:30 - 10:45\n",
        ">#### Assignment:  05.06 - 10:45 - 11:45 : \n",
        ">* Implementation of backprop using numpy\n",
        "\n",
        ">1. Tensorflow backround \n",
        "2. Implementation of feedforward neural networks using Tensorflow\n",
        "\n",
        ">#### Break:  05.06 - 10:00 - 10:15\n",
        ">#### Assignment:  05.06 - 10:15 - 10:45 : \n",
        "  \n",
        "  >* play around with tensorflow and build your first neural network\n",
        "\n",
        "\n",
        "\n",
        "#### Session 2:  05.06 - 11:00 - 12:00  :\n",
        "\n",
        ">#### Presentation:  05.06 - 11:00 - 12:00:\n",
        "\n",
        "\n",
        ">3. Implementation of CNN useing Tensorflow\n",
        "4. Tensorboard\n",
        "\n",
        ">#### Break:  05.06 - 12:00 - 13:00\n",
        ">#### Assignment:  05.06 - 13:00 - 13:30 :\n",
        "\n",
        "\n",
        " #### Session 3:  05.06 - 13:30 - 15:00  :\n",
        "\n",
        ">#### Presentation:  05.06 - 13:00 - 14:00:\n",
        "\n",
        ">5. Introduction to Keras\n",
        "6. CNN using Keras\n",
        ">#### Break:  05.06 - 14:00 - 14:15\n",
        ">#### Assignment:  05.06 - 14:15 - 14:45 :\n",
        "\n",
        " #### Session 4:  05.06 - 15:00 - 16:30  :\n",
        "\n",
        ">#### Presentation:  05.06 - 15:00 - 15:45:\n",
        "\n",
        ">7. LSTM using Keras\n",
        "\n",
        ">#### Break:  05.06 - 15:45 - 16:00\n",
        ">#### Assignment:  05.06 - 16:00 - 16:30 :\n",
        "\n",
        "\n",
        "8. VGG, Inceptaion, ResNet models using Keras\n",
        "\n",
        "9. Autoencoders using Keras\n",
        "\n",
        "10. Sequence to Sequence Models using Keras \n",
        "\n",
        "11. Attention Mechanism using Keras\n",
        "12. GANS \n",
        "13. Introduction to Pytorch\n",
        "14. Machine translation using Pytorch\n",
        "15. Introduction to Allennlp\n",
        "16. Deep Reinforcment Learning using Keras\n",
        "17. Use case: building self driving car using Unity and tensorflow\n",
        "\n",
        "\n",
        "\n",
        "\n",
        "\n",
        "\n",
        "\n",
        "\n"
      ]
    },
    {
      "cell_type": "markdown",
      "metadata": {
        "id": "a75NLOuwKXSs",
        "colab_type": "text"
      },
      "source": [
        "#Session 1: 05.06 - 09:00 - 11:00 :\n"
      ]
    },
    {
      "cell_type": "markdown",
      "metadata": {
        "id": "ciUtGM-W_ehP",
        "colab_type": "text"
      },
      "source": [
        "\n",
        "\n",
        "## Deep learning frameworks:\n",
        "\n",
        "In the past decade, many deep learning frameworks have been developed to ease and scale the research and development of AI. Many big technology providers including Google, IBM, Microsoft and Facebook have entered the race to provide the best and most popluar frameworks. To enter such a race, mainly four features are considered in the provided framework:\n",
        "\n",
        "1. Uses a popular language for data scientists (Python, Scale, C++ or R)\n",
        "2. Flexible in creating and adjusting deep learning architectures -> Functional programming\n",
        "3. Easy for computing gradients\n",
        "4. Interface with GPUs for parallel processing\n",
        "\n",
        "\n",
        "In the following we see the most popular provided deep learning frameworks with their providers\n",
        "https://towardsdatascience.com/deep-learning-framework-power-scores-2018-23607ddf297a\n",
        "\n",
        "![alt text](https://cdn-images-1.medium.com/max/1600/1*dYjDEI0mLpsCOySKUuX1VA.png)\n",
        "\n",
        "## Tensorflow\n",
        "TensorFlow is the undisputed heavyweight champion. It has the most GitHub activity, Google searches, Medium articles, books on Amazon and ArXiv articles. It also has the most developers using it and is listed in the most online job descriptions. TensorFlow is backed by Google.\n",
        "\n",
        "## Keras\n",
        "Keras has an “API designed for human beings, not machines.” It is the second most popular framework in nearly all evaluation areas. Keras sits on top of TensorFlow, Theano, or CNTK. Start with Keras if you are new to deep learning.\n",
        "\n",
        "## Pytorch\n",
        "\n",
        "PyTorch is the third most popular overall framework and the second most popular stand-alone framework. It is younger than TensorFlow and has grown rapidly in popularity. It allows customization that TensorFlow does not. It has the backing of Facebook.\n",
        "\n",
        "## Theano\n",
        "\n",
        "Theano was developed at the University of Montreal in 2007 and is the oldest significant Python deep learning framework. It has lost much of its popularity and its leader stated that major releases were no longer on the roadmap. However, updates continue to be made. Theano still the fifth highest scoring framework.\n",
        "\n",
        "# Comparision:\n",
        "\n",
        "## Criteria 1: Online Job Listings\n",
        "\n",
        "TensorFlow is the clear winner when it comes to frameworks mentioned in job listings. Learn it if you want a job doing deep learning.\n",
        "\n",
        ">> ![alt text](https://cdn-images-1.medium.com/max/800/1*kA8dIgRqLdWgKgs2sd7clA.png)\n",
        "\n",
        "## Criteria 2: Usage\n",
        "\n",
        "\n",
        "Keras showed a surprising amount of use — nearly as much as TensorFlow. It’s interesting that US employers are overwhelmingly looking for TensorFlow skills, when — at least internationally — Keras is used almost as frequently.\n",
        "\n",
        "  >> ![alt text](https://cdn-images-1.medium.com/max/800/1*6b2Tm0oFr99zKaxkr4g52w.png)\n",
        "  \n",
        "  \n",
        "## Criteria 4: Google Search Activity\n",
        "\n",
        ">> ![alt text](https://cdn-images-1.medium.com/max/800/1*wpA6C9x_Nri42EzbqnS1fQ.png)\n",
        "\n",
        "## Criteria 5: Medium Articles\n",
        "\n",
        ">> ![alt text](https://cdn-images-1.medium.com/max/800/1*Y1cJUgZTC3u_hU1lmdsroQ.png)\n",
        "\n",
        "\n",
        "## Criteria 6: Amazon Books\n",
        "\n",
        ">> ![alt text](https://cdn-images-1.medium.com/max/800/1*mtP47q29T6agdkEoJcCw-w.png)\n",
        "\n",
        "## Criteria 7 : ArXiv Articles\n",
        "\n",
        "  >> ![alt text](https://cdn-images-1.medium.com/max/800/1*7jdNoNkGlx_1EnfevQXRvw.png)\n",
        "  \n",
        "## Criteria 8: GitHub Activity\n",
        "\n",
        "  >> ![alt text](https://cdn-images-1.medium.com/max/800/1*eOOYV3C5klsuVBMX31ngxw.png)\n",
        "  \n",
        " --------------------------------\n",
        " \n",
        "\n",
        "\n",
        "  \n",
        " \n",
        "\n",
        "\n",
        "\n",
        "\n"
      ]
    },
    {
      "cell_type": "markdown",
      "metadata": {
        "id": "9v3V8ztAKDCg",
        "colab_type": "text"
      },
      "source": [
        "\n",
        "\n",
        "```\n",
        "# This is formatted as code\n",
        "```\n",
        "\n",
        "\n",
        "Before we jump into Tensorflow, we will implemented our first neural network model using Python Numpy package. NumPy is the fundamental package for scientific computing with Python, such as:\n",
        "\n",
        "1. Linear Algebra\n",
        "2. Statistics\n",
        "3. Calculus\n",
        "\n",
        "## A brief intro to Numpy operations:\n",
        "\n",
        "1. Creating a Vector:\n",
        "Here we use Numpy to create a 1-D Array which we then call a vector.\n",
        "\n",
        "\n",
        "\n"
      ]
    },
    {
      "cell_type": "code",
      "metadata": {
        "id": "GTf7M4r7Lgj9",
        "colab_type": "code",
        "colab": {
          "base_uri": "https://localhost:8080/",
          "height": 221
        },
        "outputId": "26fa9471-4b9d-469f-c483-576b126a8488"
      },
      "source": [
        "import numpy as np \n",
        "\n",
        "v1 = np.zeros((1,100))\n",
        "#display(v1)\n",
        "\n",
        "v2 = np.zeros((1,100))\n",
        "#display(v2)\n",
        "\n",
        "v2.T.shape\n",
        "\n",
        "v3 = np.ones((1,100))\n",
        "v4 = np.eye(4)\n",
        "v5 = np.random.randn(100,1) # normal random generator with mean 0 and 1 std\n",
        "v6 = np.random.rand(100,1) # uniform random generator between 0 and 1\n",
        "\n",
        "display(v4)\n",
        "display('mean of randn:' ,v5.mean())\n",
        "display('std of randn:' ,v5.std())\n",
        "\n",
        "display('min of rand:', v6.min())\n",
        "display('max of rand:', v6.max())"
      ],
      "execution_count": 23,
      "outputs": [
        {
          "output_type": "display_data",
          "data": {
            "text/plain": [
              "array([[1., 0., 0., 0.],\n",
              "       [0., 1., 0., 0.],\n",
              "       [0., 0., 1., 0.],\n",
              "       [0., 0., 0., 1.]])"
            ]
          },
          "metadata": {
            "tags": []
          }
        },
        {
          "output_type": "display_data",
          "data": {
            "text/plain": [
              "'mean of randn:'"
            ]
          },
          "metadata": {
            "tags": []
          }
        },
        {
          "output_type": "display_data",
          "data": {
            "text/plain": [
              "-0.09158505790594645"
            ]
          },
          "metadata": {
            "tags": []
          }
        },
        {
          "output_type": "display_data",
          "data": {
            "text/plain": [
              "'std of randn:'"
            ]
          },
          "metadata": {
            "tags": []
          }
        },
        {
          "output_type": "display_data",
          "data": {
            "text/plain": [
              "1.0238899773160004"
            ]
          },
          "metadata": {
            "tags": []
          }
        },
        {
          "output_type": "display_data",
          "data": {
            "text/plain": [
              "'min of rand:'"
            ]
          },
          "metadata": {
            "tags": []
          }
        },
        {
          "output_type": "display_data",
          "data": {
            "text/plain": [
              "0.006870146256222509"
            ]
          },
          "metadata": {
            "tags": []
          }
        },
        {
          "output_type": "display_data",
          "data": {
            "text/plain": [
              "'max of rand:'"
            ]
          },
          "metadata": {
            "tags": []
          }
        },
        {
          "output_type": "display_data",
          "data": {
            "text/plain": [
              "0.9940349628033176"
            ]
          },
          "metadata": {
            "tags": []
          }
        }
      ]
    },
    {
      "cell_type": "markdown",
      "metadata": {
        "id": "JYFjSo0OLqA3",
        "colab_type": "text"
      },
      "source": [
        "2. Creating a Matrix\n",
        "We Create a 2-D Array in Numpy and call it a Matrix. It contains 2 rows and 3 columns."
      ]
    },
    {
      "cell_type": "code",
      "metadata": {
        "id": "fJlDBq5rLmA-",
        "colab_type": "code",
        "colab": {}
      },
      "source": [
        ""
      ],
      "execution_count": 0,
      "outputs": []
    },
    {
      "cell_type": "markdown",
      "metadata": {
        "id": "wv99hZqULygH",
        "colab_type": "text"
      },
      "source": [
        "3. Selecting Elements\n"
      ]
    },
    {
      "cell_type": "code",
      "metadata": {
        "id": "ZLQlxFzkPrKM",
        "colab_type": "code",
        "colab": {}
      },
      "source": [
        "\n"
      ],
      "execution_count": 0,
      "outputs": []
    },
    {
      "cell_type": "markdown",
      "metadata": {
        "id": "QO3vTGEKQhm7",
        "colab_type": "text"
      },
      "source": [
        "4. Describing a Matrix"
      ]
    },
    {
      "cell_type": "code",
      "metadata": {
        "id": "q8bDjBhhQpg5",
        "colab_type": "code",
        "colab": {}
      },
      "source": [
        ""
      ],
      "execution_count": 0,
      "outputs": []
    },
    {
      "cell_type": "markdown",
      "metadata": {
        "id": "eKISvY8kQtA0",
        "colab_type": "text"
      },
      "source": [
        "5. Finding the max and min values"
      ]
    },
    {
      "cell_type": "code",
      "metadata": {
        "id": "abPJd0JrQ4mM",
        "colab_type": "code",
        "colab": {}
      },
      "source": [
        ""
      ],
      "execution_count": 0,
      "outputs": []
    },
    {
      "cell_type": "markdown",
      "metadata": {
        "id": "3Qm64s_eR0zQ",
        "colab_type": "text"
      },
      "source": [
        "6. Reshaping Arrays\n"
      ]
    },
    {
      "cell_type": "code",
      "metadata": {
        "id": "Pwepq7h_SBBD",
        "colab_type": "code",
        "colab": {}
      },
      "source": [
        ""
      ],
      "execution_count": 0,
      "outputs": []
    },
    {
      "cell_type": "markdown",
      "metadata": {
        "id": "cJU3xABuVem_",
        "colab_type": "text"
      },
      "source": [
        "7. Calculating Dot Products"
      ]
    },
    {
      "cell_type": "code",
      "metadata": {
        "id": "cPKg382VVivy",
        "colab_type": "code",
        "colab": {}
      },
      "source": [
        ""
      ],
      "execution_count": 0,
      "outputs": []
    },
    {
      "cell_type": "markdown",
      "metadata": {
        "id": "cB-jK7jEXY7F",
        "colab_type": "text"
      },
      "source": [
        "##Linear regression in Numpy:\n",
        "\n",
        "---\n",
        "\n",
        "\n",
        "\n",
        "Write the numpy code for the following model:\n",
        "\n",
        "$Y=WX+B$\n",
        "\n",
        "where $X$ is 3x10 matrix:  10 samples and 3 features\n",
        "\n",
        "$Y$ is 4x10 matrix: 10 samples and 4 outputs\n",
        "\n",
        "$W$ is the weights matrix with the shape 4x3: connecting 3 inputs to 4 outputs\n",
        "\n",
        "$b$ is a vector with a size 4 ( one bias per output)\n"
      ]
    },
    {
      "cell_type": "code",
      "metadata": {
        "id": "_EtM5LVtWCpm",
        "colab_type": "code",
        "colab": {}
      },
      "source": [
        ""
      ],
      "execution_count": 0,
      "outputs": []
    },
    {
      "cell_type": "markdown",
      "metadata": {
        "id": "hMIoucH9hFfr",
        "colab_type": "text"
      },
      "source": [
        "## One neuron model in numpy:\n",
        "\n",
        "A single neuron has multiple inputs and one output, in addition to the linear regression model, we need to add non linearity through an activation function:\n",
        "\n",
        "$Y= f(WX+B)$\n",
        "\n",
        "where $X$ is n x m matrix:  m samples and n features/inputs\n",
        "\n",
        "$f(g)= \\frac{1}{1+\\exp(-g)}$  is a sigmoid acitavation function\n",
        "\n",
        "$Y$ is nh1 x m matrix: m samples and ny outputs\n",
        "\n",
        "$W$ is the weights matrix with the shape nh1 x n: connecting 3 inputs to 4 outputs\n",
        "\n",
        "$b$ is a vector with a size nh1 ( one bias per output)\n",
        "\n",
        "\n",
        "\n"
      ]
    },
    {
      "cell_type": "code",
      "metadata": {
        "id": "Qry1JDGEiLmx",
        "colab_type": "code",
        "colab": {}
      },
      "source": [
        "\n"
      ],
      "execution_count": 0,
      "outputs": []
    },
    {
      "cell_type": "markdown",
      "metadata": {
        "id": "aSnbti9ooIIs",
        "colab_type": "text"
      },
      "source": [
        "## One hidden layer model in numpy:\n",
        "\n",
        "The difference from the one neuron model is simple:  we need only to change the number of output \"ny\""
      ]
    },
    {
      "cell_type": "code",
      "metadata": {
        "id": "ZAY3o6zBnpA0",
        "colab_type": "code",
        "colab": {}
      },
      "source": [
        ""
      ],
      "execution_count": 0,
      "outputs": []
    },
    {
      "cell_type": "markdown",
      "metadata": {
        "id": "11fqb_bQvIEi",
        "colab_type": "text"
      },
      "source": [
        "## Gradient descent in Numpy:\n",
        "Let us now start training a neural network\n",
        "We start by implementing a simple gradient descent for linear regression"
      ]
    },
    {
      "cell_type": "code",
      "metadata": {
        "id": "mzBJxwb7FFZ2",
        "colab_type": "code",
        "colab": {}
      },
      "source": [
        ""
      ],
      "execution_count": 0,
      "outputs": []
    },
    {
      "cell_type": "code",
      "metadata": {
        "id": "QaQyLoxk2FyG",
        "colab_type": "code",
        "colab": {}
      },
      "source": [
        ""
      ],
      "execution_count": 0,
      "outputs": []
    },
    {
      "cell_type": "markdown",
      "metadata": {
        "id": "wIhynegemm37",
        "colab_type": "text"
      },
      "source": [
        "# Test 1"
      ]
    },
    {
      "cell_type": "markdown",
      "metadata": {
        "id": "jRqCCVlmFIZl",
        "colab_type": "text"
      },
      "source": [
        "##Assignment 1\n",
        "### Backpropagation in Numpy:\n"
      ]
    }
  ]
}