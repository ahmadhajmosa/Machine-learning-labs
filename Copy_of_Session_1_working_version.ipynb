{
  "nbformat": 4,
  "nbformat_minor": 0,
  "metadata": {
    "colab": {
      "name": "Copy of Session 1 working version.ipynb",
      "version": "0.3.2",
      "provenance": [],
      "collapsed_sections": [],
      "toc_visible": true,
      "include_colab_link": true
    },
    "kernelspec": {
      "name": "python3",
      "display_name": "Python 3"
    },
    "accelerator": "GPU"
  },
  "cells": [
    {
      "cell_type": "markdown",
      "metadata": {
        "id": "view-in-github",
        "colab_type": "text"
      },
      "source": [
        "<a href=\"https://colab.research.google.com/github/ahmadhajmosa/Machine-learning-labs/blob/AnastasiiaSK/Copy_of_Session_1_working_version.ipynb\" target=\"_parent\"><img src=\"https://colab.research.google.com/assets/colab-badge.svg\" alt=\"Open In Colab\"/></a>"
      ]
    },
    {
      "cell_type": "markdown",
      "metadata": {
        "id": "rmSUExzC-ZBV",
        "colab_type": "text"
      },
      "source": [
        "test"
      ]
    },
    {
      "cell_type": "code",
      "metadata": {
        "id": "HJVxjEBxnKKm",
        "colab_type": "code",
        "outputId": "0364af21-742e-4aac-96ec-16fba42146a2",
        "colab": {
          "base_uri": "https://localhost:8080/",
          "height": 34
        }
      },
      "source": [
        "print('hello world')"
      ],
      "execution_count": 0,
      "outputs": [
        {
          "output_type": "stream",
          "text": [
            "hello world\n"
          ],
          "name": "stdout"
        }
      ]
    },
    {
      "cell_type": "markdown",
      "metadata": {
        "id": "wgWZldyi-Zef",
        "colab_type": "text"
      },
      "source": [
        "# Lab on Machine Learning and Applications in Intelligent Vehicles\n",
        "## Session 1: Introduction\n"
      ]
    },
    {
      "cell_type": "markdown",
      "metadata": {
        "id": "j1T4XAd1_fJk",
        "colab_type": "text"
      },
      "source": [
        "### Course Plan:\n",
        "\n",
        "This lab is a continuation to the Machine learning lecture, the objective of this course is to learn how to model and implement neural networks using deep learning python frameworks: \n",
        "1. Tensorflow\n",
        "2. Keras\n",
        "3. Pytorch\n",
        "\n",
        "Useing these frameworks, we will go through the following topics and use cases:\n",
        "\n",
        "#### Session 1: 05.06 - 09:00 - 11:00  :\n",
        "\n",
        ">#### Presentation:  05.06 - 09:00 - 10:30:\n",
        ">1. Introduction to deep learning frameworks\n",
        "2. Deep learning in Numpy\n",
        "\n",
        ">#### Break:  05.06 - 10:30 - 10:45\n",
        ">#### Assignment:  05.06 - 10:45 - 11:45 : \n",
        ">* Implementation of backprop using numpy\n",
        "\n",
        ">1. Tensorflow backround \n",
        "2. Implementation of feedforward neural networks using Tensorflow\n",
        "\n",
        ">#### Break:  05.06 - 10:00 - 10:15\n",
        ">#### Assignment:  05.06 - 10:15 - 10:45 : \n",
        "  \n",
        "  >* play around with tensorflow and build your first neural network\n",
        "\n",
        "\n",
        "\n",
        "#### Session 2:  05.06 - 11:00 - 12:00  :\n",
        "\n",
        ">#### Presentation:  05.06 - 11:00 - 12:00:\n",
        "\n",
        "\n",
        ">3. Implementation of CNN useing Tensorflow\n",
        "4. Tensorboard\n",
        "\n",
        ">#### Break:  05.06 - 12:00 - 13:00\n",
        ">#### Assignment:  05.06 - 13:00 - 13:30 :\n",
        "\n",
        "\n",
        " #### Session 3:  05.06 - 13:30 - 15:00  :\n",
        "\n",
        ">#### Presentation:  05.06 - 13:00 - 14:00:\n",
        "\n",
        ">5. Introduction to Keras\n",
        "6. CNN using Keras\n",
        ">#### Break:  05.06 - 14:00 - 14:15\n",
        ">#### Assignment:  05.06 - 14:15 - 14:45 :\n",
        "\n",
        " #### Session 4:  05.06 - 15:00 - 16:30  :\n",
        "\n",
        ">#### Presentation:  05.06 - 15:00 - 15:45:\n",
        "\n",
        ">7. LSTM using Keras\n",
        "\n",
        ">#### Break:  05.06 - 15:45 - 16:00\n",
        ">#### Assignment:  05.06 - 16:00 - 16:30 :\n",
        "\n",
        "\n",
        "8. VGG, Inceptaion, ResNet models using Keras\n",
        "\n",
        "9. Autoencoders using Keras\n",
        "\n",
        "10. Sequence to Sequence Models using Keras \n",
        "\n",
        "11. Attention Mechanism using Keras\n",
        "12. GANS \n",
        "13. Introduction to Pytorch\n",
        "14. Machine translation using Pytorch\n",
        "15. Introduction to Allennlp\n",
        "16. Deep Reinforcment Learning using Keras\n",
        "17. Use case: building self driving car using Unity and tensorflow\n",
        "\n",
        "\n",
        "\n",
        "\n",
        "\n",
        "\n",
        "\n",
        "\n"
      ]
    },
    {
      "cell_type": "markdown",
      "metadata": {
        "id": "gD3ehGdMnbJt",
        "colab_type": "text"
      },
      "source": [
        "# New Section"
      ]
    },
    {
      "cell_type": "markdown",
      "metadata": {
        "id": "a75NLOuwKXSs",
        "colab_type": "text"
      },
      "source": [
        "#Session 1: 05.06 - 09:00 - 11:00 :\n"
      ]
    },
    {
      "cell_type": "markdown",
      "metadata": {
        "id": "ciUtGM-W_ehP",
        "colab_type": "text"
      },
      "source": [
        "\n",
        "\n",
        "## Deep learning frameworks:\n",
        "\n",
        "In the past decade, many deep learning frameworks have been developed to ease and scale the research and development of AI. Many big technology providers including Google, IBM, Microsoft and Facebook have entered the race to provide the best and most popluar frameworks. To enter such a race, mainly four features are considered in the provided framework:\n",
        "\n",
        "1. Uses a popular language for data scientists (Python, Scale, C++ or R)\n",
        "2. Flexible in creating and adjusting deep learning architectures -> Functional programming\n",
        "3. Easy for computing gradients\n",
        "4. Interface with GPUs for parallel processing\n",
        "\n",
        "\n",
        "In the following we see the most popular provided deep learning frameworks with their providers\n",
        "https://towardsdatascience.com/deep-learning-framework-power-scores-2018-23607ddf297a\n",
        "\n",
        "![alt text](https://cdn-images-1.medium.com/max/1600/1*dYjDEI0mLpsCOySKUuX1VA.png)\n",
        "\n",
        "## Tensorflow\n",
        "TensorFlow is the undisputed heavyweight champion. It has the most GitHub activity, Google searches, Medium articles, books on Amazon and ArXiv articles. It also has the most developers using it and is listed in the most online job descriptions. TensorFlow is backed by Google.\n",
        "\n",
        "## Keras\n",
        "Keras has an “API designed for human beings, not machines.” It is the second most popular framework in nearly all evaluation areas. Keras sits on top of TensorFlow, Theano, or CNTK. Start with Keras if you are new to deep learning.\n",
        "\n",
        "## Pytorch\n",
        "\n",
        "PyTorch is the third most popular overall framework and the second most popular stand-alone framework. It is younger than TensorFlow and has grown rapidly in popularity. It allows customization that TensorFlow does not. It has the backing of Facebook.\n",
        "\n",
        "## Theano\n",
        "\n",
        "Theano was developed at the University of Montreal in 2007 and is the oldest significant Python deep learning framework. It has lost much of its popularity and its leader stated that major releases were no longer on the roadmap. However, updates continue to be made. Theano still the fifth highest scoring framework.\n",
        "\n",
        "# Comparision:\n",
        "\n",
        "## Criteria 1: Online Job Listings\n",
        "\n",
        "TensorFlow is the clear winner when it comes to frameworks mentioned in job listings. Learn it if you want a job doing deep learning.\n",
        "\n",
        ">> ![alt text](https://cdn-images-1.medium.com/max/800/1*kA8dIgRqLdWgKgs2sd7clA.png)\n",
        "\n",
        "## Criteria 2: Usage\n",
        "\n",
        "\n",
        "Keras showed a surprising amount of use — nearly as much as TensorFlow. It’s interesting that US employers are overwhelmingly looking for TensorFlow skills, when — at least internationally — Keras is used almost as frequently.\n",
        "\n",
        "  >> ![alt text](https://cdn-images-1.medium.com/max/800/1*6b2Tm0oFr99zKaxkr4g52w.png)\n",
        "  \n",
        "  \n",
        "## Criteria 4: Google Search Activity\n",
        "\n",
        ">> ![alt text](https://cdn-images-1.medium.com/max/800/1*wpA6C9x_Nri42EzbqnS1fQ.png)\n",
        "\n",
        "## Criteria 5: Medium Articles\n",
        "\n",
        ">> ![alt text](https://cdn-images-1.medium.com/max/800/1*Y1cJUgZTC3u_hU1lmdsroQ.png)\n",
        "\n",
        "\n",
        "## Criteria 6: Amazon Books\n",
        "\n",
        ">> ![alt text](https://cdn-images-1.medium.com/max/800/1*mtP47q29T6agdkEoJcCw-w.png)\n",
        "\n",
        "## Criteria 7 : ArXiv Articles\n",
        "\n",
        "  >> ![alt text](https://cdn-images-1.medium.com/max/800/1*7jdNoNkGlx_1EnfevQXRvw.png)\n",
        "  \n",
        "## Criteria 8: GitHub Activity\n",
        "\n",
        "  >> ![alt text](https://cdn-images-1.medium.com/max/800/1*eOOYV3C5klsuVBMX31ngxw.png)\n",
        "  \n",
        " --------------------------------\n",
        " \n",
        "\n",
        "\n",
        "  \n",
        " \n",
        "\n",
        "\n",
        "\n",
        "\n"
      ]
    },
    {
      "cell_type": "code",
      "metadata": {
        "id": "7SlCvSQPn9E2",
        "colab_type": "code",
        "colab": {}
      },
      "source": [
        "!pip install -q matplotlib-venn"
      ],
      "execution_count": 0,
      "outputs": []
    },
    {
      "cell_type": "code",
      "metadata": {
        "id": "TGGKrl_hn9Cx",
        "colab_type": "code",
        "colab": {}
      },
      "source": [
        "!apt-get -qq install -y libfluidsynth1"
      ],
      "execution_count": 0,
      "outputs": []
    },
    {
      "cell_type": "markdown",
      "metadata": {
        "id": "9v3V8ztAKDCg",
        "colab_type": "text"
      },
      "source": [
        "\n",
        "\n",
        "```\n",
        "# This is formatted as code\n",
        "```\n",
        "\n",
        "\n",
        "Before we jump into Tensorflow, we will implemented our first neural network model using Python Numpy package. NumPy is the fundamental package for scientific computing with Python, such as:\n",
        "\n",
        "1. Linear Algebra\n",
        "2. Statistics\n",
        "3. Calculus\n",
        "\n",
        "## A brief intro to Numpy operations:\n",
        "\n",
        "1. Creating a Vector:\n",
        "Here we use Numpy to create a 1-D Array which we then call a vector.\n",
        "\n",
        "\n",
        "\n"
      ]
    },
    {
      "cell_type": "code",
      "metadata": {
        "id": "GTf7M4r7Lgj9",
        "colab_type": "code",
        "colab": {}
      },
      "source": [
        "import numpy as np\n",
        "\n",
        "v1 = np.zeros((1,100))\n",
        "#display(v1) \n",
        "\n",
        "v2 = np.zeros((1,100))\n",
        "#display(v2)\n",
        "v2.T.shape\n",
        "v3 = np.ones((1,100))\n",
        "v4 = np.eye(4)\n",
        "#display(v4)\n",
        "v5 = np.random.randn(100,1) #normal random generator with mean 0 and 1 std\n",
        "#display(v5)\n",
        "v6 = np.random.rand(100,1)  #unifom random generator between 0 and 1\n",
        "display('mean of randn:',v5.mean())\n",
        "display('std of randn:',v5.std())\n",
        "display('min of rand',v6.min())\n",
        "display('max of rand',v6.max())\n"
      ],
      "execution_count": 0,
      "outputs": []
    },
    {
      "cell_type": "markdown",
      "metadata": {
        "id": "JYFjSo0OLqA3",
        "colab_type": "text"
      },
      "source": [
        "2. Creating a Matrix\n",
        "We Create a 2-D Array in Numpy and call it a Matrix. It contains 2 rows and 3 columns."
      ]
    },
    {
      "cell_type": "code",
      "metadata": {
        "id": "fJlDBq5rLmA-",
        "colab_type": "code",
        "outputId": "a316a55a-e970-4e2e-9c1e-772b90229fd3",
        "colab": {
          "base_uri": "https://localhost:8080/",
          "height": 136
        }
      },
      "source": [
        "m1 = np.zeros((2,3))\n",
        "display(m1)\n",
        "\n",
        "matrix = np.array([[1,2,3],[4,5,6]])\n",
        "display('matrix:', matrix)\n",
        "display('matrix shape:', matrix.shape)"
      ],
      "execution_count": 0,
      "outputs": [
        {
          "output_type": "display_data",
          "data": {
            "text/plain": [
              "array([[0., 0., 0.],\n",
              "       [0., 0., 0.]])"
            ]
          },
          "metadata": {
            "tags": []
          }
        },
        {
          "output_type": "display_data",
          "data": {
            "text/plain": [
              "'matrix:'"
            ]
          },
          "metadata": {
            "tags": []
          }
        },
        {
          "output_type": "display_data",
          "data": {
            "text/plain": [
              "array([[1, 2, 3],\n",
              "       [4, 5, 6]])"
            ]
          },
          "metadata": {
            "tags": []
          }
        },
        {
          "output_type": "display_data",
          "data": {
            "text/plain": [
              "'matrix shape:'"
            ]
          },
          "metadata": {
            "tags": []
          }
        },
        {
          "output_type": "display_data",
          "data": {
            "text/plain": [
              "(2, 3)"
            ]
          },
          "metadata": {
            "tags": []
          }
        }
      ]
    },
    {
      "cell_type": "markdown",
      "metadata": {
        "id": "wv99hZqULygH",
        "colab_type": "text"
      },
      "source": [
        "3. Selecting Elements\n"
      ]
    },
    {
      "cell_type": "code",
      "metadata": {
        "id": "ZLQlxFzkPrKM",
        "colab_type": "code",
        "outputId": "dfcd163c-b016-4139-a5a6-255735600e34",
        "colab": {
          "base_uri": "https://localhost:8080/",
          "height": 153
        }
      },
      "source": [
        "\n",
        "display(matrix[0]) #first row\n",
        "display(matrix[0,0]) #first row first col\n",
        "display(matrix[0,-1]) #first row last col\n",
        "display(matrix[0,-2]) #first row second last col\n",
        "display(matrix[0,1:]) #first row from second element\n",
        "display(matrix[0,:-1]) #first row from first element to second last \n",
        "display(matrix[0,0:2]) #first row elements from 0 to 2\n",
        "display(matrix[-1,0:2]) #last row from 0 tp 2"
      ],
      "execution_count": 0,
      "outputs": [
        {
          "output_type": "display_data",
          "data": {
            "text/plain": [
              "array([1, 2, 3])"
            ]
          },
          "metadata": {
            "tags": []
          }
        },
        {
          "output_type": "display_data",
          "data": {
            "text/plain": [
              "1"
            ]
          },
          "metadata": {
            "tags": []
          }
        },
        {
          "output_type": "display_data",
          "data": {
            "text/plain": [
              "3"
            ]
          },
          "metadata": {
            "tags": []
          }
        },
        {
          "output_type": "display_data",
          "data": {
            "text/plain": [
              "2"
            ]
          },
          "metadata": {
            "tags": []
          }
        },
        {
          "output_type": "display_data",
          "data": {
            "text/plain": [
              "array([2, 3])"
            ]
          },
          "metadata": {
            "tags": []
          }
        },
        {
          "output_type": "display_data",
          "data": {
            "text/plain": [
              "array([1, 2])"
            ]
          },
          "metadata": {
            "tags": []
          }
        },
        {
          "output_type": "display_data",
          "data": {
            "text/plain": [
              "array([1, 2])"
            ]
          },
          "metadata": {
            "tags": []
          }
        },
        {
          "output_type": "display_data",
          "data": {
            "text/plain": [
              "array([4, 5])"
            ]
          },
          "metadata": {
            "tags": []
          }
        }
      ]
    },
    {
      "cell_type": "markdown",
      "metadata": {
        "id": "QO3vTGEKQhm7",
        "colab_type": "text"
      },
      "source": [
        "4. Describing a Matrix"
      ]
    },
    {
      "cell_type": "code",
      "metadata": {
        "id": "q8bDjBhhQpg5",
        "colab_type": "code",
        "outputId": "a8c23ebb-e669-44ac-dc69-38bdf73bc232",
        "colab": {
          "base_uri": "https://localhost:8080/",
          "height": 68
        }
      },
      "source": [
        "#View the Number of rows and columns\n",
        "print(matrix.shape) \n",
        "#view the number of elements (rows*columns)\n",
        "print(matrix.size)\n",
        "#View the number of Dimensions(2 in this case)\n",
        "print(matrix.ndim)"
      ],
      "execution_count": 0,
      "outputs": [
        {
          "output_type": "stream",
          "text": [
            "(2, 3)\n",
            "6\n",
            "2\n"
          ],
          "name": "stdout"
        }
      ]
    },
    {
      "cell_type": "markdown",
      "metadata": {
        "id": "eKISvY8kQtA0",
        "colab_type": "text"
      },
      "source": [
        "5. Finding the max and min values"
      ]
    },
    {
      "cell_type": "code",
      "metadata": {
        "id": "abPJd0JrQ4mM",
        "colab_type": "code",
        "outputId": "9dfa4e90-d697-4851-8dc5-b85434ee77e2",
        "colab": {
          "base_uri": "https://localhost:8080/",
          "height": 289
        }
      },
      "source": [
        "display(matrix)\n",
        "matrix.min() #min in all matrix\n",
        "display(matrix.min(axis=0))# min elementin the first row\n",
        "\n",
        "\n",
        "display(np.min(matrix,axis=1))\n",
        "display(np.max(matrix,axis=1))\n",
        "display('arg: ',np.argmax(matrix,axis=0))\n",
        "display('max: ',np.argmax(matrix,axis=0))# in the first row\n",
        "display('max: ',np.argmax(matrix))\n",
        "np.argwhere(matrix < np.max(matrix)) #values that smaller then max(indexes of them)"
      ],
      "execution_count": 0,
      "outputs": [
        {
          "output_type": "display_data",
          "data": {
            "text/plain": [
              "array([[1, 2, 3],\n",
              "       [4, 5, 6]])"
            ]
          },
          "metadata": {
            "tags": []
          }
        },
        {
          "output_type": "display_data",
          "data": {
            "text/plain": [
              "array([1, 2, 3])"
            ]
          },
          "metadata": {
            "tags": []
          }
        },
        {
          "output_type": "display_data",
          "data": {
            "text/plain": [
              "array([1, 4])"
            ]
          },
          "metadata": {
            "tags": []
          }
        },
        {
          "output_type": "display_data",
          "data": {
            "text/plain": [
              "array([3, 6])"
            ]
          },
          "metadata": {
            "tags": []
          }
        },
        {
          "output_type": "display_data",
          "data": {
            "text/plain": [
              "'arg: '"
            ]
          },
          "metadata": {
            "tags": []
          }
        },
        {
          "output_type": "display_data",
          "data": {
            "text/plain": [
              "array([1, 1, 1])"
            ]
          },
          "metadata": {
            "tags": []
          }
        },
        {
          "output_type": "display_data",
          "data": {
            "text/plain": [
              "'max: '"
            ]
          },
          "metadata": {
            "tags": []
          }
        },
        {
          "output_type": "display_data",
          "data": {
            "text/plain": [
              "array([1, 1, 1])"
            ]
          },
          "metadata": {
            "tags": []
          }
        },
        {
          "output_type": "display_data",
          "data": {
            "text/plain": [
              "'max: '"
            ]
          },
          "metadata": {
            "tags": []
          }
        },
        {
          "output_type": "display_data",
          "data": {
            "text/plain": [
              "5"
            ]
          },
          "metadata": {
            "tags": []
          }
        },
        {
          "output_type": "execute_result",
          "data": {
            "text/plain": [
              "array([[0, 0],\n",
              "       [0, 1],\n",
              "       [0, 2],\n",
              "       [1, 0],\n",
              "       [1, 1]])"
            ]
          },
          "metadata": {
            "tags": []
          },
          "execution_count": 33
        }
      ]
    },
    {
      "cell_type": "markdown",
      "metadata": {
        "id": "3Qm64s_eR0zQ",
        "colab_type": "text"
      },
      "source": [
        "6. Reshaping Arrays\n"
      ]
    },
    {
      "cell_type": "code",
      "metadata": {
        "id": "Pwepq7h_SBBD",
        "colab_type": "code",
        "outputId": "9acf2f99-fc99-4b3f-948e-93a537bf3584",
        "colab": {
          "base_uri": "https://localhost:8080/",
          "height": 34
        }
      },
      "source": [
        "matrix.shape\n",
        "matrix.reshape((3,2))\n",
        "matrix.reshape((6,1))\n",
        "matrix.reshape(1,2,3) #dim 0 size = 1, dim 1= 2, dim 2=3\n",
        "matrix.reshape(1,-1,3).shape #dim 0 size=1,dim 1=2,dim 2=3 -1:automatically calc"
      ],
      "execution_count": 0,
      "outputs": [
        {
          "output_type": "execute_result",
          "data": {
            "text/plain": [
              "(1, 2, 3)"
            ]
          },
          "metadata": {
            "tags": []
          },
          "execution_count": 37
        }
      ]
    },
    {
      "cell_type": "markdown",
      "metadata": {
        "id": "cJU3xABuVem_",
        "colab_type": "text"
      },
      "source": [
        "7. Calculating Dot Products"
      ]
    },
    {
      "cell_type": "code",
      "metadata": {
        "id": "cPKg382VVivy",
        "colab_type": "code",
        "outputId": "b04dbc56-77d8-4394-cf1b-2b0ad22b0362",
        "colab": {
          "base_uri": "https://localhost:8080/",
          "height": 51
        }
      },
      "source": [
        "#create vectors\n",
        "vector_1=np.array([1,2,3])\n",
        "vector_2 = np.array([4,5,6])\n",
        "#calculate dot product (summa umnozehiya elementa na element)\n",
        "print(np.dot(vector_1,vector_2))\n",
        "#alternatively you can use @ to calculate dot products\n",
        "print(vector_1 @ vector_2)"
      ],
      "execution_count": 0,
      "outputs": [
        {
          "output_type": "stream",
          "text": [
            "32\n",
            "32\n"
          ],
          "name": "stdout"
        }
      ]
    },
    {
      "cell_type": "markdown",
      "metadata": {
        "id": "cB-jK7jEXY7F",
        "colab_type": "text"
      },
      "source": [
        "##Linear regression in Numpy:\n",
        "\n",
        "---\n",
        "\n",
        "\n",
        "\n",
        "Write the numpy code for the following model:\n",
        "\n",
        "$Y=WX+B$\n",
        "\n",
        "where $X$ is 3x10 matrix:  10 samples and 3 features\n",
        "\n",
        "$Y$ is 4x10 matrix: 10 samples and 4 outputs\n",
        "\n",
        "$W$ is the weights matrix with the shape 4x3: connecting 3 inputs to 4 outputs\n",
        "\n",
        "$b$ is a vector with a size 4 ( one bias per output)\n"
      ]
    },
    {
      "cell_type": "code",
      "metadata": {
        "id": "_EtM5LVtWCpm",
        "colab_type": "code",
        "outputId": "32301d12-9c79-4f77-c40f-5e4076363f1f",
        "colab": {
          "base_uri": "https://localhost:8080/",
          "height": 85
        }
      },
      "source": [
        "#inuts or features matrix\n",
        "X = np.random.rand(3,10)\n",
        "display('shape of X', X.shape)\n",
        "\n",
        "#weights matrix\n",
        "W=np.random.rand(4,3)\n",
        "#b = np.zeros(4,) vector with 4 elements\n",
        "\n",
        "#bias \n",
        "b = np.zeros((4,1))\n",
        "\n",
        "Y = np.dot(W,X)+b #4x3, 3x10\n",
        "display('Y:', Y.shape)"
      ],
      "execution_count": 0,
      "outputs": [
        {
          "output_type": "display_data",
          "data": {
            "text/plain": [
              "'shape of X'"
            ]
          },
          "metadata": {
            "tags": []
          }
        },
        {
          "output_type": "display_data",
          "data": {
            "text/plain": [
              "(3, 10)"
            ]
          },
          "metadata": {
            "tags": []
          }
        },
        {
          "output_type": "display_data",
          "data": {
            "text/plain": [
              "'Y:'"
            ]
          },
          "metadata": {
            "tags": []
          }
        },
        {
          "output_type": "display_data",
          "data": {
            "text/plain": [
              "(4, 10)"
            ]
          },
          "metadata": {
            "tags": []
          }
        }
      ]
    },
    {
      "cell_type": "markdown",
      "metadata": {
        "id": "hMIoucH9hFfr",
        "colab_type": "text"
      },
      "source": [
        "## One neuron model in numpy:\n",
        "\n",
        "A single neuron has multiple inputs and one output, in addition to the linear regression model, we need to add non linearity through an activation function:\n",
        "\n",
        "$Y= f(WX+B)$\n",
        "\n",
        "where $X$ is n x m matrix:  m samples and n features/inputs\n",
        "\n",
        "$f(g)= \\frac{1}{1+\\exp(-g)}$  is a sigmoid acitavation function\n",
        "\n",
        "$Y$ is nh1 x m matrix: m samples and ny outputs\n",
        "\n",
        "$W$ is the weights matrix with the shape nh1 x n: connecting 3 inputs to 4 outputs\n",
        "\n",
        "$b$ is a vector with a size nh1 ( one bias per output)\n",
        "\n",
        "\n",
        "\n"
      ]
    },
    {
      "cell_type": "code",
      "metadata": {
        "id": "Qry1JDGEiLmx",
        "colab_type": "code",
        "outputId": "e4ab30a7-1cdb-4449-e764-3f350a1919f4",
        "colab": {
          "base_uri": "https://localhost:8080/",
          "height": 1462
        }
      },
      "source": [
        "num_inputs = 3\n",
        "num_outputs = 4\n",
        "num_samples = 100\n",
        "f = lambda x: 1.0 /(1.0 + np.exp(-x)) #activation fuction(use sigmoid)\n",
        "X = np.random.rand(num_inputs,num_samples)\n",
        "\n",
        "# generate random weights vector\n",
        "W=np.random.rand(num_outputs,num_inputs)\n",
        "\n",
        "#bias \n",
        "b = np.zeros((num_outputs,1))\n",
        " #calculate Y\n",
        "Y = f(np.dot(W,X)+b) \n",
        "display('Y:', Y)\n",
        "display('Y shape:', Y.shape)\n",
        "for i in range(2): \n",
        "  print('hi')"
      ],
      "execution_count": 0,
      "outputs": [
        {
          "output_type": "display_data",
          "data": {
            "text/plain": [
              "'Y:'"
            ]
          },
          "metadata": {
            "tags": []
          }
        },
        {
          "output_type": "display_data",
          "data": {
            "text/plain": [
              "array([[0.78263564, 0.7628679 , 0.67156657, 0.76527556, 0.72631412,\n",
              "        0.69564963, 0.77418319, 0.78407563, 0.80747433, 0.74974741,\n",
              "        0.58973706, 0.74147522, 0.82706065, 0.63691149, 0.77361932,\n",
              "        0.7490505 , 0.83594021, 0.71859113, 0.69428016, 0.81156337,\n",
              "        0.6962344 , 0.84019281, 0.77866219, 0.70897903, 0.74808971,\n",
              "        0.72550744, 0.85582204, 0.7539276 , 0.71752543, 0.6988643 ,\n",
              "        0.64762663, 0.69947776, 0.69529975, 0.68365591, 0.72242886,\n",
              "        0.74243547, 0.80204805, 0.67605606, 0.78151672, 0.60447989,\n",
              "        0.65273718, 0.72816754, 0.76732752, 0.71356688, 0.77377768,\n",
              "        0.73737135, 0.63906181, 0.70779049, 0.64162933, 0.82909632,\n",
              "        0.82503283, 0.66537291, 0.67056568, 0.60726937, 0.82062476,\n",
              "        0.68170643, 0.60335528, 0.71503692, 0.6400717 , 0.76849772,\n",
              "        0.77168219, 0.67704719, 0.7833318 , 0.65163562, 0.57859663,\n",
              "        0.70912788, 0.64458582, 0.71497632, 0.82452723, 0.66046099,\n",
              "        0.78711   , 0.765376  , 0.69582176, 0.71375212, 0.72259727,\n",
              "        0.77028413, 0.71245091, 0.80094302, 0.66684409, 0.69495611,\n",
              "        0.70469478, 0.84406897, 0.83676787, 0.80137348, 0.71690763,\n",
              "        0.7646788 , 0.75125452, 0.80117905, 0.70615748, 0.73345405,\n",
              "        0.67481102, 0.81995016, 0.68684118, 0.73510997, 0.7832896 ,\n",
              "        0.74625616, 0.76670311, 0.74755825, 0.74074388, 0.74672313],\n",
              "       [0.70488971, 0.71261998, 0.73540105, 0.66436428, 0.54838234,\n",
              "        0.71626397, 0.74587892, 0.78281545, 0.74851901, 0.62049347,\n",
              "        0.52130444, 0.65943541, 0.75912301, 0.66644478, 0.79956515,\n",
              "        0.82277424, 0.79069593, 0.70847686, 0.57408073, 0.76903868,\n",
              "        0.62948084, 0.80750773, 0.67076427, 0.54618422, 0.77455596,\n",
              "        0.73702411, 0.83949546, 0.73979405, 0.78050671, 0.68433907,\n",
              "        0.55280013, 0.71576193, 0.67079307, 0.71349535, 0.70175721,\n",
              "        0.79896455, 0.7807588 , 0.75301027, 0.78041669, 0.59420015,\n",
              "        0.71450694, 0.61564074, 0.70728545, 0.61606157, 0.69519246,\n",
              "        0.66910373, 0.62898555, 0.69162923, 0.65892606, 0.82421019,\n",
              "        0.75501902, 0.69700721, 0.70710197, 0.63440451, 0.73974973,\n",
              "        0.55612537, 0.62824975, 0.68894845, 0.57456291, 0.75052444,\n",
              "        0.65150606, 0.61561128, 0.7276179 , 0.66482477, 0.59906346,\n",
              "        0.75913108, 0.70748092, 0.66586166, 0.73055496, 0.70284125,\n",
              "        0.67992669, 0.71673229, 0.66734585, 0.76887699, 0.61486962,\n",
              "        0.80934459, 0.77338409, 0.68345911, 0.7123326 , 0.73448046,\n",
              "        0.5213776 , 0.80692129, 0.80681848, 0.71852891, 0.63793312,\n",
              "        0.73355963, 0.71614611, 0.74242608, 0.67919031, 0.62888242,\n",
              "        0.69071511, 0.75312043, 0.74394645, 0.62100873, 0.81662732,\n",
              "        0.70947344, 0.71941135, 0.7553822 , 0.71375591, 0.7846436 ],\n",
              "       [0.82820931, 0.78149836, 0.71418507, 0.76967451, 0.73295655,\n",
              "        0.73549194, 0.79389374, 0.81329826, 0.83463106, 0.76975523,\n",
              "        0.59155404, 0.75973276, 0.82633777, 0.67711991, 0.80668062,\n",
              "        0.78634226, 0.84565803, 0.7294001 , 0.71115456, 0.84175526,\n",
              "        0.69929856, 0.87061109, 0.78796551, 0.70506513, 0.79202759,\n",
              "        0.73824172, 0.88163908, 0.74764582, 0.74773017, 0.68341566,\n",
              "        0.65479353, 0.7410372 , 0.73110528, 0.7341965 , 0.70660139,\n",
              "        0.76506697, 0.8225716 , 0.72134718, 0.8128721 , 0.60375572,\n",
              "        0.70304413, 0.74770403, 0.78717815, 0.74332708, 0.77593382,\n",
              "        0.74960937, 0.67684333, 0.72791036, 0.65176361, 0.85485867,\n",
              "        0.85323176, 0.6698481 , 0.69580126, 0.61847502, 0.82869045,\n",
              "        0.67874732, 0.62788493, 0.76154904, 0.66200909, 0.78958425,\n",
              "        0.78480277, 0.69534366, 0.7816614 , 0.64466237, 0.58536735,\n",
              "        0.74631638, 0.70675623, 0.75002114, 0.82603221, 0.68858235,\n",
              "        0.78941144, 0.81502317, 0.70922741, 0.76539403, 0.74034754,\n",
              "        0.80804904, 0.7542391 , 0.80568319, 0.72765864, 0.74952615,\n",
              "        0.70158915, 0.87347461, 0.86374206, 0.81288891, 0.72678955,\n",
              "        0.78428791, 0.74846209, 0.81294882, 0.71719792, 0.75703906,\n",
              "        0.67373595, 0.82695374, 0.74094733, 0.73243444, 0.80683845,\n",
              "        0.79086291, 0.79319405, 0.76105988, 0.77919667, 0.76604959],\n",
              "       [0.66119669, 0.6679795 , 0.58906842, 0.67895058, 0.64706971,\n",
              "        0.60641125, 0.67615345, 0.67694232, 0.6957756 , 0.65610099,\n",
              "        0.5568273 , 0.65183188, 0.73413078, 0.56707218, 0.66658151,\n",
              "        0.64640806, 0.73420873, 0.64105622, 0.61835319, 0.69666474,\n",
              "        0.62897941, 0.71955983, 0.68596462, 0.64113203, 0.63978719,\n",
              "        0.64518756, 0.73757156, 0.67833621, 0.62878047, 0.64259494,\n",
              "        0.59229931, 0.6077848 , 0.60817192, 0.59130004, 0.66008615,\n",
              "        0.65175493, 0.69746776, 0.59054821, 0.67332792, 0.56885041,\n",
              "        0.57163073, 0.64085375, 0.67034063, 0.62381607, 0.68743655,\n",
              "        0.65302845, 0.56939587, 0.62725221, 0.58804664, 0.71532264,\n",
              "        0.70871249, 0.60786557, 0.59896931, 0.56449902, 0.72166634,\n",
              "        0.62148516, 0.55422744, 0.61424643, 0.57886843, 0.67097741,\n",
              "        0.6776548 , 0.60627127, 0.69799445, 0.6047132 , 0.54792282,\n",
              "        0.61793727, 0.55870989, 0.62188607, 0.72986498, 0.59041204,\n",
              "        0.69762269, 0.6460581 , 0.62286612, 0.61103285, 0.63807988,\n",
              "        0.66068953, 0.61725307, 0.70708601, 0.5736232 , 0.59615646,\n",
              "        0.63727283, 0.72366571, 0.72008681, 0.70291707, 0.6394385 ,\n",
              "        0.66894117, 0.67373695, 0.70291671, 0.63170763, 0.64204674,\n",
              "        0.61747789, 0.72211008, 0.5914257 , 0.66030876, 0.68137923,\n",
              "        0.63694778, 0.66520008, 0.66091297, 0.63784235, 0.65684749]])"
            ]
          },
          "metadata": {
            "tags": []
          }
        },
        {
          "output_type": "display_data",
          "data": {
            "text/plain": [
              "'Y shape:'"
            ]
          },
          "metadata": {
            "tags": []
          }
        },
        {
          "output_type": "display_data",
          "data": {
            "text/plain": [
              "(4, 100)"
            ]
          },
          "metadata": {
            "tags": []
          }
        },
        {
          "output_type": "stream",
          "text": [
            "hi\n",
            "hi\n"
          ],
          "name": "stdout"
        }
      ]
    },
    {
      "cell_type": "markdown",
      "metadata": {
        "id": "aSnbti9ooIIs",
        "colab_type": "text"
      },
      "source": [
        "## Two hidden layer model in numpy:\n",
        "\n",
        "The difference from the one neuron model is simple:  we need only to change the number of output \"ny\""
      ]
    },
    {
      "cell_type": "code",
      "metadata": {
        "id": "ZAY3o6zBnpA0",
        "colab_type": "code",
        "outputId": "afabf7b9-3d7c-4b42-90ce-dbc76e44369f",
        "colab": {
          "base_uri": "https://localhost:8080/",
          "height": 51
        }
      },
      "source": [
        "num_inputs = 3\n",
        "hidden_layer_1_outputs = 4\n",
        "hidden_layer_2_outputs = 3\n",
        "num_samples = 100\n",
        "X = np.random.rand(num_inputs,num_samples)\n",
        "\n",
        "# generate random weights vector for the first hidden layer\n",
        "W_h1=np.random.rand(hidden_layer_1_outputs ,num_inputs)\n",
        "\n",
        "# generate random weights vector for the second hidden layer\n",
        "W_h2=np.random.rand(hidden_layer_2_outputs ,hidden_layer_1_outputs)\n",
        "\n",
        "# Generate a random bias for hidden layer 1\n",
        "b_h1 = np.zeros((hidden_layer_1_outputs,1))\n",
        "\n",
        "# Generate a random bias for hidden layer 2\n",
        "b_h2 = np.zeros((hidden_layer_2_outputs,1))\n",
        "\n",
        " #calculate output of hidden layer 1\n",
        "h1= f(np.dot(W_h1,X)+b_h1) \n",
        "display(h1.shape)\n",
        "\n",
        " #calculate output of hidden layer 2\n",
        "h2= f(np.dot(W_h2,h1)+b_h2) \n",
        "display(h2.shape)\n",
        " \n"
      ],
      "execution_count": 0,
      "outputs": [
        {
          "output_type": "display_data",
          "data": {
            "text/plain": [
              "(4, 100)"
            ]
          },
          "metadata": {
            "tags": []
          }
        },
        {
          "output_type": "display_data",
          "data": {
            "text/plain": [
              "(3, 100)"
            ]
          },
          "metadata": {
            "tags": []
          }
        }
      ]
    },
    {
      "cell_type": "markdown",
      "metadata": {
        "id": "11fqb_bQvIEi",
        "colab_type": "text"
      },
      "source": [
        "## Gradient descent in Numpy:\n",
        "Let us now start training a neural network\n",
        "We start by implementing a simple gradient descent for linear regression"
      ]
    },
    {
      "cell_type": "code",
      "metadata": {
        "id": "mzBJxwb7FFZ2",
        "colab_type": "code",
        "outputId": "056bbce8-4202-464d-9499-67b7e85fcd67",
        "colab": {
          "base_uri": "https://localhost:8080/",
          "height": 129
        }
      },
      "source": [
        "num_inputs = 3\n",
        "hidden_layer_1_outputs = 4\n",
        "hidden_layer_2_outputs = 3\n",
        "num_samples=10\n",
        "max_iterations=200\n",
        "f = lambda x: 1.0 /(1.0 + np.exp(-x))\n",
        "X = np.random.rand(num_inputs,num_samples)\n",
        "X=np.hstack((np.ones((X.shape[0],1)),X))\n",
        "# Generate a random bias for hidden layer 1\n",
        "b_h1 = np.zeros((hidden_layer_1_outputs,1))\n",
        "# Generate a random bias for hidden layer 2\n",
        "W_h1 = np.random.rand(hidden_layer_1_otputs,num_inputs+1)\n",
        "#b_h1 = np.random.random()\n",
        "W_h2 = np.random.random(hidden_layer_2_otputs,hidden_layer_1_otputs)\n",
        "#b_h2 = np.random.random()\n",
        "h1=f(np.dot(W_h1,X))\n",
        "h2=f(np.dot(W_h2,h1))\n",
        "alpha=0.01\n",
        "ep=0.001\n",
        "Y_gr=np.random.rand((hidden_layer_2_otputs,num_samples)                     \n",
        "for j in range(max_iterations):        \n",
        "          \n",
        "  h1=f(np.dot(W_h1,X))\n",
        "  # append columns with ones represented bias inputs\n",
        "  h1= np.hstack((np.ones((h1.shape[0],1)),h1))                \n",
        "  h2=f(np.dot(W_h2,h1))             \n",
        "  J=np.sum(np.square(h2-Y_gr))\n",
        "  hidden_error=h1[:,1:]*(1-h1[:,1:])*np.dot(J,W_h2.T[:,1:])\n",
        "  grad_h2=h2*J\n",
        "  grad_h1=h1*hidden_error\n",
        "  total_hidden_gradient=np.average(grad_h2,axis=0)\n",
        "  total_output_gradient_h1=np.average(grad_h1,axis=0)\n",
        "  #total_output_gradient=np.average(output_pd,axis=0)\n",
        "  W_h2 += -alpha*total_hidden_gradient_h2\n",
        "  W_h1 +=-alpha*total_output_gradient_h1\n",
        "\n",
        "\n",
        "\n",
        " "
      ],
      "execution_count": 0,
      "outputs": [
        {
          "output_type": "error",
          "ename": "SyntaxError",
          "evalue": "ignored",
          "traceback": [
            "\u001b[0;36m  File \u001b[0;32m\"<ipython-input-85-b246753f6761>\"\u001b[0;36m, line \u001b[0;32m21\u001b[0m\n\u001b[0;31m    for j in range(max_iterations):\u001b[0m\n\u001b[0m                                  ^\u001b[0m\n\u001b[0;31mSyntaxError\u001b[0m\u001b[0;31m:\u001b[0m invalid syntax\n"
          ]
        }
      ]
    },
    {
      "cell_type": "code",
      "metadata": {
        "id": "QaQyLoxk2FyG",
        "colab_type": "code",
        "outputId": "87e86075-d1c7-42e8-b24e-b2567a529b59",
        "colab": {
          "base_uri": "https://localhost:8080/",
          "height": 231
        }
      },
      "source": [
        "num_inputs = 3\n",
        "hidden_layer_1_outputs = 4\n",
        "hidden_layer_2_outputs = 3\n",
        "num_samples=10\n",
        "max_iterations=200\n",
        "f = lambda x: 1.0 /(1.0 + np.exp(-x))\n",
        "X = np.random.rand(num_samples,num_inputs-1)\n",
        "X=np.hstack((np.ones((X.shape[0],1)),X))\n",
        "# Generate a random bias for hidden layer 1\n",
        "b_h1 = np.zeros((hidden_layer_1_outputs,1))\n",
        "# Generate a random bias for hidden layer 2\n",
        "W_h1 = np.random.rand(num_inputs,hidden_layer_1_outputs)\n",
        "#b_h1 = np.random.random()\n",
        "W_h2 = np.random.rand(hidden_layer_1_outputs+1,hidden_layer_2_outputs)\n",
        "#b_h2 = np.random.random()\n",
        "\n",
        "\n",
        "alpha=0.01\n",
        "ep=0.001\n",
        "Y_gr=np.random.rand(hidden_layer_2_outputs,num_samples)   \n",
        "                    \n",
        "for i in range(2):             \n",
        "  h1=f(np.dot(X,W_h1))\n",
        "  # append columns with ones represented bias inputs\n",
        "  h1= np.hstack((np.ones((h1.shape[0],1)),h1))                \n",
        "  h2=f(np.dot(h1,W_h2))  \n",
        "                    #error\n",
        "  J=np.sum(np.square(h2-Y_gr))\n",
        "  grad_h2=h2*J\n",
        "  #hidden_error=h1[:,1:]*(1-h1[:,1:])*np.dot(J,W_h2.T[:,1:])\n",
        "  hidden_error = (h1[:, 1:] * (1 - h1[:, 1:])) * np.dot(grad_h2, W_h2.T[:, 1:]) \n",
        "  grad_h1=h1*hidden_error\n",
        "  total_hidden_gradient_h2=np.average(grad_h2,axis=0)\n",
        "  total_output_gradient_h1=np.average(grad_h1,axis=0)\n",
        "  #total_output_gradient=np.average(output_pd,axis=0)\n",
        "  W_h2 += -alpha*total_hidden_gradient_h2\n",
        "  W_h1 +=-alpha*total_output_gradient_h1\n",
        "  pritn('iter=',i)\n",
        "\n",
        "\n",
        "    \n",
        " \n"
      ],
      "execution_count": 0,
      "outputs": [
        {
          "output_type": "error",
          "ename": "ValueError",
          "evalue": "ignored",
          "traceback": [
            "\u001b[0;31m---------------------------------------------------------------------------\u001b[0m",
            "\u001b[0;31mValueError\u001b[0m                                Traceback (most recent call last)",
            "\u001b[0;32m<ipython-input-100-156ecbd6eebd>\u001b[0m in \u001b[0;36m<module>\u001b[0;34m()\u001b[0m\n\u001b[1;32m     26\u001b[0m   \u001b[0mh2\u001b[0m\u001b[0;34m=\u001b[0m\u001b[0mf\u001b[0m\u001b[0;34m(\u001b[0m\u001b[0mnp\u001b[0m\u001b[0;34m.\u001b[0m\u001b[0mdot\u001b[0m\u001b[0;34m(\u001b[0m\u001b[0mh1\u001b[0m\u001b[0;34m,\u001b[0m\u001b[0mW_h2\u001b[0m\u001b[0;34m)\u001b[0m\u001b[0;34m)\u001b[0m\u001b[0;34m\u001b[0m\u001b[0;34m\u001b[0m\u001b[0m\n\u001b[1;32m     27\u001b[0m                     \u001b[0;31m#error\u001b[0m\u001b[0;34m\u001b[0m\u001b[0;34m\u001b[0m\u001b[0;34m\u001b[0m\u001b[0m\n\u001b[0;32m---> 28\u001b[0;31m   \u001b[0mJ\u001b[0m\u001b[0;34m=\u001b[0m\u001b[0mnp\u001b[0m\u001b[0;34m.\u001b[0m\u001b[0msum\u001b[0m\u001b[0;34m(\u001b[0m\u001b[0mnp\u001b[0m\u001b[0;34m.\u001b[0m\u001b[0msquare\u001b[0m\u001b[0;34m(\u001b[0m\u001b[0mh2\u001b[0m\u001b[0;34m-\u001b[0m\u001b[0mY_gr\u001b[0m\u001b[0;34m)\u001b[0m\u001b[0;34m)\u001b[0m\u001b[0;34m\u001b[0m\u001b[0;34m\u001b[0m\u001b[0m\n\u001b[0m\u001b[1;32m     29\u001b[0m   \u001b[0mgrad_h2\u001b[0m\u001b[0;34m=\u001b[0m\u001b[0mh2\u001b[0m\u001b[0;34m*\u001b[0m\u001b[0mJ\u001b[0m\u001b[0;34m\u001b[0m\u001b[0;34m\u001b[0m\u001b[0m\n\u001b[1;32m     30\u001b[0m   \u001b[0;31m#hidden_error=h1[:,1:]*(1-h1[:,1:])*np.dot(J,W_h2.T[:,1:])\u001b[0m\u001b[0;34m\u001b[0m\u001b[0;34m\u001b[0m\u001b[0;34m\u001b[0m\u001b[0m\n",
            "\u001b[0;31mValueError\u001b[0m: operands could not be broadcast together with shapes (10,3) (3,10) "
          ]
        }
      ]
    },
    {
      "cell_type": "markdown",
      "metadata": {
        "id": "jRqCCVlmFIZl",
        "colab_type": "text"
      },
      "source": [
        "##Assignment 1\n",
        "### Backpropagation in Numpy:\n"
      ]
    }
  ]
}