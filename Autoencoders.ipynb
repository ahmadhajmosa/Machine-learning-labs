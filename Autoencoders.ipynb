{
  "nbformat": 4,
  "nbformat_minor": 0,
  "metadata": {
    "colab": {
      "name": "Autoencoders.ipynb",
      "version": "0.3.2",
      "provenance": [],
      "collapsed_sections": [],
      "toc_visible": true,
      "include_colab_link": true
    },
    "kernelspec": {
      "name": "python3",
      "display_name": "Python 3"
    },
    "accelerator": "GPU"
  },
  "cells": [
    {
      "cell_type": "markdown",
      "metadata": {
        "id": "view-in-github",
        "colab_type": "text"
      },
      "source": [
        "<a href=\"https://colab.research.google.com/github/ahmadhajmosa/Machine-learning-labs/blob/julianblueml/Autoencoders.ipynb\" target=\"_parent\"><img src=\"https://colab.research.google.com/assets/colab-badge.svg\" alt=\"Open In Colab\"/></a>"
      ]
    },
    {
      "cell_type": "code",
      "metadata": {
        "id": "R3Pb6uM64-lt",
        "colab_type": "code",
        "colab": {}
      },
      "source": [
        ""
      ],
      "execution_count": 0,
      "outputs": []
    },
    {
      "cell_type": "markdown",
      "metadata": {
        "id": "3KUUfkn05AHI",
        "colab_type": "text"
      },
      "source": [
        "## Auto Encoders with Keras\n",
        "\n",
        "![alt text](https://cdn-images-1.medium.com/max/1600/1*44eDEuZBEsmG_TCAKRI3Kw@2x.png)\n",
        "\n",
        "Autoencoding\" is a data compression and dimension reduction algorithm where the encoding and decoding functions are \n",
        "learned automatically from examples rather than engineered by a human. \n",
        "\n",
        " Autoencoders are lossy, which means that the decompressed outputs will be degraded compared to the original inputs (similar to MP3 or JPEG compression). This differs from lossless arithmetic compression.\n"
      ]
    },
    {
      "cell_type": "code",
      "metadata": {
        "id": "z8CsTZSG6EZ5",
        "colab_type": "code",
        "colab": {}
      },
      "source": [
        ""
      ],
      "execution_count": 0,
      "outputs": []
    },
    {
      "cell_type": "markdown",
      "metadata": {
        "id": "1s6S30596E7z",
        "colab_type": "text"
      },
      "source": [
        "# # Autoencoder with fully connected network for MNIST dataset"
      ]
    },
    {
      "cell_type": "code",
      "metadata": {
        "id": "RASOBCfn6P4I",
        "colab_type": "code",
        "outputId": "8b05af98-fcfb-4792-b26c-ac93c92ecbbb",
        "colab": {
          "base_uri": "https://localhost:8080/",
          "height": 255
        }
      },
      "source": [
        "from keras.layers import Input, Dense\n",
        "from keras.models import Model\n",
        "from keras.datasets import mnist\n",
        "import numpy as np\n",
        "\n",
        "# this is the size of our encoded representations\n",
        "encoding_dim = 32  # 32 floats -> compression of factor 24.5, assuming the input is 784 floats\n",
        "\n",
        "# this is our input placeholder\n",
        "input_img = Input(shape=(784,))\n",
        "# \"encoded\" is the encoded representation of the input\n",
        "encoded = Dense(encoding_dim, activation='relu')(input_img)\n",
        "# \"decoded\" is the lossy reconstruction of the input\n",
        "decoded = Dense(784, activation='sigmoid')(encoded)\n",
        "\n",
        "\n",
        "# this model maps an input to its reconstruction\n",
        "autoencoder = Model(input_img, decoded)\n",
        "\n",
        "display(autoencoder.summary())\n",
        "\n",
        "encoder = Model(input_img, encoded)\n"
      ],
      "execution_count": 41,
      "outputs": [
        {
          "output_type": "stream",
          "text": [
            "_________________________________________________________________\n",
            "Layer (type)                 Output Shape              Param #   \n",
            "=================================================================\n",
            "input_14 (InputLayer)        (None, 784)               0         \n",
            "_________________________________________________________________\n",
            "dense_11 (Dense)             (None, 32)                25120     \n",
            "_________________________________________________________________\n",
            "dense_12 (Dense)             (None, 784)               25872     \n",
            "=================================================================\n",
            "Total params: 50,992\n",
            "Trainable params: 50,992\n",
            "Non-trainable params: 0\n",
            "_________________________________________________________________\n"
          ],
          "name": "stdout"
        },
        {
          "output_type": "display_data",
          "data": {
            "text/plain": [
              "None"
            ]
          },
          "metadata": {
            "tags": []
          }
        }
      ]
    },
    {
      "cell_type": "code",
      "metadata": {
        "id": "9j3MLAn56pu8",
        "colab_type": "code",
        "outputId": "d734cd01-593e-4b83-d267-1568c78319aa",
        "colab": {
          "base_uri": "https://localhost:8080/",
          "height": 1751
        }
      },
      "source": [
        "# create a placeholder for an encoded (32-dimensional) input\n",
        "encoded_input = Input(shape=(encoding_dim,))\n",
        "# retrieve the last layer of the autoencoder model\n",
        "decoder_layer = autoencoder.layers[-1]\n",
        "# create the decoder model\n",
        "decoder = Model(encoded_input, decoder_layer(encoded_input))\n",
        "\n",
        "\n",
        "\n",
        "autoencoder.compile(optimizer='adadelta', loss='binary_crossentropy')\n",
        "\n",
        "(x_train, _), (x_test, _) = mnist.load_data()\n",
        "\n",
        "\n",
        "x_train = x_train.astype('float32') / 255.\n",
        "x_test = x_test.astype('float32') / 255.\n",
        "x_train = x_train.reshape((len(x_train), np.prod(x_train.shape[1:])))\n",
        "x_test = x_test.reshape((len(x_test), np.prod(x_test.shape[1:])))\n",
        "\n",
        "\n",
        "\n",
        "autoencoder.fit(x_train, x_train,\n",
        "                epochs=50,\n",
        "                batch_size=256,\n",
        "                shuffle=True,\n",
        "                validation_data=(x_test, x_test))\n"
      ],
      "execution_count": 42,
      "outputs": [
        {
          "output_type": "stream",
          "text": [
            "Train on 60000 samples, validate on 10000 samples\n",
            "Epoch 1/50\n",
            "60000/60000 [==============================] - 1s 22us/step - loss: 0.3607 - val_loss: 0.2707\n",
            "Epoch 2/50\n",
            "60000/60000 [==============================] - 1s 17us/step - loss: 0.2631 - val_loss: 0.2517\n",
            "Epoch 3/50\n",
            "60000/60000 [==============================] - 1s 17us/step - loss: 0.2407 - val_loss: 0.2278\n",
            "Epoch 4/50\n",
            "60000/60000 [==============================] - 1s 17us/step - loss: 0.2198 - val_loss: 0.2098\n",
            "Epoch 5/50\n",
            "60000/60000 [==============================] - 1s 17us/step - loss: 0.2045 - val_loss: 0.1969\n",
            "Epoch 6/50\n",
            "60000/60000 [==============================] - 1s 17us/step - loss: 0.1937 - val_loss: 0.1877\n",
            "Epoch 7/50\n",
            "60000/60000 [==============================] - 1s 17us/step - loss: 0.1855 - val_loss: 0.1805\n",
            "Epoch 8/50\n",
            "60000/60000 [==============================] - 1s 17us/step - loss: 0.1788 - val_loss: 0.1745\n",
            "Epoch 9/50\n",
            "60000/60000 [==============================] - 1s 17us/step - loss: 0.1732 - val_loss: 0.1692\n",
            "Epoch 10/50\n",
            "60000/60000 [==============================] - 1s 17us/step - loss: 0.1683 - val_loss: 0.1646\n",
            "Epoch 11/50\n",
            "60000/60000 [==============================] - 1s 17us/step - loss: 0.1639 - val_loss: 0.1605\n",
            "Epoch 12/50\n",
            "60000/60000 [==============================] - 1s 17us/step - loss: 0.1599 - val_loss: 0.1566\n",
            "Epoch 13/50\n",
            "60000/60000 [==============================] - 1s 17us/step - loss: 0.1563 - val_loss: 0.1529\n",
            "Epoch 14/50\n",
            "60000/60000 [==============================] - 1s 17us/step - loss: 0.1528 - val_loss: 0.1497\n",
            "Epoch 15/50\n",
            "60000/60000 [==============================] - 1s 17us/step - loss: 0.1496 - val_loss: 0.1465\n",
            "Epoch 16/50\n",
            "60000/60000 [==============================] - 1s 17us/step - loss: 0.1466 - val_loss: 0.1436\n",
            "Epoch 17/50\n",
            "60000/60000 [==============================] - 1s 17us/step - loss: 0.1438 - val_loss: 0.1408\n",
            "Epoch 18/50\n",
            "60000/60000 [==============================] - 1s 17us/step - loss: 0.1412 - val_loss: 0.1383\n",
            "Epoch 19/50\n",
            "60000/60000 [==============================] - 1s 17us/step - loss: 0.1387 - val_loss: 0.1360\n",
            "Epoch 20/50\n",
            "60000/60000 [==============================] - 1s 17us/step - loss: 0.1365 - val_loss: 0.1338\n",
            "Epoch 21/50\n",
            "60000/60000 [==============================] - 1s 17us/step - loss: 0.1343 - val_loss: 0.1318\n",
            "Epoch 22/50\n",
            "60000/60000 [==============================] - 1s 17us/step - loss: 0.1323 - val_loss: 0.1297\n",
            "Epoch 23/50\n",
            "60000/60000 [==============================] - 1s 17us/step - loss: 0.1303 - val_loss: 0.1278\n",
            "Epoch 24/50\n",
            "60000/60000 [==============================] - 1s 17us/step - loss: 0.1285 - val_loss: 0.1259\n",
            "Epoch 25/50\n",
            "60000/60000 [==============================] - 1s 17us/step - loss: 0.1267 - val_loss: 0.1242\n",
            "Epoch 26/50\n",
            "60000/60000 [==============================] - 1s 17us/step - loss: 0.1250 - val_loss: 0.1225\n",
            "Epoch 27/50\n",
            "60000/60000 [==============================] - 1s 17us/step - loss: 0.1233 - val_loss: 0.1209\n",
            "Epoch 28/50\n",
            "60000/60000 [==============================] - 1s 16us/step - loss: 0.1217 - val_loss: 0.1193\n",
            "Epoch 29/50\n",
            "60000/60000 [==============================] - 1s 16us/step - loss: 0.1202 - val_loss: 0.1179\n",
            "Epoch 30/50\n",
            "60000/60000 [==============================] - 1s 17us/step - loss: 0.1188 - val_loss: 0.1165\n",
            "Epoch 31/50\n",
            "60000/60000 [==============================] - 1s 17us/step - loss: 0.1175 - val_loss: 0.1152\n",
            "Epoch 32/50\n",
            "60000/60000 [==============================] - 1s 17us/step - loss: 0.1163 - val_loss: 0.1140\n",
            "Epoch 33/50\n",
            "60000/60000 [==============================] - 1s 17us/step - loss: 0.1151 - val_loss: 0.1129\n",
            "Epoch 34/50\n",
            "60000/60000 [==============================] - 1s 16us/step - loss: 0.1140 - val_loss: 0.1118\n",
            "Epoch 35/50\n",
            "60000/60000 [==============================] - 1s 16us/step - loss: 0.1130 - val_loss: 0.1108\n",
            "Epoch 36/50\n",
            "60000/60000 [==============================] - 1s 17us/step - loss: 0.1120 - val_loss: 0.1100\n",
            "Epoch 37/50\n",
            "60000/60000 [==============================] - 1s 16us/step - loss: 0.1111 - val_loss: 0.1091\n",
            "Epoch 38/50\n",
            "60000/60000 [==============================] - 1s 16us/step - loss: 0.1103 - val_loss: 0.1083\n",
            "Epoch 39/50\n",
            "60000/60000 [==============================] - 1s 16us/step - loss: 0.1096 - val_loss: 0.1076\n",
            "Epoch 40/50\n",
            "60000/60000 [==============================] - 1s 17us/step - loss: 0.1089 - val_loss: 0.1069\n",
            "Epoch 41/50\n",
            "60000/60000 [==============================] - 1s 16us/step - loss: 0.1082 - val_loss: 0.1063\n",
            "Epoch 42/50\n",
            "60000/60000 [==============================] - 1s 16us/step - loss: 0.1076 - val_loss: 0.1057\n",
            "Epoch 43/50\n",
            "60000/60000 [==============================] - 1s 17us/step - loss: 0.1071 - val_loss: 0.1052\n",
            "Epoch 44/50\n",
            "60000/60000 [==============================] - 1s 16us/step - loss: 0.1066 - val_loss: 0.1047\n",
            "Epoch 45/50\n",
            "60000/60000 [==============================] - 1s 16us/step - loss: 0.1061 - val_loss: 0.1043\n",
            "Epoch 46/50\n",
            "60000/60000 [==============================] - 1s 16us/step - loss: 0.1057 - val_loss: 0.1038\n",
            "Epoch 47/50\n",
            "60000/60000 [==============================] - 1s 16us/step - loss: 0.1052 - val_loss: 0.1034\n",
            "Epoch 48/50\n",
            "60000/60000 [==============================] - 1s 16us/step - loss: 0.1048 - val_loss: 0.1031\n",
            "Epoch 49/50\n",
            "60000/60000 [==============================] - 1s 16us/step - loss: 0.1045 - val_loss: 0.1027\n",
            "Epoch 50/50\n",
            "60000/60000 [==============================] - 1s 17us/step - loss: 0.1041 - val_loss: 0.1023\n"
          ],
          "name": "stdout"
        },
        {
          "output_type": "execute_result",
          "data": {
            "text/plain": [
              "<keras.callbacks.History at 0x7efbe3389908>"
            ]
          },
          "metadata": {
            "tags": []
          },
          "execution_count": 42
        }
      ]
    },
    {
      "cell_type": "code",
      "metadata": {
        "id": "Hg0XFjQz7aAA",
        "colab_type": "code",
        "outputId": "a4465a2b-d98e-4713-cc28-66f8fb931d93",
        "colab": {
          "base_uri": "https://localhost:8080/",
          "height": 268
        }
      },
      "source": [
        "\n",
        "# encode and decode some digits\n",
        "# note that we take them from the *test* set\n",
        "encoded_imgs = encoder.predict(x_test)\n",
        "decoded_imgs = decoder.predict(encoded_imgs)\n",
        "\n",
        "# use Matplotlib (don't ask)\n",
        "import matplotlib.pyplot as plt\n",
        "\n",
        "n = 10  # how many digits we will display\n",
        "plt.figure(figsize=(20, 4))\n",
        "for i in range(n):\n",
        "    # display original\n",
        "    ax = plt.subplot(3, n, i + 1)\n",
        "    plt.imshow(x_test[i].reshape(28, 28))\n",
        "    plt.gray()\n",
        "    ax.get_xaxis().set_visible(False)\n",
        "    ax.get_yaxis().set_visible(False)\n",
        "    \n",
        "    ax = plt.subplot(3, n, i + 1 +n)\n",
        "    plt.imshow(encoded_imgs[i].reshape(4, 8))\n",
        "    plt.gray()\n",
        "    ax.get_xaxis().set_visible(False)\n",
        "    ax.get_yaxis().set_visible(False)\n",
        "    \n",
        "\n",
        "    # display reconstruction\n",
        "    ax = plt.subplot(3, n, i + 1 + 2*n)\n",
        "    plt.imshow(decoded_imgs[i].reshape(28, 28))\n",
        "    plt.gray()\n",
        "    ax.get_xaxis().set_visible(False)\n",
        "    ax.get_yaxis().set_visible(False)\n",
        "plt.show()"
      ],
      "execution_count": 43,
      "outputs": [
        {
          "output_type": "display_data",
          "data": {
            "image/png": "[encoded data removed]",
            "text/plain": [
              "<Figure size 1440x288 with 30 Axes>"
            ]
          },
          "metadata": {
            "tags": []
          }
        }
      ]
    },
    {
      "cell_type": "markdown",
      "metadata": {
        "id": "Jy4u14As7kP2",
        "colab_type": "text"
      },
      "source": [
        "# Sparse AutoEncoder"
      ]
    },
    {
      "cell_type": "code",
      "metadata": {
        "id": "Oj9epuYO-3DB",
        "colab_type": "code",
        "colab": {
          "base_uri": "https://localhost:8080/",
          "height": 255
        },
        "outputId": "e7693772-0fe0-4641-8829-bf1de00598e1"
      },
      "source": [
        "# [1,0,0,0,1,0,0,1] ->> sum(abs(w))- a=f(wx+b) || sum(abs(a))=0 (should be) \n",
        "# image of digit \"0\" hidden layer [1,0,0,0,1,0,0,1] \n",
        "# image of digit \"1\" hidden layer [0,1,0,0,0,1,1,1] last not needed because identical\n",
        "# sparse \"0\" [1,0,0,0,0,0,0,1]\n",
        "# sparse \"1\" [0,1,0,0,0,0,1,0] none are identical\n",
        "\n",
        "# 784 inputs --- 1000\n",
        "# 784 inputs ----  50 sparsity that 50 out of 1000 can be active at each input\n",
        "\n",
        "from keras.layers import Input, Dense\n",
        "from keras.models import Model\n",
        "from keras.datasets import mnist\n",
        "from keras.regularizers import l1,l2\n",
        "from keras.callbacks import ModelCheckpoint, EarlyStopping, TensorBoard\n",
        "import numpy as np\n",
        "#kernel regularizer for weights \n",
        "penalty_weight=0.001\n",
        "#activity_regularizer for activations of output\n",
        "\n",
        "\n",
        "# this is the size of our encoded representations\n",
        "encoding_dim = 32  # 32 floats -> compression of factor 24.5, assuming the input is 784 floats\n",
        "\n",
        "# this is our input placeholder\n",
        "input_img = Input(shape=(784,))\n",
        "# \"encoded\" is the encoded representation of the input\n",
        "encoded = Dense(encoding_dim, activation='relu',activity_regularizer=l1(penalty_weight))(input_img)\n",
        "# \"decoded\" is the lossy reconstruction of the input\n",
        "decoded = Dense(784, activation='sigmoid')(encoded)\n",
        "\n",
        "\n",
        "# this model maps an input to its reconstruction\n",
        "autoencoder = Model(input_img, decoded)\n",
        "\n",
        "display(autoencoder.summary())\n",
        "\n",
        "encoder = Model(input_img, encoded)\n"
      ],
      "execution_count": 44,
      "outputs": [
        {
          "output_type": "stream",
          "text": [
            "_________________________________________________________________\n",
            "Layer (type)                 Output Shape              Param #   \n",
            "=================================================================\n",
            "input_16 (InputLayer)        (None, 784)               0         \n",
            "_________________________________________________________________\n",
            "dense_13 (Dense)             (None, 32)                25120     \n",
            "_________________________________________________________________\n",
            "dense_14 (Dense)             (None, 784)               25872     \n",
            "=================================================================\n",
            "Total params: 50,992\n",
            "Trainable params: 50,992\n",
            "Non-trainable params: 0\n",
            "_________________________________________________________________\n"
          ],
          "name": "stdout"
        },
        {
          "output_type": "display_data",
          "data": {
            "text/plain": [
              "None"
            ]
          },
          "metadata": {
            "tags": []
          }
        }
      ]
    },
    {
      "cell_type": "code",
      "metadata": {
        "id": "TXoys0cxC3jt",
        "colab_type": "code",
        "colab": {
          "base_uri": "https://localhost:8080/",
          "height": 1751
        },
        "outputId": "1fc64f89-7770-4730-ce6e-341b6a811c2b"
      },
      "source": [
        "# create a placeholder for an encoded (32-dimensional) input\n",
        "encoded_input = Input(shape=(encoding_dim,))\n",
        "# retrieve the last layer of the autoencoder model\n",
        "decoder_layer = autoencoder.layers[-1]\n",
        "# create the decoder model\n",
        "decoder = Model(encoded_input, decoder_layer(encoded_input))\n",
        "\n",
        "\n",
        "\n",
        "autoencoder.compile(optimizer='adadelta', loss='binary_crossentropy')\n",
        "\n",
        "(x_train, _), (x_test, _) = mnist.load_data()\n",
        "\n",
        "\n",
        "x_train = x_train.astype('float32') / 255.\n",
        "x_test = x_test.astype('float32') / 255.\n",
        "x_train = x_train.reshape((len(x_train), np.prod(x_train.shape[1:])))\n",
        "x_test = x_test.reshape((len(x_test), np.prod(x_test.shape[1:])))\n",
        "\n",
        "mc = ModelCheckpoint('autoencoder.h5',monitor='val_loss', verbose=0, save_best_only=False, mode='auto', period=1)\n",
        "es = EarlyStopping(monitor='val_loss', min_delta=0, patience=0, verbose=1, mode='auto', baseline=None, restore_best_weights=False)\n",
        "ks = TensorBoard(log_dir='./logs', histogram_freq=0, batch_size=32, write_graph=True, write_grads=True, write_images=True, embeddings_freq=0, embeddings_layer_names=None, embeddings_metadata=None, embeddings_data=None, update_freq='epoch')\n",
        "\n",
        "\n",
        "\n",
        "autoencoder.fit(x_train, x_train,\n",
        "                epochs=50,\n",
        "                batch_size=256,\n",
        "                shuffle=True,\n",
        "                validation_data=(x_test, x_test),callbacks=[mc,es,ks])\n"
      ],
      "execution_count": 45,
      "outputs": [
        {
          "output_type": "stream",
          "text": [
            "Train on 60000 samples, validate on 10000 samples\n",
            "Epoch 1/50\n",
            "60000/60000 [==============================] - 1s 20us/step - loss: 0.6892 - val_loss: 0.6485\n",
            "Epoch 2/50\n",
            "60000/60000 [==============================] - 1s 17us/step - loss: 0.6284 - val_loss: 0.6090\n",
            "Epoch 3/50\n",
            "60000/60000 [==============================] - 1s 17us/step - loss: 0.5916 - val_loss: 0.5749\n",
            "Epoch 4/50\n",
            "60000/60000 [==============================] - 1s 17us/step - loss: 0.5598 - val_loss: 0.5454\n",
            "Epoch 5/50\n",
            "60000/60000 [==============================] - 1s 17us/step - loss: 0.5323 - val_loss: 0.5198\n",
            "Epoch 6/50\n",
            "60000/60000 [==============================] - 1s 17us/step - loss: 0.5084 - val_loss: 0.4975\n",
            "Epoch 7/50\n",
            "60000/60000 [==============================] - 1s 17us/step - loss: 0.4875 - val_loss: 0.4780\n",
            "Epoch 8/50\n",
            "60000/60000 [==============================] - 1s 17us/step - loss: 0.4692 - val_loss: 0.4609\n",
            "Epoch 9/50\n",
            "60000/60000 [==============================] - 1s 17us/step - loss: 0.4531 - val_loss: 0.4458\n",
            "Epoch 10/50\n",
            "60000/60000 [==============================] - 1s 17us/step - loss: 0.4388 - val_loss: 0.4324\n",
            "Epoch 11/50\n",
            "60000/60000 [==============================] - 1s 17us/step - loss: 0.4262 - val_loss: 0.4205\n",
            "Epoch 12/50\n",
            "60000/60000 [==============================] - 1s 17us/step - loss: 0.4150 - val_loss: 0.4099\n",
            "Epoch 13/50\n",
            "60000/60000 [==============================] - 1s 17us/step - loss: 0.4049 - val_loss: 0.4003\n",
            "Epoch 14/50\n",
            "60000/60000 [==============================] - 1s 17us/step - loss: 0.3959 - val_loss: 0.3918\n",
            "Epoch 15/50\n",
            "60000/60000 [==============================] - 1s 17us/step - loss: 0.3877 - val_loss: 0.3841\n",
            "Epoch 16/50\n",
            "60000/60000 [==============================] - 1s 17us/step - loss: 0.3804 - val_loss: 0.3771\n",
            "Epoch 17/50\n",
            "60000/60000 [==============================] - 1s 17us/step - loss: 0.3737 - val_loss: 0.3707\n",
            "Epoch 18/50\n",
            "60000/60000 [==============================] - 1s 17us/step - loss: 0.3676 - val_loss: 0.3649\n",
            "Epoch 19/50\n",
            "60000/60000 [==============================] - 1s 17us/step - loss: 0.3621 - val_loss: 0.3597\n",
            "Epoch 20/50\n",
            "60000/60000 [==============================] - 1s 17us/step - loss: 0.3570 - val_loss: 0.3548\n",
            "Epoch 21/50\n",
            "60000/60000 [==============================] - 1s 17us/step - loss: 0.3524 - val_loss: 0.3504\n",
            "Epoch 22/50\n",
            "60000/60000 [==============================] - 1s 17us/step - loss: 0.3481 - val_loss: 0.3463\n",
            "Epoch 23/50\n",
            "60000/60000 [==============================] - 1s 17us/step - loss: 0.3442 - val_loss: 0.3425\n",
            "Epoch 24/50\n",
            "60000/60000 [==============================] - 1s 17us/step - loss: 0.3406 - val_loss: 0.3390\n",
            "Epoch 25/50\n",
            "60000/60000 [==============================] - 1s 17us/step - loss: 0.3372 - val_loss: 0.3358\n",
            "Epoch 26/50\n",
            "60000/60000 [==============================] - 1s 17us/step - loss: 0.3341 - val_loss: 0.3327\n",
            "Epoch 27/50\n",
            "60000/60000 [==============================] - 1s 17us/step - loss: 0.3312 - val_loss: 0.3299\n",
            "Epoch 28/50\n",
            "60000/60000 [==============================] - 1s 17us/step - loss: 0.3285 - val_loss: 0.3273\n",
            "Epoch 29/50\n",
            "60000/60000 [==============================] - 1s 17us/step - loss: 0.3259 - val_loss: 0.3249\n",
            "Epoch 30/50\n",
            "60000/60000 [==============================] - 1s 17us/step - loss: 0.3236 - val_loss: 0.3226\n",
            "Epoch 31/50\n",
            "60000/60000 [==============================] - 1s 17us/step - loss: 0.3213 - val_loss: 0.3204\n",
            "Epoch 32/50\n",
            "60000/60000 [==============================] - 1s 18us/step - loss: 0.3193 - val_loss: 0.3184\n",
            "Epoch 33/50\n",
            "60000/60000 [==============================] - 1s 17us/step - loss: 0.3173 - val_loss: 0.3165\n",
            "Epoch 34/50\n",
            "60000/60000 [==============================] - 1s 17us/step - loss: 0.3155 - val_loss: 0.3148\n",
            "Epoch 35/50\n",
            "60000/60000 [==============================] - 1s 17us/step - loss: 0.3138 - val_loss: 0.3131\n",
            "Epoch 36/50\n",
            "60000/60000 [==============================] - 1s 17us/step - loss: 0.3121 - val_loss: 0.3115\n",
            "Epoch 37/50\n",
            "60000/60000 [==============================] - 1s 17us/step - loss: 0.3106 - val_loss: 0.3100\n",
            "Epoch 38/50\n",
            "60000/60000 [==============================] - 1s 17us/step - loss: 0.3091 - val_loss: 0.3086\n",
            "Epoch 39/50\n",
            "60000/60000 [==============================] - 1s 17us/step - loss: 0.3077 - val_loss: 0.3072\n",
            "Epoch 40/50\n",
            "60000/60000 [==============================] - 1s 17us/step - loss: 0.3064 - val_loss: 0.3059\n",
            "Epoch 41/50\n",
            "60000/60000 [==============================] - 1s 18us/step - loss: 0.3052 - val_loss: 0.3047\n",
            "Epoch 42/50\n",
            "60000/60000 [==============================] - 1s 17us/step - loss: 0.3040 - val_loss: 0.3036\n",
            "Epoch 43/50\n",
            "60000/60000 [==============================] - 1s 17us/step - loss: 0.3029 - val_loss: 0.3025\n",
            "Epoch 44/50\n",
            "60000/60000 [==============================] - 1s 17us/step - loss: 0.3018 - val_loss: 0.3014\n",
            "Epoch 45/50\n",
            "60000/60000 [==============================] - 1s 17us/step - loss: 0.3008 - val_loss: 0.3004\n",
            "Epoch 46/50\n",
            "60000/60000 [==============================] - 1s 17us/step - loss: 0.2998 - val_loss: 0.2994\n",
            "Epoch 47/50\n",
            "60000/60000 [==============================] - 1s 17us/step - loss: 0.2989 - val_loss: 0.2985\n",
            "Epoch 48/50\n",
            "60000/60000 [==============================] - 1s 17us/step - loss: 0.2980 - val_loss: 0.2977\n",
            "Epoch 49/50\n",
            "60000/60000 [==============================] - 1s 17us/step - loss: 0.2971 - val_loss: 0.2968\n",
            "Epoch 50/50\n",
            "60000/60000 [==============================] - 1s 17us/step - loss: 0.2963 - val_loss: 0.2960\n"
          ],
          "name": "stdout"
        },
        {
          "output_type": "execute_result",
          "data": {
            "text/plain": [
              "<keras.callbacks.History at 0x7efbf3230198>"
            ]
          },
          "metadata": {
            "tags": []
          },
          "execution_count": 45
        }
      ]
    },
    {
      "cell_type": "code",
      "metadata": {
        "id": "6Tkkw_4oC72Q",
        "colab_type": "code",
        "colab": {
          "base_uri": "https://localhost:8080/",
          "height": 268
        },
        "outputId": "3fdb8481-1d5d-4a86-90b2-ac242a6053cc"
      },
      "source": [
        "\n",
        "# encode and decode some digits\n",
        "# note that we take them from the *test* set\n",
        "encoded_imgs = encoder.predict(x_test)\n",
        "decoded_imgs = decoder.predict(encoded_imgs)\n",
        "\n",
        "# use Matplotlib (don't ask)\n",
        "import matplotlib.pyplot as plt\n",
        "\n",
        "n = 10  # how many digits we will display\n",
        "plt.figure(figsize=(20, 4))\n",
        "for i in range(n):\n",
        "    # display original\n",
        "    ax = plt.subplot(3, n, i + 1)\n",
        "    plt.imshow(x_test[i].reshape(28, 28))\n",
        "    plt.gray()\n",
        "    ax.get_xaxis().set_visible(False)\n",
        "    ax.get_yaxis().set_visible(False)\n",
        "    \n",
        "    ax = plt.subplot(3, n, i + 1 +n)\n",
        "    plt.imshow(encoded_imgs[i].reshape(4, 8))\n",
        "    plt.gray()\n",
        "    ax.get_xaxis().set_visible(False)\n",
        "    ax.get_yaxis().set_visible(False)\n",
        "    \n",
        "\n",
        "    # display reconstruction\n",
        "    ax = plt.subplot(3, n, i + 1 + n+n)\n",
        "    plt.imshow(decoded_imgs[i].reshape(28, 28))\n",
        "    plt.gray()\n",
        "    ax.get_xaxis().set_visible(False)\n",
        "    ax.get_yaxis().set_visible(False)\n",
        "plt.show()"
      ],
      "execution_count": 46,
      "outputs": [
        {
          "output_type": "display_data",
          "data": {
            "image/png": "[encoded data removed]",
            "text/plain": [
              "<Figure size 1440x288 with 30 Axes>"
            ]
          },
          "metadata": {
            "tags": []
          }
        }
      ]
    },
    {
      "cell_type": "code",
      "metadata": {
        "id": "hLPk6UAtGHRh",
        "colab_type": "code",
        "colab": {
          "base_uri": "https://localhost:8080/",
          "height": 238
        },
        "outputId": "361b719a-aa40-4a39-c108-a6a4abf39c45"
      },
      "source": [
        "!wget https://bin.equinox.io/c/4VmDzA7iaHb/ngrok-stable-linux-amd64.zip\n",
        "!unzip ngrok-stable-linux-amd64.zip"
      ],
      "execution_count": 35,
      "outputs": [
        {
          "output_type": "stream",
          "text": [
            "--2019-06-07 13:23:17--  https://bin.equinox.io/c/4VmDzA7iaHb/ngrok-stable-linux-amd64.zip\n",
            "Resolving bin.equinox.io (bin.equinox.io)... 34.199.255.1, 52.21.103.149, 52.54.84.112, ...\n",
            "Connecting to bin.equinox.io (bin.equinox.io)|34.199.255.1|:443... connected.\n",
            "HTTP request sent, awaiting response... 200 OK\n",
            "Length: 16648024 (16M) [application/octet-stream]\n",
            "Saving to: ‘ngrok-stable-linux-amd64.zip’\n",
            "\n",
            "ngrok-stable-linux- 100%[===================>]  15.88M  43.3MB/s    in 0.4s    \n",
            "\n",
            "2019-06-07 13:23:18 (43.3 MB/s) - ‘ngrok-stable-linux-amd64.zip’ saved [16648024/16648024]\n",
            "\n",
            "Archive:  ngrok-stable-linux-amd64.zip\n",
            "  inflating: ngrok                   \n"
          ],
          "name": "stdout"
        }
      ]
    },
    {
      "cell_type": "code",
      "metadata": {
        "id": "roEPxag6G8Tz",
        "colab_type": "code",
        "colab": {}
      },
      "source": [
        "LOG_DIR = './logs'\n",
        "get_ipython().system_raw(\n",
        "    'tensorboard --logdir {} --host 0.0.0.0 --port 6006 &'\n",
        "    .format(LOG_DIR)\n",
        ")"
      ],
      "execution_count": 0,
      "outputs": []
    },
    {
      "cell_type": "code",
      "metadata": {
        "id": "p8AE8M9MHAY0",
        "colab_type": "code",
        "colab": {}
      },
      "source": [
        "get_ipython().system_raw('./ngrok http 6006 &')"
      ],
      "execution_count": 0,
      "outputs": []
    },
    {
      "cell_type": "code",
      "metadata": {
        "id": "yO2sUjq-HHT1",
        "colab_type": "code",
        "colab": {
          "base_uri": "https://localhost:8080/",
          "height": 34
        },
        "outputId": "1728676b-d010-426f-836a-bbe1ea9a04d0"
      },
      "source": [
        "! curl -s http://localhost:4040/api/tunnels | python3 -c \\\n",
        "    \"import sys, json; print(json.load(sys.stdin)['tunnels'][0]['public_url'])\""
      ],
      "execution_count": 40,
      "outputs": [
        {
          "output_type": "stream",
          "text": [
            "https://20c9df85.ngrok.io\n"
          ],
          "name": "stdout"
        }
      ]
    },
    {
      "cell_type": "markdown",
      "metadata": {
        "id": "hOSYjBeJ7yDF",
        "colab_type": "text"
      },
      "source": [
        "# Deep Autoencoder"
      ]
    },
    {
      "cell_type": "markdown",
      "metadata": {
        "id": "l-0kg7uJ77pj",
        "colab_type": "text"
      },
      "source": [
        "# Convolutional Autoencoder"
      ]
    },
    {
      "cell_type": "code",
      "metadata": {
        "id": "kjfRn8Ol74i2",
        "colab_type": "code",
        "outputId": "3e40d2c9-37d8-43af-830d-829fe1b64d6d",
        "colab": {
          "base_uri": "https://localhost:8080/",
          "height": 612
        }
      },
      "source": [
        "from keras.layers import Input, Dense, Conv2D, MaxPooling2D, UpSampling2D\n",
        "from keras.models import Model\n",
        "from keras import backend as K\n",
        "\n",
        "input_img = Input(shape=(28, 28, 1))  # adapt this if using `channels_first` image data format\n",
        "\n",
        "x = Conv2D(16, (3, 3), activation='relu', padding='same')(input_img)\n",
        "x = MaxPooling2D((2, 2), padding='same')(x)\n",
        "x = Conv2D(8, (3, 3), activation='relu', padding='same')(x)\n",
        "x = MaxPooling2D((2, 2), padding='same')(x)\n",
        "x = Conv2D(8, (3, 3), activation='relu', padding='same')(x)\n",
        "encoded = MaxPooling2D((2, 2), padding='same')(x)\n",
        "\n",
        "# at this point the representation is (4, 4, 8) i.e. 128-dimensional\n",
        "# [1,2,3] -> [1,1.5,2,2.5,3] -- upsampling from 3 to 5\n",
        "x = Conv2D(8, (3, 3), activation='relu', padding='same')(encoded)\n",
        "x = UpSampling2D((2, 2))(x)\n",
        "x = Conv2D(8, (3, 3), activation='relu', padding='same')(x)\n",
        "x = UpSampling2D((2, 2))(x)\n",
        "x = Conv2D(16, (3, 3), activation='relu')(x)\n",
        "x = UpSampling2D((2, 2))(x)\n",
        "decoded = Conv2D(1, (3, 3), activation='sigmoid', padding='same')(x)\n",
        "\n",
        "autoencoder = Model(input_img, decoded)\n",
        "autoencoder.summary()\n",
        "autoencoder.compile(optimizer='adadelta', loss='binary_crossentropy')"
      ],
      "execution_count": 47,
      "outputs": [
        {
          "output_type": "stream",
          "text": [
            "_________________________________________________________________\n",
            "Layer (type)                 Output Shape              Param #   \n",
            "=================================================================\n",
            "input_18 (InputLayer)        (None, 28, 28, 1)         0         \n",
            "_________________________________________________________________\n",
            "conv2d_1 (Conv2D)            (None, 28, 28, 16)        160       \n",
            "_________________________________________________________________\n",
            "max_pooling2d_1 (MaxPooling2 (None, 14, 14, 16)        0         \n",
            "_________________________________________________________________\n",
            "conv2d_2 (Conv2D)            (None, 14, 14, 8)         1160      \n",
            "_________________________________________________________________\n",
            "max_pooling2d_2 (MaxPooling2 (None, 7, 7, 8)           0         \n",
            "_________________________________________________________________\n",
            "conv2d_3 (Conv2D)            (None, 7, 7, 8)           584       \n",
            "_________________________________________________________________\n",
            "max_pooling2d_3 (MaxPooling2 (None, 4, 4, 8)           0         \n",
            "_________________________________________________________________\n",
            "conv2d_4 (Conv2D)            (None, 4, 4, 8)           584       \n",
            "_________________________________________________________________\n",
            "up_sampling2d_1 (UpSampling2 (None, 8, 8, 8)           0         \n",
            "_________________________________________________________________\n",
            "conv2d_5 (Conv2D)            (None, 8, 8, 8)           584       \n",
            "_________________________________________________________________\n",
            "up_sampling2d_2 (UpSampling2 (None, 16, 16, 8)         0         \n",
            "_________________________________________________________________\n",
            "conv2d_6 (Conv2D)            (None, 14, 14, 16)        1168      \n",
            "_________________________________________________________________\n",
            "up_sampling2d_3 (UpSampling2 (None, 28, 28, 16)        0         \n",
            "_________________________________________________________________\n",
            "conv2d_7 (Conv2D)            (None, 28, 28, 1)         145       \n",
            "=================================================================\n",
            "Total params: 4,385\n",
            "Trainable params: 4,385\n",
            "Non-trainable params: 0\n",
            "_________________________________________________________________\n"
          ],
          "name": "stdout"
        }
      ]
    },
    {
      "cell_type": "code",
      "metadata": {
        "id": "PNJMc-O97jsJ",
        "colab_type": "code",
        "outputId": "d9e625e5-c41f-4525-d1e7-e17ad60c9900",
        "colab": {
          "base_uri": "https://localhost:8080/",
          "height": 1751
        }
      },
      "source": [
        "from keras.datasets import mnist\n",
        "import numpy as np\n",
        "\n",
        "(x_train, _), (x_test, _) = mnist.load_data()\n",
        "\n",
        "x_train = x_train.astype('float32') / 255.\n",
        "x_test = x_test.astype('float32') / 255.\n",
        "x_train = np.reshape(x_train, (len(x_train), 28, 28, 1))  # adapt this if using `channels_first` image data format\n",
        "x_test = np.reshape(x_test, (len(x_test), 28, 28, 1))  \n",
        "\n",
        "\n",
        "\n",
        "autoencoder.fit(x_train, x_train,\n",
        "                epochs=50,\n",
        "                batch_size=128,\n",
        "                shuffle=True,\n",
        "                validation_data=(x_test, x_test))"
      ],
      "execution_count": 48,
      "outputs": [
        {
          "output_type": "stream",
          "text": [
            "Train on 60000 samples, validate on 10000 samples\n",
            "Epoch 1/50\n",
            "60000/60000 [==============================] - 7s 114us/step - loss: 0.2111 - val_loss: 0.1647\n",
            "Epoch 2/50\n",
            "60000/60000 [==============================] - 3s 55us/step - loss: 0.1558 - val_loss: 0.1459\n",
            "Epoch 3/50\n",
            "60000/60000 [==============================] - 3s 55us/step - loss: 0.1406 - val_loss: 0.1322\n",
            "Epoch 4/50\n",
            "60000/60000 [==============================] - 3s 55us/step - loss: 0.1326 - val_loss: 0.1319\n",
            "Epoch 5/50\n",
            "60000/60000 [==============================] - 3s 55us/step - loss: 0.1280 - val_loss: 0.1256\n",
            "Epoch 6/50\n",
            "60000/60000 [==============================] - 3s 55us/step - loss: 0.1248 - val_loss: 0.1247\n",
            "Epoch 7/50\n",
            "60000/60000 [==============================] - 3s 56us/step - loss: 0.1225 - val_loss: 0.1209\n",
            "Epoch 8/50\n",
            "60000/60000 [==============================] - 3s 56us/step - loss: 0.1203 - val_loss: 0.1184\n",
            "Epoch 9/50\n",
            "60000/60000 [==============================] - 3s 56us/step - loss: 0.1185 - val_loss: 0.1169\n",
            "Epoch 10/50\n",
            "60000/60000 [==============================] - 3s 55us/step - loss: 0.1169 - val_loss: 0.1123\n",
            "Epoch 11/50\n",
            "60000/60000 [==============================] - 3s 55us/step - loss: 0.1157 - val_loss: 0.1153\n",
            "Epoch 12/50\n",
            "60000/60000 [==============================] - 3s 55us/step - loss: 0.1145 - val_loss: 0.1142\n",
            "Epoch 13/50\n",
            "60000/60000 [==============================] - 3s 55us/step - loss: 0.1136 - val_loss: 0.1133\n",
            "Epoch 14/50\n",
            "60000/60000 [==============================] - 3s 55us/step - loss: 0.1127 - val_loss: 0.1134\n",
            "Epoch 15/50\n",
            "60000/60000 [==============================] - 3s 55us/step - loss: 0.1118 - val_loss: 0.1085\n",
            "Epoch 16/50\n",
            "60000/60000 [==============================] - 3s 54us/step - loss: 0.1111 - val_loss: 0.1093\n",
            "Epoch 17/50\n",
            "60000/60000 [==============================] - 3s 55us/step - loss: 0.1104 - val_loss: 0.1081\n",
            "Epoch 18/50\n",
            "60000/60000 [==============================] - 3s 55us/step - loss: 0.1096 - val_loss: 0.1069\n",
            "Epoch 19/50\n",
            "60000/60000 [==============================] - 3s 55us/step - loss: 0.1089 - val_loss: 0.1077\n",
            "Epoch 20/50\n",
            "60000/60000 [==============================] - 3s 55us/step - loss: 0.1085 - val_loss: 0.1081\n",
            "Epoch 21/50\n",
            "60000/60000 [==============================] - 3s 55us/step - loss: 0.1082 - val_loss: 0.1070\n",
            "Epoch 22/50\n",
            "60000/60000 [==============================] - 3s 55us/step - loss: 0.1077 - val_loss: 0.1068\n",
            "Epoch 23/50\n",
            "60000/60000 [==============================] - 3s 55us/step - loss: 0.1073 - val_loss: 0.1063\n",
            "Epoch 24/50\n",
            "60000/60000 [==============================] - 3s 55us/step - loss: 0.1069 - val_loss: 0.1049\n",
            "Epoch 25/50\n",
            "60000/60000 [==============================] - 3s 55us/step - loss: 0.1063 - val_loss: 0.1076\n",
            "Epoch 26/50\n",
            "60000/60000 [==============================] - 3s 55us/step - loss: 0.1060 - val_loss: 0.1047\n",
            "Epoch 27/50\n",
            "60000/60000 [==============================] - 3s 56us/step - loss: 0.1055 - val_loss: 0.1018\n",
            "Epoch 28/50\n",
            "60000/60000 [==============================] - 3s 55us/step - loss: 0.1052 - val_loss: 0.1065\n",
            "Epoch 29/50\n",
            "60000/60000 [==============================] - 3s 55us/step - loss: 0.1049 - val_loss: 0.1032\n",
            "Epoch 30/50\n",
            "60000/60000 [==============================] - 3s 55us/step - loss: 0.1044 - val_loss: 0.1043\n",
            "Epoch 31/50\n",
            "60000/60000 [==============================] - 3s 55us/step - loss: 0.1044 - val_loss: 0.1044\n",
            "Epoch 32/50\n",
            "60000/60000 [==============================] - 3s 56us/step - loss: 0.1041 - val_loss: 0.1034\n",
            "Epoch 33/50\n",
            "60000/60000 [==============================] - 3s 56us/step - loss: 0.1039 - val_loss: 0.1048\n",
            "Epoch 34/50\n",
            "60000/60000 [==============================] - 3s 55us/step - loss: 0.1035 - val_loss: 0.1049\n",
            "Epoch 35/50\n",
            "60000/60000 [==============================] - 3s 55us/step - loss: 0.1032 - val_loss: 0.1053\n",
            "Epoch 36/50\n",
            "60000/60000 [==============================] - 3s 57us/step - loss: 0.1029 - val_loss: 0.1018\n",
            "Epoch 37/50\n",
            "60000/60000 [==============================] - 3s 56us/step - loss: 0.1027 - val_loss: 0.1026\n",
            "Epoch 38/50\n",
            "60000/60000 [==============================] - 3s 55us/step - loss: 0.1027 - val_loss: 0.1036\n",
            "Epoch 39/50\n",
            "60000/60000 [==============================] - 3s 57us/step - loss: 0.1026 - val_loss: 0.1015\n",
            "Epoch 40/50\n",
            "60000/60000 [==============================] - 3s 57us/step - loss: 0.1023 - val_loss: 0.1007\n",
            "Epoch 41/50\n",
            "60000/60000 [==============================] - 3s 57us/step - loss: 0.1021 - val_loss: 0.0986\n",
            "Epoch 42/50\n",
            "60000/60000 [==============================] - 3s 55us/step - loss: 0.1017 - val_loss: 0.1012\n",
            "Epoch 43/50\n",
            "60000/60000 [==============================] - 3s 54us/step - loss: 0.1017 - val_loss: 0.0997\n",
            "Epoch 44/50\n",
            "60000/60000 [==============================] - 3s 54us/step - loss: 0.1016 - val_loss: 0.0991\n",
            "Epoch 45/50\n",
            "60000/60000 [==============================] - 3s 55us/step - loss: 0.1012 - val_loss: 0.0995\n",
            "Epoch 46/50\n",
            "60000/60000 [==============================] - 3s 55us/step - loss: 0.1010 - val_loss: 0.1018\n",
            "Epoch 47/50\n",
            "60000/60000 [==============================] - 3s 54us/step - loss: 0.1007 - val_loss: 0.0983\n",
            "Epoch 48/50\n",
            "60000/60000 [==============================] - 3s 55us/step - loss: 0.1007 - val_loss: 0.0999\n",
            "Epoch 49/50\n",
            "60000/60000 [==============================] - 3s 54us/step - loss: 0.1005 - val_loss: 0.0979\n",
            "Epoch 50/50\n",
            "60000/60000 [==============================] - 3s 54us/step - loss: 0.1004 - val_loss: 0.0992\n"
          ],
          "name": "stdout"
        },
        {
          "output_type": "execute_result",
          "data": {
            "text/plain": [
              "<keras.callbacks.History at 0x7efbe33690f0>"
            ]
          },
          "metadata": {
            "tags": []
          },
          "execution_count": 48
        }
      ]
    },
    {
      "cell_type": "code",
      "metadata": {
        "id": "mkT4mSaY-FKa",
        "colab_type": "code",
        "outputId": "02e66850-6da5-43bd-87fd-a618f4e30434",
        "colab": {
          "base_uri": "https://localhost:8080/",
          "height": 243
        }
      },
      "source": [
        "decoded_imgs = autoencoder.predict(x_test)\n",
        "\n",
        "n = 10\n",
        "plt.figure(figsize=(20, 4))\n",
        "for i in range(n):\n",
        "    # display original\n",
        "    ax = plt.subplot(3, n, i+1)\n",
        "    plt.imshow(x_test[i].reshape(28, 28))\n",
        "    plt.gray()\n",
        "    ax.get_xaxis().set_visible(False)\n",
        "    ax.get_yaxis().set_visible(False)\n",
        "    \n",
        "    ax = plt.subplot(3, n, i + 1 +n)\n",
        "    plt.imshow(encoded_imgs[i].reshape(4, 8))\n",
        "    plt.gray()\n",
        "    ax.get_xaxis().set_visible(False)\n",
        "    ax.get_yaxis().set_visible(False)\n",
        "\n",
        "    # display reconstruction\n",
        "    ax = plt.subplot(3, n, i + 1+ n)\n",
        "    plt.imshow(decoded_imgs[i].reshape(28, 28))\n",
        "    plt.gray()\n",
        "    ax.get_xaxis().set_visible(False)\n",
        "    ax.get_yaxis().set_visible(False)\n",
        "plt.show()"
      ],
      "execution_count": 51,
      "outputs": [
        {
          "output_type": "stream",
          "text": [
            "/usr/local/lib/python3.6/dist-packages/matplotlib/figure.py:98: MatplotlibDeprecationWarning: \n",
            "Adding an axes using the same arguments as a previous axes currently reuses the earlier instance.  In a future version, a new instance will always be created and returned.  Meanwhile, this warning can be suppressed, and the future behavior ensured, by passing a unique label to each axes instance.\n",
            "  \"Adding an axes using the same arguments as a previous axes \"\n"
          ],
          "name": "stderr"
        },
        {
          "output_type": "display_data",
          "data": {
            "image/png": "[encoded data removed]",
            "text/plain": [
              "<Figure size 1440x288 with 20 Axes>"
            ]
          },
          "metadata": {
            "tags": []
          }
        }
      ]
    },
    {
      "cell_type": "markdown",
      "metadata": {
        "id": "S4P_ZXrk-N6G",
        "colab_type": "text"
      },
      "source": [
        "# Application to image denoising\n",
        "\n"
      ]
    },
    {
      "cell_type": "code",
      "metadata": {
        "id": "1ZEyeioT-O_G",
        "colab_type": "code",
        "colab": {}
      },
      "source": [
        "from keras.datasets import mnist\n",
        "import numpy as np\n",
        "\n",
        "(x_train, _), (x_test, _) = mnist.load_data()\n",
        "\n",
        "x_train = x_train.astype('float32') / 255.\n",
        "x_test = x_test.astype('float32') / 255.\n",
        "x_train = np.reshape(x_train, (len(x_train), 28, 28, 1))  # adapt this if using `channels_first` image data format\n",
        "x_test = np.reshape(x_test, (len(x_test), 28, 28, 1))  # adapt this if using `channels_first` image data format\n",
        "\n",
        "noise_factor = 0.5\n",
        "x_train_noisy = x_train + noise_factor * np.random.normal(loc=0.0, scale=1.0, size=x_train.shape) \n",
        "x_test_noisy = x_test + noise_factor * np.random.normal(loc=0.0, scale=1.0, size=x_test.shape) \n",
        "\n",
        "x_train_noisy = np.clip(x_train_noisy, 0., 1.)\n",
        "x_test_noisy = np.clip(x_test_noisy, 0., 1.)"
      ],
      "execution_count": 0,
      "outputs": []
    },
    {
      "cell_type": "code",
      "metadata": {
        "id": "6E5xONIw-TI0",
        "colab_type": "code",
        "outputId": "b6b70037-4fd0-420a-af6b-8533c4160e76",
        "colab": {
          "base_uri": "https://localhost:8080/",
          "height": 145
        }
      },
      "source": [
        "n = 10\n",
        "plt.figure(figsize=(20, 2))\n",
        "for i in range(n):\n",
        "    ax = plt.subplot(1, n, i+1)\n",
        "    plt.imshow(x_test_noisy[i].reshape(28, 28))\n",
        "    plt.gray()\n",
        "    ax.get_xaxis().set_visible(False)\n",
        "    ax.get_yaxis().set_visible(False)\n",
        "plt.show()"
      ],
      "execution_count": 53,
      "outputs": [
        {
          "output_type": "display_data",
          "data": {
            "image/png": "[encoded data removed]",
            "text/plain": [
              "<Figure size 1440x144 with 10 Axes>"
            ]
          },
          "metadata": {
            "tags": []
          }
        }
      ]
    },
    {
      "cell_type": "code",
      "metadata": {
        "id": "bwfC1SHG-VkY",
        "colab_type": "code",
        "colab": {}
      },
      "source": [
        "input_img = Input(shape=(28, 28, 1))  # adapt this if using `channels_first` image data format\n",
        "\n",
        "x = Conv2D(32, (3, 3), activation='relu', padding='same')(input_img)\n",
        "x = MaxPooling2D((2, 2), padding='same')(x)\n",
        "x = Conv2D(32, (3, 3), activation='relu', padding='same')(x)\n",
        "encoded = MaxPooling2D((2, 2), padding='same')(x)\n",
        "\n",
        "# at this point the representation is (7, 7, 32)\n",
        "\n",
        "x = Conv2D(32, (3, 3), activation='relu', padding='same')(encoded)\n",
        "x = UpSampling2D((2, 2))(x)\n",
        "x = Conv2D(32, (3, 3), activation='relu', padding='same')(x)\n",
        "x = UpSampling2D((2, 2))(x)\n",
        "decoded = Conv2D(1, (3, 3), activation='sigmoid', padding='same')(x)\n",
        "\n",
        "autoencoder = Model(input_img, decoded)\n",
        "autoencoder.compile(optimizer='adadelta', loss='binary_crossentropy')"
      ],
      "execution_count": 0,
      "outputs": []
    },
    {
      "cell_type": "code",
      "metadata": {
        "id": "ArMSnM_c-X3t",
        "colab_type": "code",
        "outputId": "5da529c3-3912-4a1b-c7c0-dc69a523ff88",
        "colab": {
          "base_uri": "https://localhost:8080/",
          "height": 3451
        }
      },
      "source": [
        "autoencoder.fit(x_train_noisy, x_train,\n",
        "                epochs=100,\n",
        "                batch_size=128,\n",
        "                shuffle=True,\n",
        "                validation_data=(x_test_noisy, x_test))"
      ],
      "execution_count": 55,
      "outputs": [
        {
          "output_type": "stream",
          "text": [
            "Train on 60000 samples, validate on 10000 samples\n",
            "Epoch 1/100\n",
            "60000/60000 [==============================] - 4s 73us/step - loss: 0.1802 - val_loss: 0.1220\n",
            "Epoch 2/100\n",
            "60000/60000 [==============================] - 4s 60us/step - loss: 0.1183 - val_loss: 0.1113\n",
            "Epoch 3/100\n",
            "60000/60000 [==============================] - 4s 60us/step - loss: 0.1113 - val_loss: 0.1054\n",
            "Epoch 4/100\n",
            "60000/60000 [==============================] - 4s 61us/step - loss: 0.1076 - val_loss: 0.1071\n",
            "Epoch 5/100\n",
            "60000/60000 [==============================] - 4s 60us/step - loss: 0.1054 - val_loss: 0.1069\n",
            "Epoch 6/100\n",
            "60000/60000 [==============================] - 4s 61us/step - loss: 0.1040 - val_loss: 0.1046\n",
            "Epoch 7/100\n",
            "60000/60000 [==============================] - 4s 62us/step - loss: 0.1029 - val_loss: 0.1006\n",
            "Epoch 8/100\n",
            "60000/60000 [==============================] - 4s 61us/step - loss: 0.1021 - val_loss: 0.1002\n",
            "Epoch 9/100\n",
            "60000/60000 [==============================] - 4s 61us/step - loss: 0.1014 - val_loss: 0.0996\n",
            "Epoch 10/100\n",
            "60000/60000 [==============================] - 4s 60us/step - loss: 0.1009 - val_loss: 0.0994\n",
            "Epoch 11/100\n",
            "60000/60000 [==============================] - 4s 61us/step - loss: 0.1005 - val_loss: 0.1001\n",
            "Epoch 12/100\n",
            "60000/60000 [==============================] - 4s 61us/step - loss: 0.0998 - val_loss: 0.0987\n",
            "Epoch 13/100\n",
            "60000/60000 [==============================] - 4s 61us/step - loss: 0.0997 - val_loss: 0.0984\n",
            "Epoch 14/100\n",
            "60000/60000 [==============================] - 4s 61us/step - loss: 0.0993 - val_loss: 0.0982\n",
            "Epoch 15/100\n",
            "60000/60000 [==============================] - 4s 61us/step - loss: 0.0990 - val_loss: 0.0977\n",
            "Epoch 16/100\n",
            "60000/60000 [==============================] - 4s 61us/step - loss: 0.0989 - val_loss: 0.0976\n",
            "Epoch 17/100\n",
            "60000/60000 [==============================] - 4s 60us/step - loss: 0.0984 - val_loss: 0.0988\n",
            "Epoch 18/100\n",
            "60000/60000 [==============================] - 4s 61us/step - loss: 0.0983 - val_loss: 0.0970\n",
            "Epoch 19/100\n",
            "60000/60000 [==============================] - 4s 61us/step - loss: 0.0981 - val_loss: 0.0968\n",
            "Epoch 20/100\n",
            "60000/60000 [==============================] - 4s 60us/step - loss: 0.0978 - val_loss: 0.0972\n",
            "Epoch 21/100\n",
            "60000/60000 [==============================] - 4s 61us/step - loss: 0.0977 - val_loss: 0.0965\n",
            "Epoch 22/100\n",
            "60000/60000 [==============================] - 4s 60us/step - loss: 0.0976 - val_loss: 0.0972\n",
            "Epoch 23/100\n",
            "60000/60000 [==============================] - 4s 61us/step - loss: 0.0975 - val_loss: 0.0962\n",
            "Epoch 24/100\n",
            "60000/60000 [==============================] - 4s 60us/step - loss: 0.0972 - val_loss: 0.0965\n",
            "Epoch 25/100\n",
            "60000/60000 [==============================] - 4s 61us/step - loss: 0.0972 - val_loss: 0.0959\n",
            "Epoch 26/100\n",
            "60000/60000 [==============================] - 4s 60us/step - loss: 0.0971 - val_loss: 0.0960\n",
            "Epoch 27/100\n",
            "60000/60000 [==============================] - 4s 61us/step - loss: 0.0969 - val_loss: 0.0959\n",
            "Epoch 28/100\n",
            "60000/60000 [==============================] - 4s 62us/step - loss: 0.0968 - val_loss: 0.0962\n",
            "Epoch 29/100\n",
            "60000/60000 [==============================] - 4s 62us/step - loss: 0.0967 - val_loss: 0.0957\n",
            "Epoch 30/100\n",
            "60000/60000 [==============================] - 4s 61us/step - loss: 0.0967 - val_loss: 0.0962\n",
            "Epoch 31/100\n",
            "60000/60000 [==============================] - 4s 61us/step - loss: 0.0965 - val_loss: 0.0956\n",
            "Epoch 32/100\n",
            "60000/60000 [==============================] - 4s 62us/step - loss: 0.0964 - val_loss: 0.0955\n",
            "Epoch 33/100\n",
            "60000/60000 [==============================] - 4s 62us/step - loss: 0.0964 - val_loss: 0.0957\n",
            "Epoch 34/100\n",
            "60000/60000 [==============================] - 4s 62us/step - loss: 0.0962 - val_loss: 0.0959\n",
            "Epoch 35/100\n",
            "60000/60000 [==============================] - 4s 61us/step - loss: 0.0962 - val_loss: 0.0955\n",
            "Epoch 36/100\n",
            "60000/60000 [==============================] - 4s 61us/step - loss: 0.0961 - val_loss: 0.0956\n",
            "Epoch 37/100\n",
            "60000/60000 [==============================] - 4s 61us/step - loss: 0.0960 - val_loss: 0.0953\n",
            "Epoch 38/100\n",
            "60000/60000 [==============================] - 4s 61us/step - loss: 0.0959 - val_loss: 0.0963\n",
            "Epoch 39/100\n",
            "60000/60000 [==============================] - 4s 61us/step - loss: 0.0959 - val_loss: 0.0953\n",
            "Epoch 40/100\n",
            "60000/60000 [==============================] - 4s 61us/step - loss: 0.0959 - val_loss: 0.0959\n",
            "Epoch 41/100\n",
            "60000/60000 [==============================] - 4s 61us/step - loss: 0.0958 - val_loss: 0.0969\n",
            "Epoch 42/100\n",
            "60000/60000 [==============================] - 4s 61us/step - loss: 0.0957 - val_loss: 0.0952\n",
            "Epoch 43/100\n",
            "60000/60000 [==============================] - 4s 61us/step - loss: 0.0956 - val_loss: 0.0952\n",
            "Epoch 44/100\n",
            "60000/60000 [==============================] - 4s 60us/step - loss: 0.0956 - val_loss: 0.0948\n",
            "Epoch 45/100\n",
            "60000/60000 [==============================] - 4s 60us/step - loss: 0.0956 - val_loss: 0.0950\n",
            "Epoch 46/100\n",
            "60000/60000 [==============================] - 4s 61us/step - loss: 0.0955 - val_loss: 0.0947\n",
            "Epoch 47/100\n",
            "60000/60000 [==============================] - 4s 60us/step - loss: 0.0953 - val_loss: 0.0956\n",
            "Epoch 48/100\n",
            "60000/60000 [==============================] - 4s 60us/step - loss: 0.0955 - val_loss: 0.0954\n",
            "Epoch 49/100\n",
            "60000/60000 [==============================] - 4s 60us/step - loss: 0.0954 - val_loss: 0.0952\n",
            "Epoch 50/100\n",
            "60000/60000 [==============================] - 4s 60us/step - loss: 0.0953 - val_loss: 0.0950\n",
            "Epoch 51/100\n",
            "60000/60000 [==============================] - 4s 61us/step - loss: 0.0953 - val_loss: 0.0954\n",
            "Epoch 52/100\n",
            "60000/60000 [==============================] - 4s 61us/step - loss: 0.0952 - val_loss: 0.0958\n",
            "Epoch 53/100\n",
            "60000/60000 [==============================] - 4s 60us/step - loss: 0.0952 - val_loss: 0.0945\n",
            "Epoch 54/100\n",
            "60000/60000 [==============================] - 4s 61us/step - loss: 0.0951 - val_loss: 0.0948\n",
            "Epoch 55/100\n",
            "60000/60000 [==============================] - 4s 61us/step - loss: 0.0952 - val_loss: 0.0959\n",
            "Epoch 56/100\n",
            "60000/60000 [==============================] - 4s 60us/step - loss: 0.0952 - val_loss: 0.0948\n",
            "Epoch 57/100\n",
            "60000/60000 [==============================] - 4s 60us/step - loss: 0.0951 - val_loss: 0.0951\n",
            "Epoch 58/100\n",
            "60000/60000 [==============================] - 4s 60us/step - loss: 0.0951 - val_loss: 0.0943\n",
            "Epoch 59/100\n",
            "60000/60000 [==============================] - 4s 60us/step - loss: 0.0950 - val_loss: 0.0945\n",
            "Epoch 60/100\n",
            "60000/60000 [==============================] - 4s 60us/step - loss: 0.0950 - val_loss: 0.0943\n",
            "Epoch 61/100\n",
            "60000/60000 [==============================] - 4s 60us/step - loss: 0.0948 - val_loss: 0.0942\n",
            "Epoch 62/100\n",
            "60000/60000 [==============================] - 4s 60us/step - loss: 0.0949 - val_loss: 0.0951\n",
            "Epoch 63/100\n",
            "60000/60000 [==============================] - 4s 61us/step - loss: 0.0949 - val_loss: 0.0944\n",
            "Epoch 64/100\n",
            "60000/60000 [==============================] - 4s 60us/step - loss: 0.0948 - val_loss: 0.0946\n",
            "Epoch 65/100\n",
            "60000/60000 [==============================] - 4s 60us/step - loss: 0.0948 - val_loss: 0.0941\n",
            "Epoch 66/100\n",
            "60000/60000 [==============================] - 4s 61us/step - loss: 0.0948 - val_loss: 0.0942\n",
            "Epoch 67/100\n",
            "60000/60000 [==============================] - 4s 60us/step - loss: 0.0948 - val_loss: 0.0941\n",
            "Epoch 68/100\n",
            "60000/60000 [==============================] - 4s 60us/step - loss: 0.0947 - val_loss: 0.0948\n",
            "Epoch 69/100\n",
            "60000/60000 [==============================] - 4s 60us/step - loss: 0.0947 - val_loss: 0.0942\n",
            "Epoch 70/100\n",
            "60000/60000 [==============================] - 4s 60us/step - loss: 0.0947 - val_loss: 0.0941\n",
            "Epoch 71/100\n",
            "60000/60000 [==============================] - 4s 60us/step - loss: 0.0946 - val_loss: 0.0944\n",
            "Epoch 72/100\n",
            "60000/60000 [==============================] - 4s 61us/step - loss: 0.0946 - val_loss: 0.0942\n",
            "Epoch 73/100\n",
            "60000/60000 [==============================] - 4s 60us/step - loss: 0.0945 - val_loss: 0.0940\n",
            "Epoch 74/100\n",
            "60000/60000 [==============================] - 4s 61us/step - loss: 0.0945 - val_loss: 0.0940\n",
            "Epoch 75/100\n",
            "60000/60000 [==============================] - 4s 61us/step - loss: 0.0945 - val_loss: 0.0944\n",
            "Epoch 76/100\n",
            "60000/60000 [==============================] - 4s 60us/step - loss: 0.0945 - val_loss: 0.0940\n",
            "Epoch 77/100\n",
            "60000/60000 [==============================] - 4s 60us/step - loss: 0.0945 - val_loss: 0.0943\n",
            "Epoch 78/100\n",
            "60000/60000 [==============================] - 4s 59us/step - loss: 0.0945 - val_loss: 0.0939\n",
            "Epoch 79/100\n",
            "60000/60000 [==============================] - 4s 59us/step - loss: 0.0945 - val_loss: 0.0939\n",
            "Epoch 80/100\n",
            "60000/60000 [==============================] - 4s 60us/step - loss: 0.0944 - val_loss: 0.0941\n",
            "Epoch 81/100\n",
            "60000/60000 [==============================] - 4s 59us/step - loss: 0.0944 - val_loss: 0.0939\n",
            "Epoch 82/100\n",
            "60000/60000 [==============================] - 4s 59us/step - loss: 0.0944 - val_loss: 0.0942\n",
            "Epoch 83/100\n",
            "60000/60000 [==============================] - 4s 60us/step - loss: 0.0943 - val_loss: 0.0938\n",
            "Epoch 84/100\n",
            "60000/60000 [==============================] - 4s 59us/step - loss: 0.0943 - val_loss: 0.0947\n",
            "Epoch 85/100\n",
            "60000/60000 [==============================] - 4s 59us/step - loss: 0.0943 - val_loss: 0.0938\n",
            "Epoch 86/100\n",
            "60000/60000 [==============================] - 4s 59us/step - loss: 0.0943 - val_loss: 0.0940\n",
            "Epoch 87/100\n",
            "60000/60000 [==============================] - 4s 59us/step - loss: 0.0943 - val_loss: 0.0944\n",
            "Epoch 88/100\n",
            "60000/60000 [==============================] - 4s 60us/step - loss: 0.0943 - val_loss: 0.0948\n",
            "Epoch 89/100\n",
            "60000/60000 [==============================] - 4s 60us/step - loss: 0.0942 - val_loss: 0.0938\n",
            "Epoch 90/100\n",
            "60000/60000 [==============================] - 4s 59us/step - loss: 0.0942 - val_loss: 0.0947\n",
            "Epoch 91/100\n",
            "60000/60000 [==============================] - 4s 59us/step - loss: 0.0943 - val_loss: 0.0946\n",
            "Epoch 92/100\n",
            "60000/60000 [==============================] - 4s 60us/step - loss: 0.0942 - val_loss: 0.0936\n",
            "Epoch 93/100\n",
            "60000/60000 [==============================] - 4s 60us/step - loss: 0.0942 - val_loss: 0.0945\n",
            "Epoch 94/100\n",
            "60000/60000 [==============================] - 4s 60us/step - loss: 0.0942 - val_loss: 0.0937\n",
            "Epoch 95/100\n",
            "60000/60000 [==============================] - 4s 60us/step - loss: 0.0941 - val_loss: 0.0938\n",
            "Epoch 96/100\n",
            "60000/60000 [==============================] - 4s 61us/step - loss: 0.0941 - val_loss: 0.0938\n",
            "Epoch 97/100\n",
            "60000/60000 [==============================] - 4s 61us/step - loss: 0.0941 - val_loss: 0.0936\n",
            "Epoch 98/100\n",
            "60000/60000 [==============================] - 4s 60us/step - loss: 0.0941 - val_loss: 0.0939\n",
            "Epoch 99/100\n",
            "60000/60000 [==============================] - 4s 60us/step - loss: 0.0941 - val_loss: 0.0936\n",
            "Epoch 100/100\n",
            "60000/60000 [==============================] - 4s 60us/step - loss: 0.0941 - val_loss: 0.0939\n"
          ],
          "name": "stdout"
        },
        {
          "output_type": "execute_result",
          "data": {
            "text/plain": [
              "<keras.callbacks.History at 0x7efbdf3e2630>"
            ]
          },
          "metadata": {
            "tags": []
          },
          "execution_count": 55
        }
      ]
    },
    {
      "cell_type": "markdown",
      "metadata": {
        "id": "XXjrReyL-jdu",
        "colab_type": "text"
      },
      "source": [
        "# Variational autoencoder (VAE)\n"
      ]
    },
    {
      "cell_type": "code",
      "metadata": {
        "id": "tR1fD3O5-fKm",
        "colab_type": "code",
        "colab": {}
      },
      "source": [
        "import keras \n",
        "from keras.layers import Input, Dense, Lambda \n",
        "from keras.models import Model\n",
        "from keras import backend as K\n",
        "\n",
        "batch_size=32\n",
        "\n",
        "original_dim=784\n",
        "intermediate_dim=20\n",
        "\n",
        "latent_dim =2 \n",
        "encoder_input = Input(shape=(original_dim,))\n",
        "x = Dense(intermediate_dim, activation='relu')(encoder_input)\n",
        "x = Dense(100, activation='relu')(x)\n",
        "x = Dense(50, activation='relu')(x)\n",
        "h = Dense(intermediate_dim, activation='relu')(x)\n",
        "\n",
        "z_mean = Dense(latent_dim)(h)\n",
        "z_log_sigma = Dense(latent_dim)(h)"
      ],
      "execution_count": 0,
      "outputs": []
    },
    {
      "cell_type": "markdown",
      "metadata": {
        "id": "t1lbzNrWNQbj",
        "colab_type": "text"
      },
      "source": [
        "##Sampling in the latent space"
      ]
    },
    {
      "cell_type": "code",
      "metadata": {
        "id": "ZFC4m-xp-qn2",
        "colab_type": "code",
        "colab": {}
      },
      "source": [
        "\n",
        "from keras.layers import Lambda\n",
        "def sampling(args):\n",
        "    z_mean, z_log_sigma = args\n",
        "    epsilon = K.random_normal(shape=(batch_size, latent_dim),\n",
        "                              mean=0., stddev=1)\n",
        "    return z_mean + K.exp(z_log_sigma) * epsilon\n",
        "\n",
        "# note that \"output_shape\" isn't necessary with the TensorFlow backend\n",
        "# so you could write `Lambda(sampling)([z_mean, z_log_sigma])`\n",
        "z = Lambda(sampling, output_shape=(latent_dim,))([z_mean, z_log_sigma])"
      ],
      "execution_count": 0,
      "outputs": []
    },
    {
      "cell_type": "markdown",
      "metadata": {
        "id": "lUCracaqNges",
        "colab_type": "text"
      },
      "source": [
        "##Decoder model"
      ]
    },
    {
      "cell_type": "code",
      "metadata": {
        "id": "FPh50GVP-tUE",
        "colab_type": "code",
        "colab": {}
      },
      "source": [
        "x = Dense(intermediate_dim, activation='relu')(z)\n",
        "x = Dense(50, activation='relu')(x)\n",
        "\n",
        "decoder_h = Dense(intermediate_dim, activation='relu')\n",
        "decoder_mean = Dense(original_dim, activation='sigmoid')\n",
        "h_decoded = decoder_h(z)\n",
        "x_decoded_mean = decoder_mean(h_decoded)"
      ],
      "execution_count": 0,
      "outputs": []
    },
    {
      "cell_type": "code",
      "metadata": {
        "id": "a6o4hEOE-vFb",
        "colab_type": "code",
        "colab": {}
      },
      "source": [
        "# end-to-end autoencoder\n",
        "vae = Model(encoder_input, x_decoded_mean)\n",
        "\n",
        "# encoder, from inputs to latent space\n",
        "encoder = Model(encoder_input, z_mean)\n",
        "\n",
        "# generator, from latent space to reconstructed inputs\n",
        "decoder_input = Input(shape=(latent_dim,))\n",
        "_h_decoded = decoder_h(decoder_input)\n",
        "_x_decoded_mean = decoder_mean(_h_decoded)\n",
        "generator = Model(decoder_input, _x_decoded_mean)"
      ],
      "execution_count": 0,
      "outputs": []
    },
    {
      "cell_type": "markdown",
      "metadata": {
        "id": "h0YYaR7FNOmX",
        "colab_type": "text"
      },
      "source": [
        "##Custom loss function"
      ]
    },
    {
      "cell_type": "code",
      "metadata": {
        "id": "Q7RfYHS5-xJF",
        "colab_type": "code",
        "colab": {}
      },
      "source": [
        "def vae_loss(x, x_decoded_mean):\n",
        "    xent_loss = keras.losses.binary_crossentropy(x, x_decoded_mean)\n",
        "    kl_loss = - 0.01 * K.mean(1 + z_log_sigma - K.square(z_mean) - K.exp(z_log_sigma), axis=-1)\n",
        "    return xent_loss + kl_loss\n",
        "\n",
        "vae.compile(optimizer='rmsprop', loss=vae_loss)"
      ],
      "execution_count": 0,
      "outputs": []
    },
    {
      "cell_type": "markdown",
      "metadata": {
        "id": "4cOgaXxxOtvX",
        "colab_type": "text"
      },
      "source": [
        "##Training"
      ]
    },
    {
      "cell_type": "code",
      "metadata": {
        "id": "UcnRa7Kz-zNl",
        "colab_type": "code",
        "outputId": "79eda072-27ef-499d-eda7-f0695534d52b",
        "colab": {
          "base_uri": "https://localhost:8080/",
          "height": 700
        }
      },
      "source": [
        "\n",
        "from keras.datasets import mnist\n",
        "import numpy as np\n",
        "\n",
        "(x_train, y_train), (x_test, y_test) = mnist.load_data()\n",
        "\n",
        "x_train = x_train.astype('float32') / 255.\n",
        "x_test = x_test.astype('float32') / 255.\n",
        "x_train = x_train.reshape((len(x_train), np.prod(x_train.shape[1:])))\n",
        "x_test = x_test.reshape((len(x_test), np.prod(x_test.shape[1:])))\n",
        "\n",
        "vae.fit(x_train, x_train,\n",
        "        shuffle=True,\n",
        "        epochs=100,\n",
        "        batch_size=batch_size)"
      ],
      "execution_count": 94,
      "outputs": [
        {
          "output_type": "stream",
          "text": [
            "Epoch 1/100\n",
            "60000/60000 [==============================] - 9s 152us/step - loss: 0.2711\n",
            "Epoch 2/100\n",
            "60000/60000 [==============================] - 8s 137us/step - loss: 0.2351\n",
            "Epoch 3/100\n",
            "60000/60000 [==============================] - 8s 137us/step - loss: 0.2308\n",
            "Epoch 4/100\n",
            "60000/60000 [==============================] - 8s 136us/step - loss: 0.2288\n",
            "Epoch 5/100\n",
            "60000/60000 [==============================] - 8s 139us/step - loss: 0.2269\n",
            "Epoch 6/100\n",
            "60000/60000 [==============================] - 8s 137us/step - loss: 0.2252\n",
            "Epoch 7/100\n",
            "60000/60000 [==============================] - 8s 137us/step - loss: 0.2240\n",
            "Epoch 8/100\n",
            "60000/60000 [==============================] - 8s 139us/step - loss: 0.2231\n",
            "Epoch 9/100\n",
            "60000/60000 [==============================] - 8s 138us/step - loss: 0.2222\n",
            "Epoch 10/100\n",
            " 9344/60000 [===>..........................] - ETA: 7s - loss: 0.2232"
          ],
          "name": "stdout"
        },
        {
          "output_type": "error",
          "ename": "KeyboardInterrupt",
          "evalue": "ignored",
          "traceback": [
            "\u001b[0;31m---------------------------------------------------------------------------\u001b[0m",
            "\u001b[0;31mKeyboardInterrupt\u001b[0m                         Traceback (most recent call last)",
            "\u001b[0;32m<ipython-input-94-4035facca95d>\u001b[0m in \u001b[0;36m<module>\u001b[0;34m()\u001b[0m\n\u001b[1;32m     13\u001b[0m         \u001b[0mshuffle\u001b[0m\u001b[0;34m=\u001b[0m\u001b[0;32mTrue\u001b[0m\u001b[0;34m,\u001b[0m\u001b[0;34m\u001b[0m\u001b[0;34m\u001b[0m\u001b[0m\n\u001b[1;32m     14\u001b[0m         \u001b[0mepochs\u001b[0m\u001b[0;34m=\u001b[0m\u001b[0;36m100\u001b[0m\u001b[0;34m,\u001b[0m\u001b[0;34m\u001b[0m\u001b[0;34m\u001b[0m\u001b[0m\n\u001b[0;32m---> 15\u001b[0;31m         batch_size=batch_size)\n\u001b[0m",
            "\u001b[0;32m/usr/local/lib/python3.6/dist-packages/keras/engine/training.py\u001b[0m in \u001b[0;36mfit\u001b[0;34m(self, x, y, batch_size, epochs, verbose, callbacks, validation_split, validation_data, shuffle, class_weight, sample_weight, initial_epoch, steps_per_epoch, validation_steps, **kwargs)\u001b[0m\n\u001b[1;32m   1037\u001b[0m                                         \u001b[0minitial_epoch\u001b[0m\u001b[0;34m=\u001b[0m\u001b[0minitial_epoch\u001b[0m\u001b[0;34m,\u001b[0m\u001b[0;34m\u001b[0m\u001b[0;34m\u001b[0m\u001b[0m\n\u001b[1;32m   1038\u001b[0m                                         \u001b[0msteps_per_epoch\u001b[0m\u001b[0;34m=\u001b[0m\u001b[0msteps_per_epoch\u001b[0m\u001b[0;34m,\u001b[0m\u001b[0;34m\u001b[0m\u001b[0;34m\u001b[0m\u001b[0m\n\u001b[0;32m-> 1039\u001b[0;31m                                         validation_steps=validation_steps)\n\u001b[0m\u001b[1;32m   1040\u001b[0m \u001b[0;34m\u001b[0m\u001b[0m\n\u001b[1;32m   1041\u001b[0m     def evaluate(self, x=None, y=None,\n",
            "\u001b[0;32m/usr/local/lib/python3.6/dist-packages/keras/engine/training_arrays.py\u001b[0m in \u001b[0;36mfit_loop\u001b[0;34m(model, f, ins, out_labels, batch_size, epochs, verbose, callbacks, val_f, val_ins, shuffle, callback_metrics, initial_epoch, steps_per_epoch, validation_steps)\u001b[0m\n\u001b[1;32m    197\u001b[0m                     \u001b[0mins_batch\u001b[0m\u001b[0;34m[\u001b[0m\u001b[0mi\u001b[0m\u001b[0;34m]\u001b[0m \u001b[0;34m=\u001b[0m \u001b[0mins_batch\u001b[0m\u001b[0;34m[\u001b[0m\u001b[0mi\u001b[0m\u001b[0;34m]\u001b[0m\u001b[0;34m.\u001b[0m\u001b[0mtoarray\u001b[0m\u001b[0;34m(\u001b[0m\u001b[0;34m)\u001b[0m\u001b[0;34m\u001b[0m\u001b[0;34m\u001b[0m\u001b[0m\n\u001b[1;32m    198\u001b[0m \u001b[0;34m\u001b[0m\u001b[0m\n\u001b[0;32m--> 199\u001b[0;31m                 \u001b[0mouts\u001b[0m \u001b[0;34m=\u001b[0m \u001b[0mf\u001b[0m\u001b[0;34m(\u001b[0m\u001b[0mins_batch\u001b[0m\u001b[0;34m)\u001b[0m\u001b[0;34m\u001b[0m\u001b[0;34m\u001b[0m\u001b[0m\n\u001b[0m\u001b[1;32m    200\u001b[0m                 \u001b[0mouts\u001b[0m \u001b[0;34m=\u001b[0m \u001b[0mto_list\u001b[0m\u001b[0;34m(\u001b[0m\u001b[0mouts\u001b[0m\u001b[0;34m)\u001b[0m\u001b[0;34m\u001b[0m\u001b[0;34m\u001b[0m\u001b[0m\n\u001b[1;32m    201\u001b[0m                 \u001b[0;32mfor\u001b[0m \u001b[0ml\u001b[0m\u001b[0;34m,\u001b[0m \u001b[0mo\u001b[0m \u001b[0;32min\u001b[0m \u001b[0mzip\u001b[0m\u001b[0;34m(\u001b[0m\u001b[0mout_labels\u001b[0m\u001b[0;34m,\u001b[0m \u001b[0mouts\u001b[0m\u001b[0;34m)\u001b[0m\u001b[0;34m:\u001b[0m\u001b[0;34m\u001b[0m\u001b[0;34m\u001b[0m\u001b[0m\n",
            "\u001b[0;32m/usr/local/lib/python3.6/dist-packages/keras/backend/tensorflow_backend.py\u001b[0m in \u001b[0;36m__call__\u001b[0;34m(self, inputs)\u001b[0m\n\u001b[1;32m   2713\u001b[0m                 \u001b[0;32mreturn\u001b[0m \u001b[0mself\u001b[0m\u001b[0;34m.\u001b[0m\u001b[0m_legacy_call\u001b[0m\u001b[0;34m(\u001b[0m\u001b[0minputs\u001b[0m\u001b[0;34m)\u001b[0m\u001b[0;34m\u001b[0m\u001b[0;34m\u001b[0m\u001b[0m\n\u001b[1;32m   2714\u001b[0m \u001b[0;34m\u001b[0m\u001b[0m\n\u001b[0;32m-> 2715\u001b[0;31m             \u001b[0;32mreturn\u001b[0m \u001b[0mself\u001b[0m\u001b[0;34m.\u001b[0m\u001b[0m_call\u001b[0m\u001b[0;34m(\u001b[0m\u001b[0minputs\u001b[0m\u001b[0;34m)\u001b[0m\u001b[0;34m\u001b[0m\u001b[0;34m\u001b[0m\u001b[0m\n\u001b[0m\u001b[1;32m   2716\u001b[0m         \u001b[0;32melse\u001b[0m\u001b[0;34m:\u001b[0m\u001b[0;34m\u001b[0m\u001b[0;34m\u001b[0m\u001b[0m\n\u001b[1;32m   2717\u001b[0m             \u001b[0;32mif\u001b[0m \u001b[0mpy_any\u001b[0m\u001b[0;34m(\u001b[0m\u001b[0mis_tensor\u001b[0m\u001b[0;34m(\u001b[0m\u001b[0mx\u001b[0m\u001b[0;34m)\u001b[0m \u001b[0;32mfor\u001b[0m \u001b[0mx\u001b[0m \u001b[0;32min\u001b[0m \u001b[0minputs\u001b[0m\u001b[0;34m)\u001b[0m\u001b[0;34m:\u001b[0m\u001b[0;34m\u001b[0m\u001b[0;34m\u001b[0m\u001b[0m\n",
            "\u001b[0;32m/usr/local/lib/python3.6/dist-packages/keras/backend/tensorflow_backend.py\u001b[0m in \u001b[0;36m_call\u001b[0;34m(self, inputs)\u001b[0m\n\u001b[1;32m   2673\u001b[0m             \u001b[0mfetched\u001b[0m \u001b[0;34m=\u001b[0m \u001b[0mself\u001b[0m\u001b[0;34m.\u001b[0m\u001b[0m_callable_fn\u001b[0m\u001b[0;34m(\u001b[0m\u001b[0;34m*\u001b[0m\u001b[0marray_vals\u001b[0m\u001b[0;34m,\u001b[0m \u001b[0mrun_metadata\u001b[0m\u001b[0;34m=\u001b[0m\u001b[0mself\u001b[0m\u001b[0;34m.\u001b[0m\u001b[0mrun_metadata\u001b[0m\u001b[0;34m)\u001b[0m\u001b[0;34m\u001b[0m\u001b[0;34m\u001b[0m\u001b[0m\n\u001b[1;32m   2674\u001b[0m         \u001b[0;32melse\u001b[0m\u001b[0;34m:\u001b[0m\u001b[0;34m\u001b[0m\u001b[0;34m\u001b[0m\u001b[0m\n\u001b[0;32m-> 2675\u001b[0;31m             \u001b[0mfetched\u001b[0m \u001b[0;34m=\u001b[0m \u001b[0mself\u001b[0m\u001b[0;34m.\u001b[0m\u001b[0m_callable_fn\u001b[0m\u001b[0;34m(\u001b[0m\u001b[0;34m*\u001b[0m\u001b[0marray_vals\u001b[0m\u001b[0;34m)\u001b[0m\u001b[0;34m\u001b[0m\u001b[0;34m\u001b[0m\u001b[0m\n\u001b[0m\u001b[1;32m   2676\u001b[0m         \u001b[0;32mreturn\u001b[0m \u001b[0mfetched\u001b[0m\u001b[0;34m[\u001b[0m\u001b[0;34m:\u001b[0m\u001b[0mlen\u001b[0m\u001b[0;34m(\u001b[0m\u001b[0mself\u001b[0m\u001b[0;34m.\u001b[0m\u001b[0moutputs\u001b[0m\u001b[0;34m)\u001b[0m\u001b[0;34m]\u001b[0m\u001b[0;34m\u001b[0m\u001b[0;34m\u001b[0m\u001b[0m\n\u001b[1;32m   2677\u001b[0m \u001b[0;34m\u001b[0m\u001b[0m\n",
            "\u001b[0;32m/usr/local/lib/python3.6/dist-packages/tensorflow/python/client/session.py\u001b[0m in \u001b[0;36m__call__\u001b[0;34m(self, *args, **kwargs)\u001b[0m\n\u001b[1;32m   1437\u001b[0m           ret = tf_session.TF_SessionRunCallable(\n\u001b[1;32m   1438\u001b[0m               \u001b[0mself\u001b[0m\u001b[0;34m.\u001b[0m\u001b[0m_session\u001b[0m\u001b[0;34m.\u001b[0m\u001b[0m_session\u001b[0m\u001b[0;34m,\u001b[0m \u001b[0mself\u001b[0m\u001b[0;34m.\u001b[0m\u001b[0m_handle\u001b[0m\u001b[0;34m,\u001b[0m \u001b[0margs\u001b[0m\u001b[0;34m,\u001b[0m \u001b[0mstatus\u001b[0m\u001b[0;34m,\u001b[0m\u001b[0;34m\u001b[0m\u001b[0;34m\u001b[0m\u001b[0m\n\u001b[0;32m-> 1439\u001b[0;31m               run_metadata_ptr)\n\u001b[0m\u001b[1;32m   1440\u001b[0m         \u001b[0;32mif\u001b[0m \u001b[0mrun_metadata\u001b[0m\u001b[0;34m:\u001b[0m\u001b[0;34m\u001b[0m\u001b[0;34m\u001b[0m\u001b[0m\n\u001b[1;32m   1441\u001b[0m           \u001b[0mproto_data\u001b[0m \u001b[0;34m=\u001b[0m \u001b[0mtf_session\u001b[0m\u001b[0;34m.\u001b[0m\u001b[0mTF_GetBuffer\u001b[0m\u001b[0;34m(\u001b[0m\u001b[0mrun_metadata_ptr\u001b[0m\u001b[0;34m)\u001b[0m\u001b[0;34m\u001b[0m\u001b[0;34m\u001b[0m\u001b[0m\n",
            "\u001b[0;31mKeyboardInterrupt\u001b[0m: "
          ]
        }
      ]
    },
    {
      "cell_type": "code",
      "metadata": {
        "id": "Plfu684--1Wu",
        "colab_type": "code",
        "outputId": "28b6a731-3efd-441c-f381-4dc6abd2d4e5",
        "colab": {
          "base_uri": "https://localhost:8080/",
          "height": 378
        }
      },
      "source": [
        "import matplotlib.pyplot as plt\n",
        "\n",
        "x_test_encoded = encoder.predict(x_test, batch_size=batch_size)\n",
        "plt.figure(figsize=(6, 6))\n",
        "plt.scatter(x_test_encoded[:, 0], x_test_encoded[:, 1], c=y_test)\n",
        "plt.colorbar()\n",
        "plt.show()"
      ],
      "execution_count": 95,
      "outputs": [
        {
          "output_type": "display_data",
          "data": {
            "image/png": "[encoded data removed]",
            "text/plain": [
              "<Figure size 432x432 with 2 Axes>"
            ]
          },
          "metadata": {
            "tags": []
          }
        }
      ]
    },
    {
      "cell_type": "code",
      "metadata": {
        "id": "sJdghkvm-3W5",
        "colab_type": "code",
        "outputId": "737110b0-547d-4a18-9faf-57b998f1192c",
        "colab": {
          "base_uri": "https://localhost:8080/",
          "height": 595
        }
      },
      "source": [
        "# display a 2D manifold of the digits\n",
        "n = 15  # figure with 15x15 digits\n",
        "digit_size = 28\n",
        "figure = np.zeros((digit_size * n, digit_size * n))\n",
        "# we will sample n points within [-15, 15] standard deviations\n",
        "grid_x = np.linspace(-15, 15, n)\n",
        "grid_y = np.linspace(-15, 15, n)\n",
        "\n",
        "for i, yi in enumerate(grid_x):\n",
        "    for j, xi in enumerate(grid_y):\n",
        "        z_sample = np.array([[xi, yi]])\n",
        "        x_decoded = generator.predict(z_sample)\n",
        "        digit = x_decoded[0].reshape(digit_size, digit_size)\n",
        "        figure[i * digit_size: (i + 1) * digit_size,\n",
        "               j * digit_size: (j + 1) * digit_size] = digit\n",
        "\n",
        "plt.figure(figsize=(10, 10))\n",
        "plt.imshow(figure)\n",
        "plt.show()"
      ],
      "execution_count": 96,
      "outputs": [
        {
          "output_type": "display_data",
          "data": {
            "image/png": "[encoded data removed]",
            "text/plain": [
              "<Figure size 720x720 with 1 Axes>"
            ]
          },
          "metadata": {
            "tags": []
          }
        }
      ]
    },
    {
      "cell_type": "code",
      "metadata": {
        "id": "1r3fkOSsLDy5",
        "colab_type": "code",
        "colab": {}
      },
      "source": [
        ""
      ],
      "execution_count": 0,
      "outputs": []
    },
    {
      "cell_type": "markdown",
      "metadata": {
        "id": "5MY6HzvBLFtm",
        "colab_type": "text"
      },
      "source": [
        "![alt text](https://blog.keras.io/img/ae/vae_digits_manifold.png)"
      ]
    }
  ]
}